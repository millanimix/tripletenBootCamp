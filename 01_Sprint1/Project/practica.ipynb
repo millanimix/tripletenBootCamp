{
 "cells": [
  {
   "cell_type": "markdown",
   "metadata": {
    "id": "dVoN8d7NO1_k",
    "tags": [
     "17aa38ef-2a73-4b18-9d71-f72cd4e12b42"
    ]
   },
   "source": [
    "Los servicios en línea de la Administración empezaron a analizar el comportamiento y a tomar decisiones basadas en datos para mejorar la experiencia en línea.\n",
    "\n",
    "Tu primera tarea consiste en evaluar la calidad de una muestra de datos recogidos y prepararla para futuros análisis.\n"
   ]
  },
  {
   "cell_type": "markdown",
   "metadata": {
    "id": "aDJTnkr7O1_l"
   },
   "source": [
    "# Paso 1\n",
    "\n",
    "Vamos a evaluar la calidad de los datos recogidos sobre los ciudadanos. Te han pedido que revises los datos recopilados y propongas cambios. A continuación, verás datos sobre un usuario o una usuaria en particular; los revisaremos e identificaremos cualquier posible problema.\n"
   ]
  },
  {
   "cell_type": "code",
   "execution_count": 1,
   "metadata": {
    "id": "r9Y69J6yO1_m"
   },
   "outputs": [],
   "source": [
    "id_card_no = 3428563\n",
    "name_surname = 'Joseph_Kobe_Steeler '\n",
    "age = '74'\n",
    "subscriptions = ['TAXES', 'social security']"
   ]
  },
  {
   "cell_type": "markdown",
   "metadata": {
    "id": "FJJlGDXJO1_m"
   },
   "source": [
    "Examina las opciones que aparecen a continuación y selecciona las que reflejen los problemas que has detectado en los datos recogidos sobre el ciudadano anterior.\n",
    "\n",
    "**Opciones:**\n",
    "\n",
    "1. El tipo de datos de `id_card_no` no debe cambiarse de entero a cadena.\n",
    "    \n",
    "2. La variable `name_surname` contiene cadenas con espacios innecesarios y guiones bajos entre las partes del nombre.\n",
    "    \n",
    "3. El tipo de datos de `age` es incorrecto.\n",
    "    \n",
    "4. La lista `subscriptions` contiene cadenas en mayúsculas y minúsculas para las distintas entradas. No hay ningún problema en que las listas sean así.\n"
   ]
  },
  {
   "cell_type": "markdown",
   "metadata": {
    "id": "NbL5ss3eO1_m"
   },
   "source": [
    "Escribe en la siguiente celda Markdown los números de las opciones que has identificado como problemas. Si has encontrado varios problemas, sepáralos con comas."
   ]
  },
  {
   "cell_type": "markdown",
   "metadata": {
    "id": "KibqtnXPO1_m"
   },
   "source": [
    "2. Tiene un espacio al final y las palabas están separadas por guiones bajos.\n",
    "3. age debería ser entero en caso de ser necesaria alguna operacion.\n",
    "4. Lo mejor es homologar las cadenas"
   ]
  },
  {
   "cell_type": "markdown",
   "metadata": {
    "id": "d4HYCpuvO1_r"
   },
   "source": [
    "# Paso 2\n",
    "\n",
    "Empecemos a hacer cambios para los problemas que hemos identificado. Primero, necesitamos corregir los problemas de la variable `user_name` Tenemos que eliminar los espacios y sustituir los guiones bajos por espacios.\n"
   ]
  },
  {
   "cell_type": "code",
   "execution_count": 1,
   "metadata": {
    "colab": {
     "base_uri": "https://localhost:8080/"
    },
    "id": "rynqalenO1_r",
    "outputId": "14573682-79b8-4f84-806d-5ba035cd2aff"
   },
   "outputs": [
    {
     "name": "stdout",
     "output_type": "stream",
     "text": [
      "Joseph Kobe Steeler\n"
     ]
    }
   ],
   "source": [
    "name_surname = 'Joseph_Kobe_Steeler '\n",
    "name_surname = name_surname.strip()\n",
    "name_surname = name_surname.replace('_', ' ')\n",
    "\n",
    "print(name_surname)"
   ]
  },
  {
   "cell_type": "markdown",
   "metadata": {
    "id": "3eVDPnDVO1_s"
   },
   "source": [
    "# Paso 3\n",
    "\n",
    "Vamos a dividir el nombre completo almacenado en la variable `name_surname` en subcadenas. Necesitamos obtener una lista que contenga los nombres por separado.\n"
   ]
  },
  {
   "cell_type": "code",
   "execution_count": 4,
   "metadata": {
    "colab": {
     "base_uri": "https://localhost:8080/"
    },
    "id": "CeCdgmI3O1_s",
    "outputId": "368bba62-3793-46e7-8add-2608b98e85dc"
   },
   "outputs": [
    {
     "name": "stdout",
     "output_type": "stream",
     "text": [
      "['Joseph', 'Kobe', 'Steeler']\n"
     ]
    }
   ],
   "source": [
    "name_surname = 'Joseph Kobe Steeler'\n",
    "name_split = name_surname.split()\n",
    "\n",
    "print(name_split)"
   ]
  },
  {
   "cell_type": "markdown",
   "metadata": {
    "id": "WPKSBrtMO1_s"
   },
   "source": [
    "# Paso 4\n",
    "\n",
    "Arreglemos la variable `age`, ya que tiene un tipo de datos incorrecto.\n"
   ]
  },
  {
   "cell_type": "code",
   "execution_count": 5,
   "metadata": {
    "colab": {
     "base_uri": "https://localhost:8080/"
    },
    "id": "tFChxdX-O1_s",
    "outputId": "a62d8ef8-26e5-421c-b313-a075c91147bc"
   },
   "outputs": [
    {
     "name": "stdout",
     "output_type": "stream",
     "text": [
      "<class 'str'>\n",
      "74\n",
      "<class 'int'>\n"
     ]
    }
   ],
   "source": [
    "age = '74'\n",
    "\n",
    "print(type(age))\n",
    "age = int(age)\n",
    "\n",
    "print(age)\n",
    "print(type(age))"
   ]
  },
  {
   "cell_type": "markdown",
   "metadata": {
    "id": "wXRT5ZAJO1_s"
   },
   "source": [
    "# Paso 5\n",
    "\n",
    "¿Y qué pasaría si en lugar de la edad tuviéramos otra cosa que no fuera exactamente un número? No podríamos convertirlo a `int`. Si lo intentáramos, nuestro sistema se bloquearía.\n",
    "\n",
    "Vamos a escribir un fragmento de código para evitar que el sistema se bloquee, en su lugar mostrará un mensaje de error amigable.\n"
   ]
  },
  {
   "cell_type": "code",
   "execution_count": 7,
   "metadata": {
    "colab": {
     "base_uri": "https://localhost:8080/"
    },
    "id": "WQFNr-jOO1_s",
    "outputId": "8eb66781-3a1b-45d5-bd86-866508a7798f"
   },
   "outputs": [
    {
     "name": "stdout",
     "output_type": "stream",
     "text": [
      "Age should be a numerical value.\n"
     ]
    }
   ],
   "source": [
    "age = 'seventy four'\n",
    "\n",
    "try:\n",
    "    age = int(age)\n",
    "except:\n",
    "    print('Age should be a numerical value.')"
   ]
  },
  {
   "cell_type": "markdown",
   "metadata": {
    "id": "LCWaY-uKO1_t"
   },
   "source": [
    "# Paso 6\n",
    "\n",
    "Supongamos ahora que la Administración lanza una cuenta corriente (CA, del inglés \"current account\") en línea para los ciudadanos, en la que estos pueden consultar las devoluciones de impuestos y otras subvenciones como números enteros positivos, y los impuestos adeudados y las cotizaciones a la Seguridad Social como números negativos. Nos gustaría saber cuánto tiene que recibir o pagar cada ciudadano, así como el mayor valor que el ciudadano recibirá Y pagará. Para eso tenemos lo siguiente:\n",
    "\n",
    "- El importe total sería la suma de todos los importes. Si es negativo, el ciudadano tendrá que pagar impuestos, y si es positivo, recibirá dinero.\n",
    "- El importe mínimo será el mayor impuesto/contribución que tenga que pagar el ciudadano, ya que aparecen como números negativos.\n",
    "- El importe máximo será la mayor bonificación/subvención fiscal que pueda recibir el ciudadano.\n",
    "\n",
    "Vamos a calcular estos valores y mostrarlos en la pantalla:\n"
   ]
  },
  {
   "cell_type": "code",
   "execution_count": 18,
   "metadata": {
    "colab": {
     "base_uri": "https://localhost:8080/"
    },
    "id": "g86v3QDoO1_t",
    "outputId": "02645a20-55b3-4b99-86ed-304bcc50f9cd"
   },
   "outputs": [
    {
     "name": "stdout",
     "output_type": "stream",
     "text": [
      "1680\n",
      "-6051\n",
      "8607\n"
     ]
    }
   ],
   "source": [
    "citizen_CA = [-465, 156, -567, -6051, 8607]\n",
    "\n",
    "total_amount = sum(citizen_CA)\n",
    "max_tax_due = min(citizen_CA)\n",
    "max_rebate = max(citizen_CA)\n",
    "\n",
    "print(total_amount)\n",
    "print(max_tax_due)\n",
    "print(max_rebate)"
   ]
  },
  {
   "cell_type": "markdown",
   "metadata": {
    "id": "hRX_U_HWO1_t"
   },
   "source": [
    "# Ejercicio 7\n",
    "\n",
    "La Administración quiere enviar un correo electrónico con el siguiente texto al ciudadano, notificando el inicio de la devolución de impuestos: `Estimado Citizen_name, ha gastado más de 10,000 en el mes month_nº. Su devolución de impuestos se inicia el mes que viene, el month_nº+1.`\n"
   ]
  },
  {
   "cell_type": "code",
   "execution_count": 8,
   "metadata": {
    "colab": {
     "base_uri": "https://localhost:8080/"
    },
    "id": "HJKhIol-O1_t",
    "outputId": "91d55d04-1fcf-4669-dd16-ac5a21c56450"
   },
   "outputs": [
    {
     "name": "stdout",
     "output_type": "stream",
     "text": [
      "Estimado Joseph Kobe Steeler, ha gastado más de 10,000 en el mes 5. Su devolción de impuestos se inicia el mes que viene, el 6.\n"
     ]
    }
   ],
   "source": [
    "name_surname = 'Joseph Kobe Steeler'\n",
    "months = 5\n",
    "\n",
    "message = f'Estimado {name_surname}, ha gastado más de 10,000 en el mes {months}. Su devolción de impuestos se inicia el mes que viene, el {months + 1}.'\n",
    "print(message)"
   ]
  },
  {
   "cell_type": "markdown",
   "metadata": {
    "id": "AQtZQFBq-0PB",
    "tags": [
     "17aa38ef-2a73-4b18-9d71-f72cd4e12b42"
    ]
   },
   "source": [
    "Presentaremos un caso cotidiano real. El banco ABC ha lanzado recientemente su servicio de banca privilegiada para clientes de alto poder adquisitivo.\n",
    "\n",
    "Nuestro objetivo principal es organizar el almacenamiento de información para los nuevos clientes. A continuación, investigaremos sobre los primeros clientes para comprender mejor quiénes son."
   ]
  },
  {
   "cell_type": "markdown",
   "metadata": {
    "id": "hoh57tSm-we7"
   },
   "source": [
    "### Ejercicio 1\n",
    "\n",
    "La información sobre cada nuevo cliente deberá facilitarse en el siguiente orden: documento de identidad, nombre, edad, ingresos netos anuales y ocupación. Esta es la lista que contiene los datos de Jack: `32456`, `'Jack Wilson'`, `32`, `150000`, `'Healthcare'`. Crea la variable `client_info` con la información sobre Jack e imprímela."
   ]
  },
  {
   "cell_type": "code",
   "execution_count": 9,
   "metadata": {
    "id": "-4dkZGxw-khg"
   },
   "outputs": [
    {
     "name": "stdout",
     "output_type": "stream",
     "text": [
      "[32456, 'Jack Wilson', 32, 150000, 'Healthcare']\n"
     ]
    }
   ],
   "source": [
    "client_info = [32456, 'Jack Wilson', 32, 150000, 'Healthcare']\n",
    "print(client_info)"
   ]
  },
  {
   "cell_type": "markdown",
   "metadata": {
    "id": "7cGvTjnY-6Mv"
   },
   "source": [
    "### Ejercicio 2\n",
    "\n",
    "Para organizar el almacenamiento de la información de varios clientes, hemos creado la variable `clients` y le hemos asignamos una lista vacía.\n",
    "\n",
    "La información sobre Jack se almacena en la variable `client_info`. El objetivo es añadir esta información a la lista existente `clients` como una lista anidada. Hazlo. Cuando acabes, no te olvides de imprimir la lista `clients`."
   ]
  },
  {
   "cell_type": "code",
   "execution_count": 12,
   "metadata": {
    "id": "ZCTSVsx1--Rf"
   },
   "outputs": [
    {
     "name": "stdout",
     "output_type": "stream",
     "text": [
      "[[32456, 'Jack Wilson', 32, 150000, 'Healthcare']]\n"
     ]
    }
   ],
   "source": [
    "clients = []\n",
    "client_info = [32456, 'Jack Wilson', 32, 150000, 'Healthcare']\n",
    "\n",
    "clients.append(client_info)\n",
    "\n",
    "print(clients)"
   ]
  },
  {
   "cell_type": "markdown",
   "metadata": {
    "id": "gJCCfV0Y_J6V"
   },
   "source": [
    "### Ejercicio 3\n",
    "\n",
    "Se ha añadido información sobre una nueva clienta, Nina Brown, a la lista de `clients`. El banco está interesado en su ingreso neto anual, que se sitúa en la 4ª posición de la lista. Nuestro objetivo es extraer esta información, asignarla a la variable `client_income` e imprimirla."
   ]
  },
  {
   "cell_type": "code",
   "execution_count": 13,
   "metadata": {
    "id": "QHTmB6aC_LRN"
   },
   "outputs": [
    {
     "name": "stdout",
     "output_type": "stream",
     "text": [
      "250000\n"
     ]
    }
   ],
   "source": [
    "clients = [\n",
    "    [32456, 'Jack Wilson', 32, 150000, 'Healthcare'],\n",
    "    [34591, 'Nina Brown', 45, 250000, 'Telecom']\n",
    "]\n",
    "\n",
    "client_income = clients[1][3]\n",
    "print(client_income)"
   ]
  },
  {
   "cell_type": "markdown",
   "metadata": {
    "id": "QN3MIaqS_MjN"
   },
   "source": [
    "### Ejercicio 4\n",
    "\n",
    "El número de clientes crece rápidamente. Dos clientes más se han unido recientemente al servicio y ya figuran en la lista de `clients`. Sin embargo, un empleado del banco ha cometido un error tipográfico al añadir la información del cliente, concretamente en el campo de ocupación de Brian Pérez (`'Transportatiion'`). Dado que esta entrada no es válida, debe eliminarse de la lista de `clients`. Tu objetivo es eliminar toda la sublista errónea de la lista `clients` e imprimir esta última."
   ]
  },
  {
   "cell_type": "code",
   "execution_count": 14,
   "metadata": {
    "id": "epOHlskl_ONr"
   },
   "outputs": [
    {
     "name": "stdout",
     "output_type": "stream",
     "text": [
      "[[32456, 'Jack Wilson', 32, 150000, 'Healthcare'], [34591, 'Nina Brown', 45, 250000, 'Telecom'], [37512, 'Alex Smith', 39, 210000, 'IT']]\n"
     ]
    }
   ],
   "source": [
    "clients = [\n",
    "    [32456, 'Jack Wilson', 32, 150000, 'Healthcare'],\n",
    "    [34591, 'Nina Brown', 45, 250000, 'Telecom'],\n",
    "    [37512, 'Alex Smith', 39, 210000, 'IT'],\n",
    "    [39591, 'Brian Perez', 29, 340000, 'Transportatiion']\n",
    "]\n",
    "\n",
    "clients.pop(3)\n",
    "\n",
    "print(clients)"
   ]
  },
  {
   "cell_type": "markdown",
   "metadata": {
    "id": "DeuraxWP_Qx7"
   },
   "source": [
    "### Ejercicio 5\n",
    "\n",
    "La información sobre Brian Pérez ha sido actualizada. Además, otros dos clientes se han unido recientemente al servicio. Ahora el banco quiere analizar a los clientes para determinar la distribución de edades de mayor a menor.\n",
    "\n",
    "En el precódigo, encontrarás la variable `ages` que contiene las edades de todos los clientes actuales. Nuestro objetivo es ordenar esta lista en orden descendente e imprimirla. Para ordenar, utiliza el método `sort()`."
   ]
  },
  {
   "cell_type": "code",
   "execution_count": 15,
   "metadata": {
    "id": "WVn-_1cx_SDz"
   },
   "outputs": [
    {
     "name": "stdout",
     "output_type": "stream",
     "text": [
      "[45, 39, 32, 32, 29, 25]\n"
     ]
    }
   ],
   "source": [
    "ages = [32, 45, 39, 29, 25, 32]\n",
    "\n",
    "ages.sort(reverse=True)\n",
    "\n",
    "print(ages)"
   ]
  },
  {
   "cell_type": "markdown",
   "metadata": {
    "id": "CsIFu1Ec_VN6"
   },
   "source": [
    "### Ejercicio 6\n",
    "\n",
    "El departamento de seguridad del banco nos pidió una lista con los nombres de nuestros primeros clientes. Actualmente, esta información está disponible como una cadena en la que todos los nombres están separados por comas y que se almacena como la variable `names`.\n",
    "\n",
    "Para ayudar, vamos a convertir la cadena en una lista llamada `names_split`, donde cada elemento representa el nombre de un cliente. No olvides mostrar la lista resultante."
   ]
  },
  {
   "cell_type": "code",
   "execution_count": 16,
   "metadata": {
    "id": "ywFqc_4S_WbS"
   },
   "outputs": [
    {
     "name": "stdout",
     "output_type": "stream",
     "text": [
      "['Jack Wilson', 'Nina Brown', 'Alex Smith', 'Brian Perez', 'David Martinez', 'John Kim']\n"
     ]
    }
   ],
   "source": [
    "names = 'Jack Wilson,Nina Brown,Alex Smith,Brian Perez,David Martinez,John Kim'\n",
    "\n",
    "names_split = names.split(',')\n",
    "\n",
    "print(names_split)"
   ]
  },
  {
   "cell_type": "markdown",
   "metadata": {
    "id": "dVoN8d7NO1_k",
    "tags": [
     "17aa38ef-2a73-4b18-9d71-f72cd4e12b42"
    ]
   },
   "source": [
    "Los servicios en línea de la Administración empezaron a analizar el comportamiento y a tomar decisiones basadas en datos para mejorar la experiencia en línea.\n",
    "\n",
    "Tu primera tarea consiste en evaluar la calidad de una muestra de datos recogidos y prepararla para futuros análisis.\n"
   ]
  },
  {
   "cell_type": "markdown",
   "metadata": {
    "id": "aDJTnkr7O1_l"
   },
   "source": [
    "# Paso 1\n",
    "\n",
    "Vamos a evaluar la calidad de los datos recogidos sobre los ciudadanos. Te han pedido que revises los datos recopilados y propongas cambios. A continuación, verás datos sobre un usuario o una usuaria en particular; los revisaremos e identificaremos cualquier posible problema.\n"
   ]
  },
  {
   "cell_type": "code",
   "execution_count": 19,
   "metadata": {
    "id": "r9Y69J6yO1_m"
   },
   "outputs": [],
   "source": [
    "id_card_no = 3428563\n",
    "name_surname = 'Joseph_Kobe_Steeler '\n",
    "age = '74'\n",
    "subscriptions = ['TAXES', 'social security']"
   ]
  },
  {
   "cell_type": "markdown",
   "metadata": {
    "id": "FJJlGDXJO1_m"
   },
   "source": [
    "Examina las opciones que aparecen a continuación y selecciona las que reflejen los problemas que has detectado en los datos recogidos sobre el ciudadano anterior.\n",
    "\n",
    "**Opciones:**\n",
    "\n",
    "1. El tipo de datos de `id_card_no` no debe cambiarse de entero a cadena.\n",
    "    \n",
    "2. La variable `name_surname` contiene cadenas con espacios innecesarios y guiones bajos entre las partes del nombre.\n",
    "    \n",
    "3. El tipo de datos de `age` es incorrecto.\n",
    "    \n",
    "4. La lista `subscriptions` contiene cadenas en mayúsculas y minúsculas para las distintas entradas. No hay ningún problema en que las listas sean así.\n"
   ]
  },
  {
   "cell_type": "markdown",
   "metadata": {
    "id": "NbL5ss3eO1_m"
   },
   "source": [
    "Escribe en la siguiente celda Markdown los números de las opciones que has identificado como problemas. Si has encontrado varios problemas, sepáralos con comas."
   ]
  },
  {
   "cell_type": "markdown",
   "metadata": {
    "id": "KibqtnXPO1_m"
   },
   "source": [
    "**Escribe aquí tu respuesta y explica tus argumentos:**\n",
    "\n",
    "Veamos la primera opción. Un tarjeta de identificación suele ser un número, y ahora mismo es un entero, pero podría ser necesario escribir letras también; y las identificaciones son secuencias a las que no se aplican operaciones aritméticas, por lo que deberíamos guardarlas como cadenas. Esta opción no es correcta y no la vamos a anotar.\n",
    "\n",
    "Para la segunda opción, la variable name_surname realmente contiene cadenas con espacios y guiones bajos y esto es algo que tenemos que arreglar, ya que un nombre de persona normalmente no tiene guiones bajos ni tampoco espacios. Anotamos esta opción como una de las respuestas.\n",
    "\n",
    "La tercera opción indica que el tipo de edad es incorrecto tal y como es ahora mismo, una cadena. No debemos indicar las edades como cadena, ya que las utilizamos para hacer cálculos y la edad siempre es un número. Así que anotamos esta opción como una de las respuestas.\n",
    "\n",
    "En la cuarta opción se afirma que tenemos una lista con cadenas en mayúsculas y minúsculas, lo cual es cierto. Pero también se dice que no hay ningún problema en que las listas se almacenen así y esto no es cierto, ya que añade dificultad a la hora de seguir analizando los datos, por ejemplo, para encontrar duplicados. Deberíamos cambiar estos elementos para utilizar solo mayúsculas o minúsculas, y la mejor práctica es que todo se escriba en minúsculas. Por lo tanto, tenemos que cambiarlo. Anotamos esta opción como una de las respuestas.\n",
    "\n",
    "Por eso, el estudiante debe escribir aquí la respuesta:\n",
    "\n",
    "2, 3, 4.\n",
    "\n",
    "Para el nº 2: Explicación de por qué debe corregirse\n",
    "\n",
    "Para el nº 3: Explicación de por qué debe corregirse\n",
    "\n",
    "Para el nº 4: Explicación de por qué debe corregirse\n"
   ]
  },
  {
   "cell_type": "markdown",
   "metadata": {
    "id": "d4HYCpuvO1_r"
   },
   "source": [
    "# Paso 2\n",
    "\n",
    "Empecemos a hacer cambios para los problemas que hemos identificado. Primero, necesitamos corregir los problemas de la variable `user_name` Tenemos que eliminar los espacios y sustituir los guiones bajos por espacios.\n"
   ]
  },
  {
   "cell_type": "code",
   "execution_count": null,
   "metadata": {
    "colab": {
     "base_uri": "https://localhost:8080/"
    },
    "id": "rynqalenO1_r",
    "outputId": "14573682-79b8-4f84-806d-5ba035cd2aff"
   },
   "outputs": [
    {
     "name": "stdout",
     "output_type": "stream",
     "text": [
      "Joseph Kobe Steeler\n"
     ]
    }
   ],
   "source": [
    "name_surname = 'Joseph_Kobe_Steeler '\n",
    "name_surname = name_surname.strip()\n",
    "name_surname = name_surname.replace('_', ' ')\n",
    "\n",
    "print(name_surname)"
   ]
  },
  {
   "cell_type": "markdown",
   "metadata": {
    "id": "3eVDPnDVO1_s"
   },
   "source": [
    "# Paso 3\n",
    "\n",
    "Vamos a dividir el nombre completo almacenado en la variable `name_surname` en subcadenas. Necesitamos obtener una lista que contenga los nombres por separado.\n"
   ]
  },
  {
   "cell_type": "code",
   "execution_count": null,
   "metadata": {
    "colab": {
     "base_uri": "https://localhost:8080/"
    },
    "id": "CeCdgmI3O1_s",
    "outputId": "368bba62-3793-46e7-8add-2608b98e85dc"
   },
   "outputs": [
    {
     "name": "stdout",
     "output_type": "stream",
     "text": [
      "['Joseph', 'Kobe', 'Steeler']\n"
     ]
    }
   ],
   "source": [
    "name_surname = 'Joseph Kobe Steeler'\n",
    "name_split = name_surname.split()\n",
    "\n",
    "print(name_split)"
   ]
  },
  {
   "cell_type": "markdown",
   "metadata": {
    "id": "WPKSBrtMO1_s"
   },
   "source": [
    "# Paso 4\n",
    "\n",
    "Arreglemos la variable `age`, ya que tiene un tipo de datos incorrecto.\n"
   ]
  },
  {
   "cell_type": "code",
   "execution_count": null,
   "metadata": {
    "colab": {
     "base_uri": "https://localhost:8080/"
    },
    "id": "tFChxdX-O1_s",
    "outputId": "a62d8ef8-26e5-421c-b313-a075c91147bc"
   },
   "outputs": [
    {
     "name": "stdout",
     "output_type": "stream",
     "text": [
      "<class 'str'>\n",
      "74\n",
      "<class 'int'>\n"
     ]
    }
   ],
   "source": [
    "age = '74'\n",
    "\n",
    "print(type(age))\n",
    "age = int(age)\n",
    "\n",
    "print(age)\n",
    "print(type(age))"
   ]
  },
  {
   "cell_type": "markdown",
   "metadata": {
    "id": "wXRT5ZAJO1_s"
   },
   "source": [
    "# Paso 5\n",
    "\n",
    "¿Y qué pasaría si en lugar de la edad tuviéramos otra cosa que no fuera exactamente un número? No podríamos convertirlo a `int`. Si lo intentáramos, nuestro sistema se bloquearía.\n",
    "\n",
    "Vamos a escribir un fragmento de código para evitar que el sistema se bloquee, en su lugar mostrará un mensaje de error amigable.\n"
   ]
  },
  {
   "cell_type": "code",
   "execution_count": null,
   "metadata": {
    "colab": {
     "base_uri": "https://localhost:8080/"
    },
    "id": "WQFNr-jOO1_s",
    "outputId": "8eb66781-3a1b-45d5-bd86-866508a7798f"
   },
   "outputs": [
    {
     "name": "stdout",
     "output_type": "stream",
     "text": [
      "Age should be a numerical value.\n"
     ]
    }
   ],
   "source": [
    "age = 'seventy four'\n",
    "\n",
    "try:\n",
    "    age = int(age)\n",
    "except:\n",
    "    print('La edad debe ser un valor numérico.')"
   ]
  },
  {
   "cell_type": "markdown",
   "metadata": {
    "id": "LCWaY-uKO1_t"
   },
   "source": [
    "# Paso 6\n",
    "\n",
    "Supongamos ahora que la Administración lanza una cuenta corriente (CA, del inglés \"current account\") en línea para los ciudadanos, en la que estos pueden consultar las devoluciones de impuestos y otras subvenciones como números enteros positivos, y los impuestos adeudados y las cotizaciones a la Seguridad Social como números negativos. Nos gustaría saber cuánto tiene que recibir o pagar cada ciudadano, así como el mayor valor que el ciudadano recibirá Y pagará. Para eso tenemos lo siguiente:\n",
    "\n",
    "- El importe total sería la suma de todos los importes. Si es negativo, el ciudadano tendrá que pagar impuestos, y si es positivo, recibirá dinero.\n",
    "- El importe mínimo será el mayor impuesto/contribución que tenga que pagar el ciudadano, ya que aparecen como números negativos.\n",
    "- El importe máximo será la mayor bonificación/subvención fiscal que pueda recibir el ciudadano.\n",
    "\n",
    "Vamos a calcular estos valores y mostrarlos en la pantalla:\n"
   ]
  },
  {
   "cell_type": "code",
   "execution_count": null,
   "metadata": {
    "colab": {
     "base_uri": "https://localhost:8080/"
    },
    "id": "g86v3QDoO1_t",
    "outputId": "02645a20-55b3-4b99-86ed-304bcc50f9cd"
   },
   "outputs": [
    {
     "name": "stdout",
     "output_type": "stream",
     "text": [
      "1680\n",
      "-6051\n",
      "8607\n"
     ]
    }
   ],
   "source": [
    "citizen_CA = [-465, 156, -567, -6051, 8607]\n",
    "\n",
    "total_amount = sum(citizen_CA)\n",
    "max_tax_due = min(citizen_CA)\n",
    "max_rebate = max(citizen_CA)\n",
    "\n",
    "print(total_amount)\n",
    "print(max_tax_due)\n",
    "print(max_rebate)"
   ]
  },
  {
   "cell_type": "markdown",
   "metadata": {
    "id": "hRX_U_HWO1_t"
   },
   "source": [
    "# Ejercicio 7\n",
    "\n",
    "La Administración quiere enviar un correo electrónico con el siguiente texto al ciudadano, notificando el inicio de la devolución de impuestos: `Estimado Citizen_name, ha gastado más de 10,000 en el mes month_nº. Su devolución de impuestos se inicia el mes que viene, el month_nº+1.`\n"
   ]
  },
  {
   "cell_type": "code",
   "execution_count": null,
   "metadata": {
    "colab": {
     "base_uri": "https://localhost:8080/"
    },
    "id": "HJKhIol-O1_t",
    "outputId": "91d55d04-1fcf-4669-dd16-ac5a21c56450"
   },
   "outputs": [],
   "source": [
    "name_surname = 'Joseph Kobe Steeler'\n",
    "months = 5\n",
    "\n",
    "message = f'Estimado {name_surname}, ha gastado más de 10,000 en el mes de {months}. Su devolución de impuestos comienza en el mes siguiente, {months+1}.'\n",
    "print(message)"
   ]
  },
  {
   "cell_type": "markdown",
   "metadata": {
    "id": "AQtZQFBq-0PB",
    "tags": [
     "17aa38ef-2a73-4b18-9d71-f72cd4e12b42"
    ]
   },
   "source": [
    "Presentaremos un caso cotidiano real. El banco ABC ha lanzado recientemente su servicio de banca privilegiada para clientes de alto poder adquisitivo.\n",
    "\n",
    "Nuestro objetivo principal es organizar el almacenamiento de información para los nuevos clientes. A continuación, investigaremos sobre los primeros clientes para comprender mejor quiénes son."
   ]
  },
  {
   "cell_type": "markdown",
   "metadata": {
    "id": "hoh57tSm-we7"
   },
   "source": [
    "### Ejercicio 1\n",
    "\n",
    "La información sobre cada nuevo cliente deberá facilitarse en el siguiente orden: documento de identidad, nombre, edad, ingresos netos anuales y ocupación. Esta es la lista que contiene los datos de Jack: `32456`, `'Jack Wilson'`, `32`, `150000`, `'Healthcare'`. Crea la variable `client_info` con la información sobre Jack e imprímela."
   ]
  },
  {
   "cell_type": "code",
   "execution_count": null,
   "metadata": {
    "id": "-4dkZGxw-khg"
   },
   "outputs": [],
   "source": [
    "lient_info = [32456, 'Jack Wilson', 32, 150000, 'Healthcare']\n",
    "print(client_info)"
   ]
  },
  {
   "cell_type": "markdown",
   "metadata": {
    "id": "7cGvTjnY-6Mv"
   },
   "source": [
    "### Ejercicio 2\n",
    "\n",
    "Para organizar el almacenamiento de la información de varios clientes, hemos creado la variable `clients` y le hemos asignamos una lista vacía.\n",
    "\n",
    "La información sobre Jack se almacena en la variable `client_info`. El objetivo es añadir esta información a la lista existente `clients` como una lista anidada. Hazlo. Cuando acabes, no te olvides de imprimir la lista `clients`."
   ]
  },
  {
   "cell_type": "code",
   "execution_count": null,
   "metadata": {
    "id": "ZCTSVsx1--Rf"
   },
   "outputs": [],
   "source": [
    "clients = []\n",
    "client_info = [32456, 'Jack Wilson', 32, 150000, 'Healthcare']\n",
    "\n",
    "clients.append(client_info)\n",
    "\n",
    "print(clients)"
   ]
  },
  {
   "cell_type": "markdown",
   "metadata": {
    "id": "gJCCfV0Y_J6V"
   },
   "source": [
    "### Ejercicio 3\n",
    "\n",
    "Se ha añadido información sobre una nueva clienta, Nina Brown, a la lista de `clients`. El banco está interesado en su ingreso neto anual, que se sitúa en la 4ª posición de la lista. Nuestro objetivo es extraer esta información, asignarla a la variable `client_income` e imprimirla."
   ]
  },
  {
   "cell_type": "code",
   "execution_count": null,
   "metadata": {
    "id": "QHTmB6aC_LRN"
   },
   "outputs": [],
   "source": [
    "clients = [\n",
    "    [32456, 'Jack Wilson', 32, 150000, 'Healthcare'],\n",
    "    [34591, 'Nina Brown', 45, 250000, 'Telecom']\n",
    "]\n",
    "\n",
    "client_income = clients[1][3]\n",
    "print(client_income)"
   ]
  },
  {
   "cell_type": "markdown",
   "metadata": {
    "id": "QN3MIaqS_MjN"
   },
   "source": [
    "### Ejercicio 4\n",
    "\n",
    "El número de clientes crece rápidamente. Dos clientes más se han unido recientemente al servicio y ya figuran en la lista de `clients`. Sin embargo, un empleado del banco ha cometido un error tipográfico al añadir la información del cliente, concretamente en el campo de ocupación de Brian Pérez (`'Transportatiion'`). Dado que esta entrada no es válida, debe eliminarse de la lista de `clients`. Tu objetivo es eliminar toda la sublista errónea de la lista `clients` e imprimir esta última."
   ]
  },
  {
   "cell_type": "code",
   "execution_count": null,
   "metadata": {
    "id": "epOHlskl_ONr"
   },
   "outputs": [],
   "source": [
    "clients = [\n",
    "    [32456, \"Jack Wilson\", 32, 150000, \"Healthcare\"],\n",
    "    [34591, \"Nina Brown\", 45, 250000, \"Telecom\"],\n",
    "    [37512, \"Alex Smith\", 39, 210000, \"IT\"],\n",
    "    [39591, \"Brian Perez\", 29, 340000, \"Transportatiion\"],\n",
    "]\n",
    "\n",
    "clients.pop(3)\n",
    "\n",
    "print(clients)"
   ]
  },
  {
   "cell_type": "markdown",
   "metadata": {
    "id": "DeuraxWP_Qx7"
   },
   "source": [
    "### Ejercicio 5\n",
    "\n",
    "La información sobre Brian Pérez ha sido actualizada. Además, otros dos clientes se han unido recientemente al servicio. Ahora el banco quiere analizar a los clientes para determinar la distribución de edades de mayor a menor.\n",
    "\n",
    "En el precódigo, encontrarás la variable `ages` que contiene las edades de todos los clientes actuales. Nuestro objetivo es ordenar esta lista en orden descendente e imprimirla. Para ordenar, utiliza el método `sort()`."
   ]
  },
  {
   "cell_type": "code",
   "execution_count": null,
   "metadata": {
    "id": "WVn-_1cx_SDz"
   },
   "outputs": [],
   "source": [
    "ages = [32, 45, 39, 29, 25, 32]\n",
    "\n",
    "ages.sort(reverse=True)\n",
    "print(ages)"
   ]
  },
  {
   "cell_type": "markdown",
   "metadata": {
    "id": "CsIFu1Ec_VN6"
   },
   "source": [
    "### Ejercicio 6\n",
    "\n",
    "El departamento de seguridad del banco nos pidió una lista con los nombres de nuestros primeros clientes. Actualmente, esta información está disponible como una cadena en la que todos los nombres están separados por comas y que se almacena como la variable `names`.\n",
    "\n",
    "Para ayudar, vamos a convertir la cadena en una lista llamada `names_split`, donde cada elemento representa el nombre de un cliente. No olvides mostrar la lista resultante."
   ]
  },
  {
   "cell_type": "code",
   "execution_count": null,
   "metadata": {
    "id": "ywFqc_4S_WbS"
   },
   "outputs": [],
   "source": [
    "names = 'Jack Wilson,Nina Brown,Alex Smith,Brian Perez,David Martinez,John Kim'\n",
    "\n",
    "names_split = names.split(',')\n",
    "\n",
    "print(names_split)"
   ]
  }
 ],
 "metadata": {
  "ExecuteTimeLog": [
   {
    "duration": 5,
    "start_time": "2024-11-19T05:29:20.117Z"
   },
   {
    "duration": 173,
    "start_time": "2024-11-19T05:29:26.349Z"
   },
   {
    "duration": 3,
    "start_time": "2024-11-19T05:29:40.080Z"
   },
   {
    "duration": 3,
    "start_time": "2024-11-19T05:31:27.145Z"
   },
   {
    "duration": 2,
    "start_time": "2024-11-19T05:32:11.362Z"
   },
   {
    "duration": 3,
    "start_time": "2024-11-19T05:34:50.624Z"
   },
   {
    "duration": 3,
    "start_time": "2024-11-19T05:34:58.897Z"
   },
   {
    "duration": 3,
    "start_time": "2024-11-19T06:02:35.199Z"
   },
   {
    "duration": 3,
    "start_time": "2024-11-19T06:05:02.691Z"
   },
   {
    "duration": 12,
    "start_time": "2024-11-19T06:06:47.564Z"
   },
   {
    "duration": 12,
    "start_time": "2024-11-19T06:06:55.882Z"
   },
   {
    "duration": 3,
    "start_time": "2024-11-19T06:07:04.514Z"
   },
   {
    "duration": 7,
    "start_time": "2024-11-19T06:08:21.594Z"
   },
   {
    "duration": 4,
    "start_time": "2024-11-19T06:14:13.374Z"
   },
   {
    "duration": 3,
    "start_time": "2024-11-19T06:17:55.384Z"
   },
   {
    "duration": 2,
    "start_time": "2024-11-19T06:20:49.198Z"
   },
   {
    "duration": 4,
    "start_time": "2024-11-19T06:22:09.241Z"
   },
   {
    "duration": 4,
    "start_time": "2024-11-19T06:23:17.641Z"
   },
   {
    "duration": 3,
    "start_time": "2024-11-19T06:23:34.664Z"
   }
  ],
  "colab": {
   "provenance": []
  },
  "kernelspec": {
   "display_name": "tripleten-dBYMD7ZO-py3.12",
   "language": "python",
   "name": "python3"
  },
  "language_info": {
   "codemirror_mode": {
    "name": "ipython",
    "version": 3
   },
   "file_extension": ".py",
   "mimetype": "text/x-python",
   "name": "python",
   "nbconvert_exporter": "python",
   "pygments_lexer": "ipython3",
   "version": "3.12.7"
  },
  "toc": {
   "base_numbering": 1,
   "nav_menu": {},
   "number_sections": true,
   "sideBar": true,
   "skip_h1_title": true,
   "title_cell": "Table of Contents",
   "title_sidebar": "Contents",
   "toc_cell": false,
   "toc_position": {},
   "toc_section_display": true,
   "toc_window_display": false
  }
 },
 "nbformat": 4,
 "nbformat_minor": 1
}
