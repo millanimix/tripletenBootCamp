{
  "cells": [
    {
      "cell_type": "markdown",
      "metadata": {},
      "source": [
        "# Sprint 1 - Week 2 - Class 1\n",
        "\n",
        "Análisis de Datos del Mercado de Valores\n",
        "\n",
        "Supongamos que tienes un conjunto de datos simple que contiene el\n",
        "historial de precios de cierre de una acción durante una semana. Los\n",
        "precios están en una lista en orden cronológico (de lunes a viernes).\n",
        "\n",
        "Lista de precios de cierre de la acción:\n",
        "`[150.25, 152.35, 149.75, 153.20, 151.50]`"
      ],
      "id": "49fb0a38-4548-4f2a-84ed-1378248d1856"
    },
    {
      "cell_type": "code",
      "execution_count": 1,
      "metadata": {},
      "outputs": [],
      "source": [
        "lista_precios = [150.25, 152.35, 149.75, 153.20, 151.50]"
      ],
      "id": "ba55e0d1"
    },
    {
      "cell_type": "markdown",
      "metadata": {},
      "source": [
        "# Ejercicio 1 - Acceso a elementos individuales\n",
        "\n",
        "-   Imprime el precio de cierre del miércoles.\n",
        "-   Imprime el precio de cierre del primer día de la semana (lunes)."
      ],
      "id": "56db653f-180c-49fe-80f6-b272ccbc20de"
    },
    {
      "cell_type": "code",
      "execution_count": 2,
      "metadata": {},
      "outputs": [
        {
          "output_type": "display_data",
          "metadata": {},
          "data": {
            "text/plain": [
              "150.25"
            ]
          }
        }
      ],
      "source": [
        "lista_precios[2]\n",
        "lista_precios[0]"
      ],
      "id": "ebba4ece"
    },
    {
      "cell_type": "markdown",
      "metadata": {},
      "source": [
        "# Ejercicio 2 - Slicing\n",
        "\n",
        "-   Crea una nueva lista llamada `precios_mitad_semana` que contenga los\n",
        "    precios de cierre desde el martes hasta el jueves (inclusive).\n",
        "-   Crea otra lista llamada `precios_invertidos` que contenga los\n",
        "    precios de cierre de la semana en orden inverso."
      ],
      "id": "d55588fd-cbe9-4244-868b-dfc1dbd4a51a"
    },
    {
      "cell_type": "code",
      "execution_count": 3,
      "metadata": {},
      "outputs": [],
      "source": [
        "precios_mitad_semana = lista_precios[1:4]\n",
        "precios_invertidos = lista_precios[::-1]"
      ],
      "id": "c1c3a104"
    },
    {
      "cell_type": "markdown",
      "metadata": {},
      "source": [
        "# Ejercicio 3 - Sublistas y operaciones\n",
        "\n",
        "-   Calcula la diferencia entre el precio de cierre del viernes y el\n",
        "    lunes, y guárdala en una variable llamada `diferencia_semana`.\n",
        "-   Calcula el promedio de los precios de la mitad de la semana (usando\n",
        "    la lista `precios_mitad_semana` que creaste en la sección de\n",
        "    slicing)."
      ],
      "id": "3152b24a-05e2-4fe1-9928-db346066b96a"
    },
    {
      "cell_type": "code",
      "execution_count": 4,
      "metadata": {},
      "outputs": [],
      "source": [
        "diferencia_semana = lista_precios[4] - lista_precios[0]\n",
        "\n",
        "promedio_mitad_semana = sum(precios_mitad_semana) / len(precios_mitad_semana)"
      ],
      "id": "0f57a668"
    },
    {
      "cell_type": "markdown",
      "metadata": {},
      "source": [
        "# Ejercicio 4 - Manipulación de cadenas de caracteres\n",
        "\n",
        "-   Supón que tienes una lista de días de la semana:\n",
        "    `[\"Lunes\", \"Martes\", \"Miércoles\", \"Jueves\", \"Viernes\"]`.\n",
        "-   Une esta lista en una única cadena de texto separada por comas, y\n",
        "    guárdala en una variable llamada `dias_semana`.\n",
        "-   A partir de la cadena `dias_semana`, extrae y almacena en una nueva\n",
        "    variable el nombre del día “Miércoles” usando slicing y la posición\n",
        "    del índice."
      ],
      "id": "b48f986d-2f28-42c7-b57d-fa8db4a0ba2e"
    },
    {
      "cell_type": "code",
      "execution_count": 5,
      "metadata": {},
      "outputs": [],
      "source": [
        "dias_semana_lista = [\"Lunes\", \"Martes\", \"Miércoles\", \"Jueves\", \"Viernes\"]\n",
        "\n",
        "dias_semana = \", \".join(dias_semana_lista)\n",
        "\n",
        "dia_miercoles = dias_semana[15:24]"
      ],
      "id": "ce705ecd"
    },
    {
      "cell_type": "markdown",
      "metadata": {},
      "source": [
        "# Ejercicio 5 - Listas anidadas\n",
        "\n",
        "Supón que tienes un conjunto de datos que representa los precios de\n",
        "cierre de varias acciones durante una semana. Cada acción tiene su\n",
        "propio historial de precios para los cinco días de la semana (de lunes a\n",
        "viernes), y todos estos precios están almacenados en una lista anidada.\n",
        "\n",
        "Lista de precios de cierre de tres acciones:"
      ],
      "id": "f54922dd-a829-44cd-9777-f298c22a4883"
    },
    {
      "cell_type": "code",
      "execution_count": 6,
      "metadata": {},
      "outputs": [],
      "source": [
        "precios_acciones = [\n",
        "    [150.25, 152.35, 149.75, 153.20, 151.50],  # Acción 1\n",
        "    [120.10, 121.50, 119.80, 122.35, 121.00],  # Acción 2\n",
        "    [95.75, 97.50, 96.20, 98.10, 97.00]        # Acción 3\n",
        "]"
      ],
      "id": "c9abd5c0"
    },
    {
      "cell_type": "markdown",
      "metadata": {},
      "source": [
        "## E5.1 - Acceso a elementos en listas anidadas\n",
        "\n",
        "-   Imprime el precio de cierre del miércoles de la Acción 2.\n",
        "-   Imprime el precio de cierre del lunes de la Acción 3."
      ],
      "id": "91cdc7f0-389e-4653-9ca6-81d5ba2d18eb"
    },
    {
      "cell_type": "code",
      "execution_count": 7,
      "metadata": {},
      "outputs": [],
      "source": [
        "precio_miercoles_accion2 = precios_acciones[1][2]\n",
        "precio_lunes_accion3 = precios_acciones[2][0]"
      ],
      "id": "a0663de5"
    },
    {
      "cell_type": "markdown",
      "metadata": {},
      "source": [
        "### E5.2 - Slicing en listas anidadas\n",
        "\n",
        "-   Crea una nueva lista llamada `precios_martes_jueves_accion1` que\n",
        "    contenga los precios de cierre desde el martes hasta el jueves de la\n",
        "    Acción 1.\n",
        "-   Crea otra lista llamada `precios_invertidos_accion3` que contenga\n",
        "    los precios de cierre de la semana para la Acción 3 en orden\n",
        "    inverso."
      ],
      "id": "ccc3cbe0-1338-459d-bd21-1cf330671203"
    },
    {
      "cell_type": "code",
      "execution_count": 8,
      "metadata": {},
      "outputs": [],
      "source": [
        "precios_martes_jueves_accion1 = precios_acciones[0][1:4]\n",
        "precios_invertidos_accion3 = precios_acciones[2][::-1]"
      ],
      "id": "d6ccee05"
    },
    {
      "cell_type": "markdown",
      "metadata": {},
      "source": [
        "### E5.3 - Operaciones con listas anidadas\n",
        "\n",
        "-   Calcula la diferencia entre el precio de cierre del viernes y el\n",
        "    lunes para la Acción 2, y guárdala en una variable llamada\n",
        "    `diferencia_accion2`.\n",
        "-   Calcula el promedio de los precios de cierre del miércoles de todas\n",
        "    las acciones (utilizando los datos anidados)."
      ],
      "id": "ea9d2d37-0b67-45cf-a891-5c84405a0c9b"
    },
    {
      "cell_type": "code",
      "execution_count": 9,
      "metadata": {},
      "outputs": [],
      "source": [
        "diferencia_accion2 = precios_acciones[1][4] - precios_acciones[1][0]\n",
        "\n",
        "precios_miercoles = [accion[2] for accion in precios_acciones]\n",
        "promedio_miercoles = sum(precios_miercoles) / len(precios_miercoles)"
      ],
      "id": "352c5519"
    }
  ],
  "nbformat": 4,
  "nbformat_minor": 5,
  "metadata": {
    "kernelspec": {
      "name": "python3",
      "display_name": "Python 3 (ipykernel)",
      "language": "python",
      "path": "C:"
    },
    "language_info": {
      "name": "python",
      "codemirror_mode": {
        "name": "ipython",
        "version": "3"
      },
      "file_extension": ".py",
      "mimetype": "text/x-python",
      "nbconvert_exporter": "python",
      "pygments_lexer": "ipython3",
      "version": "3.10.6"
    }
  }
}