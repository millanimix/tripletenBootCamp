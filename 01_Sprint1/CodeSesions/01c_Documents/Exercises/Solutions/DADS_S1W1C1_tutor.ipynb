{
  "cells": [
    {
      "cell_type": "markdown",
      "metadata": {},
      "source": [
        "# Sprint 1 - Week 1 - Class 1\n",
        "\n",
        "Coding Session\n",
        "\n",
        "# Ejercicio 1\n",
        "\n",
        "## E1.1\n",
        "\n",
        "John tiene 25 años y su hermano 20. Asigna sus edades a las variables\n",
        "`john_age` y `brother_age`, y verifica los tipos de variables que son\n",
        "cada una de ellas."
      ],
      "id": "b2240e80-e1c9-420f-afec-9c9a14e54ef0"
    },
    {
      "cell_type": "code",
      "execution_count": 1,
      "metadata": {},
      "outputs": [
        {
          "output_type": "stream",
          "name": "stdout",
          "text": [
            "<class 'int'>\n",
            "<class 'int'>"
          ]
        }
      ],
      "source": [
        "john_age = 25\n",
        "brother_age = 20\n",
        "\n",
        "print(type(john_age))\n",
        "print(type(brother_age))"
      ],
      "id": "fa7376d5"
    },
    {
      "cell_type": "markdown",
      "metadata": {},
      "source": [
        "## E1.2\n",
        "\n",
        "Calcula su diferencia de edad en una nueva variable (`diff_ages`), y\n",
        "luego muestra la siguiente frase “John tiene `john_age` años. Su hermano\n",
        "tiene `brother_age` y la diferencia de edad entre ellos es `diff_ages`”"
      ],
      "id": "229cc2c1-e321-4dde-9669-e51f9165d5c3"
    },
    {
      "cell_type": "code",
      "execution_count": 2,
      "metadata": {},
      "outputs": [
        {
          "output_type": "stream",
          "name": "stdout",
          "text": [
            "John tiene 25 años. Su hermano tiene 20 y la diferencia de edad entre ellos es 5"
          ]
        }
      ],
      "source": [
        "diff_ages = john_age - brother_age\n",
        "print(\"John tiene\", john_age, \"años. Su hermano tiene\", brother_age, \"y la diferencia de edad entre ellos es\", diff_ages)"
      ],
      "id": "ce002c30"
    },
    {
      "cell_type": "markdown",
      "metadata": {},
      "source": [
        "# Ejercicio 2\n",
        "\n",
        "## E2.1\n",
        "\n",
        "Escribe y rellena las siguientes variables:\n",
        "\n",
        "`name` -\\> John\n",
        "\n",
        "`john_bitcoins` -\\> 2.45\n",
        "\n",
        "`btc_to_usd` -\\> 71000\n",
        "\n",
        "`has_driving_license` -\\> True\n",
        "\n",
        "Muestra todas las variables. A continuación, aplica la función type a\n",
        "cada una y comprueba el resultado. Después, calcula e imprime la\n",
        "cantidad de BTC que John tiene en dólares estadounidenses, utilizando el\n",
        "tipo de conversión indicado."
      ],
      "id": "af52bf0a-2ae3-4d17-9972-33d555502c8a"
    },
    {
      "cell_type": "code",
      "execution_count": 3,
      "metadata": {},
      "outputs": [
        {
          "output_type": "stream",
          "name": "stdout",
          "text": [
            "John\n",
            "2.45\n",
            "71000\n",
            "True\n",
            "<class 'str'>\n",
            "<class 'float'>\n",
            "<class 'int'>\n",
            "<class 'bool'>\n",
            "173950.0"
          ]
        }
      ],
      "source": [
        "name  = 'John'\n",
        "john_bitcoins  = 2.45\n",
        "btc_to_usd = 71000\n",
        "has_driving_license  = True\n",
        "\n",
        "print(name)\n",
        "print(john_bitcoins)\n",
        "print(btc_to_usd)\n",
        "print(has_driving_license)\n",
        "\n",
        "print(type(name))\n",
        "print(type(john_bitcoins))\n",
        "print(type(btc_to_usd))\n",
        "print(type(has_driving_license))\n",
        "\n",
        "john_usd_worth = john_bitcoins * btc_to_usd\n",
        "print(john_usd_worth)"
      ],
      "id": "57958b2e"
    },
    {
      "cell_type": "markdown",
      "metadata": {},
      "source": [
        "# Ejercicio 3\n",
        "\n",
        "## E3.1\n",
        "\n",
        "John compró más de 1.3 bitcoins. Ejecuta el siguiente código y observa\n",
        "el error."
      ],
      "id": "7f0a0e83-8253-4801-8611-60be3088ed4a"
    },
    {
      "cell_type": "code",
      "execution_count": 4,
      "metadata": {},
      "outputs": [],
      "source": [
        "john_bitcoins = '2.45'\n",
        "\n",
        "john_bitcoins = john_bitcoins + 1.3"
      ],
      "id": "507e542f"
    },
    {
      "cell_type": "markdown",
      "metadata": {},
      "source": [
        "## E3.2\n",
        "\n",
        "Ahora agrega una línea entre las dos líneas de código existentes para\n",
        "convertir la variable a float, e imprimir la variable y su tipo. ¿Qué\n",
        "pasó?"
      ],
      "id": "ba184c24-8f99-4f19-a1a1-a9d6a3fdf969"
    },
    {
      "cell_type": "code",
      "execution_count": 5,
      "metadata": {},
      "outputs": [
        {
          "output_type": "stream",
          "name": "stdout",
          "text": [
            "3.75\n",
            "<class 'float'>"
          ]
        }
      ],
      "source": [
        "john_bitcoins = '2.45'\n",
        "\n",
        "john_bitcoins = float(john_bitcoins)\n",
        "\n",
        "john_bitcoins = john_bitcoins + 1.3\n",
        "\n",
        "print(john_bitcoins)\n",
        "print(type(john_bitcoins))"
      ],
      "id": "c97df1ce"
    },
    {
      "cell_type": "markdown",
      "metadata": {},
      "source": [
        "## E3.3\n",
        "\n",
        "Ahora convierte los bitcoins de John a int e imprime la variable y su\n",
        "tipo. ¿Qué pasó? ¿Ha perdido bitcoins?"
      ],
      "id": "def716e9-46f6-4ef0-acb7-a5a3e4463061"
    },
    {
      "cell_type": "code",
      "execution_count": 6,
      "metadata": {},
      "outputs": [
        {
          "output_type": "stream",
          "name": "stdout",
          "text": [
            "<class 'int'>\n",
            "3"
          ]
        }
      ],
      "source": [
        "john_bitcoins = int(john_bitcoins)\n",
        "\n",
        "print(type(john_bitcoins))\n",
        "print(john_bitcoins)"
      ],
      "id": "689e8db5"
    },
    {
      "cell_type": "markdown",
      "metadata": {},
      "source": [
        "# Ejercicio 4\n",
        "\n",
        "John quiere enviar el 10% de su bitcoin a su amigo Max. Sin embargo,\n",
        "seleccionó una cartera que, por alguna razón, no es considerada válida,\n",
        "lo que hace que el programa genere un error.\n",
        "\n",
        "## E4.1\n",
        "\n",
        "Ejecuta el código y observa el error. ¿Por qué recibimos este error?"
      ],
      "id": "252e2c46-0b20-45bc-816b-4d86a97581eb"
    },
    {
      "cell_type": "code",
      "execution_count": 7,
      "metadata": {},
      "outputs": [],
      "source": [
        "btc_wallet_2 = '3.75'\n",
        "\n",
        "btc_to_send = btc_wallet_2 * 0.1"
      ],
      "id": "3f7c546b"
    },
    {
      "cell_type": "markdown",
      "metadata": {},
      "source": [
        "## E4.2\n",
        "\n",
        "Añade código para que el error quede más claro, mostrando el mensaje “Tu\n",
        "cartera no es válida. Por favor, inténtalo de nuevo.”, cuando falla.\n",
        "\n",
        "Haz esto utilizando try except."
      ],
      "id": "5a9316ca-20a6-4f73-aeb0-4b6a02b32925"
    },
    {
      "cell_type": "code",
      "execution_count": 8,
      "metadata": {},
      "outputs": [
        {
          "output_type": "stream",
          "name": "stdout",
          "text": [
            "Tu cartera no es válida. Inténtalo de nuevo."
          ]
        }
      ],
      "source": [
        "try:\n",
        "    btc_to_send = btc_wallet_2 * 0.1\n",
        "except:\n",
        "    print('Tu cartera no es válida. Inténtalo de nuevo.')"
      ],
      "id": "00c32416"
    },
    {
      "cell_type": "markdown",
      "metadata": {},
      "source": [
        "## E4.3\n",
        "\n",
        "Ahora corrige el código para que no produzca más errores. ¿A qué tipo de\n",
        "datos debemos convertir la cartera?"
      ],
      "id": "a2d8335f-220a-4cfa-a93d-5a9dd64178fb"
    },
    {
      "cell_type": "code",
      "execution_count": 9,
      "metadata": {},
      "outputs": [],
      "source": [
        "try:\n",
        "    btc_to_send = float(btc_wallet_2) * 0.1\n",
        "except:\n",
        "    print('Tu cartera no es válida. Inténtalo de nuevo.')"
      ],
      "id": "8fbbc0af"
    },
    {
      "cell_type": "markdown",
      "metadata": {},
      "source": [
        "## E4.4\n",
        "\n",
        "Utiliza la función apropiada para convertirla y luego muestra la\n",
        "cantidad de btc enviada a su amigo Max de la siguiente manera: “Has\n",
        "enviado `btc_to_send` bitcoins con éxito”."
      ],
      "id": "563e0190-c49f-460c-85e3-b22743ba769a"
    },
    {
      "cell_type": "code",
      "execution_count": 10,
      "metadata": {},
      "outputs": [
        {
          "output_type": "stream",
          "name": "stdout",
          "text": [
            "Has enviado 0.375 bitcoins con éxito"
          ]
        }
      ],
      "source": [
        "try:\n",
        "    btc_to_send = float(btc_wallet_2) * 0.1\n",
        "    print(\"Has enviado\", btc_to_send, \"bitcoins con éxito\")\n",
        "except:\n",
        "    print('Tu cartera no es válida. Inténtalo de nuevo.')"
      ],
      "id": "9ff53568"
    },
    {
      "cell_type": "markdown",
      "metadata": {},
      "source": [
        "# Ejercicio 5\n",
        "\n",
        "## E5.1\n",
        "\n",
        "Crea una lista que contenga 4 elementos a ser comprados en una tienda de\n",
        "abarrotes “azucar”, “flores”, “muchos colores”, “X”. Llámala\n",
        "`compras_abarrotes`."
      ],
      "id": "34607c89-7de3-45ab-834a-f0947b909f9a"
    },
    {
      "cell_type": "code",
      "execution_count": 11,
      "metadata": {},
      "outputs": [],
      "source": [
        "compras_abarrotes = [\"azucar\", \"flores\", \"muchos colores\", \"X\"]"
      ],
      "id": "fb177ec3"
    },
    {
      "cell_type": "markdown",
      "metadata": {},
      "source": [
        "## E5.2\n",
        "\n",
        "Imprime el tercer elemento de la lista"
      ],
      "id": "1ca6fdc8-f920-4081-8fe8-50bc42ffa957"
    },
    {
      "cell_type": "code",
      "execution_count": 12,
      "metadata": {},
      "outputs": [
        {
          "output_type": "display_data",
          "metadata": {},
          "data": {
            "text/plain": [
              "'muchos colores'"
            ]
          }
        }
      ],
      "source": [
        "compras_abarrotes[2]"
      ],
      "id": "2d6985f3"
    },
    {
      "cell_type": "markdown",
      "metadata": {},
      "source": [
        "## E5.3\n",
        "\n",
        "Imprime el tamaño de la lista"
      ],
      "id": "21c3e363-a95d-4154-9fdf-11b7c1df3201"
    },
    {
      "cell_type": "code",
      "execution_count": 13,
      "metadata": {},
      "outputs": [
        {
          "output_type": "display_data",
          "metadata": {},
          "data": {
            "text/plain": [
              "4"
            ]
          }
        }
      ],
      "source": [
        "len(compras_abarrotes)"
      ],
      "id": "a9a3bd8c"
    },
    {
      "cell_type": "markdown",
      "metadata": {},
      "source": [
        "## E5.4\n",
        "\n",
        "Adiciona un producto más al final de la lista."
      ],
      "id": "5d4ed948-73be-46ac-9e11-5d819ab289d2"
    },
    {
      "cell_type": "code",
      "execution_count": 14,
      "metadata": {},
      "outputs": [
        {
          "output_type": "display_data",
          "metadata": {},
          "data": {
            "text/plain": [
              "['azucar', 'flores', 'muchos colores', 'X', 'bellota']"
            ]
          }
        }
      ],
      "source": [
        "compras_abarrotes.append(\"bellota\") # Si usan append, preguntarse por qué no es necesario asignar el nuevo valor de compras_abarrotes\n",
        "compras_abarrotes"
      ],
      "id": "4cd26c4c"
    },
    {
      "cell_type": "markdown",
      "metadata": {},
      "source": [
        "## E5.5\n",
        "\n",
        "Adiciona un producto más en la posicion 2 de la lista e imprime el\n",
        "resultado."
      ],
      "id": "c9eca75a-ff78-483a-8ab0-6b3016ee1921"
    },
    {
      "cell_type": "code",
      "execution_count": 15,
      "metadata": {},
      "outputs": [
        {
          "output_type": "display_data",
          "metadata": {},
          "data": {
            "text/plain": [
              "['azucar', 'burbuja', 'flores', 'muchos colores', 'X', 'bellota']"
            ]
          }
        }
      ],
      "source": [
        "compras_abarrotes.insert(1, 'burbuja')\n",
        "compras_abarrotes"
      ],
      "id": "a28c69ad"
    },
    {
      "cell_type": "markdown",
      "metadata": {},
      "source": [
        "# Ejercicio 6\n",
        "\n",
        "Sea una lista de productos de ferretería dada por Tornillos, Martillo,\n",
        "Pegamento. Llama a esa variable `compras_ferreteria`\n",
        "\n",
        "## E6.1\n",
        "\n",
        "Crea esta nueva lista"
      ],
      "id": "1f7b7c07-f737-4ed4-a366-cf57dd845d3f"
    },
    {
      "cell_type": "code",
      "execution_count": 16,
      "metadata": {},
      "outputs": [],
      "source": [
        "compras_ferreteria = [\"Tornillos\", \"Martillo\", \"Pegamento\"]"
      ],
      "id": "61ea582d"
    },
    {
      "cell_type": "markdown",
      "metadata": {},
      "source": [
        "## E6.2\n",
        "\n",
        "Adiciona esta lista `compras_abarrotes` y guarda el resultado en\n",
        "`compras_ferreteria_mas_abarrotes`"
      ],
      "id": "47d19781-938a-45a1-8f9b-b43d985e1339"
    },
    {
      "cell_type": "code",
      "execution_count": 17,
      "metadata": {},
      "outputs": [
        {
          "output_type": "display_data",
          "metadata": {},
          "data": {
            "text/plain": [
              "['Tornillos',\n",
              " 'Martillo',\n",
              " 'Pegamento',\n",
              " 'azucar',\n",
              " 'burbuja',\n",
              " 'flores',\n",
              " 'muchos colores',\n",
              " 'X',\n",
              " 'bellota']"
            ]
          }
        }
      ],
      "source": [
        "compras_ferreteria_mas_abarrotes = compras_ferreteria + compras_abarrotes\n",
        "compras_ferreteria_mas_abarrotes"
      ],
      "id": "a127fbdf"
    },
    {
      "cell_type": "markdown",
      "metadata": {},
      "source": [
        "## E6.3\n",
        "\n",
        "Ordena la lista de compras en orden reverso e imprime el resultado\n",
        "final."
      ],
      "id": "6fed00c6-34a8-477f-ae5c-9150ef75fb2a"
    },
    {
      "cell_type": "code",
      "execution_count": 18,
      "metadata": {},
      "outputs": [
        {
          "output_type": "display_data",
          "metadata": {},
          "data": {
            "text/plain": [
              "['bellota',\n",
              " 'X',\n",
              " 'muchos colores',\n",
              " 'flores',\n",
              " 'burbuja',\n",
              " 'azucar',\n",
              " 'Pegamento',\n",
              " 'Martillo',\n",
              " 'Tornillos']"
            ]
          }
        }
      ],
      "source": [
        "compras_ferreteria_mas_abarrotes.reverse()\n",
        "compras_ferreteria_mas_abarrotes"
      ],
      "id": "eee65d1f"
    },
    {
      "cell_type": "markdown",
      "metadata": {},
      "source": [
        "# Ejercicio 7\n",
        "\n",
        "Sea la lista `python` definida a continuación"
      ],
      "id": "76dd4cb9-b9a0-4d24-a012-1ddf90f5f488"
    },
    {
      "cell_type": "code",
      "execution_count": 19,
      "metadata": {},
      "outputs": [],
      "source": [
        "python = ['p','y','t','h','o','n']"
      ],
      "id": "074d04b7"
    },
    {
      "cell_type": "markdown",
      "metadata": {},
      "source": [
        "## E7.1\n",
        "\n",
        "Establezca 3 formas diferentes de obtener solamente los caracteres “py”\n",
        "filtrando la lista"
      ],
      "id": "3b959170-445b-4d81-8c6f-aca665025111"
    },
    {
      "cell_type": "code",
      "execution_count": 20,
      "metadata": {},
      "outputs": [
        {
          "output_type": "stream",
          "name": "stdout",
          "text": [
            "['p', 'y']\n",
            "['p', 'y']\n",
            "['p', 'y']"
          ]
        }
      ],
      "source": [
        "print(python[0:2])\n",
        "print(python[:2])\n",
        "print(python[:-4])"
      ],
      "id": "bca4e5c7"
    },
    {
      "cell_type": "markdown",
      "metadata": {},
      "source": [
        "Sea ahora la lista `numeros` dada por"
      ],
      "id": "3d805449-4c25-487f-b082-9ee4ce8f1979"
    },
    {
      "cell_type": "code",
      "execution_count": 21,
      "metadata": {},
      "outputs": [
        {
          "output_type": "stream",
          "name": "stdout",
          "text": [
            "[0, 1, 2, 3, 4, 5, 6, 7, 8, 9, 10]"
          ]
        }
      ],
      "source": [
        "numeros = list(range(0,11,1))\n",
        "print(numeros)"
      ],
      "id": "509aa054"
    },
    {
      "cell_type": "markdown",
      "metadata": {},
      "source": [
        "## E7.2\n",
        "\n",
        "Obtenga solamente los elementos que se encuentran en una posición par"
      ],
      "id": "2c45a710-24ff-4bee-bbcc-7ec433c0ef4d"
    },
    {
      "cell_type": "code",
      "execution_count": 22,
      "metadata": {},
      "outputs": [
        {
          "output_type": "display_data",
          "metadata": {},
          "data": {
            "text/plain": [
              "[1, 3, 5, 7, 9]"
            ]
          }
        }
      ],
      "source": [
        "numeros[1::2]\n",
        "# https://stackoverflow.com/questions/3453085/what-is-double-colon-in-python-when-subscripting-sequences"
      ],
      "id": "5ca44ef8"
    }
  ],
  "nbformat": 4,
  "nbformat_minor": 5,
  "metadata": {
    "kernelspec": {
      "name": "python3",
      "display_name": "Python 3 (ipykernel)",
      "language": "python",
      "path": "C:"
    },
    "language_info": {
      "name": "python",
      "codemirror_mode": {
        "name": "ipython",
        "version": "3"
      },
      "file_extension": ".py",
      "mimetype": "text/x-python",
      "nbconvert_exporter": "python",
      "pygments_lexer": "ipython3",
      "version": "3.10.6"
    }
  }
}