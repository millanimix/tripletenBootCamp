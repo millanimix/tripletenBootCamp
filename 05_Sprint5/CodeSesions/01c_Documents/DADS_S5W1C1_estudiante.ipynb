{
  "cells": [
    {
      "cell_type": "markdown",
      "metadata": {},
      "source": [
        "# Sprint 5 - Week 1 - Class 1\n",
        "\n",
        "Distribuciones\n",
        "\n",
        "# E1: Distribución normal y alturas en Chile\n",
        "\n",
        "La altura promedio de la población adulta en Chile es aproximadamente de\n",
        "170 cm para hombres, con una desviación estándar de 10 cm. Utilizando\n",
        "estos datos, realiza el siguiente ejercicio en Python.\n",
        "\n",
        "-   Simula muestras de tamaños 10, 100, 500 y 1000 de alturas, asumiendo\n",
        "    una distribución normal con media de 170 y desviación estándar\n",
        "    de 10. Para cada muestra, genera un histograma y una curva de\n",
        "    densidad sobrepuesta para visualizar la distribución de las alturas.\n",
        "    Asegúrate de que cada gráfico esté etiquetado con el tamaño de la\n",
        "    muestra.\n",
        "\n",
        "-   Calcula la probabilidad de que una persona tenga una altura menor a\n",
        "    150 cm (más baja que el promedio) y mayor a 180 cm (más alta que el\n",
        "    promedio). Recuerda usar la función de distribución acumulativa para\n",
        "    calcular estas probabilidades.\n",
        "\n",
        "-   Interpreta los resultados de las probabilidades. ¿Qué tan común es\n",
        "    que una persona en Chile mida menos de 160 cm o más de 180 cm?"
      ],
      "id": "c829b3d9-9978-437d-b4cc-ca8042cc31af"
    },
    {
      "cell_type": "code",
      "execution_count": 1,
      "metadata": {},
      "outputs": [],
      "source": [
        "import numpy as np\n",
        "import matplotlib.pyplot as plt\n",
        "import seaborn as sns\n",
        "from scipy.stats import norm\n"
      ],
      "id": "7bfdcec7"
    },
    {
      "cell_type": "markdown",
      "metadata": {},
      "source": [
        "# E2: Distribución exponencial para la tasa de llegada de clientes en locales de retail\n",
        "\n",
        "En una empresa de retail, queremos estudiar el tiempo entre la llegada\n",
        "de clientes a las cajas de pago en tres locales diferentes. Sabemos que:\n",
        "\n",
        "-   En el Local A llega en promedio 1 cliente por minuto.\n",
        "\n",
        "-   En el Local B llegan en promedio 3 clientes por minuto.\n",
        "\n",
        "-   En el Local C llegan en promedio 6 clientes por minuto. Asumiendo\n",
        "    que la llegada de clientes sigue una distribución exponencial\n",
        "    (tiempo entre eventos), realiza los siguientes pasos:\n",
        "\n",
        "-   Para cada local, simula la distribución de tiempos entre llegadas de\n",
        "    clientes usando una tasa media (λ) de 1, 3, y 6 clientes por minuto\n",
        "    respectivamente. Genera una muestra de 1000 tiempos entre llegadas\n",
        "    para cada local y grafica los histogramas correspondientes.\n",
        "\n",
        "-   Traza los histogramas y las curvas de densidad exponenciales para\n",
        "    cada local en un mismo gráfico (3 gráficos en total), usando seaborn\n",
        "    o matplotlib.\n",
        "\n",
        "-   Calcula la probabilidad de que lleguen al menos 100 clientes en:\n",
        "\n",
        "    -   30 minutos\n",
        "    -   1 hora\n",
        "    -   1 hora y 30 minutos\n",
        "\n",
        "Para ello, usa la propiedad de la distribución de Poisson para contar el\n",
        "número de eventos en un intervalo de tiempo dado (tasa λ x tiempo)."
      ],
      "id": "d44557d6-097f-45c4-b722-25092d5b1aa2"
    },
    {
      "cell_type": "code",
      "execution_count": 3,
      "metadata": {},
      "outputs": [],
      "source": [
        "import numpy as np\n",
        "import matplotlib.pyplot as plt\n",
        "import seaborn as sns\n",
        "from scipy.stats import expon, poisson"
      ],
      "id": "ca296d76"
    },
    {
      "cell_type": "markdown",
      "metadata": {},
      "source": [
        "# E3: Conversión de Clientes en Retail\n",
        "\n",
        "Como analistas en una tienda de retail, queremos entender la\n",
        "probabilidad de que los clientes realicen una compra al ingresar a la\n",
        "tienda. Sabemos que:\n",
        "\n",
        "-   En el Local A, la probabilidad de que un cliente realice una compra\n",
        "    es del 20%.\n",
        "\n",
        "-   En el Local B, la probabilidad de conversión es del 35%.\n",
        "\n",
        "-   En el Local C, la probabilidad de conversión es del 50%.\n",
        "\n",
        "-   Simula el número de clientes que realizan una compra en muestras de\n",
        "    20, 50 y 100 clientes, en cada local, basándote en la probabilidad\n",
        "    de conversión dada. Genera histogramas para visualizar el número de\n",
        "    compradores en cada muestra.\n",
        "\n",
        "-   Calcula la probabilidad de que al menos 10 clientes realicen una\n",
        "    compra cuando ingresan 20, 50, y 100 clientes en cada local."
      ],
      "id": "7719b56f-243a-455e-8b4a-eab2c4dad813"
    },
    {
      "cell_type": "code",
      "execution_count": 5,
      "metadata": {},
      "outputs": [],
      "source": [
        "import numpy as np\n",
        "import matplotlib.pyplot as plt\n",
        "import seaborn as sns\n",
        "from scipy.stats import binom"
      ],
      "id": "9e37aabe"
    },
    {
      "cell_type": "markdown",
      "metadata": {},
      "source": [
        "# E4: Distribución uniforme de tiempos de espera\n",
        "\n",
        "Imagina que eres analista de datos de una compañía ferroviaria y estás\n",
        "estudiando los tiempos de espera de los pasajeros en una estación de\n",
        "tren. Sabes que los trenes llegan cada 30 minutos, pero el horario es\n",
        "irregular, por lo que los pasajeros pueden esperar un tiempo entre 0 y\n",
        "30 minutos en cualquier momento.\n",
        "\n",
        "-   Genera una muestra de 1000 pasajeros, simulando el tiempo de espera\n",
        "    para cada uno, asumiendo que la espera sigue una distribución\n",
        "    uniforme entre 0 y 30 minutos. Grafica un histograma de los tiempos\n",
        "    de espera y traza la línea de la densidad teórica de la distribución\n",
        "    uniforme en el mismo gráfico.\n",
        "\n",
        "-   Calcula la probabilidad de que un pasajero espere menos de 5 minutos\n",
        "    y la probabilidad de que un pasajero espere más de 20 minutos.\n",
        "\n",
        "-   Calcula el tiempo de espera promedio y la desviación estándar de la\n",
        "    muestra generada."
      ],
      "id": "2f78678b-a7fd-4b33-be56-9794e2f4cf50"
    },
    {
      "cell_type": "code",
      "execution_count": 7,
      "metadata": {},
      "outputs": [],
      "source": [
        "import numpy as np\n",
        "import matplotlib.pyplot as plt\n",
        "from scipy.stats import uniform"
      ],
      "id": "ee5ce9ae"
    }
  ],
  "nbformat": 4,
  "nbformat_minor": 5,
  "metadata": {
    "kernelspec": {
      "name": "python3",
      "display_name": "Python 3 (ipykernel)",
      "language": "python",
      "path": "C:de Chile_MLOps_ejemplo_telecom.venv"
    },
    "language_info": {
      "name": "python",
      "codemirror_mode": {
        "name": "ipython",
        "version": "3"
      },
      "file_extension": ".py",
      "mimetype": "text/x-python",
      "nbconvert_exporter": "python",
      "pygments_lexer": "ipython3",
      "version": "3.12.7"
    }
  }
}