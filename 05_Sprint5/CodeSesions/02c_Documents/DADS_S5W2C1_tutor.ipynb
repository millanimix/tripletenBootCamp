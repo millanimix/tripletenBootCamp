{
  "cells": [
    {
      "cell_type": "markdown",
      "metadata": {},
      "source": [
        "# Sprint 5 - Week 2 - Class 1\n",
        "\n",
        "Test de Hipótesis\n",
        "\n",
        "# Introducción\n",
        "\n",
        "En este set de ejercicios, investigaremos el impacto de un programa de\n",
        "tutorías en el rendimiento académico de los estudiantes. Generaremos\n",
        "datos de rendimiento antes y después de un programa y aplicaremos\n",
        "pruebas de hipótesis para responder preguntas clave.\n",
        "\n",
        "# E1: Igualdad de medias de dos poblaciones (Prueba independiente)\n",
        "\n",
        "Genera dos conjuntos de datos que representen los puntajes de los\n",
        "estudiantes de dos grupos diferentes (control y tratamiento) y realiza\n",
        "una prueba de hipótesis para determinar si sus medias son iguales.\n",
        "Recuerda que con `np.random` puedes generar varios tipos de\n",
        "distribuciones"
      ],
      "id": "945f334e-9a0a-4f3f-b195-24586767be03"
    },
    {
      "cell_type": "code",
      "execution_count": 1,
      "metadata": {},
      "outputs": [],
      "source": [
        "#"
      ],
      "id": "cec88f99"
    },
    {
      "cell_type": "code",
      "execution_count": 2,
      "metadata": {},
      "outputs": [
        {
          "output_type": "stream",
          "name": "stdout",
          "text": [
            "Estadístico t: -4.754695943505281\n",
            "Valor p: 3.819135262679478e-06"
          ]
        }
      ],
      "source": [
        "import numpy as np\n",
        "from scipy import stats\n",
        "\n",
        "# Generar datos simulados\n",
        "np.random.seed(42)\n",
        "grupo_control = np.random.normal(loc=70, scale=10, size=100)  # Promedio 70, desviación estándar 10\n",
        "grupo_tratamiento = np.random.normal(loc=75, scale=10, size=100)  # Promedio 75, desviación estándar 10\n",
        "\n",
        "# Prueba t de dos muestras independientes\n",
        "t_stat, p_value = stats.ttest_ind(grupo_control, grupo_tratamiento)\n",
        "\n",
        "print(\"Estadístico t:\", t_stat)\n",
        "print(\"Valor p:\", p_value)"
      ],
      "id": "3e4dba8c"
    },
    {
      "cell_type": "markdown",
      "metadata": {},
      "source": [
        "## Pregunta\n",
        "\n",
        "-   ¿Puedes rechazar la hipótesis nula de que las medias de ambos grupos\n",
        "    son iguales al nivel de significancia del 5%?"
      ],
      "id": "b614e604-0fae-47a5-8d53-70c0bbf510c3"
    },
    {
      "cell_type": "code",
      "execution_count": 3,
      "metadata": {},
      "outputs": [],
      "source": [
        "# Respuesta: La prueba ttest_ind evalúa si las medias de dos grupos independientes son significativamente diferentes. En este ejercicio, el valor p obtenido debe compararse con el nivel de significancia (0.05).\n",
        "\n",
        "# Estadístico t: Puede variar en función de los datos generados. Supongamos que el resultado es alrededor de 2.5.\n",
        "# Valor p: Si el valor p es menor que 0.05 (por ejemplo, 0.013), se puede rechazar la hipótesis nula de que las medias de ambos grupos son iguales.\n",
        "# Conclusión: Si el valor p < 0.05, hay evidencia suficiente para afirmar que hay una diferencia significativa entre los grupos de control y tratamiento."
      ],
      "id": "8e52411c"
    },
    {
      "cell_type": "markdown",
      "metadata": {},
      "source": [
        "# E2: Igualdad de medias de dos poblaciones relacionadas (Prueba dependiente)\n",
        "\n",
        "Genera un conjunto de datos que represente los puntajes de los\n",
        "estudiantes antes y después del programa de tutorías y realiza una\n",
        "prueba de hipótesis para evaluar si hubo un cambio significativo."
      ],
      "id": "d26cc217-8c1c-4bef-a862-b37fb77a712d"
    },
    {
      "cell_type": "code",
      "execution_count": 4,
      "metadata": {},
      "outputs": [],
      "source": [
        "#"
      ],
      "id": "b7b7e47b"
    },
    {
      "cell_type": "code",
      "execution_count": 5,
      "metadata": {},
      "outputs": [
        {
          "output_type": "stream",
          "name": "stdout",
          "text": [
            "Estadístico t (relacionada): -12.519379566124485\n",
            "Valor p (relacionada): 4.027191872823173e-22"
          ]
        }
      ],
      "source": [
        "# Generar datos simulados\n",
        "rendimiento_antes = np.random.normal(loc=70, scale=8, size=100)  # Promedio 70\n",
        "rendimiento_despues = rendimiento_antes + np.random.normal(loc=5, scale=5, size=100)  # Incremento promedio de 5 puntos\n",
        "\n",
        "# Prueba t de muestras relacionadas\n",
        "t_stat_rel, p_value_rel = stats.ttest_rel(rendimiento_antes, rendimiento_despues)\n",
        "\n",
        "print(\"Estadístico t (relacionada):\", t_stat_rel)\n",
        "print(\"Valor p (relacionada):\", p_value_rel)"
      ],
      "id": "833cf1e4"
    },
    {
      "cell_type": "markdown",
      "metadata": {},
      "source": [
        "## Pregunta\n",
        "\n",
        "-   ¿Puedes afirmar que el programa de tutorías tuvo un impacto\n",
        "    significativo en el rendimiento de los estudiantes?"
      ],
      "id": "29f4c07c-685a-4178-9d3e-920a29ce45af"
    },
    {
      "cell_type": "code",
      "execution_count": 6,
      "metadata": {},
      "outputs": [],
      "source": [
        "# Respuesta: La prueba ttest_rel evalúa si las medias de dos muestras emparejadas (antes y después) son diferentes.\n",
        "\n",
        "# Estadístico t (relacionada): Por ejemplo, un resultado de 4.2.\n",
        "# Valor p (relacionada): Si el valor p es menor que 0.05 (por ejemplo, 0.00005), se rechaza la hipótesis nula.\n",
        "# Conclusión: Si el valor p < 0.05, se puede afirmar que hubo un cambio significativo en el rendimiento después del programa de tutorías."
      ],
      "id": "15527957"
    },
    {
      "cell_type": "markdown",
      "metadata": {},
      "source": [
        "# E3: Test de hipótesis de una cola\n",
        "\n",
        "Repite el ejercicio 2, pero realiza un test de una cola para verificar\n",
        "si el rendimiento después del programa es mayor que antes."
      ],
      "id": "d76a5232-7200-4d07-b18f-ac25405d5d44"
    },
    {
      "cell_type": "code",
      "execution_count": 7,
      "metadata": {},
      "outputs": [],
      "source": [
        "#"
      ],
      "id": "8171db84"
    },
    {
      "cell_type": "code",
      "execution_count": 8,
      "metadata": {},
      "outputs": [
        {
          "output_type": "stream",
          "name": "stdout",
          "text": [
            "Estadístico t (una cola): -12.519379566124485\n",
            "Valor p (una cola): 2.0135959364115865e-22\n",
            "Hay crecimiento (no necesariamente significativo)"
          ]
        }
      ],
      "source": [
        "# Prueba de una cola (rendimiento después > antes)\n",
        "t_stat_one_tail, p_value_one_tail = stats.ttest_rel(rendimiento_antes, rendimiento_despues)\n",
        "p_value_one_tail /= 2  # Dividir el valor p para obtener la prueba de una cola\n",
        "bool_hay_credimiento = rendimiento_despues.mean() > rendimiento_antes.mean()\n",
        "\n",
        "print(\"Estadístico t (una cola):\", t_stat_one_tail)\n",
        "print(\"Valor p (una cola):\", p_value_one_tail)\n",
        "if bool_hay_credimiento:\n",
        "  print(f\"Hay crecimiento (no necesariamente significativo)\")\n",
        "else:\n",
        "  print(f\"No hay crecimiento (no necesariamente significativo)\")"
      ],
      "id": "7347f50e"
    },
    {
      "cell_type": "markdown",
      "metadata": {},
      "source": [
        "## Pregunta\n",
        "\n",
        "-   ¿Puedes rechazar la hipótesis nula de que el rendimiento después del\n",
        "    programa no es significativamente mayor que el antes al 5% de\n",
        "    significancia?"
      ],
      "id": "dd15ab35-4f55-449d-a7e1-d3f7cc89f12f"
    },
    {
      "cell_type": "code",
      "execution_count": 9,
      "metadata": {},
      "outputs": [],
      "source": [
        "# Respuesta: Este ejercicio usa el resultado del ejercicio 2, pero con una prueba de una cola.\n",
        "\n",
        "# Estadístico t (una cola): Por ejemplo, un resultado de 4.2.\n",
        "# Valor p (una cola): Dividido entre 2, si el valor p es 0.000025 (dividiendo 0.00005 entre 2), entonces es menor que 0.05.\n",
        "# Conclusión: Si el valor p/2 < 0.05, se rechaza la hipótesis nula y se acepta que el rendimiento después del programa es significativamente mayor que antes."
      ],
      "id": "132a145e"
    },
    {
      "cell_type": "markdown",
      "metadata": {},
      "source": [
        "# E4: Test de hipótesis de dos colas aplicado a ingresos por departamento\n",
        "\n",
        "Supongamos que estamos analizando los ingresos generados por dos\n",
        "departamentos de una empresa y queremos determinar si existe una\n",
        "diferencia significativa en los ingresos medios entre ellos. Considera\n",
        "un riesgo de equivocarte al encontrar una diferencia de 0.1%"
      ],
      "id": "a80a3789-49dc-4b84-8de5-1ab0bd41f91d"
    },
    {
      "cell_type": "code",
      "execution_count": 10,
      "metadata": {},
      "outputs": [],
      "source": [
        "import numpy as np\n",
        "from scipy import stats\n",
        "\n",
        "# Generamos datos simulados de ingresos para dos departamentos\n",
        "np.random.seed(42)\n",
        "ingresos_depto_A = np.random.normal(loc=50000, scale=5000, size=100)  # Media de 50,000 con desviación de 5,000\n",
        "ingresos_depto_B = np.random.normal(loc=51000, scale=4800, size=100)  # Media de 51,000 con desviación de 4,800"
      ],
      "id": "2e71bb03"
    },
    {
      "cell_type": "code",
      "execution_count": 11,
      "metadata": {},
      "outputs": [
        {
          "output_type": "stream",
          "name": "stdout",
          "text": [
            "Estadístico t: -2.5222580448653713\n",
            "Valor p: 0.012447620361091918\n",
            "No podemos rechazar la hipótesis nula. No hay evidencia suficiente para afirmar que las medias son diferentes."
          ]
        }
      ],
      "source": [
        "# Realizamos un test de hipótesis de dos colas\n",
        "t_stat, p_val = stats.ttest_ind(ingresos_depto_A, ingresos_depto_B)\n",
        "\n",
        "print(\"Estadístico t:\", t_stat)\n",
        "print(\"Valor p:\", p_val)\n",
        "\n",
        "# Interpretación del resultado\n",
        "alpha = 0.001  # Nivel de significancia\n",
        "if p_val < alpha:\n",
        "    print(\"Rechazamos la hipótesis nula. Existe evidencia para afirmar que las medias son diferentes.\")\n",
        "else:\n",
        "    print(\"No podemos rechazar la hipótesis nula. No hay evidencia suficiente para afirmar que las medias son diferentes.\")"
      ],
      "id": "a05d60b2"
    },
    {
      "cell_type": "markdown",
      "metadata": {},
      "source": [
        "## Pregunta\n",
        "\n",
        "-   ¿Existe evidencia estadística para afirmar que los ingresos medios\n",
        "    entre los departamentos A y B son diferentes?"
      ],
      "id": "d9cc4b1b-aac4-4691-9bb3-f7ec4f9e7b6d"
    },
    {
      "cell_type": "code",
      "execution_count": 12,
      "metadata": {},
      "outputs": [],
      "source": [
        "# - Estadístico t: Este valor indica la magnitud y dirección de la diferencia entre las medias.\n",
        "# - Valor p: Si es menor que 0.05, rechazamos la hipótesis nula y concluimos que hay diferencias significativas entre los ingresos medios de los dos departamentos.\n",
        "\n",
        "# Nota: La respuesta exacta puede variar debido a la generación aleatoria de datos."
      ],
      "id": "d60dd67f"
    }
  ],
  "nbformat": 4,
  "nbformat_minor": 5,
  "metadata": {
    "kernelspec": {
      "name": "python3",
      "display_name": "Python 3 (ipykernel)",
      "language": "python",
      "path": "C:de Chile_MLOps_ejemplo_telecom.venv"
    },
    "language_info": {
      "name": "python",
      "codemirror_mode": {
        "name": "ipython",
        "version": "3"
      },
      "file_extension": ".py",
      "mimetype": "text/x-python",
      "nbconvert_exporter": "python",
      "pygments_lexer": "ipython3",
      "version": "3.12.7"
    }
  }
}