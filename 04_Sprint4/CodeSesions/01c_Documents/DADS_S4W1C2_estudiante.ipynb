{
  "cells": [
    {
      "cell_type": "markdown",
      "metadata": {},
      "source": [
        "# Sprint 4 - Week 1 - Class 2\n",
        "\n",
        "Lambda, apply, transform, map y datetime\n",
        "\n",
        "# E1: Apply partial\n",
        "\n",
        "-   Usando una función lambda, crea una columna llamada\n",
        "    `Confederation_Length` que contenga la longitud del nombre de cada\n",
        "    confederación (el número de caracteres en `Confederation`).\n",
        "-   ¿Hay algo raro? Investiga\n",
        "-   Si tienes problemas, intenta aplicar la función a un subconjunto de\n",
        "    la serie.\n",
        "-   Si te es más fácil, usa una función normal primero y luego\n",
        "    transfórmala a función lambda\n",
        "-   ¿Qué tan necesario es usar una función lambda en este caso?"
      ],
      "id": "dfd187e6-4ddd-429b-90c6-fdca6ae2408c"
    },
    {
      "cell_type": "code",
      "execution_count": 1,
      "metadata": {},
      "outputs": [],
      "source": [
        "# "
      ],
      "id": "4a3d1313"
    },
    {
      "cell_type": "markdown",
      "metadata": {},
      "source": [
        "------------------------------------------------------------------------\n",
        "\n",
        "# E2: Escalamiento usando apply y lambda\n",
        "\n",
        "-   Convierte los valores de `Points_Old_Version` en una escala de 0 a 1\n",
        "    dividiendo cada valor por el máximo de la columna. Usa `apply` para\n",
        "    realizar esta transformación y guarda el resultado en una nueva\n",
        "    columna llamada `Points_Scaled`.\n",
        "-   ¿Cómo te aseguras de no considerar nulos al calcular el máximo?"
      ],
      "id": "b3db6a75-6252-4e5f-8961-7da74b4fdc97"
    },
    {
      "cell_type": "code",
      "execution_count": 3,
      "metadata": {},
      "outputs": [],
      "source": [
        "# "
      ],
      "id": "cbade99a"
    },
    {
      "cell_type": "markdown",
      "metadata": {},
      "source": [
        "------------------------------------------------------------------------\n",
        "\n",
        "# E3: Uso de Transform con funciones predefinidas\n",
        "\n",
        "-   Crea una columna llamada `Confederation_Avg_Points` que contenga el\n",
        "    promedio de `Points_Old_Version` para cada confederación usando\n",
        "    `transform`. Esto permitirá ver los puntos promedio en función de la\n",
        "    confederación de cada país.\n",
        "-   Aquí podrías volver a utilizar funciones lambda, pero no lo hagas.\n",
        "    Llama a funciones ya creadas de alguna librería de python."
      ],
      "id": "94ef4771-28c9-4d95-96cf-7e58dcdbe47d"
    },
    {
      "cell_type": "code",
      "execution_count": 5,
      "metadata": {},
      "outputs": [],
      "source": [
        "# "
      ],
      "id": "3d4764a8"
    },
    {
      "cell_type": "markdown",
      "metadata": {},
      "source": [
        "------------------------------------------------------------------------\n",
        "\n",
        "# E4: Uso de Map\n",
        "\n",
        "-   Crea un diccionario que asigne un número a cada confederación\n",
        "    (`UEFA` = 1, `CONMEBOL` = 2, etc.). Usa `map` para convertir los\n",
        "    valores de la columna `Confederation` en estos números y guarda el\n",
        "    resultado en una nueva columna llamada `Confederation_Code`."
      ],
      "id": "002b940b-588f-4538-af46-6b29f1b2df1b"
    },
    {
      "cell_type": "code",
      "execution_count": 7,
      "metadata": {},
      "outputs": [],
      "source": [
        "# "
      ],
      "id": "e08ca5b8"
    },
    {
      "cell_type": "markdown",
      "metadata": {},
      "source": [
        "------------------------------------------------------------------------\n",
        "\n",
        "# E5: Uso de agg\n",
        "\n",
        "-   Usa `agg` para calcular, por cada confederación, el promedio y el\n",
        "    valor máximo de las columnas `Points_Old_Version` y\n",
        "    `Points_New_Version`. Guarda los resultados en un nuevo DataFrame\n",
        "    llamado `confederation_stats`."
      ],
      "id": "74f4c82d-1c8f-4e04-a46e-5257b2eaa816"
    },
    {
      "cell_type": "code",
      "execution_count": 9,
      "metadata": {},
      "outputs": [],
      "source": [
        "# "
      ],
      "id": "471c7f22"
    },
    {
      "cell_type": "markdown",
      "metadata": {},
      "source": [
        "------------------------------------------------------------------------\n",
        "\n",
        "# E6: Datetime\n",
        "\n",
        "-   Convierte la columna `Rank_Date` al formato de fecha `datetime` y\n",
        "    extrae el año en una nueva columna llamada `Rank_Year`. Luego,\n",
        "    calcula el número de días desde la fecha de clasificación hasta el\n",
        "    día de hoy, guardando el resultado en una columna llamada\n",
        "    `Days_Since_Rank`."
      ],
      "id": "aad06cff-31f4-40af-8fc2-e3d0ec571db2"
    },
    {
      "cell_type": "code",
      "execution_count": 11,
      "metadata": {},
      "outputs": [],
      "source": [
        "# "
      ],
      "id": "33b2936a"
    },
    {
      "cell_type": "markdown",
      "metadata": {},
      "source": [
        "Para más detalles sobre la diferencia entre apply, transform, map y agg,\n",
        "puedes revisar estos ertículos:\n",
        "\n",
        "-   https://towardsdatascience.com/difference-between-apply-and-transform-in-pandas-242e5cf32705\n",
        "-   https://towardsdatascience.com/pandas-apply-map-or-transform-dd931659e9cf"
      ],
      "id": "4f7afa99-46de-42d4-8e10-d0cdf5074d59"
    }
  ],
  "nbformat": 4,
  "nbformat_minor": 5,
  "metadata": {
    "kernelspec": {
      "name": "python3",
      "display_name": "Python 3 (ipykernel)",
      "language": "python",
      "path": "C:de Chile_MLOps_ejemplo_telecom.venv"
    }
  }
}