{
  "cells": [
    {
      "cell_type": "markdown",
      "metadata": {},
      "source": [
        "# Sprint 4 - Week 1 - Class 1\n",
        "\n",
        "Apply y datetime\n",
        "\n",
        "# Ejercicios\n",
        "\n",
        "## E1\n",
        "\n",
        "Supongamos que tienes un DataFrame que contiene las calificaciones de\n",
        "tres exámenes para varios estudiantes. Quieres calcular el promedio de\n",
        "cada estudiante sumando las tres calificaciones y dividiendo por tres.\n",
        "Usa apply() para calcular el promedio de los exámenes para cada fila (es\n",
        "decir, para cada estudiante) y crea una nueva columna llamada promedio."
      ],
      "id": "e3656683-9264-4219-9844-88889927d0dc"
    },
    {
      "cell_type": "code",
      "execution_count": 1,
      "metadata": {},
      "outputs": [],
      "source": [
        "import pandas as pd\n",
        "\n",
        "# Crear el DataFrame\n",
        "df = pd.DataFrame({\n",
        "    'nombre': ['Ana', 'Carlos', 'Marta', 'Luis'],\n",
        "    'examen_1': [85, 90, 78, 92],\n",
        "    'examen_2': [88, 85, 84, 95],\n",
        "    'examen_3': [90, 87, 80, 88]\n",
        "})"
      ],
      "id": "de62dbdc"
    },
    {
      "cell_type": "markdown",
      "metadata": {},
      "source": [
        "## E2\n",
        "\n",
        "Tienes un DataFrame con precios de productos y quieres aplicar un\n",
        "descuento del 10% solo a los productos cuyo precio sea mayor a 180. Usa\n",
        "apply() para reducir el valor de la columna precio en un 10% solo si el\n",
        "precio es mayor a 180, y crea una nueva columna llamada\n",
        "precio_con_descuento"
      ],
      "id": "f3786478-c8c2-4e47-8116-b40416c93caa"
    },
    {
      "cell_type": "code",
      "execution_count": 3,
      "metadata": {},
      "outputs": [],
      "source": [
        "import pandas as pd\n",
        "\n",
        "# Crear el DataFrame\n",
        "df = pd.DataFrame({\n",
        "    'producto': ['A', 'B', 'C', 'D'],\n",
        "    'precio': [100, 150, 200, 250]\n",
        "})"
      ],
      "id": "33ae2373"
    },
    {
      "cell_type": "markdown",
      "metadata": {},
      "source": [
        "## E3\n",
        "\n",
        "Tienes un string que representa una fecha y hora. Transforma ese string\n",
        "a datetime con los siguientes formatos:\n",
        "\n",
        "-   Año/Mes/Dia Hora:Minuto:Segundo\n",
        "-   Dia-Mes-Año Hora:Minuto"
      ],
      "id": "c68629a8-d700-497c-888a-8e894ddc6673"
    },
    {
      "cell_type": "code",
      "execution_count": 5,
      "metadata": {},
      "outputs": [],
      "source": [
        "from datetime import datetime\n",
        "\n",
        "# String de fecha-hora\n",
        "fecha_hora_str = \"2024/09/25 14:30:00\""
      ],
      "id": "80e6b6cf"
    },
    {
      "cell_type": "markdown",
      "metadata": {},
      "source": [
        "## E4\n",
        "\n",
        "Convierte la columna “fecha_hora” del dataframe en datetime,\n",
        "especificando el formato *Dia-Mes-Año Hora:Minuto* y extrae la fecha,\n",
        "hora, mes y año como nuevas columnas del dataframe"
      ],
      "id": "595db23b-4b1f-442b-bc4f-4bf00163cc49"
    },
    {
      "cell_type": "code",
      "execution_count": 7,
      "metadata": {},
      "outputs": [],
      "source": [
        "import pandas as pd\n",
        "\n",
        "# Crear un DataFrame de ejemplo\n",
        "data = {\n",
        "    'fecha_hora': ['25-09-2024 14:30', '15-08-2024 09:15', '05-07-2024 22:45']\n",
        "}\n",
        "df = pd.DataFrame(data)"
      ],
      "id": "0b3b62e5"
    },
    {
      "cell_type": "markdown",
      "metadata": {},
      "source": [
        "## E5\n",
        "\n",
        "Resuelve el mismo ejercicio anterior, pero utilizando el método apply\n",
        "para extraer la información"
      ],
      "id": "385527e1-0d82-4042-8fc4-6cb9ac8efa64"
    },
    {
      "cell_type": "code",
      "execution_count": 9,
      "metadata": {},
      "outputs": [],
      "source": [
        "# "
      ],
      "id": "6b211fa3"
    }
  ],
  "nbformat": 4,
  "nbformat_minor": 5,
  "metadata": {
    "kernelspec": {
      "name": "python3",
      "display_name": "Python 3 (ipykernel)",
      "language": "python",
      "path": "C:"
    },
    "language_info": {
      "name": "python",
      "codemirror_mode": {
        "name": "ipython",
        "version": "3"
      },
      "file_extension": ".py",
      "mimetype": "text/x-python",
      "nbconvert_exporter": "python",
      "pygments_lexer": "ipython3",
      "version": "3.10.6"
    }
  }
}