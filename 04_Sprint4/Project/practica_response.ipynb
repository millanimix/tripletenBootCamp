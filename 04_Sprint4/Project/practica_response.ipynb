{
 "cells": [
  {
   "cell_type": "markdown",
   "id": "3Xg_RQfnafXz",
   "metadata": {
    "id": "3Xg_RQfnafXz"
   },
   "source": [
    "# ¡Llena ese carrito!"
   ]
  },
  {
   "cell_type": "markdown",
   "id": "mhIvmmkW414q",
   "metadata": {
    "id": "mhIvmmkW414q"
   },
   "source": [
    "# Introducción\n",
    "\n",
    "Instacart es una plataforma de entregas de comestibles donde la clientela puede registrar un pedido y hacer que se lo entreguen, similar a Uber Eats y Door Dash.\n",
    "El conjunto de datos que te hemos proporcionado tiene modificaciones del original. Redujimos el tamaño del conjunto para que tus cálculos se hicieran más rápido e introdujimos valores ausentes y duplicados. Tuvimos cuidado de conservar las distribuciones de los datos originales cuando hicimos los cambios.\n",
    "\n",
    "Debes completar tres pasos. Para cada uno de ellos, escribe una breve introducción que refleje con claridad cómo pretendes resolver cada paso, y escribe párrafos explicatorios que justifiquen tus decisiones al tiempo que avanzas en tu solución.  También escribe una conclusión que resuma tus hallazgos y elecciones.\n"
   ]
  },
  {
   "cell_type": "markdown",
   "id": "3MbyzpOQZ5Or",
   "metadata": {
    "id": "3MbyzpOQZ5Or"
   },
   "source": [
    "## Diccionario de datos\n",
    "\n",
    "Hay cinco tablas en el conjunto de datos, y tendrás que usarlas todas para hacer el preprocesamiento de datos y el análisis exploratorio de datos. A continuación se muestra un diccionario de datos que enumera las columnas de cada tabla y describe los datos que contienen.\n",
    "\n",
    "- `instacart_orders.csv`: cada fila corresponde a un pedido en la aplicación Instacart.\n",
    "    - `'order_id'`: número de ID que identifica de manera única cada pedido.\n",
    "    - `'user_id'`: número de ID que identifica de manera única la cuenta de cada cliente.\n",
    "    - `'order_number'`: el número de veces que este cliente ha hecho un pedido.\n",
    "    - `'order_dow'`: día de la semana en que se hizo el pedido (0 si es domingo).\n",
    "    - `'order_hour_of_day'`: hora del día en que se hizo el pedido.\n",
    "    - `'days_since_prior_order'`: número de días transcurridos desde que este cliente hizo su pedido anterior.\n",
    "- `products.csv`: cada fila corresponde a un producto único que pueden comprar los clientes.\n",
    "    - `'product_id'`: número ID que identifica de manera única cada producto.\n",
    "    - `'product_name'`: nombre del producto.\n",
    "    - `'aisle_id'`: número ID que identifica de manera única cada categoría de pasillo de víveres.\n",
    "    - `'department_id'`: número ID que identifica de manera única cada departamento de víveres.\n",
    "- `order_products.csv`: cada fila corresponde a un artículo pedido en un pedido.\n",
    "    - `'order_id'`: número de ID que identifica de manera única cada pedido.\n",
    "    - `'product_id'`: número ID que identifica de manera única cada producto.\n",
    "    - `'add_to_cart_order'`: el orden secuencial en el que se añadió cada artículo en el carrito.\n",
    "    - `'reordered'`: 0 si el cliente nunca ha pedido este producto antes, 1 si lo ha pedido.\n",
    "- `aisles.csv`\n",
    "    - `'aisle_id'`: número ID que identifica de manera única cada categoría de pasillo de víveres.\n",
    "    - `'aisle'`: nombre del pasillo.\n",
    "- `departments.csv`\n",
    "    - `'department_id'`: número ID que identifica de manera única cada departamento de víveres.\n",
    "    - `'department'`: nombre del departamento."
   ]
  },
  {
   "cell_type": "markdown",
   "id": "n3Ha_cNSZ8lK",
   "metadata": {
    "id": "n3Ha_cNSZ8lK"
   },
   "source": [
    "# Paso 1. Descripción de los datos\n",
    "\n",
    "Lee los archivos de datos (`/datasets/instacart_orders.csv`, `/datasets/products.csv`, `/datasets/aisles.csv`, `/datasets/departments.csv` y `/datasets/order_products.csv`) con `pd.read_csv()` usando los parámetros adecuados para leer los datos correctamente. Verifica la información para cada DataFrame creado.\n"
   ]
  },
  {
   "cell_type": "markdown",
   "id": "OmlQPLlyaAfR",
   "metadata": {
    "id": "OmlQPLlyaAfR"
   },
   "source": [
    "## Plan de solución\n",
    "\n",
    "Escribe aquí tu plan de solución para el Paso 1. Descripción de los datos.\n",
    "\n",
    "**R:**\n",
    "1. Revisar el archivo para conocer la estructura del contenido y utilizar las propediades adecuadas para leerlo\n",
    "2. Usar el método info() para conocer el tipo de datos, la cantidad de información, el total de columnas y qué columnas tienen datos nulos\n",
    "3. Imprimir una muestra de los datos con el método head() para conocer el tipo de información que contiene cada columna"
   ]
  },
  {
   "cell_type": "code",
   "execution_count": 314,
   "id": "fbf1adab",
   "metadata": {
    "id": "fbf1adab"
   },
   "outputs": [],
   "source": [
    "# importar librerías\n",
    "import pandas as pd\n",
    "import matplotlib.pyplot as plt"
   ]
  },
  {
   "cell_type": "code",
   "execution_count": 315,
   "id": "ad36396d",
   "metadata": {
    "id": "ad36396d"
   },
   "outputs": [],
   "source": [
    "# leer conjuntos de datos en los DataFrames\n",
    "df_instacart_orders = pd.read_csv('datasets/instacart_orders.csv', sep=';')\n",
    "df_products = pd.read_csv('datasets/products.csv', sep=';')\n",
    "df_order_products = pd.read_csv('datasets/order_products.csv', sep=';')\n",
    "df_aisles = pd.read_csv('datasets/aisles.csv', sep=';')\n",
    "df_departments = pd.read_csv('datasets/departments.csv', sep=';')"
   ]
  },
  {
   "cell_type": "markdown",
   "id": "315a207b",
   "metadata": {},
   "source": [
    "### DataFrame: `df_instacart_orders`"
   ]
  },
  {
   "cell_type": "code",
   "execution_count": 316,
   "id": "ad6a1efa",
   "metadata": {
    "id": "ad6a1efa"
   },
   "outputs": [
    {
     "name": "stdout",
     "output_type": "stream",
     "text": [
      "<class 'pandas.core.frame.DataFrame'>\n",
      "RangeIndex: 478967 entries, 0 to 478966\n",
      "Data columns (total 6 columns):\n",
      " #   Column                  Non-Null Count   Dtype  \n",
      "---  ------                  --------------   -----  \n",
      " 0   order_id                478967 non-null  int64  \n",
      " 1   user_id                 478967 non-null  int64  \n",
      " 2   order_number            478967 non-null  int64  \n",
      " 3   order_dow               478967 non-null  int64  \n",
      " 4   order_hour_of_day       478967 non-null  int64  \n",
      " 5   days_since_prior_order  450148 non-null  float64\n",
      "dtypes: float64(1), int64(5)\n",
      "memory usage: 21.9 MB\n"
     ]
    },
    {
     "data": {
      "text/html": [
       "<div>\n",
       "<style scoped>\n",
       "    .dataframe tbody tr th:only-of-type {\n",
       "        vertical-align: middle;\n",
       "    }\n",
       "\n",
       "    .dataframe tbody tr th {\n",
       "        vertical-align: top;\n",
       "    }\n",
       "\n",
       "    .dataframe thead th {\n",
       "        text-align: right;\n",
       "    }\n",
       "</style>\n",
       "<table border=\"1\" class=\"dataframe\">\n",
       "  <thead>\n",
       "    <tr style=\"text-align: right;\">\n",
       "      <th></th>\n",
       "      <th>order_id</th>\n",
       "      <th>user_id</th>\n",
       "      <th>order_number</th>\n",
       "      <th>order_dow</th>\n",
       "      <th>order_hour_of_day</th>\n",
       "      <th>days_since_prior_order</th>\n",
       "    </tr>\n",
       "  </thead>\n",
       "  <tbody>\n",
       "    <tr>\n",
       "      <th>0</th>\n",
       "      <td>1515936</td>\n",
       "      <td>183418</td>\n",
       "      <td>11</td>\n",
       "      <td>6</td>\n",
       "      <td>13</td>\n",
       "      <td>30.0</td>\n",
       "    </tr>\n",
       "    <tr>\n",
       "      <th>1</th>\n",
       "      <td>1690866</td>\n",
       "      <td>163593</td>\n",
       "      <td>5</td>\n",
       "      <td>5</td>\n",
       "      <td>12</td>\n",
       "      <td>9.0</td>\n",
       "    </tr>\n",
       "    <tr>\n",
       "      <th>2</th>\n",
       "      <td>1454967</td>\n",
       "      <td>39980</td>\n",
       "      <td>4</td>\n",
       "      <td>5</td>\n",
       "      <td>19</td>\n",
       "      <td>2.0</td>\n",
       "    </tr>\n",
       "    <tr>\n",
       "      <th>3</th>\n",
       "      <td>1768857</td>\n",
       "      <td>82516</td>\n",
       "      <td>56</td>\n",
       "      <td>0</td>\n",
       "      <td>20</td>\n",
       "      <td>10.0</td>\n",
       "    </tr>\n",
       "    <tr>\n",
       "      <th>4</th>\n",
       "      <td>3007858</td>\n",
       "      <td>196724</td>\n",
       "      <td>2</td>\n",
       "      <td>4</td>\n",
       "      <td>12</td>\n",
       "      <td>17.0</td>\n",
       "    </tr>\n",
       "  </tbody>\n",
       "</table>\n",
       "</div>"
      ],
      "text/plain": [
       "   order_id  user_id  order_number  order_dow  order_hour_of_day  \\\n",
       "0   1515936   183418            11          6                 13   \n",
       "1   1690866   163593             5          5                 12   \n",
       "2   1454967    39980             4          5                 19   \n",
       "3   1768857    82516            56          0                 20   \n",
       "4   3007858   196724             2          4                 12   \n",
       "\n",
       "   days_since_prior_order  \n",
       "0                    30.0  \n",
       "1                     9.0  \n",
       "2                     2.0  \n",
       "3                    10.0  \n",
       "4                    17.0  "
      ]
     },
     "execution_count": 316,
     "metadata": {},
     "output_type": "execute_result"
    }
   ],
   "source": [
    "# mostrar información del DataFrame df_instacart_orders\n",
    "df_instacart_orders.info()\n",
    "# mostrar las primeras filas del DataFrame df_instacart_orders\n",
    "df_instacart_orders.head()"
   ]
  },
  {
   "cell_type": "markdown",
   "id": "af39d63a",
   "metadata": {},
   "source": [
    "### DataFrame: `df_products`"
   ]
  },
  {
   "cell_type": "code",
   "execution_count": 317,
   "id": "5130e05e",
   "metadata": {
    "id": "5130e05e"
   },
   "outputs": [
    {
     "name": "stdout",
     "output_type": "stream",
     "text": [
      "<class 'pandas.core.frame.DataFrame'>\n",
      "RangeIndex: 49694 entries, 0 to 49693\n",
      "Data columns (total 4 columns):\n",
      " #   Column         Non-Null Count  Dtype \n",
      "---  ------         --------------  ----- \n",
      " 0   product_id     49694 non-null  int64 \n",
      " 1   product_name   48436 non-null  object\n",
      " 2   aisle_id       49694 non-null  int64 \n",
      " 3   department_id  49694 non-null  int64 \n",
      "dtypes: int64(3), object(1)\n",
      "memory usage: 1.5+ MB\n"
     ]
    },
    {
     "data": {
      "text/html": [
       "<div>\n",
       "<style scoped>\n",
       "    .dataframe tbody tr th:only-of-type {\n",
       "        vertical-align: middle;\n",
       "    }\n",
       "\n",
       "    .dataframe tbody tr th {\n",
       "        vertical-align: top;\n",
       "    }\n",
       "\n",
       "    .dataframe thead th {\n",
       "        text-align: right;\n",
       "    }\n",
       "</style>\n",
       "<table border=\"1\" class=\"dataframe\">\n",
       "  <thead>\n",
       "    <tr style=\"text-align: right;\">\n",
       "      <th></th>\n",
       "      <th>product_id</th>\n",
       "      <th>product_name</th>\n",
       "      <th>aisle_id</th>\n",
       "      <th>department_id</th>\n",
       "    </tr>\n",
       "  </thead>\n",
       "  <tbody>\n",
       "    <tr>\n",
       "      <th>0</th>\n",
       "      <td>1</td>\n",
       "      <td>Chocolate Sandwich Cookies</td>\n",
       "      <td>61</td>\n",
       "      <td>19</td>\n",
       "    </tr>\n",
       "    <tr>\n",
       "      <th>1</th>\n",
       "      <td>2</td>\n",
       "      <td>All-Seasons Salt</td>\n",
       "      <td>104</td>\n",
       "      <td>13</td>\n",
       "    </tr>\n",
       "    <tr>\n",
       "      <th>2</th>\n",
       "      <td>3</td>\n",
       "      <td>Robust Golden Unsweetened Oolong Tea</td>\n",
       "      <td>94</td>\n",
       "      <td>7</td>\n",
       "    </tr>\n",
       "    <tr>\n",
       "      <th>3</th>\n",
       "      <td>4</td>\n",
       "      <td>Smart Ones Classic Favorites Mini Rigatoni Wit...</td>\n",
       "      <td>38</td>\n",
       "      <td>1</td>\n",
       "    </tr>\n",
       "    <tr>\n",
       "      <th>4</th>\n",
       "      <td>5</td>\n",
       "      <td>Green Chile Anytime Sauce</td>\n",
       "      <td>5</td>\n",
       "      <td>13</td>\n",
       "    </tr>\n",
       "  </tbody>\n",
       "</table>\n",
       "</div>"
      ],
      "text/plain": [
       "   product_id                                       product_name  aisle_id  \\\n",
       "0           1                         Chocolate Sandwich Cookies        61   \n",
       "1           2                                   All-Seasons Salt       104   \n",
       "2           3               Robust Golden Unsweetened Oolong Tea        94   \n",
       "3           4  Smart Ones Classic Favorites Mini Rigatoni Wit...        38   \n",
       "4           5                          Green Chile Anytime Sauce         5   \n",
       "\n",
       "   department_id  \n",
       "0             19  \n",
       "1             13  \n",
       "2              7  \n",
       "3              1  \n",
       "4             13  "
      ]
     },
     "execution_count": 317,
     "metadata": {},
     "output_type": "execute_result"
    }
   ],
   "source": [
    "# mostrar información del DataFrame df_products\n",
    "df_products.info()\n",
    "# mostrar las primeras filas del DataFrame df_products\n",
    "df_products.head()"
   ]
  },
  {
   "cell_type": "markdown",
   "id": "569899e4",
   "metadata": {},
   "source": [
    "### DataFrame: `df_order_prodcts`"
   ]
  },
  {
   "cell_type": "code",
   "execution_count": 318,
   "id": "d8370c05",
   "metadata": {
    "id": "d8370c05"
   },
   "outputs": [
    {
     "name": "stdout",
     "output_type": "stream",
     "text": [
      "<class 'pandas.core.frame.DataFrame'>\n",
      "RangeIndex: 4545007 entries, 0 to 4545006\n",
      "Data columns (total 4 columns):\n",
      " #   Column             Dtype  \n",
      "---  ------             -----  \n",
      " 0   order_id           int64  \n",
      " 1   product_id         int64  \n",
      " 2   add_to_cart_order  float64\n",
      " 3   reordered          int64  \n",
      "dtypes: float64(1), int64(3)\n",
      "memory usage: 138.7 MB\n"
     ]
    },
    {
     "data": {
      "text/html": [
       "<div>\n",
       "<style scoped>\n",
       "    .dataframe tbody tr th:only-of-type {\n",
       "        vertical-align: middle;\n",
       "    }\n",
       "\n",
       "    .dataframe tbody tr th {\n",
       "        vertical-align: top;\n",
       "    }\n",
       "\n",
       "    .dataframe thead th {\n",
       "        text-align: right;\n",
       "    }\n",
       "</style>\n",
       "<table border=\"1\" class=\"dataframe\">\n",
       "  <thead>\n",
       "    <tr style=\"text-align: right;\">\n",
       "      <th></th>\n",
       "      <th>order_id</th>\n",
       "      <th>product_id</th>\n",
       "      <th>add_to_cart_order</th>\n",
       "      <th>reordered</th>\n",
       "    </tr>\n",
       "  </thead>\n",
       "  <tbody>\n",
       "    <tr>\n",
       "      <th>0</th>\n",
       "      <td>2141543</td>\n",
       "      <td>11440</td>\n",
       "      <td>17.0</td>\n",
       "      <td>0</td>\n",
       "    </tr>\n",
       "    <tr>\n",
       "      <th>1</th>\n",
       "      <td>567889</td>\n",
       "      <td>1560</td>\n",
       "      <td>1.0</td>\n",
       "      <td>1</td>\n",
       "    </tr>\n",
       "    <tr>\n",
       "      <th>2</th>\n",
       "      <td>2261212</td>\n",
       "      <td>26683</td>\n",
       "      <td>1.0</td>\n",
       "      <td>1</td>\n",
       "    </tr>\n",
       "    <tr>\n",
       "      <th>3</th>\n",
       "      <td>491251</td>\n",
       "      <td>8670</td>\n",
       "      <td>35.0</td>\n",
       "      <td>1</td>\n",
       "    </tr>\n",
       "    <tr>\n",
       "      <th>4</th>\n",
       "      <td>2571142</td>\n",
       "      <td>1940</td>\n",
       "      <td>5.0</td>\n",
       "      <td>1</td>\n",
       "    </tr>\n",
       "  </tbody>\n",
       "</table>\n",
       "</div>"
      ],
      "text/plain": [
       "   order_id  product_id  add_to_cart_order  reordered\n",
       "0   2141543       11440               17.0          0\n",
       "1    567889        1560                1.0          1\n",
       "2   2261212       26683                1.0          1\n",
       "3    491251        8670               35.0          1\n",
       "4   2571142        1940                5.0          1"
      ]
     },
     "execution_count": 318,
     "metadata": {},
     "output_type": "execute_result"
    }
   ],
   "source": [
    "# mostrar información del DataFrame df_order_products\n",
    "df_order_products.info()\n",
    "# mostrar las primeras filas del DataFrame df_order_products\n",
    "df_order_products.head()"
   ]
  },
  {
   "cell_type": "markdown",
   "id": "14a1e908",
   "metadata": {},
   "source": [
    "### DataFrame: `df_aisles`"
   ]
  },
  {
   "cell_type": "code",
   "execution_count": 319,
   "id": "59e2090f",
   "metadata": {
    "id": "59e2090f"
   },
   "outputs": [
    {
     "name": "stdout",
     "output_type": "stream",
     "text": [
      "<class 'pandas.core.frame.DataFrame'>\n",
      "RangeIndex: 134 entries, 0 to 133\n",
      "Data columns (total 2 columns):\n",
      " #   Column    Non-Null Count  Dtype \n",
      "---  ------    --------------  ----- \n",
      " 0   aisle_id  134 non-null    int64 \n",
      " 1   aisle     134 non-null    object\n",
      "dtypes: int64(1), object(1)\n",
      "memory usage: 2.2+ KB\n"
     ]
    },
    {
     "data": {
      "text/html": [
       "<div>\n",
       "<style scoped>\n",
       "    .dataframe tbody tr th:only-of-type {\n",
       "        vertical-align: middle;\n",
       "    }\n",
       "\n",
       "    .dataframe tbody tr th {\n",
       "        vertical-align: top;\n",
       "    }\n",
       "\n",
       "    .dataframe thead th {\n",
       "        text-align: right;\n",
       "    }\n",
       "</style>\n",
       "<table border=\"1\" class=\"dataframe\">\n",
       "  <thead>\n",
       "    <tr style=\"text-align: right;\">\n",
       "      <th></th>\n",
       "      <th>aisle_id</th>\n",
       "      <th>aisle</th>\n",
       "    </tr>\n",
       "  </thead>\n",
       "  <tbody>\n",
       "    <tr>\n",
       "      <th>0</th>\n",
       "      <td>1</td>\n",
       "      <td>prepared soups salads</td>\n",
       "    </tr>\n",
       "    <tr>\n",
       "      <th>1</th>\n",
       "      <td>2</td>\n",
       "      <td>specialty cheeses</td>\n",
       "    </tr>\n",
       "    <tr>\n",
       "      <th>2</th>\n",
       "      <td>3</td>\n",
       "      <td>energy granola bars</td>\n",
       "    </tr>\n",
       "    <tr>\n",
       "      <th>3</th>\n",
       "      <td>4</td>\n",
       "      <td>instant foods</td>\n",
       "    </tr>\n",
       "    <tr>\n",
       "      <th>4</th>\n",
       "      <td>5</td>\n",
       "      <td>marinades meat preparation</td>\n",
       "    </tr>\n",
       "  </tbody>\n",
       "</table>\n",
       "</div>"
      ],
      "text/plain": [
       "   aisle_id                       aisle\n",
       "0         1       prepared soups salads\n",
       "1         2           specialty cheeses\n",
       "2         3         energy granola bars\n",
       "3         4               instant foods\n",
       "4         5  marinades meat preparation"
      ]
     },
     "execution_count": 319,
     "metadata": {},
     "output_type": "execute_result"
    }
   ],
   "source": [
    "# mostrar información del DataFrame df_aisles\n",
    "df_aisles.info()\n",
    "# mostrar las primeras filas del DataFrame df_aisles\n",
    "df_aisles.head()"
   ]
  },
  {
   "cell_type": "markdown",
   "id": "b5332487",
   "metadata": {},
   "source": [
    "### DataFrame: `df_departments`"
   ]
  },
  {
   "cell_type": "code",
   "execution_count": 320,
   "id": "6fc81694",
   "metadata": {
    "id": "6fc81694"
   },
   "outputs": [
    {
     "name": "stdout",
     "output_type": "stream",
     "text": [
      "<class 'pandas.core.frame.DataFrame'>\n",
      "RangeIndex: 21 entries, 0 to 20\n",
      "Data columns (total 2 columns):\n",
      " #   Column         Non-Null Count  Dtype \n",
      "---  ------         --------------  ----- \n",
      " 0   department_id  21 non-null     int64 \n",
      " 1   department     21 non-null     object\n",
      "dtypes: int64(1), object(1)\n",
      "memory usage: 468.0+ bytes\n"
     ]
    },
    {
     "data": {
      "text/html": [
       "<div>\n",
       "<style scoped>\n",
       "    .dataframe tbody tr th:only-of-type {\n",
       "        vertical-align: middle;\n",
       "    }\n",
       "\n",
       "    .dataframe tbody tr th {\n",
       "        vertical-align: top;\n",
       "    }\n",
       "\n",
       "    .dataframe thead th {\n",
       "        text-align: right;\n",
       "    }\n",
       "</style>\n",
       "<table border=\"1\" class=\"dataframe\">\n",
       "  <thead>\n",
       "    <tr style=\"text-align: right;\">\n",
       "      <th></th>\n",
       "      <th>department_id</th>\n",
       "      <th>department</th>\n",
       "    </tr>\n",
       "  </thead>\n",
       "  <tbody>\n",
       "    <tr>\n",
       "      <th>0</th>\n",
       "      <td>1</td>\n",
       "      <td>frozen</td>\n",
       "    </tr>\n",
       "    <tr>\n",
       "      <th>1</th>\n",
       "      <td>2</td>\n",
       "      <td>other</td>\n",
       "    </tr>\n",
       "    <tr>\n",
       "      <th>2</th>\n",
       "      <td>3</td>\n",
       "      <td>bakery</td>\n",
       "    </tr>\n",
       "    <tr>\n",
       "      <th>3</th>\n",
       "      <td>4</td>\n",
       "      <td>produce</td>\n",
       "    </tr>\n",
       "    <tr>\n",
       "      <th>4</th>\n",
       "      <td>5</td>\n",
       "      <td>alcohol</td>\n",
       "    </tr>\n",
       "  </tbody>\n",
       "</table>\n",
       "</div>"
      ],
      "text/plain": [
       "   department_id department\n",
       "0              1     frozen\n",
       "1              2      other\n",
       "2              3     bakery\n",
       "3              4    produce\n",
       "4              5    alcohol"
      ]
     },
     "execution_count": 320,
     "metadata": {},
     "output_type": "execute_result"
    }
   ],
   "source": [
    "# mostrar información del DataFrame df_departments\n",
    "df_departments.info()\n",
    "# mostrar las primeras filas del DataFrame df_departments\n",
    "df_departments.head()"
   ]
  },
  {
   "cell_type": "markdown",
   "id": "t75BD19oaR5f",
   "metadata": {
    "id": "t75BD19oaR5f"
   },
   "source": [
    "## Conclusiones\n",
    "\n",
    "- ***df_instacart_orders:*** 478967 filas, days_since_prior_order tiene valores nulos. order_id y user_is son de tipo int64 y podría ser mejor strings ya que no se hacen operaciones con estos datos.\n",
    "- ***df_products:*** 49694 filas, product_name tiene valores nulos. product_id, aisle_id y department_id son de tipo int64 y podría ser mejor strings ya que no se hacen operaciones con estos datos.\n",
    "- ***df_order_products:*** 4545007 filas, add_to_cart_order tiene valores nulos. order_id y product_id son de tipo int64 y podría ser mejor strings ya que no se hacen operaciones con estos datos. reordered es una variable categorica\n",
    "- ***df_aisles:*** 131 filas, aisle_id es de tipo int64 y podría ser mejor string ya que no se hacen operaciones con estos datos.\n",
    "- ***df_departments:*** 27 filas, department_id es de tipo int64 y podría ser mejor string ya que no se hacen operaciones con estos datos."
   ]
  },
  {
   "cell_type": "markdown",
   "id": "8RJHqxVmaVsF",
   "metadata": {
    "id": "8RJHqxVmaVsF"
   },
   "source": [
    "# Paso 2. Preprocesamiento de los datos\n",
    "\n",
    "Preprocesa los datos de la siguiente manera:\n",
    "\n",
    "- Verifica y corrige los tipos de datos (por ejemplo, asegúrate de que las columnas de ID sean números enteros).\n",
    "- Identifica y completa los valores ausentes.\n",
    "- Identifica y elimina los valores duplicados.\n",
    "\n",
    "Asegúrate de explicar qué tipos de valores ausentes y duplicados encontraste, cómo los completaste o eliminaste y por qué usaste esos métodos. ¿Por qué crees que estos valores ausentes y duplicados pueden haber estado presentes en el conjunto de datos?"
   ]
  },
  {
   "cell_type": "markdown",
   "id": "p6poABZQaZYb",
   "metadata": {
    "id": "p6poABZQaZYb"
   },
   "source": [
    "## Plan de solución\n",
    "\n",
    "Escribe aquí tu plan para el Paso 2. Preprocesamiento de los datos.\n",
    "\n",
    "**R:**\n",
    "1. Ajustar Tipos de datos, en caso de ser necesario\n",
    "2. Limpiar valores duplicados, tanto explicitos e implicitos.\n",
    "3. Identificar los valores ausente, tomar una decisión de que se puede hacer con ello, completarlos de otros datos, deducirlos a partir de otros datos o eliminarlos. Lo importante es no perder la consistendia de los datos actuales"
   ]
  },
  {
   "cell_type": "markdown",
   "id": "07357848-dc64-4156-9cc3-01ff4365226d",
   "metadata": {
    "id": "07357848-dc64-4156-9cc3-01ff4365226d"
   },
   "source": [
    "## Encuentra y elimina los valores duplicados (y describe cómo tomaste tus decisiones)."
   ]
  },
  {
   "cell_type": "markdown",
   "id": "f179f0a9",
   "metadata": {
    "id": "f179f0a9"
   },
   "source": [
    "### `orders` data frame `df_instacart_orders`"
   ]
  },
  {
   "cell_type": "code",
   "execution_count": 321,
   "id": "b99297a5-405a-463d-8535-9adc3da4ad74",
   "metadata": {
    "id": "b99297a5-405a-463d-8535-9adc3da4ad74"
   },
   "outputs": [
    {
     "name": "stdout",
     "output_type": "stream",
     "text": [
      "Pedidos duplicados: 15\n",
      "\n",
      "Los valores duplicados son:\n",
      "        order_id  user_id  order_number  order_dow  order_hour_of_day  \\\n",
      "145574    794638    50898            24          3                  2   \n",
      "223105   2160484   107525            16          3                  2   \n",
      "230807   1918001   188546            14          3                  2   \n",
      "266232   1782114   106752             1          3                  2   \n",
      "273805   1112182   202304            84          3                  2   \n",
      "284038   2845099    31189            11          3                  2   \n",
      "311713   1021560    53767             3          3                  2   \n",
      "321100    408114    68324             4          3                  2   \n",
      "323900   1919531   191501            32          3                  2   \n",
      "345917   2232988    82565             1          3                  2   \n",
      "371905    391768    57671            19          3                  2   \n",
      "394347    467134    63189            21          3                  2   \n",
      "411408   1286742   183220            48          3                  2   \n",
      "415163   2282673    86751            49          3                  2   \n",
      "441599   2125197    14050            48          3                  2   \n",
      "\n",
      "        days_since_prior_order  \n",
      "145574                     2.0  \n",
      "223105                    30.0  \n",
      "230807                    16.0  \n",
      "266232                     NaN  \n",
      "273805                     6.0  \n",
      "284038                     7.0  \n",
      "311713                     9.0  \n",
      "321100                    18.0  \n",
      "323900                     7.0  \n",
      "345917                     NaN  \n",
      "371905                    10.0  \n",
      "394347                     2.0  \n",
      "411408                     4.0  \n",
      "415163                     2.0  \n",
      "441599                     3.0  \n",
      "\n",
      "Ejemplo de valores duplicados\n",
      "        order_id  user_id  order_number  order_dow  order_hour_of_day  \\\n",
      "164581   1112182   202304            84          3                  2   \n",
      "273805   1112182   202304            84          3                  2   \n",
      "\n",
      "        days_since_prior_order  \n",
      "164581                     6.0  \n",
      "273805                     6.0  \n"
     ]
    }
   ],
   "source": [
    "# Revisa si hay pedidos duplicados df_instacart_orders\n",
    "duplicates_orders = df_instacart_orders.duplicated().sum()\n",
    "print(f\"Pedidos duplicados: {duplicates_orders}\")\n",
    "# Print duplicated rows\n",
    "print('\\nLos valores duplicados son:')\n",
    "duplicate = df_instacart_orders[df_instacart_orders.duplicated()]\n",
    "print(duplicate)\n",
    "print('\\nEjemplo de valores duplicados')\n",
    "print(df_instacart_orders[df_instacart_orders['order_id'] == 1112182])\n"
   ]
  },
  {
   "cell_type": "markdown",
   "id": "PEkwUX_gvt5A",
   "metadata": {
    "id": "PEkwUX_gvt5A"
   },
   "source": [
    "¿Tienes líneas duplicadas? Si sí, ¿qué tienen en común?\n",
    "\n",
    "**R:** Sí hay 15 valores duplicados, toda la fila tiene los mismo valores. Todos los repetidos son del día miércoles a las 2am"
   ]
  },
  {
   "cell_type": "code",
   "execution_count": 322,
   "id": "0d44de5d",
   "metadata": {
    "id": "0d44de5d"
   },
   "outputs": [
    {
     "name": "stdout",
     "output_type": "stream",
     "text": [
      "        order_id  user_id  order_number  order_dow  order_hour_of_day  \\\n",
      "4838     2766110   162084            41          3                  2   \n",
      "5156     2190225   138285            18          3                  2   \n",
      "15506     553049    58599            13          3                  2   \n",
      "18420     382357   120200            19          3                  2   \n",
      "24691     690242    77357             2          3                  2   \n",
      "...          ...      ...           ...        ...                ...   \n",
      "457013   3384021    14881             6          3                  2   \n",
      "458816    910166   164782            18          3                  2   \n",
      "459635   1680532   106435             6          3                  2   \n",
      "468324    222962    54979            59          3                  2   \n",
      "477526   2592344    46860            38          3                  2   \n",
      "\n",
      "        days_since_prior_order  \n",
      "4838                      16.0  \n",
      "5156                      11.0  \n",
      "15506                      7.0  \n",
      "18420                     11.0  \n",
      "24691                      9.0  \n",
      "...                        ...  \n",
      "457013                    30.0  \n",
      "458816                     4.0  \n",
      "459635                    21.0  \n",
      "468324                     3.0  \n",
      "477526                     3.0  \n",
      "\n",
      "[121 rows x 6 columns]\n"
     ]
    }
   ],
   "source": [
    "# Basándote en tus hallazgos,\n",
    "# Verifica todos los pedidos que se hicieron el miércoles a las 2:00 a.m.\n",
    "df_orders_miercoles_2am = df_instacart_orders[(df_instacart_orders['order_hour_of_day'] == 2) & (df_instacart_orders['order_dow'] == 3)]\n",
    "print(df_orders_miercoles_2am)"
   ]
  },
  {
   "cell_type": "markdown",
   "id": "vu2OWyoqwOx5",
   "metadata": {
    "id": "vu2OWyoqwOx5"
   },
   "source": [
    "¿Qué sugiere este resultado?\n",
    "\n",
    "**R:** Como hay 121 registros, incluyendo los 15 repetidos, no necesariamente todos los pedidos de los miércoles a las 2am son datos repetidos. Solo son pedidos que se hicieron en la misma hora y día. Es posible que sea una situación normal de alta demanda o promoción del negocio"
   ]
  },
  {
   "cell_type": "code",
   "execution_count": 323,
   "id": "480563c7",
   "metadata": {
    "id": "480563c7"
   },
   "outputs": [],
   "source": [
    "# Elimina los pedidos duplicados\n",
    "df_instacart_orders.drop_duplicates(inplace=True)"
   ]
  },
  {
   "cell_type": "code",
   "execution_count": 324,
   "id": "0b2396a2",
   "metadata": {
    "id": "0b2396a2"
   },
   "outputs": [
    {
     "name": "stdout",
     "output_type": "stream",
     "text": [
      "Pedidos duplicados: 0\n"
     ]
    }
   ],
   "source": [
    "# Vuelve a verificar si hay filas duplicadas\n",
    "duplicates_orders = df_instacart_orders.duplicated().sum()\n",
    "print(f\"Pedidos duplicados: {duplicates_orders}\")"
   ]
  },
  {
   "cell_type": "code",
   "execution_count": 325,
   "id": "f6113ef1",
   "metadata": {
    "id": "f6113ef1"
   },
   "outputs": [
    {
     "name": "stdout",
     "output_type": "stream",
     "text": [
      "Duplicados en 'order_id': 0\n"
     ]
    }
   ],
   "source": [
    "# Vuelve a verificar únicamente si hay IDs duplicados de pedidos\n",
    "duplicates_order_ids = df_instacart_orders['order_id'].duplicated().sum()\n",
    "print(f\"Duplicados en 'order_id': {duplicates_order_ids}\")"
   ]
  },
  {
   "cell_type": "markdown",
   "id": "5e8905ae",
   "metadata": {
    "id": "5e8905ae"
   },
   "source": [
    "Describe brevemente tus hallazgos y lo que hiciste con ellos\n",
    "\n",
    "**R:** No hay duplicados implicitos con IDs repetidos"
   ]
  },
  {
   "cell_type": "markdown",
   "id": "45e6bc46",
   "metadata": {
    "id": "45e6bc46"
   },
   "source": [
    "### `products` data frame `df_products`"
   ]
  },
  {
   "cell_type": "code",
   "execution_count": 326,
   "id": "5f526b5b-8175-46fa-a0fd-441767d50e64",
   "metadata": {
    "id": "5f526b5b-8175-46fa-a0fd-441767d50e64"
   },
   "outputs": [
    {
     "name": "stdout",
     "output_type": "stream",
     "text": [
      "Productos duplicados: 0\n"
     ]
    }
   ],
   "source": [
    "# Verifica si hay filas totalmente duplicadas df_products\n",
    "duplicates_products = df_products.duplicated().sum()\n",
    "print(f\"Productos duplicados: {duplicates_products}\")"
   ]
  },
  {
   "cell_type": "code",
   "execution_count": 327,
   "id": "88daa4f4",
   "metadata": {
    "id": "88daa4f4"
   },
   "outputs": [
    {
     "name": "stdout",
     "output_type": "stream",
     "text": [
      "Duplicados en 'department_id': 49673\n",
      "Valores únicos:\n",
      "[19 13  7  1 11 16 17 18 12  9  8 14 15  4 21  6 20  5  3  2 10]\n"
     ]
    }
   ],
   "source": [
    "# Revisa únicamente si hay ID de departamentos duplicados\n",
    "duplicates_department_ids = df_products['department_id'].duplicated().sum()\n",
    "print(f\"Duplicados en 'department_id': {duplicates_department_ids}\")\n",
    "print('Valores únicos:')\n",
    "print(df_products['department_id'].unique())"
   ]
  },
  {
   "cell_type": "code",
   "execution_count": 328,
   "id": "c773f0bf",
   "metadata": {
    "id": "c773f0bf"
   },
   "outputs": [
    {
     "name": "stdout",
     "output_type": "stream",
     "text": [
      "Duplicados en 'product_name': 1361\n"
     ]
    }
   ],
   "source": [
    "# Revisa únicamente si hay nombres duplicados de productos (convierte los nombres a letras mayúsculas para compararlos mejor)\n",
    "duplicates_product_names = df_products['product_name'].str.upper().duplicated().sum()\n",
    "print(f\"Duplicados en 'product_name': {duplicates_product_names}\")"
   ]
  },
  {
   "cell_type": "code",
   "execution_count": 329,
   "id": "01efd02e",
   "metadata": {
    "id": "01efd02e"
   },
   "outputs": [
    {
     "name": "stdout",
     "output_type": "stream",
     "text": [
      "Duplicados en 'product_name' (no nulos): 104\n",
      "\n",
      "Listado de productos no nulos duplicados:\n",
      "2058                                     BIOTIN 1000 MCG\n",
      "5455                    GREEN TEA WITH GINSENG AND HONEY\n",
      "5558                              CREAM OF MUSHROOM SOUP\n",
      "7558                           CINNAMON ROLLS WITH ICING\n",
      "9037                              AMERICAN CHEESE SLICES\n",
      "                              ...                       \n",
      "49689                      HIGH PERFORMANCE ENERGY DRINK\n",
      "49690                      ORIGINAL PANCAKE & WAFFLE MIX\n",
      "49691    ORGANIC INSTANT OATMEAL LIGHT MAPLE BROWN SUGAR\n",
      "49692                             SPRING WATER BODY WASH\n",
      "49693                            BURRITO- STEAK & CHEESE\n",
      "Name: product_name, Length: 104, dtype: object\n",
      "\n",
      "Ejemplo de duplicados en 'product_name' (no nulos):\n",
      "      product_id            product_name  aisle_id  department_id\n",
      "5438        5439  Cream of Mushroom Soup        69             15\n",
      "5558        5559  Cream Of Mushroom Soup        69             15\n"
     ]
    }
   ],
   "source": [
    "# Revisa si hay nombres duplicados de productos no faltantes\n",
    "duplicates_product_names_non_null = df_products[df_products['product_name'].notnull()]['product_name'].str.upper().duplicated().sum()\n",
    "print(f\"Duplicados en 'product_name' (no nulos): {duplicates_product_names_non_null}\")\n",
    "\n",
    "print('\\nListado de productos no nulos duplicados:')\n",
    "list_duplicates_product_names_non_null = df_products[df_products['product_name'].notnull()]['product_name'].str.upper()\n",
    "print(list_duplicates_product_names_non_null[list_duplicates_product_names_non_null.duplicated()])\n",
    "\n",
    "print('\\nEjemplo de duplicados en \\'product_name\\' (no nulos):')\n",
    "print(df_products[df_products['product_name'].str.upper() == 'CREAM OF MUSHROOM SOUP'])"
   ]
  },
  {
   "cell_type": "markdown",
   "id": "9da8d293",
   "metadata": {
    "id": "9da8d293"
   },
   "source": [
    "Describe brevemente tus hallazgos y lo que hiciste con ellos.\n",
    "\n",
    "**R:** Hay 104 productos repetidos en la columna `product_name` con diferente `product_id`. Estos productos son todos no nulos. "
   ]
  },
  {
   "cell_type": "markdown",
   "id": "60f30db1",
   "metadata": {
    "id": "60f30db1"
   },
   "source": [
    "### `departments` data frame `df_departments`"
   ]
  },
  {
   "cell_type": "code",
   "execution_count": 330,
   "id": "fb410ad4-0fbf-4b80-bb09-23fdea79afe3",
   "metadata": {
    "id": "fb410ad4-0fbf-4b80-bb09-23fdea79afe3"
   },
   "outputs": [
    {
     "name": "stdout",
     "output_type": "stream",
     "text": [
      "Departamentos duplicados: 0\n"
     ]
    }
   ],
   "source": [
    "# Revisa si hay filas totalmente duplicadas\n",
    "duplicates_departments = df_departments.duplicated().sum()\n",
    "print(f\"Departamentos duplicados: {duplicates_departments}\")"
   ]
  },
  {
   "cell_type": "code",
   "execution_count": 331,
   "id": "332b12bb",
   "metadata": {
    "id": "332b12bb"
   },
   "outputs": [
    {
     "name": "stdout",
     "output_type": "stream",
     "text": [
      "IDs duplicados en departamentos: 0\n"
     ]
    }
   ],
   "source": [
    "# Revisa únicamente si hay IDs duplicadas de productos, se sobre entiende que son IDs de departamentos en vez de productos\n",
    "duplicates_department_ids = df_departments['department_id'].duplicated().sum()\n",
    "print(f\"IDs duplicados en departamentos: {duplicates_department_ids}\")"
   ]
  },
  {
   "cell_type": "markdown",
   "id": "bd30d78e",
   "metadata": {
    "id": "bd30d78e"
   },
   "source": [
    "Describe brevemente tus hallazgos y lo que hiciste con ellos.\n",
    "\n",
    "**R:** No hay valores duplicados en en DataFrame `df_departments` y no hay IDs de departamento duplicados. Esto significa que todos los departamentos son únicos y no hay información redundante en el DataFrame. Por lo tanto, no se realizaron ninguna acción adicional con estos datos."
   ]
  },
  {
   "cell_type": "markdown",
   "id": "889349c1",
   "metadata": {
    "id": "889349c1"
   },
   "source": [
    "### `aisles` data frame `df_aisles`"
   ]
  },
  {
   "cell_type": "code",
   "execution_count": 332,
   "id": "9da89fb9-4679-40f5-ad0d-c34df753a3f8",
   "metadata": {
    "id": "9da89fb9-4679-40f5-ad0d-c34df753a3f8"
   },
   "outputs": [
    {
     "name": "stdout",
     "output_type": "stream",
     "text": [
      "Filas completamente duplicadas en aisles: 0\n"
     ]
    }
   ],
   "source": [
    "# Revisa si hay filas totalmente duplicadas\n",
    "duplicates_aisle = df_aisles.duplicated().sum()\n",
    "print(f\"Filas completamente duplicadas en aisles: {duplicates_aisle}\")"
   ]
  },
  {
   "cell_type": "code",
   "execution_count": 333,
   "id": "da7c2822",
   "metadata": {
    "id": "da7c2822"
   },
   "outputs": [
    {
     "name": "stdout",
     "output_type": "stream",
     "text": [
      "IDs de pasillo duplicados en aisles: 0\n"
     ]
    }
   ],
   "source": [
    "# Revisa únicamente si hay IDs duplicadas de pasillos\n",
    "duplicate_aisles_ids = df_aisles['aisle_id'].duplicated().sum()\n",
    "print(f\"IDs de pasillo duplicados en aisles: {duplicate_aisles_ids}\")"
   ]
  },
  {
   "cell_type": "markdown",
   "id": "ac63826f",
   "metadata": {
    "id": "ac63826f"
   },
   "source": [
    "Describe brevemente tus hallazgos y lo que hiciste con ellos.\n",
    "\n",
    "**R:** No se encontraron filas completamente duplicadas ni IDs de pasillos duplicados en el DataFrame `df_aisles`. Esto significa que cada fila representa un pasillo único y no hay información redundante. No se realizaron ninguna acción adicional ya que no hubo duplicados detectados."
   ]
  },
  {
   "cell_type": "markdown",
   "id": "274cd06a",
   "metadata": {
    "id": "274cd06a"
   },
   "source": [
    "### `order_products` data frame `df_order_products`"
   ]
  },
  {
   "cell_type": "code",
   "execution_count": 334,
   "id": "52326689-84a8-4b8f-a881-7c68780f62c9",
   "metadata": {
    "id": "52326689-84a8-4b8f-a881-7c68780f62c9"
   },
   "outputs": [
    {
     "name": "stdout",
     "output_type": "stream",
     "text": [
      "Filas completamente duplicadas en order_products: 0\n"
     ]
    }
   ],
   "source": [
    "# Revisa si hay filas totalmente duplicadas\n",
    "duplicate_order_products = df_order_products.duplicated().sum()\n",
    "print(f\"Filas completamente duplicadas en order_products: {duplicate_order_products}\")"
   ]
  },
  {
   "cell_type": "code",
   "execution_count": 335,
   "id": "7b861391",
   "metadata": {
    "id": "7b861391"
   },
   "outputs": [
    {
     "name": "stdout",
     "output_type": "stream",
     "text": [
      "El valor minimo es: 1\n",
      "El valor máximo es: 1\n",
      "Cada id_orden tiene un product_id único.\n"
     ]
    }
   ],
   "source": [
    "# Vuelve a verificar si hay cualquier otro duplicado engañoso\n",
    "grouping_order_and_product = df_order_products.groupby(['order_id', 'product_id'])['product_id'].count()\n",
    "print(f'El valor minimo es: {grouping_order_and_product.min()}')\n",
    "print(f'El valor máximo es: {grouping_order_and_product.max()}')\n",
    "print('Cada id_orden tiene un product_id único.')"
   ]
  },
  {
   "cell_type": "markdown",
   "id": "0b890492",
   "metadata": {
    "id": "0b890492"
   },
   "source": [
    "Describe brevemente tus hallazgos y lo que hiciste con ellos.\n",
    "\n",
    "**R:** Se agruparon los order_id junto con product_id, para ver si se repetenian y evaluar posibles duplicados, se imprime el min() y max() para saber sí hay más de un producto del mismo product_id en elal misma orden"
   ]
  },
  {
   "cell_type": "markdown",
   "id": "1e46de76",
   "metadata": {
    "id": "1e46de76"
   },
   "source": [
    "## Encuentra y elimina los valores ausentes\n",
    "\n",
    "Al trabajar con valores duplicados, pudimos observar que también nos falta investigar valores ausentes:\n",
    "\n",
    "* La columna `'product_name'` de la tabla products.\n",
    "* La columna `'days_since_prior_order'` de la tabla orders.\n",
    "* La columna `'add_to_cart_order'` de la tabla order_productos."
   ]
  },
  {
   "cell_type": "markdown",
   "id": "c0aebd78",
   "metadata": {
    "id": "c0aebd78"
   },
   "source": [
    "### `products` data frame `df_products`"
   ]
  },
  {
   "cell_type": "code",
   "execution_count": 336,
   "id": "fe4a8b0f",
   "metadata": {
    "id": "fe4a8b0f"
   },
   "outputs": [
    {
     "name": "stdout",
     "output_type": "stream",
     "text": [
      "Valores ausentes en 'product_name': 1258\n",
      "       product_id product_name  aisle_id  department_id\n",
      "37             38          NaN       100             21\n",
      "71             72          NaN       100             21\n",
      "109           110          NaN       100             21\n",
      "296           297          NaN       100             21\n",
      "416           417          NaN       100             21\n",
      "...           ...          ...       ...            ...\n",
      "49552       49553          NaN       100             21\n",
      "49574       49575          NaN       100             21\n",
      "49640       49641          NaN       100             21\n",
      "49663       49664          NaN       100             21\n",
      "49668       49669          NaN       100             21\n",
      "\n",
      "[1258 rows x 4 columns]\n"
     ]
    }
   ],
   "source": [
    "# Encuentra los valores ausentes en la columna 'product_name'\n",
    "missing_values = df_products['product_name'].isnull().sum()\n",
    "print(f\"Valores ausentes en 'product_name': {missing_values}\")\n",
    "# Obtener el listado de registros nulos\n",
    "list_missing_values = df_products[df_products['product_name'].isnull()]\n",
    "print(list_missing_values)"
   ]
  },
  {
   "cell_type": "markdown",
   "id": "-A6x1AbJhjkp",
   "metadata": {
    "id": "-A6x1AbJhjkp"
   },
   "source": [
    "Describe brevemente cuáles son tus hallazgos.\n",
    "\n",
    "**R:** Parece que todos los registros sin 'product_name' son de aisle_id = 100 y department_id = 21"
   ]
  },
  {
   "cell_type": "code",
   "execution_count": 337,
   "id": "e96167bc",
   "metadata": {
    "id": "e96167bc"
   },
   "outputs": [
    {
     "name": "stdout",
     "output_type": "stream",
     "text": [
      "Total de registros con product_name = NaN y aisle_id == 100: 1258\n",
      "Total de registros con aisle_id == 100: 1258\n"
     ]
    }
   ],
   "source": [
    "#  ¿Todos los nombres de productos ausentes están relacionados con el pasillo con ID 100?\n",
    "# Contar el total de aisle_id == 100 de list_missing_values\n",
    "total_aisle_100 = list_missing_values['aisle_id'].value_counts().get(100, 0)\n",
    "print(f\"Total de registros con product_name = NaN y aisle_id == 100: {total_aisle_100}\")\n",
    "full_total_aisle_100 = df_products['aisle_id'].value_counts().get(100, 0)\n",
    "print(f\"Total de registros con aisle_id == 100: {full_total_aisle_100}\")"
   ]
  },
  {
   "cell_type": "markdown",
   "id": "WRpIfXRphpSL",
   "metadata": {
    "id": "WRpIfXRphpSL"
   },
   "source": [
    "Describe brevemente cuáles son tus hallazgos.\n",
    "\n",
    "**R:** Se tienen 1258 registros con aisle_id = 100, por lo tanto, se puede decir que todos los nombres de productos ausentes están relacionados con el pasillo con ID 100."
   ]
  },
  {
   "cell_type": "code",
   "execution_count": 338,
   "id": "8fd0a541",
   "metadata": {
    "id": "8fd0a541"
   },
   "outputs": [
    {
     "name": "stdout",
     "output_type": "stream",
     "text": [
      "Total de registros con product-name = NaN y department_id == 21: 1258\n",
      "Total de registros en department_id == 21: 1258\n"
     ]
    }
   ],
   "source": [
    "# ¿Todos los nombres de productos ausentes están relacionados con el departamento con ID 21?\n",
    "# Contar el total de department_id == 21 de list_missing_values\n",
    "total_department_21 = list_missing_values['department_id'].value_counts().get(21, 0)\n",
    "print(f\"Total de registros con product-name = NaN y department_id == 21: {total_department_21}\")\n",
    "gran_total_department_21 = df_products['department_id'].value_counts().get(21, 0)\n",
    "print(f\"Total de registros en department_id == 21: {gran_total_department_21}\")"
   ]
  },
  {
   "cell_type": "markdown",
   "id": "qDpdYn1Fht_I",
   "metadata": {
    "id": "qDpdYn1Fht_I"
   },
   "source": [
    "Describe brevemente cuáles son tus hallazgos.\n",
    "\n",
    "**R:** Se tienen 1258 registros con department_id = 21, por lo tanto, se puede decir que todos los nombres de productos ausentes están relacionados con el departamento con ID 21."
   ]
  },
  {
   "cell_type": "code",
   "execution_count": 339,
   "id": "325c3464",
   "metadata": {
    "id": "325c3464"
   },
   "outputs": [
    {
     "name": "stdout",
     "output_type": "stream",
     "text": [
      "    department_id department\n",
      "20             21    missing\n",
      "    aisle_id    aisle\n",
      "99       100  missing\n"
     ]
    }
   ],
   "source": [
    "# Usa las tablas df_department y df_aisle para revisar los datos del aisle_id == 100 y el department_id == 21\n",
    "deparment_id_21 = df_departments[df_departments['department_id'] == 21]\n",
    "print(deparment_id_21)\n",
    "aisle_id_100 = df_aisles[df_aisles['aisle_id'] == 100]\n",
    "print(aisle_id_100)"
   ]
  },
  {
   "cell_type": "markdown",
   "id": "nqhSTUPhhvEJ",
   "metadata": {
    "id": "nqhSTUPhhvEJ"
   },
   "source": [
    "Describe brevemente cuáles son tus hallazgos.\n",
    "\n",
    "**R:** La descripción de los campos departmen_id = 21 y aisle_id = 100 es missing. "
   ]
  },
  {
   "cell_type": "code",
   "execution_count": 340,
   "id": "6b295120",
   "metadata": {
    "id": "6b295120"
   },
   "outputs": [
    {
     "name": "stdout",
     "output_type": "stream",
     "text": [
      "Valores ausentes en 'product_name': 0\n"
     ]
    }
   ],
   "source": [
    "# Completa los nombres de productos ausentes con 'Unknown'\n",
    "df_products['product_name'] = df_products['product_name'].fillna('Unknown')\n",
    "# Validar nombres ausentes\n",
    "missing_values = df_products['product_name'].isnull().sum()\n",
    "print(f\"Valores ausentes en 'product_name': {missing_values}\")"
   ]
  },
  {
   "cell_type": "markdown",
   "id": "fc70e5ad",
   "metadata": {
    "id": "fc70e5ad"
   },
   "source": [
    "Describe brevemente tus hallazgos y lo que hiciste con ellos.\n",
    "\n",
    "**R:** Se analizarón los valores ausentes en el DataFrame df_products, se identifico un patron que ayudara a entender con que valor se podrían rellenar los valores ausentes y saber si poría afectar a la información."
   ]
  },
  {
   "cell_type": "markdown",
   "id": "7eb45c86",
   "metadata": {
    "id": "7eb45c86"
   },
   "source": [
    "### `orders` data frame `df_instacart_orders`"
   ]
  },
  {
   "cell_type": "code",
   "execution_count": 341,
   "id": "93e41d96",
   "metadata": {
    "id": "93e41d96"
   },
   "outputs": [
    {
     "name": "stdout",
     "output_type": "stream",
     "text": [
      "Valores ausentes:\n",
      "order_id                      0\n",
      "user_id                       0\n",
      "order_number                  0\n",
      "order_dow                     0\n",
      "order_hour_of_day             0\n",
      "days_since_prior_order    28817\n",
      "dtype: int64\n"
     ]
    }
   ],
   "source": [
    "# Encuentra los valores ausentes en el Dataframe df_instacart_orders\n",
    "missing_values_in_orders = df_instacart_orders.isna().sum()\n",
    "print(f\"Valores ausentes:\\n{missing_values_in_orders}\")"
   ]
  },
  {
   "cell_type": "code",
   "execution_count": 342,
   "id": "166e5a86",
   "metadata": {
    "id": "166e5a86"
   },
   "outputs": [
    {
     "name": "stdout",
     "output_type": "stream",
     "text": [
      "Total de pedidos después del primero sin valor en 'days_since_prior_order': 0\n"
     ]
    }
   ],
   "source": [
    "# ¿Hay algún valor ausente que no sea el primer pedido del cliente?\n",
    "total_first_order_and_NaN = df_instacart_orders[(df_instacart_orders['order_number'] > 2) & (df_instacart_orders['days_since_prior_order'].isnull())]\n",
    "print(f\"Total de pedidos después del primero sin valor en 'days_since_prior_order': {total_first_order_and_NaN.shape[0]}\")"
   ]
  },
  {
   "cell_type": "markdown",
   "id": "4e23d089",
   "metadata": {
    "id": "4e23d089"
   },
   "source": [
    "Describe brevemente tus hallazgos y lo que hiciste con ellos.\n",
    "\n",
    "**R:** Todos los valores ausentes pertencen al primer pedido del cliente. Se puede setear el valor de 0 para estos valores."
   ]
  },
  {
   "cell_type": "code",
   "execution_count": 343,
   "id": "1cf2be83",
   "metadata": {},
   "outputs": [
    {
     "name": "stdout",
     "output_type": "stream",
     "text": [
      "Valores ausentes:\n",
      "order_id                  0\n",
      "user_id                   0\n",
      "order_number              0\n",
      "order_dow                 0\n",
      "order_hour_of_day         0\n",
      "days_since_prior_order    0\n",
      "dtype: int64\n"
     ]
    }
   ],
   "source": [
    "# Sustituir valores ausentes en 'days_since_prior_oder' del DataFrame df_instacart_orders por 0\n",
    "df_instacart_orders['days_since_prior_order'] = df_instacart_orders['days_since_prior_order'].fillna(0)\n",
    "# Validando valores nulos de nuevo\n",
    "missing_values_in_orders = df_instacart_orders.isna().sum()\n",
    "print(f\"Valores ausentes:\\n{missing_values_in_orders}\")"
   ]
  },
  {
   "cell_type": "markdown",
   "id": "69dc9ca4",
   "metadata": {
    "id": "69dc9ca4"
   },
   "source": [
    "### `order_products` data frame `df_order_products`"
   ]
  },
  {
   "cell_type": "code",
   "execution_count": 344,
   "id": "b8240253",
   "metadata": {
    "id": "b8240253"
   },
   "outputs": [
    {
     "name": "stdout",
     "output_type": "stream",
     "text": [
      "Valores ausentes:\n",
      "order_id               0\n",
      "product_id             0\n",
      "add_to_cart_order    836\n",
      "reordered              0\n",
      "dtype: int64\n"
     ]
    }
   ],
   "source": [
    "# Encuentra los valores ausentes en el dataframe df_order_products\n",
    "missing_values_in_df_order_products = df_order_products.isna().sum()\n",
    "print(f\"Valores ausentes:\\n{missing_values_in_df_order_products}\")"
   ]
  },
  {
   "cell_type": "code",
   "execution_count": 345,
   "id": "9a78e5ee",
   "metadata": {
    "id": "9a78e5ee"
   },
   "outputs": [
    {
     "name": "stdout",
     "output_type": "stream",
     "text": [
      "Valor mínimo: 1.0, Valor máximo: 64.0\n"
     ]
    }
   ],
   "source": [
    "# ¿Cuáles son los valores mínimos y máximos en esta columna?\n",
    "min_value = df_order_products['add_to_cart_order'].min()\n",
    "max_value = df_order_products['add_to_cart_order'].max()\n",
    "print(f\"Valor mínimo: {min_value}, Valor máximo: {max_value}\")"
   ]
  },
  {
   "cell_type": "markdown",
   "id": "-Z2Ja215jW78",
   "metadata": {
    "id": "-Z2Ja215jW78"
   },
   "source": [
    "Describe brevemente cuáles son tus hallazgos.\n",
    "\n",
    "**R:** La columna `add_to_cart_order` tiene valores ausentes, lo cual podría indicar que algunos productos no fueron añadidos al carrito en el orden esperado o que hubo algún error durante la carga de los datos. Además, hay un rango amplio de valores en esta columna, desde 1 hasta 64, lo que sugiere que los productos pueden haber sido añadidos al carrito en diferentes momentos del proceso de compra. "
   ]
  },
  {
   "cell_type": "code",
   "execution_count": 346,
   "id": "ab9d0c2b",
   "metadata": {
    "id": "ab9d0c2b"
   },
   "outputs": [
    {
     "name": "stdout",
     "output_type": "stream",
     "text": [
      "Ordenes de productos con valores nulos:\n",
      "          order_id  product_id  add_to_cart_order  reordered\n",
      "737       2449164        5068                NaN          0\n",
      "9926      1968313       43867                NaN          0\n",
      "14394     2926893       11688                NaN          0\n",
      "16418     1717990        4142                NaN          0\n",
      "30114     1959075       42828                NaN          1\n",
      "...           ...         ...                ...        ...\n",
      "4505662   1800005        7411                NaN          0\n",
      "4511400   1633337         260                NaN          0\n",
      "4517562    404157        9517                NaN          0\n",
      "4534112   1673227       17835                NaN          0\n",
      "4535739   1832957       17949                NaN          1\n",
      "\n",
      "[836 rows x 4 columns]\n"
     ]
    }
   ],
   "source": [
    "# Guarda todas las IDs de pedidos que tengan un valor ausente en 'add_to_cart_order'\n",
    "missing_cart_orders = df_order_products[df_order_products['add_to_cart_order'].isna()]\n",
    "print(f'Ordenes de productos con valores nulos:\\n {missing_cart_orders}')"
   ]
  },
  {
   "cell_type": "code",
   "execution_count": 347,
   "id": "54c31695",
   "metadata": {
    "id": "54c31695"
   },
   "outputs": [
    {
     "name": "stdout",
     "output_type": "stream",
     "text": [
      "El pedido con el menor número de productos tiene: 1 productos\n",
      "El pedido con el mayor número de productos tiene: 63 productos\n"
     ]
    }
   ],
   "source": [
    "# ¿Todos los pedidos con valores ausentes tienen más de 64 productos?\n",
    "# Agrupa todos los pedidos con datos ausentes por su ID de pedido.\n",
    "# Cuenta el número de 'product_id' en cada pedido y revisa el valor mínimo del conteo.\n",
    "missing_cart_orders_grouped = missing_cart_orders.groupby('order_id')['product_id'].count()\n",
    "min_product_count = missing_cart_orders_grouped.min()\n",
    "max_product_count = missing_cart_orders_grouped.max()\n",
    "# Imprime los resultados\n",
    "print(f'El pedido con el menor número de productos tiene: {min_product_count} productos')\n",
    "print(f'El pedido con el mayor número de productos tiene: {max_product_count} productos')\n"
   ]
  },
  {
   "cell_type": "markdown",
   "id": "p9V6pddtjglj",
   "metadata": {
    "id": "p9V6pddtjglj"
   },
   "source": [
    "Describe brevemente cuáles son tus hallazgos.\n",
    "**R:** Todos los valores ausentes parece que fueron generados por un error al registrar los productos de un pedido"
   ]
  },
  {
   "cell_type": "code",
   "execution_count": 348,
   "id": "7a987d08",
   "metadata": {
    "id": "7a987d08"
   },
   "outputs": [
    {
     "name": "stdout",
     "output_type": "stream",
     "text": [
      "Valores ausentes:\n",
      "order_id             0\n",
      "product_id           0\n",
      "add_to_cart_order    0\n",
      "reordered            0\n",
      "dtype: int64\n",
      "<class 'pandas.core.frame.DataFrame'>\n",
      "RangeIndex: 4545007 entries, 0 to 4545006\n",
      "Data columns (total 4 columns):\n",
      " #   Column             Dtype\n",
      "---  ------             -----\n",
      " 0   order_id           int64\n",
      " 1   product_id         int64\n",
      " 2   add_to_cart_order  int64\n",
      " 3   reordered          int64\n",
      "dtypes: int64(4)\n",
      "memory usage: 138.7 MB\n"
     ]
    }
   ],
   "source": [
    "# Remplaza los valores ausentes en la columna 'add_to_cart? con 999 y convierte la columna al tipo entero.\n",
    "df_order_products['add_to_cart_order'] = df_order_products['add_to_cart_order'].fillna(999)\n",
    "df_order_products['add_to_cart_order'] = df_order_products['add_to_cart_order'].astype('int')\n",
    "missing_values_in_df_order_products = df_order_products.isna().sum()\n",
    "print(f\"Valores ausentes:\\n{missing_values_in_df_order_products}\")\n",
    "\n",
    "df_order_products.info()\n"
   ]
  },
  {
   "cell_type": "markdown",
   "id": "fea4bcc7",
   "metadata": {
    "id": "fea4bcc7"
   },
   "source": [
    "Describe brevemente tus hallazgos y lo que hiciste con ellos.\n",
    "\n",
    "**R:** No hay una lógica que permita identificar la causa de los valores ausentes en la columna 'add_to_cart_order'. Se ha convertido a tipo entero para evitar problemas con los cálculos posteriores. No se han eliminado las filas con valores ausentes ya que no hay una lógica clara para hacerlo. Se ha sustiuido el valor ausente con el valor de 999 para indicar que ha sido un error del sistema."
   ]
  },
  {
   "cell_type": "markdown",
   "id": "RnplPFY1gSrb",
   "metadata": {
    "id": "RnplPFY1gSrb"
   },
   "source": [
    "## Conclusiones\n",
    "\n",
    "Escribe aquí tus conclusiones intermedias sobre el Paso 2. Preprocesamiento de los datos\n",
    "\n",
    "**R:** La identificación de valores duplicados es importante para la limpieza de datos, ya que pueden afectar la calidad del análisis. En este caso, se identificaron duplicados explicitos e implicitos. Además se identificaron los valores ausentes de cada DataFrame, se analizó una lógica que permita sustituir los valores ausentes sin poner el riesgo los calculos a reallizar.\n"
   ]
  },
  {
   "cell_type": "markdown",
   "id": "UjrOIwTcz3ri",
   "metadata": {
    "id": "UjrOIwTcz3ri"
   },
   "source": [
    "# Paso 3. Análisis de los datos\n",
    "\n",
    "Una vez los datos estén procesados y listos, haz el siguiente análisis:"
   ]
  },
  {
   "cell_type": "markdown",
   "id": "turkish-kidney",
   "metadata": {
    "id": "turkish-kidney"
   },
   "source": [
    "# [A] Fácil (deben completarse todos para aprobar)\n",
    "\n",
    "1. Verifica que los valores en las columnas `'order_hour_of_day'` y `'order_dow'` en la tabla orders sean razonables (es decir, `'order_hour_of_day'` oscile entre 0 y 23 y `'order_dow'` oscile entre 0 y 6).\n",
    "2. Crea un gráfico que muestre el número de personas que hacen pedidos dependiendo de la hora del día.\n",
    "3. Crea un gráfico que muestre qué día de la semana la gente hace sus compras.\n",
    "4. Crea un gráfico que muestre el tiempo que la gente espera hasta hacer su siguiente pedido, y comenta sobre los valores mínimos y máximos."
   ]
  },
  {
   "cell_type": "markdown",
   "id": "short-capability",
   "metadata": {
    "id": "short-capability"
   },
   "source": [
    "### [A1] Verifica que los valores sean sensibles"
   ]
  },
  {
   "cell_type": "code",
   "execution_count": 349,
   "id": "growing-fruit",
   "metadata": {
    "id": "growing-fruit"
   },
   "outputs": [
    {
     "name": "stdout",
     "output_type": "stream",
     "text": [
      "order_hour_of_day oscila de 0 a 23\n",
      "order_dow oscila de 0 a 6\n"
     ]
    }
   ],
   "source": [
    "# 1. Verifica que los valores en las columnas `'order_hour_of_day'` y `'order_dow'` en la tabla orders sean razonables (es decir, `'order_hour_of_day'` oscile entre 0 y 23 y `'order_dow'` oscile entre 0 y 6).\n",
    "# Compute Max and Min of 'order_hour_of_day' from df_instacart_orders\n",
    "min_order_hour_of_day = df_instacart_orders['order_hour_of_day'].min()\n",
    "max_order_hour_of_day = df_instacart_orders['order_hour_of_day'].max()\n",
    "print(f'order_hour_of_day oscila de {min_order_hour_of_day} a {max_order_hour_of_day}')\n",
    "# Compute Max and Min of 'order_dow' from df_instacart_orders\n",
    "min_order_dow = df_instacart_orders['order_dow'].min()\n",
    "max_order_dow = df_instacart_orders['order_dow'].max()\n",
    "print(f'order_dow oscila de {min_order_dow} a {max_order_dow}')"
   ]
  },
  {
   "cell_type": "markdown",
   "id": "hmR2GNQ6lCsX",
   "metadata": {
    "id": "hmR2GNQ6lCsX"
   },
   "source": [
    "Escribe aquí tus conclusiones"
   ]
  },
  {
   "cell_type": "markdown",
   "id": "a6743a70",
   "metadata": {
    "id": "a6743a70"
   },
   "source": [
    "### [A2] Para cada hora del día, ¿cuántas personas hacen órdenes?"
   ]
  },
  {
   "cell_type": "code",
   "execution_count": 350,
   "id": "a36cca27",
   "metadata": {
    "id": "a36cca27"
   },
   "outputs": [
    {
     "data": {
      "image/png": "[encoded data removed]",
      "text/plain": [
       "<Figure size 1000x600 with 1 Axes>"
      ]
     },
     "metadata": {},
     "output_type": "display_data"
    }
   ],
   "source": [
    "# 2. Crea un gráfico que muestre el número de personas que hacen pedidos dependiendo de la hora del día.\n",
    "df_instacart_orders['order_hour_of_day'].value_counts().sort_index().plot(kind='bar', figsize=(10, 6))\n",
    "plt.title('Número de pedidos por hora del día')\n",
    "plt.xlabel('Hora del día')\n",
    "plt.ylabel('Número de pedidos')\n",
    "plt.show()"
   ]
  },
  {
   "cell_type": "markdown",
   "id": "11270eed",
   "metadata": {
    "id": "11270eed"
   },
   "source": [
    "Escribe aquí tus conclusiones\n",
    "\n",
    "**R:** La mayor cantidad de pedidos ocurren entre las 10:00 AM y las 4:00 PM. Esto sugiere que la demanda de productos es mayor durante este período del día, lo que podría ser útil para optimizar el inventario y la entrega."
   ]
  },
  {
   "cell_type": "markdown",
   "id": "documented-command",
   "metadata": {
    "id": "documented-command"
   },
   "source": [
    "### [A3] ¿Qué día de la semana compran víveres las personas?"
   ]
  },
  {
   "cell_type": "code",
   "execution_count": 351,
   "id": "chief-digit",
   "metadata": {
    "id": "chief-digit"
   },
   "outputs": [
    {
     "data": {
      "image/png": "[encoded data removed]",
      "text/plain": [
       "<Figure size 1000x600 with 1 Axes>"
      ]
     },
     "metadata": {},
     "output_type": "display_data"
    }
   ],
   "source": [
    "# 3. Crea un gráfico que muestre qué día de la semana la gente hace sus compras.\n",
    "df_instacart_orders['order_dow'].value_counts().sort_index().plot(kind='bar', figsize=(10, 6))\n",
    "plt.title('Número de pedidos por día de la semana')\n",
    "plt.xlabel('Día de la semana')\n",
    "plt.ylabel('Número de pedidos')\n",
    "plt.show()"
   ]
  },
  {
   "cell_type": "markdown",
   "id": "dominant-lightning",
   "metadata": {
    "id": "dominant-lightning"
   },
   "source": [
    "Escribe aquí tus conclusiones\n",
    "\n",
    "**R:** La mayoría de los pedidos ocurren durante el día domingo, seguido por el lunes. El día de menor cantidad de pedidos es el jueves\n"
   ]
  },
  {
   "cell_type": "markdown",
   "id": "cutting-concert",
   "metadata": {
    "id": "cutting-concert"
   },
   "source": [
    "### [A4] ¿Cuánto tiempo esperan las personas hasta hacer otro pedido? Comenta sobre los valores mínimos y máximos."
   ]
  },
  {
   "cell_type": "code",
   "execution_count": 352,
   "id": "c231f523",
   "metadata": {
    "id": "c231f523"
   },
   "outputs": [
    {
     "data": {
      "image/png": "[encoded data removed]",
      "text/plain": [
       "<Figure size 640x480 with 1 Axes>"
      ]
     },
     "metadata": {},
     "output_type": "display_data"
    },
    {
     "name": "stdout",
     "output_type": "stream",
     "text": [
      "count    478952.000000\n",
      "mean         10.433853\n",
      "std           9.292153\n",
      "min           0.000000\n",
      "25%           4.000000\n",
      "50%           7.000000\n",
      "75%          15.000000\n",
      "max          30.000000\n",
      "Name: days_since_prior_order, dtype: float64\n"
     ]
    }
   ],
   "source": [
    "# 4. Crea un gráfico que muestre el tiempo que la gente espera hasta hacer su siguiente pedido, y comenta sobre los valores mínimos y máximos.\n",
    "df_instacart_orders['days_since_prior_order'].plot(kind='hist', bins=30, title='Espera hasta siguiente pedido', ylabel='Frecuencia')\n",
    "plt.show()\n",
    "\n",
    "print(df_instacart_orders['days_since_prior_order'].describe())\n"
   ]
  },
  {
   "cell_type": "markdown",
   "id": "discrete-vertex",
   "metadata": {
    "id": "discrete-vertex"
   },
   "source": [
    "Escribe aquí tus conclusiones\n",
    "\n",
    "**R:** La mayoria de la gente espera 30 días para realizar su siguiente pedido, esto se puede atribuir a que se esperan al siguiente mes para realizar su siguiente compra. El valor minimo es 0, pero eso significa que es el primer pedido, se intuye que hay bastante gente que está haciendo un primer pedido. Del día 1 al día 7 se van aumentado los pedidos, pero después comienzan a disminuir hasta el siguiente mes."
   ]
  },
  {
   "cell_type": "markdown",
   "id": "tight-staff",
   "metadata": {
    "id": "tight-staff"
   },
   "source": [
    "# [B] Intermedio (deben completarse todos para aprobar)\n",
    "\n",
    "1. ¿Existe alguna diferencia entre las distribuciones `'order_hour_of_day'` de los miércoles y los sábados? Traza gráficos de barra de `'order_hour_of_day'` para ambos días en la misma figura y describe las diferencias que observes.\n",
    "2. Grafica la distribución para el número de órdenes que hacen los clientes (es decir, cuántos clientes hicieron solo 1 pedido, cuántos hicieron 2, cuántos 3, y así sucesivamente...).\n",
    "3. ¿Cuáles son los 20 principales productos que se piden con más frecuencia (muestra su identificación y nombre)?"
   ]
  },
  {
   "cell_type": "markdown",
   "id": "packed-classic",
   "metadata": {
    "id": "packed-classic"
   },
   "source": [
    "### [B1] Diferencia entre miércoles y sábados para  `'order_hour_of_day'`. Traza gráficos de barra para los dos días y describe las diferencias que veas."
   ]
  },
  {
   "cell_type": "code",
   "execution_count": 353,
   "id": "703e053b",
   "metadata": {},
   "outputs": [
    {
     "name": "stdout",
     "output_type": "stream",
     "text": [
      "order_hour_of_day\n",
      "0      373\n",
      "1      215\n",
      "2      106\n",
      "3      101\n",
      "4      108\n",
      "5      170\n",
      "6      643\n",
      "7     1732\n",
      "8     3125\n",
      "9     4490\n",
      "10    5026\n",
      "11    5004\n",
      "12    4688\n",
      "13    4674\n",
      "14    4774\n",
      "15    5163\n",
      "16    4976\n",
      "17    4175\n",
      "18    3463\n",
      "19    2652\n",
      "20    1917\n",
      "21    1450\n",
      "22    1154\n",
      "23     718\n",
      "Name: count, dtype: int64\n"
     ]
    }
   ],
   "source": [
    "order_hour_of_wednesday = df_instacart_orders[df_instacart_orders['order_dow'] == 3]['order_hour_of_day'].value_counts().sort_index()\n",
    "print(order_hour_of_wednesday)"
   ]
  },
  {
   "cell_type": "code",
   "execution_count": 354,
   "id": "d89b8403",
   "metadata": {
    "id": "d89b8403"
   },
   "outputs": [
    {
     "name": "stdout",
     "output_type": "stream",
     "text": [
      "order_hour_of_day\n",
      "0      464\n",
      "1      254\n",
      "2      177\n",
      "3      125\n",
      "4      118\n",
      "5      161\n",
      "6      451\n",
      "7     1619\n",
      "8     3246\n",
      "9     4311\n",
      "10    4919\n",
      "11    5116\n",
      "12    5132\n",
      "13    5323\n",
      "14    5375\n",
      "15    5188\n",
      "16    5029\n",
      "17    4295\n",
      "18    3338\n",
      "19    2610\n",
      "20    1847\n",
      "21    1473\n",
      "22    1185\n",
      "23     893\n",
      "Name: count, dtype: int64\n"
     ]
    }
   ],
   "source": [
    "order_hour_of_saturday = df_instacart_orders[df_instacart_orders['order_dow'] == 6]['order_hour_of_day'].value_counts().sort_index()\n",
    "print(order_hour_of_saturday)"
   ]
  },
  {
   "cell_type": "code",
   "execution_count": 355,
   "id": "35bcea30",
   "metadata": {
    "id": "35bcea30"
   },
   "outputs": [
    {
     "name": "stdout",
     "output_type": "stream",
     "text": [
      "                   Wednesday  Saturday\n",
      "order_hour_of_day                     \n",
      "0                        373       464\n",
      "1                        215       254\n",
      "2                        106       177\n",
      "3                        101       125\n",
      "4                        108       118\n",
      "5                        170       161\n",
      "6                        643       451\n",
      "7                       1732      1619\n",
      "8                       3125      3246\n",
      "9                       4490      4311\n",
      "10                      5026      4919\n",
      "11                      5004      5116\n",
      "12                      4688      5132\n",
      "13                      4674      5323\n",
      "14                      4774      5375\n",
      "15                      5163      5188\n",
      "16                      4976      5029\n",
      "17                      4175      4295\n",
      "18                      3463      3338\n",
      "19                      2652      2610\n",
      "20                      1917      1847\n",
      "21                      1450      1473\n",
      "22                      1154      1185\n",
      "23                       718       893\n"
     ]
    }
   ],
   "source": [
    "wednesday_and_saturday_compare = pd.concat([order_hour_of_wednesday, order_hour_of_saturday], axis=1)\n",
    "wednesday_and_saturday_compare.columns = ['Wednesday', 'Saturday']\n",
    "print(wednesday_and_saturday_compare)"
   ]
  },
  {
   "cell_type": "code",
   "execution_count": 356,
   "id": "9053429c",
   "metadata": {},
   "outputs": [
    {
     "data": {
      "image/png": "[encoded data removed]",
      "text/plain": [
       "<Figure size 1000x600 with 1 Axes>"
      ]
     },
     "metadata": {},
     "output_type": "display_data"
    }
   ],
   "source": [
    "wednesday_and_saturday_compare.plot(kind='bar', figsize=(10, 6))\n",
    "plt.title('Comparison of Order Hours on Wednesday and Saturday')\n",
    "plt.xlabel('Order Hour')\n",
    "plt.ylabel('Number of Orders')\n",
    "plt.show()"
   ]
  },
  {
   "cell_type": "markdown",
   "id": "charitable-congo",
   "metadata": {
    "id": "charitable-congo"
   },
   "source": [
    "Escribe aquí tus conclusiones\n",
    "\n",
    "**R:** Se nota que para los días sábados a partir de las 11:00 hr comienzan a subir las compras en comparación con el día miércoles, esto se puede deber a que es un día laboral, puede corresponder a las horas de la comida."
   ]
  },
  {
   "cell_type": "markdown",
   "id": "e3891143",
   "metadata": {
    "id": "e3891143"
   },
   "source": [
    "### [B2] ¿Cuál es la distribución para el número de pedidos por cliente?"
   ]
  },
  {
   "cell_type": "code",
   "execution_count": 357,
   "id": "d8c26c23",
   "metadata": {
    "id": "d8c26c23"
   },
   "outputs": [
    {
     "name": "stdout",
     "output_type": "stream",
     "text": [
      "user_id\n",
      "2         2\n",
      "4         2\n",
      "5         1\n",
      "6         2\n",
      "7         2\n",
      "         ..\n",
      "206203    1\n",
      "206206    7\n",
      "206207    5\n",
      "206208    9\n",
      "206209    2\n",
      "Name: order_id, Length: 157437, dtype: int64\n",
      "count    157437.000000\n",
      "mean          3.042182\n",
      "std           2.746842\n",
      "min           1.000000\n",
      "25%           1.000000\n",
      "50%           2.000000\n",
      "75%           4.000000\n",
      "max          28.000000\n",
      "Name: order_id, dtype: float64\n"
     ]
    }
   ],
   "source": [
    "# 2. Grafica la distribución para el número de órdenes que hacen los clientes\n",
    "# (es decir, cuántos clientes hicieron solo 1 pedido, cuántos hicieron 2, cuántos 3, y así sucesivamente...).\n",
    "orders_by_client = df_instacart_orders.groupby(['user_id'])['order_id'].count()\n",
    "print(orders_by_client)\n",
    "print(orders_by_client.describe())"
   ]
  },
  {
   "cell_type": "code",
   "execution_count": 358,
   "id": "00e69a66",
   "metadata": {
    "id": "00e69a66"
   },
   "outputs": [
    {
     "data": {
      "text/plain": [
       "<Axes: title={'center': 'Distribución número de pedidos por cliente'}, xlabel='Total ordenes', ylabel='Frecuencia'>"
      ]
     },
     "execution_count": 358,
     "metadata": {},
     "output_type": "execute_result"
    },
    {
     "data": {
      "image/png": "[encoded data removed]",
      "text/plain": [
       "<Figure size 640x480 with 1 Axes>"
      ]
     },
     "metadata": {},
     "output_type": "display_data"
    }
   ],
   "source": [
    "orders_by_client.plot(kind='hist', bins=28, title='Distribución número de pedidos por cliente', ylabel='Frecuencia', xlabel='Total ordenes')"
   ]
  },
  {
   "cell_type": "markdown",
   "id": "d2eff7d5",
   "metadata": {
    "id": "d2eff7d5"
   },
   "source": [
    "Escribe aquí tus conclusiones\n",
    "\n",
    "**R:** La mayoria de los clientes realizan de 1 a 10 pedidos, posteriormente comienza a decrecer la cantidad de clientes con más pedidos."
   ]
  },
  {
   "cell_type": "markdown",
   "id": "54a0319c",
   "metadata": {
    "id": "54a0319c"
   },
   "source": [
    "### [B3] ¿Cuáles son los 20 productos más populares (muestra su ID y nombre)?"
   ]
  },
  {
   "cell_type": "code",
   "execution_count": 359,
   "id": "exterior-arizona",
   "metadata": {
    "id": "exterior-arizona",
    "scrolled": true
   },
   "outputs": [],
   "source": [
    "df_order_products_fullname = df_order_products.merge(df_products, on='product_id')\n",
    "best_selling_products = df_order_products_fullname.groupby(['product_id', 'product_name'])['order_id'].count().sort_values(ascending=False).head(20)\n"
   ]
  },
  {
   "cell_type": "code",
   "execution_count": 360,
   "id": "fd79f8fe",
   "metadata": {},
   "outputs": [
    {
     "name": "stdout",
     "output_type": "stream",
     "text": [
      "product_id  product_name            \n",
      "24852       Banana                      66050\n",
      "13176       Bag of Organic Bananas      53297\n",
      "21137       Organic Strawberries        37039\n",
      "21903       Organic Baby Spinach        33971\n",
      "47209       Organic Hass Avocado        29773\n",
      "47766       Organic Avocado             24689\n",
      "47626       Large Lemon                 21495\n",
      "16797       Strawberries                20018\n",
      "26209       Limes                       19690\n",
      "27845       Organic Whole Milk          19600\n",
      "27966       Organic Raspberries         19197\n",
      "22935       Organic Yellow Onion        15898\n",
      "24964       Organic Garlic              15292\n",
      "45007       Organic Zucchini            14584\n",
      "39275       Organic Blueberries         13879\n",
      "49683       Cucumber Kirby              13675\n",
      "28204       Organic Fuji Apple          12544\n",
      "5876        Organic Lemon               12232\n",
      "8277        Apple Honeycrisp Organic    11993\n",
      "40706       Organic Grape Tomatoes      11781\n",
      "Name: order_id, dtype: int64\n"
     ]
    }
   ],
   "source": [
    "print(best_selling_products)"
   ]
  },
  {
   "cell_type": "code",
   "execution_count": 361,
   "id": "universal-facial",
   "metadata": {
    "id": "universal-facial"
   },
   "outputs": [
    {
     "data": {
      "image/png": "[encoded data removed]",
      "text/plain": [
       "<Figure size 640x480 with 1 Axes>"
      ]
     },
     "metadata": {},
     "output_type": "display_data"
    }
   ],
   "source": [
    "best_selling_products.plot(kind='bar', rot=85, title='Top 20 best selling products', xlabel='Product_ID, Product_name', ylabel='Sales')\n",
    "plt.show()"
   ]
  },
  {
   "cell_type": "markdown",
   "id": "7df00f47",
   "metadata": {
    "id": "7df00f47"
   },
   "source": [
    "Escribe aquí tus conclusiones\n",
    "\n",
    "**R:** Los productos más vendidos son las Bananas, seguido de las fresas, espinaca y aguacates; tal vez hacen muchas ensalada :). Posteriormente las ventas de los siguientes productos son más uniformes"
   ]
  },
  {
   "cell_type": "markdown",
   "id": "gross-theme",
   "metadata": {
    "id": "gross-theme"
   },
   "source": [
    "# [C] Difícil (deben completarse todos para aprobar)\n",
    "\n",
    "1. ¿Cuántos artículos suelen comprar las personas en un pedido? ¿Cómo es la distribución?\n",
    "2. ¿Cuáles son los 20 principales artículos que vuelven a pedirse con mayor frecuencia (muestra sus nombres e IDs de los productos)?\n",
    "3. Para cada producto, ¿cuál es la tasa de repetición del pedido (número de repeticiones de pedido/total de pedidos?\n",
    "4. Para cada cliente, ¿qué proporción de los productos que pidió ya los había pedido? Calcula la tasa de repetición de pedido para cada usuario en lugar de para cada producto.\n",
    "5. ¿Cuáles son los 20 principales artículos que la gente pone primero en sus carritos (muestra las IDs de los productos, sus nombres, y el número de veces en que fueron el primer artículo en añadirse al carrito)?"
   ]
  },
  {
   "cell_type": "markdown",
   "id": "romantic-deposit",
   "metadata": {
    "id": "romantic-deposit"
   },
   "source": [
    "### [C1] ¿Cuántos artículos compran normalmente las personas en un pedido? ¿Cómo es la distribución?"
   ]
  },
  {
   "cell_type": "code",
   "execution_count": 362,
   "id": "virtual-punch",
   "metadata": {
    "id": "virtual-punch"
   },
   "outputs": [
    {
     "name": "stdout",
     "output_type": "stream",
     "text": [
      "order_id\n",
      "3421079      1\n",
      "1288686      1\n",
      "1288764      1\n",
      "1288825      1\n",
      "1288873      1\n",
      "          ... \n",
      "1959075     98\n",
      "171934     104\n",
      "2136777    108\n",
      "3308010    115\n",
      "61355      127\n",
      "Name: product_id, Length: 450046, dtype: int64\n"
     ]
    }
   ],
   "source": [
    "# De df_order_products calcular el total de productos comprados por pedido\n",
    "total_products_by_order = df_order_products.groupby(['order_id'])['product_id'].count().sort_values()\n",
    "print(total_products_by_order)"
   ]
  },
  {
   "cell_type": "code",
   "execution_count": 363,
   "id": "sensitive-breathing",
   "metadata": {
    "id": "sensitive-breathing"
   },
   "outputs": [
    {
     "name": "stdout",
     "output_type": "stream",
     "text": [
      "count    450046.000000\n",
      "mean         10.098983\n",
      "std           7.540206\n",
      "min           1.000000\n",
      "25%           5.000000\n",
      "50%           8.000000\n",
      "75%          14.000000\n",
      "max         127.000000\n",
      "Name: product_id, dtype: float64\n"
     ]
    },
    {
     "data": {
      "text/plain": [
       "Text(0.5, 1.0, 'Distribución de número de productos por pedido')"
      ]
     },
     "execution_count": 363,
     "metadata": {},
     "output_type": "execute_result"
    },
    {
     "data": {
      "image/png": "[encoded data removed]",
      "text/plain": [
       "<Figure size 640x480 with 1 Axes>"
      ]
     },
     "metadata": {},
     "output_type": "display_data"
    }
   ],
   "source": [
    "# Estadisticas del total de productos comprados por pedido\n",
    "print(total_products_by_order.describe())\n",
    "\n",
    "# Graficar la distribución de total_products_by_order\n",
    "plt.hist(total_products_by_order, bins=127)\n",
    "plt.xlabel('Número de productos por pedido')\n",
    "plt.ylabel('Frecuencia')\n",
    "plt.title('Distribución de número de productos por pedido')"
   ]
  },
  {
   "cell_type": "markdown",
   "id": "designed-mortality",
   "metadata": {
    "id": "designed-mortality"
   },
   "source": [
    "Escribe aquí tus conclusiones\n",
    "\n",
    "**R:** La media de productos comparado en un pedido es de 10"
   ]
  },
  {
   "cell_type": "markdown",
   "id": "5e6b5537",
   "metadata": {
    "id": "5e6b5537"
   },
   "source": [
    "### [C2] ¿Cuáles son los 20 principales artículos que vuelven a pedirse con mayor frecuencia (muestra sus nombres e IDs de los productos)?"
   ]
  },
  {
   "cell_type": "code",
   "execution_count": 364,
   "id": "9374e55a",
   "metadata": {
    "id": "9374e55a"
   },
   "outputs": [
    {
     "name": "stdout",
     "output_type": "stream",
     "text": [
      "product_id  product_name            \n",
      "24852       Banana                      55763\n",
      "13176       Bag of Organic Bananas      44450\n",
      "21137       Organic Strawberries        28639\n",
      "21903       Organic Baby Spinach        26233\n",
      "47209       Organic Hass Avocado        23629\n",
      "47766       Organic Avocado             18743\n",
      "27845       Organic Whole Milk          16251\n",
      "47626       Large Lemon                 15044\n",
      "27966       Organic Raspberries         14748\n",
      "16797       Strawberries                13945\n",
      "26209       Limes                       13327\n",
      "22935       Organic Yellow Onion        11145\n",
      "24964       Organic Garlic              10411\n",
      "45007       Organic Zucchini            10076\n",
      "49683       Cucumber Kirby               9538\n",
      "28204       Organic Fuji Apple           8989\n",
      "8277        Apple Honeycrisp Organic     8836\n",
      "39275       Organic Blueberries          8799\n",
      "5876        Organic Lemon                8412\n",
      "49235       Organic Half & Half          8389\n",
      "Name: order_id, dtype: int64\n"
     ]
    }
   ],
   "source": [
    "top_best_selling_products = df_order_products_fullname[df_order_products_fullname['reordered'] == 1].groupby(['product_id', 'product_name'])['order_id'].count().sort_values(ascending=False).head(20)\n",
    "print(top_best_selling_products)"
   ]
  },
  {
   "cell_type": "markdown",
   "id": "80e70c74",
   "metadata": {
    "id": "80e70c74"
   },
   "source": [
    "Escribe aquí tus conclusiones\n",
    "\n",
    "**R:** Al mostrar la lista considerando también los productos que se re-compran, algunos productos cambiar de orden comparado con sólo mostrar los productos más vendidos sin consideerar la re-compra."
   ]
  },
  {
   "cell_type": "markdown",
   "id": "9d312b14",
   "metadata": {
    "id": "9d312b14"
   },
   "source": [
    "### [C3] Para cada producto, ¿cuál es la proporción de las veces que se pide y que se vuelve a pedir?"
   ]
  },
  {
   "cell_type": "code",
   "execution_count": null,
   "id": "efc4aa53",
   "metadata": {},
   "outputs": [],
   "source": []
  },
  {
   "cell_type": "code",
   "execution_count": 365,
   "id": "8ae9f4b1",
   "metadata": {
    "id": "8ae9f4b1"
   },
   "outputs": [
    {
     "name": "stdout",
     "output_type": "stream",
     "text": [
      "450046\n"
     ]
    }
   ],
   "source": [
    "# 3. Para cada producto, ¿cuál es la tasa de repetición del pedido (número de repeticiones de pedido/total de pedidos?\n",
    "# Calcular el total de pedidos de df_order_products\n",
    "total_orders = df_order_products['order_id'].nunique()\n",
    "print(total_orders)\n"
   ]
  },
  {
   "cell_type": "code",
   "execution_count": 375,
   "id": "103e7fe1",
   "metadata": {
    "id": "103e7fe1"
   },
   "outputs": [
    {
     "name": "stdout",
     "output_type": "stream",
     "text": [
      "product_id\n",
      "24852    66050\n",
      "13176    53297\n",
      "21137    37039\n",
      "21903    33971\n",
      "47209    29773\n",
      "47766    24689\n",
      "47626    21495\n",
      "16797    20018\n",
      "26209    19690\n",
      "27845    19600\n",
      "27966    19197\n",
      "22935    15898\n",
      "24964    15292\n",
      "45007    14584\n",
      "39275    13879\n",
      "49683    13675\n",
      "28204    12544\n",
      "5876     12232\n",
      "8277     11993\n",
      "40706    11781\n",
      "Name: product_id, dtype: int64\n"
     ]
    }
   ],
   "source": [
    "# De df_order_products calcular el numero de repeticiones del producto en cada pedido\n",
    "product_count = df_order_products.groupby('product_id')['product_id'].count().sort_values(ascending=False)\n",
    "print(product_count.head(20))"
   ]
  },
  {
   "cell_type": "code",
   "execution_count": 376,
   "id": "social-individual",
   "metadata": {
    "id": "social-individual"
   },
   "outputs": [
    {
     "name": "stdout",
     "output_type": "stream",
     "text": [
      "product_id\n",
      "24852    0.146763\n",
      "13176    0.118426\n",
      "21137    0.082300\n",
      "21903    0.075483\n",
      "47209    0.066155\n",
      "47766    0.054859\n",
      "47626    0.047762\n",
      "16797    0.044480\n",
      "26209    0.043751\n",
      "27845    0.043551\n",
      "27966    0.042656\n",
      "22935    0.035325\n",
      "24964    0.033979\n",
      "45007    0.032406\n",
      "39275    0.030839\n",
      "49683    0.030386\n",
      "28204    0.027873\n",
      "5876     0.027179\n",
      "8277     0.026648\n",
      "40706    0.026177\n",
      "Name: product_id, dtype: float64\n"
     ]
    }
   ],
   "source": [
    "# Calculando la proporción por pedido en porcentaje\n",
    "product_rate = product_count / total_orders\n",
    "print(product_rate.head(20))"
   ]
  },
  {
   "cell_type": "markdown",
   "id": "I10dEIAyldcO",
   "metadata": {
    "id": "I10dEIAyldcO"
   },
   "source": [
    "Escribe aquí tus conclusiones\n",
    "\n",
    "**R:** Los productos mas comprados tiene una razón del 14.7% y 11.8%, posteriormente los productos tienen una tasa de compra menor al 10%"
   ]
  },
  {
   "cell_type": "markdown",
   "id": "subject-boxing",
   "metadata": {
    "id": "subject-boxing"
   },
   "source": [
    "### [C4] Para cada cliente, ¿qué proporción de sus productos ya los había pedido?"
   ]
  },
  {
   "cell_type": "code",
   "execution_count": null,
   "id": "medical-couple",
   "metadata": {
    "id": "medical-couple",
    "scrolled": true
   },
   "outputs": [
    {
     "name": "stdout",
     "output_type": "stream",
     "text": [
      "450046\n"
     ]
    }
   ],
   "source": [
    "# 4. Para cada cliente, ¿qué proporción de los productos que pidió ya los había pedido? Calcula la tasa de repetición de pedido para cada usuario en lugar de para cada producto.\n",
    "# Agregar user_id a df_order_products\n",
    "df_order_products_with_client = df_order_products.merge(df_instacart_orders, on='order_id')\n"
   ]
  },
  {
   "cell_type": "code",
   "execution_count": 391,
   "id": "8892e4b4",
   "metadata": {
    "id": "8892e4b4"
   },
   "outputs": [
    {
     "name": "stdout",
     "output_type": "stream",
     "text": [
      "user_id  product_id\n",
      "2        9681          0.000002\n",
      "         12000         0.000002\n",
      "         13176         0.000002\n",
      "         16589         0.000002\n",
      "         20574         0.000002\n",
      "         21150         0.000002\n",
      "         22474         0.000002\n",
      "         22829         0.000002\n",
      "         24852         0.000002\n",
      "         27344         0.000002\n",
      "         27966         0.000002\n",
      "         30489         0.000002\n",
      "         32139         0.000002\n",
      "         32792         0.000004\n",
      "         33276         0.000002\n",
      "         34688         0.000002\n",
      "         35917         0.000002\n",
      "         36735         0.000002\n",
      "         37646         0.000002\n",
      "         45066         0.000002\n",
      "         45613         0.000002\n",
      "         47209         0.000002\n",
      "         47766         0.000002\n",
      "         48110         0.000002\n",
      "         49451         0.000002\n",
      "4        7160          0.000002\n",
      "         42329         0.000002\n",
      "5        3376          0.000002\n",
      "         5999          0.000002\n",
      "         8518          0.000002\n",
      "Name: product_id, dtype: float64\n",
      "count    3.381866e+06\n",
      "mean     2.986216e-06\n",
      "std      1.970561e-06\n",
      "min      2.221995e-06\n",
      "25%      2.221995e-06\n",
      "50%      2.221995e-06\n",
      "75%      2.221995e-06\n",
      "max      5.110589e-05\n",
      "Name: product_id, dtype: float64\n"
     ]
    }
   ],
   "source": [
    "# De df_order_products calcular el numero de repeticiones del producto en cada pedido\n",
    "product_by_user_count = df_order_products_with_client.groupby(['user_id', 'product_id'])['product_id'].count().sort_index()\n",
    "# print(product_by_user_count.head(50))\n",
    "client_rate_by_product = product_by_user_count / total_orders\n",
    "print(client_rate_by_product.head(30))\n",
    "print(client_rate_by_product.describe())"
   ]
  },
  {
   "cell_type": "markdown",
   "id": "BgJSvXDsleXz",
   "metadata": {
    "id": "BgJSvXDsleXz"
   },
   "source": [
    "Escribe aquí tus conclusiones\n",
    "\n",
    "**R:** La tasa es muy baja"
   ]
  },
  {
   "cell_type": "markdown",
   "id": "92d35137",
   "metadata": {
    "id": "92d35137"
   },
   "source": [
    "### [C5] ¿Cuáles son los 20 principales artículos que las personas ponen primero en sus carritos?"
   ]
  },
  {
   "cell_type": "code",
   "execution_count": null,
   "id": "0ae57274",
   "metadata": {
    "id": "0ae57274",
    "scrolled": true
   },
   "outputs": [],
   "source": [
    "# 5. ¿Cuáles son los 20 principales artículos que la gente pone primero en sus carritos (muestra las IDs de los productos, sus nombres, y el número de veces\n",
    "# en que fueron el primer artículo en añadirse al carrito)?\n",
    "first_products_in_order = df_order_products_fullname[df_order_products_fullname['add_to_cart_order'] == 1]"
   ]
  },
  {
   "cell_type": "code",
   "execution_count": 197,
   "id": "forty-netherlands",
   "metadata": {
    "id": "forty-netherlands",
    "scrolled": true
   },
   "outputs": [
    {
     "name": "stdout",
     "output_type": "stream",
     "text": [
      "    order_id  product_id  add_to_cart_order  reordered  \\\n",
      "1     567889        1560                  1          1   \n",
      "2    2261212       26683                  1          1   \n",
      "14   1961225       37553                  1          1   \n",
      "16    639939       10017                  1          1   \n",
      "23    750040        8518                  1          0   \n",
      "\n",
      "                                         product_name  aisle_id  department_id  \n",
      "1                                          Bag Of Ice        37              1  \n",
      "2   Cafe Latte Pure Lightly Sweetened Iced Coffee ...        91             16  \n",
      "14                          Iced Coffee Lightly Sweet        26              7  \n",
      "16                                      Tilapia Filet        39             12  \n",
      "23                                  Organic Red Onion        83              4  \n"
     ]
    }
   ],
   "source": [
    "print(first_products_in_order.head())"
   ]
  },
  {
   "cell_type": "code",
   "execution_count": 200,
   "id": "08e41ec2",
   "metadata": {
    "id": "08e41ec2"
   },
   "outputs": [
    {
     "name": "stdout",
     "output_type": "stream",
     "text": [
      "product_id  product_name               \n",
      "24852       Banana                         15562\n",
      "13176       Bag of Organic Bananas         11026\n",
      "27845       Organic Whole Milk              4363\n",
      "21137       Organic Strawberries            3946\n",
      "47209       Organic Hass Avocado            3390\n",
      "21903       Organic Baby Spinach            3336\n",
      "47766       Organic Avocado                 3044\n",
      "19660       Spring Water                    2336\n",
      "16797       Strawberries                    2308\n",
      "27966       Organic Raspberries             2024\n",
      "44632       Sparkling Water Grapefruit      1914\n",
      "49235       Organic Half & Half             1797\n",
      "47626       Large Lemon                     1737\n",
      "196         Soda                            1733\n",
      "38689       Organic Reduced Fat Milk        1397\n",
      "26209       Limes                           1370\n",
      "12341       Hass Avocados                   1340\n",
      "5785        Organic Reduced Fat 2% Milk     1310\n",
      "27086       Half & Half                     1309\n",
      "43352       Raspberries                     1246\n",
      "Name: product_id, dtype: int64\n"
     ]
    }
   ],
   "source": [
    "top_main_first_products = first_products_in_order.groupby(['product_id', 'product_name'])['product_id'].count().sort_values(ascending=False).head(20)\n",
    "print(top_main_first_products)"
   ]
  },
  {
   "cell_type": "markdown",
   "id": "28ce9872",
   "metadata": {
    "id": "28ce9872"
   },
   "source": [
    "Escribe aquí tus conclusiones\n",
    "\n",
    "**R:** El producto que principalmente ponen los clientes como primer producto en su carrito, son las bananas"
   ]
  },
  {
   "cell_type": "markdown",
   "id": "uITbFCEoDosC",
   "metadata": {
    "id": "uITbFCEoDosC"
   },
   "source": [
    "### Conclusion general del proyecto:\n",
    "\n",
    "**R:** Es muy importante analizar bien los datos, primero entenderlos, posteriormente la limpieza es un paso muy importante en el cual se debe tomar desiciones para no alterar o contaminar la información original.\n",
    "\n",
    "Una vez que ya se ha realizado la limpieza, se puede comenzar el análisis de datos, ya sea realizando operaciones con ellos o graficandolos para entenderlos visualmente."
   ]
  }
 ],
 "metadata": {
  "colab": {
   "provenance": []
  },
  "kernelspec": {
   "display_name": "tripleten-dBYMD7ZO-py3.13",
   "language": "python",
   "name": "python3"
  },
  "language_info": {
   "codemirror_mode": {
    "name": "ipython",
    "version": 3
   },
   "file_extension": ".py",
   "mimetype": "text/x-python",
   "name": "python",
   "nbconvert_exporter": "python",
   "pygments_lexer": "ipython3",
   "version": "3.13.1"
  },
  "toc": {
   "base_numbering": 1,
   "nav_menu": {},
   "number_sections": true,
   "sideBar": true,
   "skip_h1_title": true,
   "title_cell": "Table of Contents",
   "title_sidebar": "Contents",
   "toc_cell": false,
   "toc_position": {},
   "toc_section_display": true,
   "toc_window_display": false
  }
 },
 "nbformat": 4,
 "nbformat_minor": 5
}
