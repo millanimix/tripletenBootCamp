{
  "cells": [
    {
      "cell_type": "markdown",
      "metadata": {},
      "source": [
        "# Sprint 6 - Week 1 - Class 1\n",
        "\n",
        "Tratamiento de datos de juegos\n",
        "\n",
        "# Librerías y datos a utilizar"
      ],
      "id": "f0df5346-90e9-4367-bb12-be3d0b5948f0"
    },
    {
      "cell_type": "code",
      "execution_count": 1,
      "metadata": {},
      "outputs": [],
      "source": [
        "#Importar librerias relevantes\n",
        "import pandas as pd\n",
        "pd.options.display.max_columns = None\n",
        "import numpy as np\n",
        "from scipy import stats as st\n",
        "\n",
        "#Leer archivo de trabajo\n",
        "df_games = pd.read_csv(\"games.csv\", sep = \",\")"
      ],
      "id": "abbffb94"
    },
    {
      "cell_type": "markdown",
      "metadata": {},
      "source": [
        "# Diagnóstico inicial\n",
        "\n",
        "## E1: Info, head y conteo de nulos\n",
        "\n",
        "Obtén:\n",
        "\n",
        "-   Informacion general\n",
        "-   Cabecera\n",
        "-   Conteo de valores perdidos"
      ],
      "id": "c0e8da6e-b223-4c20-94ba-964f1e3b7abb"
    },
    {
      "cell_type": "code",
      "execution_count": 2,
      "metadata": {},
      "outputs": [
        {
          "output_type": "stream",
          "name": "stdout",
          "text": [
            "<class 'pandas.core.frame.DataFrame'>\n",
            "RangeIndex: 16715 entries, 0 to 16714\n",
            "Data columns (total 11 columns):\n",
            " #   Column           Non-Null Count  Dtype  \n",
            "---  ------           --------------  -----  \n",
            " 0   Name             16713 non-null  object \n",
            " 1   Platform         16715 non-null  object \n",
            " 2   Year_of_Release  16446 non-null  float64\n",
            " 3   Genre            16713 non-null  object \n",
            " 4   NA_sales         16715 non-null  float64\n",
            " 5   EU_sales         16715 non-null  float64\n",
            " 6   JP_sales         16715 non-null  float64\n",
            " 7   Other_sales      16715 non-null  float64\n",
            " 8   Critic_Score     8137 non-null   float64\n",
            " 9   User_Score       10014 non-null  object \n",
            " 10  Rating           9949 non-null   object \n",
            "dtypes: float64(6), object(5)\n",
            "memory usage: 1.4+ MB"
          ]
        },
        {
          "output_type": "display_data",
          "metadata": {},
          "data": {
            "text/plain": [
              "Name                  2\n",
              "Platform              0\n",
              "Year_of_Release     269\n",
              "Genre                 2\n",
              "NA_sales              0\n",
              "EU_sales              0\n",
              "JP_sales              0\n",
              "Other_sales           0\n",
              "Critic_Score       8578\n",
              "User_Score         6701\n",
              "Rating             6766\n",
              "dtype: int64"
            ]
          }
        }
      ],
      "source": [
        "# Informacion general\n",
        "df_games.info()\n",
        "\n",
        "# Cabecera\n",
        "df_games.head(10)\n",
        "\n",
        "# Conteo de valores perdidos\n",
        "df_games.isna().sum()"
      ],
      "id": "b885b0fc"
    },
    {
      "cell_type": "markdown",
      "metadata": {},
      "source": [
        "# Preparación de datos\n",
        "\n",
        "## E2: Nombres de columnas\n",
        "\n",
        "-   Poner los nombres de las columnas en minusculas"
      ],
      "id": "7f96a0ee-e7fe-40ee-b8cb-68f725234f5e"
    },
    {
      "cell_type": "code",
      "execution_count": 3,
      "metadata": {},
      "outputs": [
        {
          "output_type": "display_data",
          "metadata": {},
          "data": {
            "text/plain": [
              "Index(['name', 'platform', 'year_of_release', 'genre', 'na_sales', 'eu_sales',\n",
              "       'jp_sales', 'other_sales', 'critic_score', 'user_score', 'rating'],\n",
              "      dtype='object')"
            ]
          }
        }
      ],
      "source": [
        "#Poner los nombres de las columnas en minusculas\n",
        "nombres = list(df_games.columns)\n",
        "nombres_new = [nombre.lower() for nombre in nombres]\n",
        "df_games.columns = nombres_new\n",
        "df_games.columns"
      ],
      "id": "9166c320"
    },
    {
      "cell_type": "markdown",
      "metadata": {},
      "source": [
        "## E3: Columna names\n",
        "\n",
        "-   Imprime una tabla con nombre del juego y un conteo de veces que se\n",
        "    repite ese nombre, ordenado de mayor a menor\n",
        "-   Poner todos los nombres en minúsculas\n",
        "-   Quitar espacios al inicio o al final\n",
        "-   Borrar todos los “:”\n",
        "-   Verifica cómo quedó esa columna luego de las modificaciones"
      ],
      "id": "eee193e5-925d-4ed1-95c4-aea9becccac1"
    },
    {
      "cell_type": "code",
      "execution_count": 4,
      "metadata": {},
      "outputs": [
        {
          "output_type": "display_data",
          "metadata": {},
          "data": {
            "text/plain": [
              "name\n",
              "need for speed most wanted            12\n",
              "fifa 14                                9\n",
              "lego marvel super heroes               9\n",
              "ratatouille                            9\n",
              "madden nfl 07                          9\n",
              "                                      ..\n",
              "15 days                                1\n",
              "aiyoku no eustia                       1\n",
              "woody woodpecker in crazy castle 5     1\n",
              "lma manager 2007                       1\n",
              "girls only                             1\n",
              "Name: count, Length: 11549, dtype: int64"
            ]
          }
        }
      ],
      "source": [
        "#Visualizar casos\n",
        "df_games['name'].value_counts(dropna=False).sort_values(ascending=False)\n",
        "\n",
        "df_games['name'] = df_games['name'].str.lower().str.strip().str.replace(\":\",\"\")\n",
        "\n",
        "df_games['name'].value_counts(dropna=False).sort_values(ascending=False)"
      ],
      "id": "241f22e1"
    },
    {
      "cell_type": "markdown",
      "metadata": {},
      "source": [
        "## E4: Missing values - columna name\n",
        "\n",
        "-   Identificar los casos perdidos para columna “name”\n",
        "-   Reemplazar los missing values por algún valor que te parezca\n",
        "    razonable (si es que reemplazar te parece razonable)"
      ],
      "id": "10e2e60b-f1a8-4e92-8ded-74ab0b434ba8"
    },
    {
      "cell_type": "code",
      "execution_count": 5,
      "metadata": {},
      "outputs": [
        {
          "output_type": "display_data",
          "metadata": {},
          "data": {
            "text/html": [
              "\n",
              "</div>"
            ]
          }
        }
      ],
      "source": [
        "#Identificar los casos perdidos\n",
        "df_games[df_games['name'].isna()]\n",
        "\n",
        "#Reemplazar datos perdidos\n",
        "df_games['name'] = df_games['name'].fillna(\"not_defined\")\n",
        "df_games[df_games['name'] == \"not_defined\"]"
      ],
      "id": "83ca25e9"
    },
    {
      "cell_type": "markdown",
      "metadata": {},
      "source": [
        "## E5: Columna platform_group\n",
        "\n",
        "-   Crear grupos de plataformas y guardalos en una nueva columna llamada\n",
        "    platform_group."
      ],
      "id": "60b6cbe6-701e-4895-bbca-8cef27a5cb95"
    },
    {
      "cell_type": "code",
      "execution_count": 6,
      "metadata": {},
      "outputs": [
        {
          "output_type": "display_data",
          "metadata": {},
          "data": {
            "text/plain": [
              "platform_group\n",
              "PlayStation    6720\n",
              "Nintendo       6270\n",
              "XBox           2333\n",
              "PC              975\n",
              "Other           417\n",
              "Name: count, dtype: int64"
            ]
          }
        }
      ],
      "source": [
        "#Visualizar casos\n",
        "df_games['platform'].value_counts(dropna=False).sort_index(ascending=True)\n",
        "\n",
        "#Crear grupo de Plataformas\n",
        "def GrupoPlat (x):\n",
        "    if x in ['3DS','DS','GB','GBA','GC','N64','NES','SNES','Wii','WiiU']:\n",
        "        return \"Nintendo\"\n",
        "    elif x in ['PC','PCFX']:\n",
        "        return \"PC\"\n",
        "    elif x in ['PS','PS2','PS3','PS4','PSP','PSV']:\n",
        "        return \"PlayStation\"\n",
        "    elif x in ['X360','XB','XOne']:\n",
        "        return \"XBox\"\n",
        "    else:\n",
        "        return \"Other\"\n",
        "        \n",
        "df_games['platform_group'] = df_games['platform'].apply(GrupoPlat)\n",
        "df_games.sample(10)\n",
        "\n",
        "df_games['platform_group'].value_counts()"
      ],
      "id": "63f0a33b"
    },
    {
      "cell_type": "markdown",
      "metadata": {},
      "source": [
        "## E6: Columna Year of Release\n",
        "\n",
        "-   Visualizar casos\n",
        "-   Identificar los casos perdidos\n",
        "-   SIN imputar, extrae estadísticas básicas respecto a esta columna.\n",
        "    Hay muchas formas de hacerlo. Para una de ellas, te puede servir\n",
        "    usar `.notnull()` dentro de un `query`."
      ],
      "id": "ab6b4781-bc97-4234-947c-3def81b987d9"
    },
    {
      "cell_type": "code",
      "execution_count": 7,
      "metadata": {},
      "outputs": [
        {
          "output_type": "display_data",
          "metadata": {},
          "data": {
            "text/plain": [
              "count    16446.000000\n",
              "mean      2006.484616\n",
              "std          5.877050\n",
              "min       1980.000000\n",
              "25%       2003.000000\n",
              "50%       2007.000000\n",
              "75%       2010.000000\n",
              "max       2016.000000\n",
              "Name: year_of_release, dtype: float64"
            ]
          }
        }
      ],
      "source": [
        "#Visualizar casos\n",
        "df_games['year_of_release'].describe()\n",
        "\n",
        "#Identificar los casos perdidos\n",
        "df_games[df_games['year_of_release'].isna()]\n",
        "\n",
        "df_games.query(\"year_of_release.notnull()\")['year_of_release'].describe()"
      ],
      "id": "07f8a53a"
    }
  ],
  "nbformat": 4,
  "nbformat_minor": 5,
  "metadata": {
    "kernelspec": {
      "name": "python3",
      "display_name": "Python 3 (ipykernel)",
      "language": "python",
      "path": "C:de Chile_MLOps_ejemplo_telecom.venv"
    },
    "language_info": {
      "name": "python",
      "codemirror_mode": {
        "name": "ipython",
        "version": "3"
      },
      "file_extension": ".py",
      "mimetype": "text/x-python",
      "nbconvert_exporter": "python",
      "pygments_lexer": "ipython3",
      "version": "3.12.7"
    }
  }
}