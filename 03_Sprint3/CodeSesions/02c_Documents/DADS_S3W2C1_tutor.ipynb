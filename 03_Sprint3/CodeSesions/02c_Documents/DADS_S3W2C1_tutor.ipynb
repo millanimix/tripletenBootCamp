{
  "cells": [
    {
      "cell_type": "markdown",
      "metadata": {},
      "source": [
        "# Sprint 3 - Week 2 - Class 1\n",
        "\n",
        "Valores Duplicados, Ausentes y Filtrado\n",
        "\n",
        "En este caso de estudio, vamos a analizar el comportamiento del ranking\n",
        "FIFA desde que inició su medición en el año 1993, a fin de presentar al\n",
        "público la situación y el rendimiento de las distintas selecciones\n",
        "nacionales afiliadas.\n",
        "\n",
        "En este contexto, nos interesa contestar entre otras las siguientes\n",
        "preguntas:\n",
        "\n",
        "-   ¿Cómo es el rendimiento histórico por confederación?\n",
        "-   ¿Cómo ha sido el rendimiento histórico de su país comparado con el\n",
        "    promedio de la confederación a la cual pertenece?\n",
        "-   ¿Cuáles han sido históricamente los mejores países?\n",
        "-   ¿Quienes han sido los top 5 países previo al inicio de cada mundial?\n",
        "    ¿Entre estos países han estado los campeones del mundo\n",
        "    correspondientes?\n",
        "-   Según esta puntuación, ¿las selecciones son cada vez más\n",
        "    competitivas o cada vez parece existir más diferencia a través del\n",
        "    tiempo?\n",
        "\n",
        "Con este propósito usted cuenta con un conjunto de datos en el archivo\n",
        "`fifa_rank.csv` cuya metadata se detalla a continuación:\n",
        "\n",
        "-   Fuente: FIFA Site 2018\n",
        "-   Dimensiones:\n",
        "    -   `Country`: Nombre del pais afiliado a la FIFA cuya selección de\n",
        "        fútbol es puntuada\n",
        "    -   `Confederation`: Confederación a la que pertenece de acuerdo a\n",
        "        la división de la FIFA\n",
        "    -   `Rank_Date`: Fecha de publicación del ranking FIFA entre marzo\n",
        "        de 1993 y junio de 2018 (previo al mundial de Rusia)\n",
        "    -   `Points_Old_Version`: Puntos obtenidos conforme el sistema\n",
        "        antiguo de la FIFA (previo al año 2011)\n",
        "    -   `Ponts_New_Version`: Puntos obtenidos conforme el sistema nuevo\n",
        "        de la FIFA (a partir del años 2011)\n",
        "    -   `rank`: Posición en el ranking oficial de la FIFA dados los\n",
        "        puntos calculados\n",
        "\n",
        "## CARGAR LIBRERIAS Y DATOS"
      ],
      "id": "ed60bb8e-b147-419b-96c6-10cff9fe1713"
    },
    {
      "cell_type": "code",
      "execution_count": 1,
      "metadata": {},
      "outputs": [],
      "source": [
        "#Cargar librerias\n",
        "import pandas as pd\n",
        "import numpy as np\n",
        "pd.options.display.max_columns = None"
      ],
      "id": "071701aa"
    },
    {
      "cell_type": "markdown",
      "metadata": {},
      "source": [
        "### Ajustar ruta relativa según contexto"
      ],
      "id": "194ea5af-a83f-437b-a376-dc68e71cc862"
    },
    {
      "cell_type": "code",
      "execution_count": 2,
      "metadata": {},
      "outputs": [],
      "source": [
        "#Cargar datos\n",
        "df_fifa = pd.read_csv(\"fifa_rank.csv\", sep = \",\")"
      ],
      "id": "3abc7a55"
    },
    {
      "cell_type": "markdown",
      "metadata": {},
      "source": [
        "## DIAGNÓSTICO INICIAL"
      ],
      "id": "fafe7d4c-5fc1-451a-b014-75cadbdac04a"
    },
    {
      "cell_type": "code",
      "execution_count": 3,
      "metadata": {},
      "outputs": [
        {
          "output_type": "stream",
          "name": "stdout",
          "text": [
            "<class 'pandas.core.frame.DataFrame'>\n",
            "RangeIndex: 57797 entries, 0 to 57796\n",
            "Data columns (total 6 columns):\n",
            " #   Column              Non-Null Count  Dtype  \n",
            "---  ------              --------------  -----  \n",
            " 0   Country             57797 non-null  object \n",
            " 1   Confederation       54815 non-null  object \n",
            " 2   Rank_Date           57797 non-null  object \n",
            " 3   Points_Old_Version  40382 non-null  float64\n",
            " 4   Points_New_Version  57797 non-null  object \n",
            " 5   rank                57797 non-null  int64  \n",
            "dtypes: float64(1), int64(1), object(4)\n",
            "memory usage: 2.6+ MB"
          ]
        }
      ],
      "source": [
        "#Visualizar información general de los datos\n",
        "df_fifa.info()"
      ],
      "id": "80a6b778"
    },
    {
      "cell_type": "raw",
      "metadata": {
        "raw_mimetype": "text/html"
      },
      "source": [
        "<!-- **CONCLUSIONES DE LA INFORMACION GENERAL DEL ARCHIVO:** -->"
      ],
      "id": "89fe47a9-dc9a-4515-9084-83c866c4bc4f"
    },
    {
      "cell_type": "raw",
      "metadata": {
        "raw_mimetype": "text/html"
      },
      "source": [
        "<!-- - Las dimensiones del dataframe son 57,797 registros (filas) y 6 columnas (campos) -->"
      ],
      "id": "d646ee52-c06d-4d45-ab37-424b239cd7fe"
    },
    {
      "cell_type": "raw",
      "metadata": {
        "raw_mimetype": "text/html"
      },
      "source": [
        "<!-- - Los Nombres de las columnas no están bien presentados, en concreto \"rank\" esta en minúsculas y el resto no. Se debería estandarizar -->"
      ],
      "id": "1c7cb49e-ef61-4a4b-8c22-aa04cb41e8a7"
    },
    {
      "cell_type": "raw",
      "metadata": {
        "raw_mimetype": "text/html"
      },
      "source": [
        "<!-- - Las columnas Confederation, Points_Old_Version y Poins_New_Version tendrían valores perdidos -->"
      ],
      "id": "61607d71-e19f-4cd2-91ac-26e9b890568e"
    },
    {
      "cell_type": "raw",
      "metadata": {
        "raw_mimetype": "text/html"
      },
      "source": [
        "<!-- - La columna Poins_New_Version es de un tipo object (string) que no corresponde, debería cambiarse a float  -->"
      ],
      "id": "67e7bca2-85b2-4b1b-8ff4-e75174019793"
    },
    {
      "cell_type": "raw",
      "metadata": {
        "raw_mimetype": "text/html"
      },
      "source": [
        "<!-- - La columna rank date es de un tipo object (string) que no corresponde, debería ser de tipo fecha -->"
      ],
      "id": "6bc8a189-10f6-42e7-be99-bcc0a08da969"
    },
    {
      "cell_type": "code",
      "execution_count": 4,
      "metadata": {},
      "outputs": [
        {
          "output_type": "display_data",
          "metadata": {},
          "data": {
            "text/html": [
              "\n",
              "</div>"
            ]
          }
        }
      ],
      "source": [
        "#Visualizar cabecera de los datos\n",
        "df_fifa.head(n = 10)"
      ],
      "id": "e02d80c9"
    },
    {
      "cell_type": "code",
      "execution_count": 5,
      "metadata": {},
      "outputs": [
        {
          "output_type": "display_data",
          "metadata": {},
          "data": {
            "text/html": [
              "\n",
              "</div>"
            ]
          }
        }
      ],
      "source": [
        "#Visualizar una muestra aleatoria de los datos\n",
        "df_fifa.sample(n = 10)"
      ],
      "id": "603fb7cf"
    },
    {
      "cell_type": "raw",
      "metadata": {
        "raw_mimetype": "text/html"
      },
      "source": [
        "<!-- **CONCLUSIONES DE LA VISUALIZACION** -->"
      ],
      "id": "efbeda81-bb5c-4649-92b8-9d2d5dd6c2b3"
    },
    {
      "cell_type": "raw",
      "metadata": {
        "raw_mimetype": "text/html"
      },
      "source": [
        "<!-- - Se podria contar con campos adicionales de años y meses a partir de la fecha considerando que los datos son mensuales -->"
      ],
      "id": "36749721-a776-4347-88e3-ac60c75afa4f"
    },
    {
      "cell_type": "raw",
      "metadata": {
        "raw_mimetype": "text/html"
      },
      "source": [
        "<!-- - Se podria unificar los puntos antiguos y nuevos en una sola columna unificada -->"
      ],
      "id": "0dfcf9fa-f5a2-4e2b-84ac-02a9e0f64b02"
    },
    {
      "cell_type": "raw",
      "metadata": {
        "raw_mimetype": "text/html"
      },
      "source": [
        "<!-- - Al existir demasiados datos se debería verificar la existencia de duplicados -->"
      ],
      "id": "23124b6b-b19a-45f3-b842-c51f8b04bb5b"
    },
    {
      "cell_type": "markdown",
      "metadata": {},
      "source": [
        "## PROCESAMIENTO\n",
        "\n",
        "### Ajustar nombres de columnas\n",
        "\n",
        "-   Poner todos los nombres de columnas en minusculas"
      ],
      "id": "7f5790b5-2347-40d6-9169-8df4b9fff2e1"
    },
    {
      "cell_type": "code",
      "execution_count": 6,
      "metadata": {},
      "outputs": [],
      "source": [
        "col_originales = df_fifa.columns\n",
        "col_nuevas = [col.lower() for col in col_originales]\n",
        "df_fifa.columns = col_nuevas"
      ],
      "id": "22d23a1b"
    },
    {
      "cell_type": "code",
      "execution_count": 7,
      "metadata": {},
      "outputs": [
        {
          "output_type": "display_data",
          "metadata": {},
          "data": {
            "text/html": [
              "\n",
              "</div>"
            ]
          }
        }
      ],
      "source": [
        "df_fifa.head(10)"
      ],
      "id": "a89400e0"
    },
    {
      "cell_type": "markdown",
      "metadata": {},
      "source": [
        "### Visualizar datos en confederation\n",
        "\n",
        "-   Visualizar cuantos casos hay por confederation"
      ],
      "id": "613030e9-26b4-4cb7-bfdc-0cb254fdf455"
    },
    {
      "cell_type": "code",
      "execution_count": 8,
      "metadata": {},
      "outputs": [
        {
          "output_type": "display_data",
          "metadata": {},
          "data": {
            "text/plain": [
              "confederation\n",
              "AFC         12481\n",
              "CAF         14876\n",
              "CONCACAF     9664\n",
              "CONMEBOL     2860\n",
              "UEFA        14934\n",
              "NaN          2982\n",
              "Name: country, dtype: int64"
            ]
          }
        }
      ],
      "source": [
        "#Visualizar cuantos casos por confederation\n",
        "df_fifa.groupby('confederation', dropna=False)['country'].count()"
      ],
      "id": "ad198ac1"
    },
    {
      "cell_type": "raw",
      "metadata": {
        "raw_mimetype": "text/html"
      },
      "source": [
        "<!-- **CONCLUSIONES** -->"
      ],
      "id": "d594c8f8-d2e2-4a9a-9b74-45931848b155"
    },
    {
      "cell_type": "raw",
      "metadata": {
        "raw_mimetype": "text/html"
      },
      "source": [
        "<!-- - Es necesario sustituir los datos perdidos en esta variable por \"OFC\" -->"
      ],
      "id": "f1ad5683-6763-40a5-b56e-cceeae664a8e"
    },
    {
      "cell_type": "markdown",
      "metadata": {},
      "source": [
        "### Ajustar formato de columna rank_date\n",
        "\n",
        "-   Cambiar a formato fecha"
      ],
      "id": "fb6a0a5d-e040-4c48-93e9-3cde970984e6"
    },
    {
      "cell_type": "code",
      "execution_count": 9,
      "metadata": {},
      "outputs": [
        {
          "output_type": "stream",
          "name": "stderr",
          "text": [
            "C:\\Users\\rodon\\AppData\\Local\\Temp\\ipykernel_38516\\4002048125.py:1: UserWarning:\n",
            "\n",
            "The argument 'infer_datetime_format' is deprecated and will be removed in a future version. A strict version of it is now the default, see https://pandas.pydata.org/pdeps/0004-consistent-to-datetime-parsing.html. You can safely remove this argument.\n"
          ]
        }
      ],
      "source": [
        "df_fifa['rank_date'] = pd.to_datetime(df_fifa['rank_date'], infer_datetime_format=True)"
      ],
      "id": "89af05b8"
    },
    {
      "cell_type": "code",
      "execution_count": 10,
      "metadata": {},
      "outputs": [
        {
          "output_type": "stream",
          "name": "stdout",
          "text": [
            "<class 'pandas.core.frame.DataFrame'>\n",
            "RangeIndex: 57797 entries, 0 to 57796\n",
            "Data columns (total 6 columns):\n",
            " #   Column              Non-Null Count  Dtype         \n",
            "---  ------              --------------  -----         \n",
            " 0   country             57797 non-null  object        \n",
            " 1   confederation       54815 non-null  object        \n",
            " 2   rank_date           57797 non-null  datetime64[ns]\n",
            " 3   points_old_version  40382 non-null  float64       \n",
            " 4   points_new_version  57797 non-null  object        \n",
            " 5   rank                57797 non-null  int64         \n",
            "dtypes: datetime64[ns](1), float64(1), int64(1), object(3)\n",
            "memory usage: 2.6+ MB"
          ]
        }
      ],
      "source": [
        "df_fifa.info()"
      ],
      "id": "fa04b411"
    },
    {
      "cell_type": "markdown",
      "metadata": {},
      "source": [
        "### Adicionar columnas de año y mes\n",
        "\n",
        "-   Crear campo `year`\n",
        "-   Crear campo `month`\n",
        "-   Cuantos casos hay por cada mes y año\n",
        "-   Hacer un primer grafico considerando que existen demasiados casos"
      ],
      "id": "6d041c9d-7d88-4d71-8e69-255457f63851"
    },
    {
      "cell_type": "code",
      "execution_count": 11,
      "metadata": {},
      "outputs": [],
      "source": [
        "#Campo year\n",
        "df_fifa['year'] = pd.DatetimeIndex(df_fifa['rank_date']).year\n",
        "\n",
        "#Campo month\n",
        "df_fifa['month'] = pd.DatetimeIndex(df_fifa['rank_date']).month"
      ],
      "id": "c3dd7631"
    },
    {
      "cell_type": "code",
      "execution_count": 12,
      "metadata": {},
      "outputs": [
        {
          "output_type": "display_data",
          "metadata": {},
          "data": {
            "text/html": [
              "\n",
              "</div>"
            ]
          }
        }
      ],
      "source": [
        "df_fifa.sample(10)"
      ],
      "id": "3938be2f"
    },
    {
      "cell_type": "code",
      "execution_count": 13,
      "metadata": {},
      "outputs": [
        {
          "output_type": "display_data",
          "metadata": {},
          "data": {
            "text/plain": [
              "year  month\n",
              "1993  8        167\n",
              "      9        167\n",
              "      10       167\n",
              "      11       168\n",
              "      12       168\n",
              "              ... \n",
              "2018  2        211\n",
              "      3        211\n",
              "      4        211\n",
              "      5        211\n",
              "      6        211\n",
              "Name: country, Length: 285, dtype: int64"
            ]
          }
        }
      ],
      "source": [
        "#Visualizar cuantos casos hay por cada mes y año\n",
        "df_fifa.groupby(['year','month'])['country'].count()"
      ],
      "id": "032a3e26"
    },
    {
      "cell_type": "code",
      "execution_count": 14,
      "metadata": {},
      "outputs": [
        {
          "output_type": "display_data",
          "metadata": {},
          "data": {
            "image/png": "[encoded data removed]"
          }
        }
      ],
      "source": [
        "#Hacer un primer grafico considerando que existen demasiados casos\n",
        "df_grupos_meses = df_fifa.groupby(['year','month'])['country'].count()\n",
        "df_grupos_meses.plot(\n",
        "    kind=\"line\",\n",
        "    xlabel=\"Año, Mes\",\n",
        "    ylabel=\"# Paises\",\n",
        "    title=\"Cantidad de Paises Calificados\"\n",
        ")"
      ],
      "id": "586cdea3"
    },
    {
      "cell_type": "raw",
      "metadata": {
        "raw_mimetype": "text/html"
      },
      "source": [
        "<!-- **CONCLUSIONES** -->"
      ],
      "id": "aa0f15fd-b5ac-4029-a5e5-993d8afe74a7"
    },
    {
      "cell_type": "raw",
      "metadata": {
        "raw_mimetype": "text/html"
      },
      "source": [
        "<!-- - Va a ser necesario revisar los datos entre los años 2007 y 2011 pues parece que existen duplicados -->"
      ],
      "id": "a5950f6f-27ca-48f0-941c-5c038bad7de2"
    },
    {
      "cell_type": "markdown",
      "metadata": {},
      "source": [
        "### Visualizar datos en Points_Old_Version\n",
        "\n",
        "-   Visualizar cuantos casos hay para cada valor posibles\n",
        "-   Visualizar cuantos NA hay por año - mes"
      ],
      "id": "870fb419-e9f2-4108-b25f-553312bfd9fa"
    },
    {
      "cell_type": "code",
      "execution_count": 15,
      "metadata": {},
      "outputs": [
        {
          "output_type": "display_data",
          "metadata": {},
          "data": {
            "text/plain": [
              "points_old_version\n",
              "NaN       17415\n",
              "0.0        1044\n",
              "7.0         301\n",
              "3.0         295\n",
              "11.0        295\n",
              "          ...  \n",
              "1134.0        1\n",
              "1479.0        1\n",
              "999.0         1\n",
              "1616.0        1\n",
              "1396.0        1\n",
              "Name: count, Length: 1376, dtype: int64"
            ]
          }
        }
      ],
      "source": [
        "#Visualizar cuantos casos\n",
        "df_fifa['points_old_version'].value_counts(dropna=False)"
      ],
      "id": "a25dfb21"
    },
    {
      "cell_type": "code",
      "execution_count": 16,
      "metadata": {},
      "outputs": [
        {
          "output_type": "display_data",
          "metadata": {},
          "data": {
            "text/plain": [
              "year  month\n",
              "2011  8        206\n",
              "      9        207\n",
              "      10       207\n",
              "      11       208\n",
              "      12       209\n",
              "              ... \n",
              "2018  2        211\n",
              "      3        211\n",
              "      4        211\n",
              "      5        211\n",
              "      6        211\n",
              "Name: count, Length: 83, dtype: int64"
            ]
          }
        }
      ],
      "source": [
        "df_fifa[df_fifa['points_old_version'].isna()][['year','month']].value_counts().sort_index()"
      ],
      "id": "56ea26e7"
    },
    {
      "cell_type": "raw",
      "metadata": {
        "raw_mimetype": "text/html"
      },
      "source": [
        "<!-- **CONCLUSIONES** -->"
      ],
      "id": "32d19b6e-6433-447e-8ec0-8ee2140802d9"
    },
    {
      "cell_type": "raw",
      "metadata": {
        "raw_mimetype": "text/html"
      },
      "source": [
        "<!-- - Los valores perdidos corresponden a los años posteriores a 2011 donde se reformó la clasificacion -->"
      ],
      "id": "b3754bd8-2c1e-4100-93fa-b5dfe4124c51"
    },
    {
      "cell_type": "markdown",
      "metadata": {},
      "source": [
        "### Visualizar datos en Points_New_Version\n",
        "\n",
        "-   Visualizar cuantos casos hay para cada valor posibles\n",
        "-   Visualizar cuantos “no definidos” (ND) hay por año"
      ],
      "id": "1c258046-7779-4a4f-a288-f99d17b2fa5d"
    },
    {
      "cell_type": "code",
      "execution_count": 17,
      "metadata": {},
      "outputs": [
        {
          "output_type": "display_data",
          "metadata": {},
          "data": {
            "text/plain": [
              "points_new_version\n",
              "ND        40382\n",
              "0           333\n",
              "63.75        48\n",
              "38.25        39\n",
              "66           33\n",
              "          ...  \n",
              "553.79        1\n",
              "554.47        1\n",
              "555.66        1\n",
              "556.65        1\n",
              "34.76         1\n",
              "Name: count, Length: 11115, dtype: int64"
            ]
          }
        }
      ],
      "source": [
        "#Visualizar cuantos casos\n",
        "df_fifa['points_new_version'].value_counts(dropna=False)"
      ],
      "id": "84e9d370"
    },
    {
      "cell_type": "code",
      "execution_count": 18,
      "metadata": {},
      "outputs": [
        {
          "output_type": "display_data",
          "metadata": {},
          "data": {
            "text/plain": [
              "year\n",
              "1993     837\n",
              "1994    1728\n",
              "1995    1792\n",
              "1996    1847\n",
              "1997    1916\n",
              "1998    1938\n",
              "1999    2416\n",
              "2000    2429\n",
              "2001    2437\n",
              "2002    2233\n",
              "2003    2450\n",
              "2004    2456\n",
              "2005    2461\n",
              "2006    2259\n",
              "2007    2489\n",
              "2008    2485\n",
              "2009    2484\n",
              "2010    2277\n",
              "2011    1448\n",
              "Name: count, dtype: int64"
            ]
          }
        }
      ],
      "source": [
        "df_fifa[df_fifa['points_new_version']== \"ND\"]['year'].value_counts().sort_index()"
      ],
      "id": "beac95fb"
    },
    {
      "cell_type": "raw",
      "metadata": {
        "raw_mimetype": "text/html"
      },
      "source": [
        "<!-- **Conclusiones** -->"
      ],
      "id": "2d53af47-0970-4895-b0e9-8c08dbd91e04"
    },
    {
      "cell_type": "raw",
      "metadata": {
        "raw_mimetype": "text/html"
      },
      "source": [
        "<!-- - Se debería cambiar el \"ND\" por un valor perdido para hacer que esta variable sea numérica -->"
      ],
      "id": "9458ee64-7d3a-4469-a29e-680a08897aa8"
    },
    {
      "cell_type": "raw",
      "metadata": {
        "raw_mimetype": "text/html"
      },
      "source": [
        "<!-- - Idealmente se debería unir los puntos viejos y nuevos en una sola variable pues representan lo mismo -->"
      ],
      "id": "86c46be6-5329-495d-af53-e588b4be3f09"
    },
    {
      "cell_type": "markdown",
      "metadata": {},
      "source": [
        "## PROCESAMIENTO 2\n",
        "\n",
        "### E1: Ajustar valores perdidos para variables que correspondan\n",
        "\n",
        "-   Variable confederation\n",
        "-   Variable poins_new_version"
      ],
      "id": "19af2c0a-bb93-4d3c-b77c-578aef838fb4"
    },
    {
      "cell_type": "code",
      "execution_count": 19,
      "metadata": {},
      "outputs": [],
      "source": [
        "# "
      ],
      "id": "2f00e958"
    },
    {
      "cell_type": "code",
      "execution_count": 20,
      "metadata": {},
      "outputs": [],
      "source": [
        "#Variable confederation\n",
        "\n",
        "df_fifa['confederation'] = df_fifa['confederation'].fillna('OCF')"
      ],
      "id": "86e7ed45"
    },
    {
      "cell_type": "code",
      "execution_count": 21,
      "metadata": {},
      "outputs": [
        {
          "output_type": "display_data",
          "metadata": {},
          "data": {
            "text/plain": [
              "confederation\n",
              "UEFA        14934\n",
              "CAF         14876\n",
              "AFC         12481\n",
              "CONCACAF     9664\n",
              "OCF          2982\n",
              "CONMEBOL     2860\n",
              "Name: count, dtype: int64"
            ]
          }
        }
      ],
      "source": [
        "df_fifa['confederation'].value_counts(dropna=False)"
      ],
      "id": "379df985"
    },
    {
      "cell_type": "code",
      "execution_count": 22,
      "metadata": {},
      "outputs": [],
      "source": [
        "#Variable poins_new_version\n",
        "\n",
        "df_fifa.loc[df_fifa['points_new_version'] == 'ND','points_new_version'] = np.nan"
      ],
      "id": "d636d9ef"
    },
    {
      "cell_type": "code",
      "execution_count": 23,
      "metadata": {},
      "outputs": [],
      "source": [
        "df_fifa['points_new_version'] = df_fifa['points_new_version'].astype(float)"
      ],
      "id": "3b85d47f"
    },
    {
      "cell_type": "code",
      "execution_count": 24,
      "metadata": {},
      "outputs": [
        {
          "output_type": "stream",
          "name": "stdout",
          "text": [
            "<class 'pandas.core.frame.DataFrame'>\n",
            "RangeIndex: 57797 entries, 0 to 57796\n",
            "Data columns (total 8 columns):\n",
            " #   Column              Non-Null Count  Dtype         \n",
            "---  ------              --------------  -----         \n",
            " 0   country             57797 non-null  object        \n",
            " 1   confederation       57797 non-null  object        \n",
            " 2   rank_date           57797 non-null  datetime64[ns]\n",
            " 3   points_old_version  40382 non-null  float64       \n",
            " 4   points_new_version  17415 non-null  float64       \n",
            " 5   rank                57797 non-null  int64         \n",
            " 6   year                57797 non-null  int32         \n",
            " 7   month               57797 non-null  int32         \n",
            "dtypes: datetime64[ns](1), float64(2), int32(2), int64(1), object(2)\n",
            "memory usage: 3.1+ MB"
          ]
        }
      ],
      "source": [
        "df_fifa.info()"
      ],
      "id": "23835b56"
    },
    {
      "cell_type": "markdown",
      "metadata": {},
      "source": [
        "### E2: Encontrar y dar tratamiento a duplicados globales\n",
        "\n",
        "-   Identificar duplicados globales\n",
        "-   Eliminar duplicados globales"
      ],
      "id": "413405e8-4776-454e-930f-82cb5b4706df"
    },
    {
      "cell_type": "code",
      "execution_count": 25,
      "metadata": {},
      "outputs": [],
      "source": [
        "# "
      ],
      "id": "4c6668b9"
    },
    {
      "cell_type": "code",
      "execution_count": 26,
      "metadata": {},
      "outputs": [
        {
          "output_type": "display_data",
          "metadata": {},
          "data": {
            "text/plain": [
              "41"
            ]
          }
        }
      ],
      "source": [
        "#Identificar duplicados globales\n",
        "\n",
        "df_fifa.duplicated().sum()"
      ],
      "id": "2d459acd"
    },
    {
      "cell_type": "code",
      "execution_count": 27,
      "metadata": {},
      "outputs": [
        {
          "output_type": "display_data",
          "metadata": {},
          "data": {
            "text/html": [
              "\n",
              "</div>"
            ]
          }
        }
      ],
      "source": [
        "df_fifa[df_fifa.duplicated()]"
      ],
      "id": "c082a94f"
    },
    {
      "cell_type": "code",
      "execution_count": 28,
      "metadata": {},
      "outputs": [],
      "source": [
        "#Eliminar duplicados globales\n",
        "\n",
        "df_fifa = df_fifa.drop_duplicates().reset_index(drop=True)"
      ],
      "id": "eea0f8d7"
    },
    {
      "cell_type": "code",
      "execution_count": 29,
      "metadata": {},
      "outputs": [
        {
          "output_type": "stream",
          "name": "stdout",
          "text": [
            "<class 'pandas.core.frame.DataFrame'>\n",
            "RangeIndex: 57756 entries, 0 to 57755\n",
            "Data columns (total 8 columns):\n",
            " #   Column              Non-Null Count  Dtype         \n",
            "---  ------              --------------  -----         \n",
            " 0   country             57756 non-null  object        \n",
            " 1   confederation       57756 non-null  object        \n",
            " 2   rank_date           57756 non-null  datetime64[ns]\n",
            " 3   points_old_version  40379 non-null  float64       \n",
            " 4   points_new_version  17377 non-null  float64       \n",
            " 5   rank                57756 non-null  int64         \n",
            " 6   year                57756 non-null  int32         \n",
            " 7   month               57756 non-null  int32         \n",
            "dtypes: datetime64[ns](1), float64(2), int32(2), int64(1), object(2)\n",
            "memory usage: 3.1+ MB"
          ]
        }
      ],
      "source": [
        "df_fifa.info()"
      ],
      "id": "8f66cde5"
    },
    {
      "cell_type": "markdown",
      "metadata": {},
      "source": [
        "### E3: Encontrar y dar tratamiento a duplicados implícitos\n",
        "\n",
        "-   Estudiar duplicados implicitos por año y mes\n",
        "-   Estudiar algunos casos específicos de duplicados implícitos y\n",
        "    analizar qué podría estar pasando.\n",
        "-   Eliminar duplicados implicitos\n",
        "-   Volver a graficar serie de tiempo"
      ],
      "id": "877916c3-6cd9-4986-b691-7d6821d59e22"
    },
    {
      "cell_type": "code",
      "execution_count": 30,
      "metadata": {},
      "outputs": [],
      "source": [
        "# "
      ],
      "id": "0c260661"
    },
    {
      "cell_type": "code",
      "execution_count": 31,
      "metadata": {},
      "outputs": [
        {
          "output_type": "display_data",
          "metadata": {},
          "data": {
            "text/plain": [
              "209"
            ]
          }
        }
      ],
      "source": [
        "#Estudiar duplicados implicitos por año y mes\n",
        "\n",
        "df_fifa.duplicated(subset=['year','month','country']).sum()"
      ],
      "id": "21cade1a"
    },
    {
      "cell_type": "code",
      "execution_count": 32,
      "metadata": {},
      "outputs": [
        {
          "output_type": "display_data",
          "metadata": {},
          "data": {
            "text/html": [
              "\n",
              "</div>"
            ]
          }
        }
      ],
      "source": [
        "df_fifa[df_fifa.duplicated(subset=['year','month','country'])].sample(10)"
      ],
      "id": "f2842a85"
    },
    {
      "cell_type": "code",
      "execution_count": 33,
      "metadata": {},
      "outputs": [
        {
          "output_type": "display_data",
          "metadata": {},
          "data": {
            "text/html": [
              "\n",
              "</div>"
            ]
          }
        }
      ],
      "source": [
        "df_fifa.query(\"year == 2010 and month == 3 and country == 'Liberia'\")"
      ],
      "id": "51627cc7"
    },
    {
      "cell_type": "code",
      "execution_count": 34,
      "metadata": {},
      "outputs": [],
      "source": [
        "#Eliminar duplicados implicitos\n",
        "\n",
        "df_fifa = df_fifa.drop_duplicates(subset=['year','month','country']).reset_index(drop=True)"
      ],
      "id": "ff660171"
    },
    {
      "cell_type": "code",
      "execution_count": 35,
      "metadata": {},
      "outputs": [
        {
          "output_type": "display_data",
          "metadata": {},
          "data": {
            "image/png": "[encoded data removed]"
          }
        }
      ],
      "source": [
        "#Volver a graficar serie de tiempo\n",
        "\n",
        "df_grupos_meses = df_fifa.groupby(['year','month'])['country'].count()\n",
        "\n",
        "df_grupos_meses.plot(\n",
        "    kind=\"line\",\n",
        "    xlabel=\"Año, Mes\",\n",
        "    ylabel=\"# Paises\",\n",
        "    title=\"Cantidad de Paises Calificados\"\n",
        ")"
      ],
      "id": "2db431c7"
    },
    {
      "cell_type": "markdown",
      "metadata": {},
      "source": [
        "### E4: Crear puntuacion unificada\n",
        "\n",
        "-   Crear nueva variable points que junte las columnas de puntos\n",
        "    antiguos y nuevos\n",
        "-   Quitar variables de puntuacion antigua y nueva"
      ],
      "id": "95979d1f-842a-4ea4-9adc-0d2dc8ce9dd0"
    },
    {
      "cell_type": "code",
      "execution_count": 36,
      "metadata": {},
      "outputs": [],
      "source": [
        "# "
      ],
      "id": "18709a7a"
    },
    {
      "cell_type": "code",
      "execution_count": 37,
      "metadata": {},
      "outputs": [],
      "source": [
        "#Crear nueva variable points\n",
        "\n",
        "df_fifa.loc[df_fifa['points_old_version'].isna(), 'points'] = df_fifa['points_new_version']\n",
        "\n",
        "df_fifa.loc[df_fifa['points_new_version'].isna(), 'points'] = df_fifa['points_old_version']"
      ],
      "id": "6407848f"
    },
    {
      "cell_type": "code",
      "execution_count": 38,
      "metadata": {},
      "outputs": [
        {
          "output_type": "display_data",
          "metadata": {},
          "data": {
            "text/html": [
              "\n",
              "</div>"
            ]
          }
        }
      ],
      "source": [
        "df_fifa.sample(10)"
      ],
      "id": "82d2ac5b"
    },
    {
      "cell_type": "code",
      "execution_count": 39,
      "metadata": {},
      "outputs": [],
      "source": [
        "#Quitar variables de puntuacion antigua\n",
        "\n",
        "df_fifa.drop(columns=['points_old_version','points_new_version'],inplace=True)"
      ],
      "id": "c3223898"
    },
    {
      "cell_type": "code",
      "execution_count": 40,
      "metadata": {},
      "outputs": [
        {
          "output_type": "display_data",
          "metadata": {},
          "data": {
            "text/html": [
              "\n",
              "</div>"
            ]
          }
        }
      ],
      "source": [
        "df_fifa.sample(10)"
      ],
      "id": "660fcd97"
    },
    {
      "cell_type": "code",
      "execution_count": 41,
      "metadata": {},
      "outputs": [
        {
          "output_type": "stream",
          "name": "stdout",
          "text": [
            "<class 'pandas.core.frame.DataFrame'>\n",
            "RangeIndex: 57547 entries, 0 to 57546\n",
            "Data columns (total 7 columns):\n",
            " #   Column         Non-Null Count  Dtype         \n",
            "---  ------         --------------  -----         \n",
            " 0   country        57547 non-null  object        \n",
            " 1   confederation  57547 non-null  object        \n",
            " 2   rank_date      57547 non-null  datetime64[ns]\n",
            " 3   rank           57547 non-null  int64         \n",
            " 4   year           57547 non-null  int32         \n",
            " 5   month          57547 non-null  int32         \n",
            " 6   points         57547 non-null  float64       \n",
            "dtypes: datetime64[ns](1), float64(1), int32(2), int64(1), object(2)\n",
            "memory usage: 2.6+ MB"
          ]
        }
      ],
      "source": [
        "df_fifa.info()"
      ],
      "id": "62ed84e9"
    }
  ],
  "nbformat": 4,
  "nbformat_minor": 5,
  "metadata": {
    "kernelspec": {
      "name": "python3",
      "display_name": "Python 3 (ipykernel)",
      "language": "python",
      "path": "C:"
    },
    "language_info": {
      "name": "python",
      "codemirror_mode": {
        "name": "ipython",
        "version": "3"
      },
      "file_extension": ".py",
      "mimetype": "text/x-python",
      "nbconvert_exporter": "python",
      "pygments_lexer": "ipython3",
      "version": "3.10.6"
    }
  }
}