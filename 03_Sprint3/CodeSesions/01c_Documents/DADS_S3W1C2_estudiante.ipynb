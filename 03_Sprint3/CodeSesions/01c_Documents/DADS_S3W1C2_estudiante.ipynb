{
  "cells": [
    {
      "cell_type": "markdown",
      "id": "98318828-85a8-4641-bb7c-25b00b2e237f",
      "metadata": {},
      "source": [
        "# Sprint 3 - Week 1 - Class 2\n",
        "\n",
        "Lectura, Visualización y Preprocesamiento\n",
        "\n",
        "En este caso de estudio, vamos a analizar el comportamiento del ranking\n",
        "FIFA desde que inició su medición en el año 1993, a fin de presentar al\n",
        "público la situación y el rendimiento de las distintas selecciones\n",
        "nacionales afiliadas.\n",
        "\n",
        "En este contexto, nos interesa contestar entre otras las siguientes\n",
        "preguntas:\n",
        "\n",
        "-   ¿Cómo es el rendimiento histórico por confederación?\n",
        "-   ¿Cómo ha sido el rendimiento histórico de su país comparado con el\n",
        "    promedio de la confederación a la cual pertenece?\n",
        "-   ¿Cuáles han sido históricamente los mejores países?\n",
        "-   ¿Quienes han sido los top 5 países previo al inicio de cada mundial?\n",
        "    ¿Entre estos países han estado los campeones del mundo\n",
        "    correspondientes?\n",
        "-   Según esta puntuación, ¿las selecciones son cada vez más\n",
        "    competitivas o cada vez parece existir más diferencia a través del\n",
        "    tiempo?\n",
        "\n",
        "Con este propósito usted cuenta con un conjunto de datos en el archivo\n",
        "`fifa_rank.csv` cuya metadata se detalla a continuación:\n",
        "\n",
        "-   Fuente: FIFA Site 2018\n",
        "-   Dimensiones:\n",
        "    -   `Country`: Nombre del pais afiliado a la FIFA cuya selección de\n",
        "        fútbol es puntuada\n",
        "    -   `Confederation`: Confederación a la que pertenece de acuerdo a\n",
        "        la división de la FIFA\n",
        "    -   `Rank_Date`: Fecha de publicación del ranking FIFA entre marzo\n",
        "        de 1993 y junio de 2018 (previo al mundial de Rusia)\n",
        "    -   `Points_Old_Version`: Puntos obtenidos conforme el sistema\n",
        "        antiguo de la FIFA (previo al año 2011)\n",
        "    -   `Ponts_New_Version`: Puntos obtenidos conforme el sistema nuevo\n",
        "        de la FIFA (a partir del años 2011)\n",
        "    -   `rank`: Posición en el ranking oficial de la FIFA dados los\n",
        "        puntos calculados\n",
        "\n",
        "## CARGAR LIBRERIAS Y DATOS"
      ]
    },
    {
      "cell_type": "code",
      "execution_count": 1,
      "id": "6e61a0eb",
      "metadata": {},
      "outputs": [],
      "source": [
        "#Cargar librerias\n",
        "import pandas as pd\n",
        "import numpy as np"
      ]
    },
    {
      "cell_type": "markdown",
      "id": "a7465f4f-7a52-4477-a31d-55c448bf2150",
      "metadata": {},
      "source": [
        "### E1: Ajustar ruta relativa según contexto"
      ]
    },
    {
      "cell_type": "code",
      "execution_count": 2,
      "id": "b36ac49b",
      "metadata": {},
      "outputs": [],
      "source": [
        "#Cargar datos\n",
        "df_fifa = pd.read_csv(\"fifa_rank.csv\", sep = \",\")"
      ]
    },
    {
      "cell_type": "markdown",
      "id": "2cf8bd96-b689-4f0e-83d9-5d82f54a225a",
      "metadata": {},
      "source": [
        "## DIAGNÓSTICO INICIAL"
      ]
    },
    {
      "cell_type": "code",
      "execution_count": 3,
      "id": "056c8a9e",
      "metadata": {},
      "outputs": [
        {
          "name": "stdout",
          "output_type": "stream",
          "text": [
            "<class 'pandas.core.frame.DataFrame'>\n",
            "RangeIndex: 57797 entries, 0 to 57796\n",
            "Data columns (total 6 columns):\n",
            " #   Column              Non-Null Count  Dtype  \n",
            "---  ------              --------------  -----  \n",
            " 0   Country             57797 non-null  object \n",
            " 1   Confederation       54815 non-null  object \n",
            " 2   Rank_Date           57797 non-null  object \n",
            " 3   Points_Old_Version  40382 non-null  float64\n",
            " 4   Points_New_Version  57797 non-null  object \n",
            " 5   rank                57797 non-null  int64  \n",
            "dtypes: float64(1), int64(1), object(4)\n",
            "memory usage: 2.6+ MB"
          ]
        }
      ],
      "source": [
        "#Visualizar información general de los datos\n",
        "df_fifa.info()"
      ]
    },
    {
      "cell_type": "code",
      "execution_count": 4,
      "id": "bc2411c6",
      "metadata": {},
      "outputs": [
        {
          "data": {
            "text/html": [
              "\n",
              "</div>"
            ]
          },
          "metadata": {},
          "output_type": "display_data"
        }
      ],
      "source": [
        "#Visualizar cabecera de los datos\n",
        "df_fifa.head(n = 10)"
      ]
    },
    {
      "cell_type": "code",
      "execution_count": 5,
      "id": "4262a17e",
      "metadata": {},
      "outputs": [
        {
          "data": {
            "text/html": [
              "\n",
              "</div>"
            ]
          },
          "metadata": {},
          "output_type": "display_data"
        }
      ],
      "source": [
        "#Visualizar una muestra aleatoria de los datos\n",
        "df_fifa.sample(n = 10)"
      ]
    },
    {
      "cell_type": "markdown",
      "id": "c7c1e128-7182-4947-96f9-6c985e1b891a",
      "metadata": {},
      "source": [
        "## PROCESAMIENTO\n",
        "\n",
        "### E2: Ajustar nombres de columnas\n",
        "\n",
        "-   Poner todos los nombres de columnas en minusculas\n",
        "\n",
        "### E3: Visualizar datos en confederation\n",
        "\n",
        "-   Visualizar cuantos casos hay por confederation"
      ]
    },
    {
      "cell_type": "markdown",
      "id": "f3be4ac0-e8d4-43b1-8a40-eacc0842b53f",
      "metadata": {},
      "source": [
        "### E4: Ajustar formato de columna rank_date\n",
        "\n",
        "-   Cambiar a formato fecha\n",
        "\n",
        "### E5: Adicionar columnas de año y mes\n",
        "\n",
        "-   Crear campo `year`\n",
        "-   Crear campo `month`\n",
        "-   Cuantos casos hay por cada mes y año\n",
        "-   Hacer un primer grafico considerando que existen demasiados casos"
      ]
    },
    {
      "cell_type": "markdown",
      "id": "48cc44cd-db27-4b72-ac0b-af823c75bebc",
      "metadata": {},
      "source": [
        "### E6: Visualizar datos en Points_Old_Version\n",
        "\n",
        "-   Visualizar cuantos casos hay para cada valor posibles\n",
        "-   Visualizar cuantos NA hay por año - mes"
      ]
    },
    {
      "cell_type": "markdown",
      "id": "eccbc948-df40-4a39-9696-e0ce8efd9b35",
      "metadata": {},
      "source": [
        "### E7: Visualizar datos en Points_New_Version\n",
        "\n",
        "-   Visualizar cuantos casos hay para cada valor posibles\n",
        "-   Visualizar cuantos “no definidos” (ND) hay por año"
      ]
    },
    {
      "cell_type": "raw",
      "id": "25bdddcb-7386-4ded-af0c-9b29ab7f2433",
      "metadata": {
        "raw_mimetype": "text/html"
      },
      "source": [
        "<!-- ```{python} -->"
      ]
    },
    {
      "cell_type": "raw",
      "id": "57d5cdc3-cbe6-476d-918a-7f8b31e061b2",
      "metadata": {
        "raw_mimetype": "text/html"
      },
      "source": [
        "<!-- df_fifa.info() -->"
      ]
    },
    {
      "cell_type": "raw",
      "id": "a3f008f5-6974-43f9-8ab3-fd30d07e2693",
      "metadata": {
        "raw_mimetype": "text/html"
      },
      "source": [
        "<!-- ``` -->"
      ]
    },
    {
      "cell_type": "raw",
      "id": "a00f7643-33ce-414f-9b29-0218cf12399d",
      "metadata": {
        "raw_mimetype": "text/html"
      },
      "source": [
        "<!-- ## EJECUTAR LOS PRIMEROS QUERIES (CONSULTAS) -->"
      ]
    },
    {
      "cell_type": "raw",
      "id": "982c5be9-a305-46dc-a534-92a708e9409a",
      "metadata": {
        "raw_mimetype": "text/html"
      },
      "source": [
        "<!-- En este caso de estudio, vamos a analizar el comportamiento del ranking FIFA desde que inició su medición en el año 1993, a fin de presentar al público la situación y el rendimiento de las distintas selecciones nacionales afiliadas. -->"
      ]
    },
    {
      "cell_type": "raw",
      "id": "54d3702d-d9e6-4872-a831-812d1de0d4e0",
      "metadata": {
        "raw_mimetype": "text/html"
      },
      "source": [
        "<!-- En este contexto, nos interesa contestar entre otras las siguientes preguntas: -->"
      ]
    },
    {
      "cell_type": "raw",
      "id": "dd3408e4-ff3a-4a23-adc1-b9e7296c13f4",
      "metadata": {
        "raw_mimetype": "text/html"
      },
      "source": [
        "<!-- * ¿Cómo es el rendimiento histórico por confederación? -->"
      ]
    },
    {
      "cell_type": "raw",
      "id": "6735b734-4853-41bf-8263-be16816d7aa6",
      "metadata": {
        "raw_mimetype": "text/html"
      },
      "source": [
        "<!-- * ¿Cómo ha sido el rendimiento histórico de su país comparado con el promedio de la confederación a la cual pertenece? -->"
      ]
    },
    {
      "cell_type": "raw",
      "id": "150fbc1d-1d97-4c23-9914-b495f7c12f0c",
      "metadata": {
        "raw_mimetype": "text/html"
      },
      "source": [
        "<!-- * ¿Cuáles han sido históricamente los mejores países? -->"
      ]
    },
    {
      "cell_type": "raw",
      "id": "d77bed18-c828-4974-961e-41c3fa4727d0",
      "metadata": {
        "raw_mimetype": "text/html"
      },
      "source": [
        "<!-- * ¿Quienes han sido los top 5 países previo al inicio de cada mundial? ¿Entre estos países han estado los campeones del mundo correspondientes? -->"
      ]
    },
    {
      "cell_type": "raw",
      "id": "6c63ef35-bba1-4468-8926-ec3ed189cf57",
      "metadata": {
        "raw_mimetype": "text/html"
      },
      "source": [
        "<!-- * Según esta puntuación, ¿las selecciones son cada vez más competitivas o cada vez parece existir más diferencia a través del tiempo? -->"
      ]
    },
    {
      "cell_type": "raw",
      "id": "853d58de-01bc-42e3-9b96-1a5eeedc541a",
      "metadata": {
        "raw_mimetype": "text/html"
      },
      "source": [
        "<!-- ```{python} -->"
      ]
    },
    {
      "cell_type": "raw",
      "id": "4544b75c-d9d7-4b21-8a3c-229a8617ebec",
      "metadata": {
        "raw_mimetype": "text/html"
      },
      "source": [
        "<!-- #Comportamiento de mi pais a nivel de ranking -->"
      ]
    },
    {
      "cell_type": "raw",
      "id": "7780e040-9d3a-4b6b-b5ec-3a914a1292a9",
      "metadata": {
        "raw_mimetype": "text/html"
      },
      "source": [
        "<!-- df_ecu = df_fifa.query('country == \"Ecuador\"') -->"
      ]
    },
    {
      "cell_type": "raw",
      "id": "0be5f4c0-ff50-4d96-9522-6923f4aa9823",
      "metadata": {
        "raw_mimetype": "text/html"
      },
      "source": [
        "<!-- df_ecu_evol = df_ecu.groupby(\"year\")['rank'].mean() -->"
      ]
    },
    {
      "cell_type": "raw",
      "id": "369b4865-f1f3-4bb7-bdce-429f5a7f15f4",
      "metadata": {
        "raw_mimetype": "text/html"
      },
      "source": [
        "<!-- df_ecu_evol.plot( -->"
      ]
    },
    {
      "cell_type": "raw",
      "id": "ad75eff3-dbb0-4c5c-b14e-44205395b336",
      "metadata": {
        "raw_mimetype": "text/html"
      },
      "source": [
        "<!--     kind = \"bar\", -->"
      ]
    },
    {
      "cell_type": "raw",
      "id": "96842665-b81d-47e1-857c-f386505d0a9a",
      "metadata": {
        "raw_mimetype": "text/html"
      },
      "source": [
        "<!--     ylim=[1,80], -->"
      ]
    },
    {
      "cell_type": "raw",
      "id": "e727fd96-f737-405b-a01b-458aa5806890",
      "metadata": {
        "raw_mimetype": "text/html"
      },
      "source": [
        "<!--     xlabel=\"Año\", -->"
      ]
    },
    {
      "cell_type": "raw",
      "id": "586a72c3-93cf-4921-9bbb-4749031ab818",
      "metadata": {
        "raw_mimetype": "text/html"
      },
      "source": [
        "<!--     ylabel=\"Posicion en Ranking\", -->"
      ]
    },
    {
      "cell_type": "raw",
      "id": "d4523520-7000-43c1-b918-3b38da73944e",
      "metadata": {
        "raw_mimetype": "text/html"
      },
      "source": [
        "<!--     title=\"Ranking FIFA Ecuador | Promedio Anual\", -->"
      ]
    },
    {
      "cell_type": "raw",
      "id": "44bac493-2255-4343-be85-adbe3fc36f29",
      "metadata": {
        "raw_mimetype": "text/html"
      },
      "source": [
        "<!--     color=\"goldenrod\" -->"
      ]
    },
    {
      "cell_type": "raw",
      "id": "c4678407-be3d-4080-89b3-103686d6ff55",
      "metadata": {
        "raw_mimetype": "text/html"
      },
      "source": [
        "<!-- ) -->"
      ]
    },
    {
      "cell_type": "raw",
      "id": "8f2896b2-979b-432e-9bce-a872b91d33a6",
      "metadata": {
        "raw_mimetype": "text/html"
      },
      "source": [
        "<!-- ``` -->"
      ]
    },
    {
      "cell_type": "raw",
      "id": "9ac96632-9af5-4525-ba66-a21b4eaf40dc",
      "metadata": {
        "raw_mimetype": "text/html"
      },
      "source": [
        "<!-- ```{python} -->"
      ]
    },
    {
      "cell_type": "raw",
      "id": "d165ffbf-130d-4fbe-9977-9a30bfcac3c2",
      "metadata": {
        "raw_mimetype": "text/html"
      },
      "source": [
        "<!-- #Comportamiento de mi pais a nivel de puntos -->"
      ]
    },
    {
      "cell_type": "raw",
      "id": "b73093a7-a713-4983-af48-1d2536092642",
      "metadata": {
        "raw_mimetype": "text/html"
      },
      "source": [
        "<!-- df_ecu_evol2 = df_ecu.groupby(\"year\")['points'].mean() -->"
      ]
    },
    {
      "cell_type": "raw",
      "id": "2538c378-9566-47c1-a2c9-d01de744ffde",
      "metadata": {
        "raw_mimetype": "text/html"
      },
      "source": [
        "<!-- df_ecu_evol2.plot( -->"
      ]
    },
    {
      "cell_type": "raw",
      "id": "d6b5df37-63d4-4dee-9a74-4af7cdbd0d47",
      "metadata": {
        "raw_mimetype": "text/html"
      },
      "source": [
        "<!--     kind = \"bar\", -->"
      ]
    },
    {
      "cell_type": "raw",
      "id": "44019753-2c38-417d-adf4-82456f86546c",
      "metadata": {
        "raw_mimetype": "text/html"
      },
      "source": [
        "<!--     xlabel=\"Año\", -->"
      ]
    },
    {
      "cell_type": "raw",
      "id": "8e6a283c-3955-4899-a037-d7970672eddc",
      "metadata": {
        "raw_mimetype": "text/html"
      },
      "source": [
        "<!--     ylabel=\"Puntos Promedio\", -->"
      ]
    },
    {
      "cell_type": "raw",
      "id": "5e761c5a-2750-44f2-b3ff-50840876e8a4",
      "metadata": {
        "raw_mimetype": "text/html"
      },
      "source": [
        "<!--     title=\"Puntos FIFA Ecuador | Promedio Anual\", -->"
      ]
    },
    {
      "cell_type": "raw",
      "id": "61a88996-a9a2-4162-b471-091501576120",
      "metadata": {
        "raw_mimetype": "text/html"
      },
      "source": [
        "<!--     color=\"goldenrod\" -->"
      ]
    },
    {
      "cell_type": "raw",
      "id": "7627270b-181d-407b-8867-1537e76197a2",
      "metadata": {
        "raw_mimetype": "text/html"
      },
      "source": [
        "<!-- ) -->"
      ]
    },
    {
      "cell_type": "raw",
      "id": "c1957d88-969a-4424-8eca-42321be37bba",
      "metadata": {
        "raw_mimetype": "text/html"
      },
      "source": [
        "<!-- ``` -->"
      ]
    },
    {
      "cell_type": "raw",
      "id": "c124d7d4-a3c5-471e-9040-3a3e8b655209",
      "metadata": {
        "raw_mimetype": "text/html"
      },
      "source": [
        "<!-- **CONCLUSIONES** -->"
      ]
    },
    {
      "cell_type": "raw",
      "id": "4e3490f3-721f-4837-bccb-90d9c01e470a",
      "metadata": {
        "raw_mimetype": "text/html"
      },
      "source": [
        "<!-- - Deberían excluirse los años previos a 1999 porque la puntuación parece ser diferente -->"
      ]
    },
    {
      "cell_type": "raw",
      "id": "d77dd2da-b6f3-4b13-ad78-cc2ef2bd47d0",
      "metadata": {
        "raw_mimetype": "text/html"
      },
      "source": [
        "<!-- ```{python} -->"
      ]
    },
    {
      "cell_type": "raw",
      "id": "ae22dd98-15ff-4964-a3f5-31be3a74b699",
      "metadata": {
        "raw_mimetype": "text/html"
      },
      "source": [
        "<!-- df_fifa = df_fifa.query('year >= 1999') -->"
      ]
    },
    {
      "cell_type": "raw",
      "id": "06f0f665-9508-42ff-99f0-6c7fcecd9a8d",
      "metadata": {
        "raw_mimetype": "text/html"
      },
      "source": [
        "<!-- ``` -->"
      ]
    },
    {
      "cell_type": "raw",
      "id": "ca71bbf8-003d-403e-8cb5-31e894f12f78",
      "metadata": {
        "raw_mimetype": "text/html"
      },
      "source": [
        "<!-- ```{python} -->"
      ]
    },
    {
      "cell_type": "raw",
      "id": "83b58b4c-5016-482f-b729-828ffb348d2b",
      "metadata": {
        "raw_mimetype": "text/html"
      },
      "source": [
        "<!-- #Comportamiento de mi pais a nivel de puntos (de nuevo) -->"
      ]
    },
    {
      "cell_type": "raw",
      "id": "a78f73ff-8b6e-4097-a4d7-a0b6c66ae0c4",
      "metadata": {
        "raw_mimetype": "text/html"
      },
      "source": [
        "<!-- df_ecu = df_fifa.query('country == \"Ecuador\"') -->"
      ]
    },
    {
      "cell_type": "raw",
      "id": "f7a89479-23fc-4118-88d9-ab5fedab07d0",
      "metadata": {
        "raw_mimetype": "text/html"
      },
      "source": [
        "<!-- df_ecu_evol2 = df_ecu.groupby(\"year\")['points'].mean() -->"
      ]
    },
    {
      "cell_type": "raw",
      "id": "9f7717dc-4e00-4aa9-bf12-47e98a00127d",
      "metadata": {
        "raw_mimetype": "text/html"
      },
      "source": [
        "<!-- df_ecu_evol2.plot( -->"
      ]
    },
    {
      "cell_type": "raw",
      "id": "0ace0da4-84cd-4f19-aeb2-82bd54341aaa",
      "metadata": {
        "raw_mimetype": "text/html"
      },
      "source": [
        "<!--     kind = \"bar\", -->"
      ]
    },
    {
      "cell_type": "raw",
      "id": "28ba105f-2a68-4fa6-82ef-8d8b3cb54443",
      "metadata": {
        "raw_mimetype": "text/html"
      },
      "source": [
        "<!--     xlabel=\"Año\", -->"
      ]
    },
    {
      "cell_type": "raw",
      "id": "3de332ae-93e2-4623-aaba-94d18ddca3bb",
      "metadata": {
        "raw_mimetype": "text/html"
      },
      "source": [
        "<!--     ylabel=\"Puntos Promedio\", -->"
      ]
    },
    {
      "cell_type": "raw",
      "id": "5e9f784d-32fb-473e-91cd-8c9c52c378c4",
      "metadata": {
        "raw_mimetype": "text/html"
      },
      "source": [
        "<!--     title=\"Puntos FIFA Ecuador | Promedio Anual\", -->"
      ]
    },
    {
      "cell_type": "raw",
      "id": "c952ae0b-2d0e-4209-92af-212db1e1833d",
      "metadata": {
        "raw_mimetype": "text/html"
      },
      "source": [
        "<!--     color=\"goldenrod\" -->"
      ]
    },
    {
      "cell_type": "raw",
      "id": "4bf39ce7-6be2-4111-bf43-1b8a953d37f8",
      "metadata": {
        "raw_mimetype": "text/html"
      },
      "source": [
        "<!-- ) -->"
      ]
    },
    {
      "cell_type": "raw",
      "id": "caff1edb-7287-4f9e-a75f-4748fc5098b4",
      "metadata": {
        "raw_mimetype": "text/html"
      },
      "source": [
        "<!-- ``` -->"
      ]
    },
    {
      "cell_type": "raw",
      "id": "41f759ac-1223-404a-a78d-5b5bdce81d18",
      "metadata": {
        "raw_mimetype": "text/html"
      },
      "source": [
        "<!-- ```{python} -->"
      ]
    },
    {
      "cell_type": "raw",
      "id": "9603726f-306d-45e7-8fd0-839d4ab22f73",
      "metadata": {
        "raw_mimetype": "text/html"
      },
      "source": [
        "<!-- #Comportamiento histórico del ranking fifa por confederacion -->"
      ]
    },
    {
      "cell_type": "raw",
      "id": "85886262-5ff6-408b-980c-28b2ac2c80f4",
      "metadata": {
        "raw_mimetype": "text/html"
      },
      "source": [
        "<!-- df_rank_conf = df_fifa.groupby(['confederation','year'])['rank'].mean() -->"
      ]
    },
    {
      "cell_type": "raw",
      "id": "594d7f20-b1c4-492c-9929-fb8a99960a83",
      "metadata": {
        "raw_mimetype": "text/html"
      },
      "source": [
        "<!-- df_rank_conf -->"
      ]
    },
    {
      "cell_type": "raw",
      "id": "5288abef-6010-4dc9-b359-ac570da111de",
      "metadata": {
        "raw_mimetype": "text/html"
      },
      "source": [
        "<!-- ``` -->"
      ]
    },
    {
      "cell_type": "raw",
      "id": "d949a4ac-d25c-4434-be7e-3f1cd8648d49",
      "metadata": {
        "raw_mimetype": "text/html"
      },
      "source": [
        "<!-- ```{python} -->"
      ]
    },
    {
      "cell_type": "raw",
      "id": "99f14780-1e36-453f-9021-029a532aa793",
      "metadata": {
        "raw_mimetype": "text/html"
      },
      "source": [
        "<!-- #Uso de la funcion pivot_table -->"
      ]
    },
    {
      "cell_type": "raw",
      "id": "8804bbc3-fe35-404a-8bd9-9846ed825b42",
      "metadata": {
        "raw_mimetype": "text/html"
      },
      "source": [
        "<!-- df_rank_conf = df_fifa.pivot_table( -->"
      ]
    },
    {
      "cell_type": "raw",
      "id": "f252623b-4ce1-43a0-8a6f-15fd5b435a6f",
      "metadata": {
        "raw_mimetype": "text/html"
      },
      "source": [
        "<!--     index = 'year', -->"
      ]
    },
    {
      "cell_type": "raw",
      "id": "c35a8fb7-4a6b-4d41-93cf-2b5103012f1a",
      "metadata": {
        "raw_mimetype": "text/html"
      },
      "source": [
        "<!--     columns = 'confederation', -->"
      ]
    },
    {
      "cell_type": "raw",
      "id": "f6ae6030-bcf5-43f3-8cf0-4bdc617d0a56",
      "metadata": {
        "raw_mimetype": "text/html"
      },
      "source": [
        "<!--      values='rank', -->"
      ]
    },
    {
      "cell_type": "raw",
      "id": "4979035d-f976-47b4-b38c-8fa8ca59933a",
      "metadata": {
        "raw_mimetype": "text/html"
      },
      "source": [
        "<!--      aggfunc=\"mean\" -->"
      ]
    },
    {
      "cell_type": "raw",
      "id": "85ee0316-eac9-4d70-a4ef-fb738faded77",
      "metadata": {
        "raw_mimetype": "text/html"
      },
      "source": [
        "<!-- ) -->"
      ]
    },
    {
      "cell_type": "raw",
      "id": "766c9378-77a6-4395-b33a-199dcfa7b322",
      "metadata": {
        "raw_mimetype": "text/html"
      },
      "source": [
        "<!-- df_rank_conf -->"
      ]
    },
    {
      "cell_type": "raw",
      "id": "5dfefc1c-47d6-46ce-b573-c02772e72840",
      "metadata": {
        "raw_mimetype": "text/html"
      },
      "source": [
        "<!-- ``` -->"
      ]
    },
    {
      "cell_type": "raw",
      "id": "5a046a43-5ea1-4317-a933-1ed842c49563",
      "metadata": {
        "raw_mimetype": "text/html"
      },
      "source": [
        "<!-- ```{python} -->"
      ]
    },
    {
      "cell_type": "raw",
      "id": "55beb649-efed-438e-b9d2-94d0dbb4e53e",
      "metadata": {
        "raw_mimetype": "text/html"
      },
      "source": [
        "<!-- df_rank_conf.plot( -->"
      ]
    },
    {
      "cell_type": "raw",
      "id": "dc645393-aee7-4296-a9e1-636630c20745",
      "metadata": {
        "raw_mimetype": "text/html"
      },
      "source": [
        "<!--     kind = \"line\" -->"
      ]
    },
    {
      "cell_type": "raw",
      "id": "e8a7aa4b-7aa0-45d0-b7a2-bcc9555bcd5f",
      "metadata": {
        "raw_mimetype": "text/html"
      },
      "source": [
        "<!-- ) -->"
      ]
    },
    {
      "cell_type": "raw",
      "id": "870da460-b204-461c-8f62-83a2db44a57c",
      "metadata": {
        "raw_mimetype": "text/html"
      },
      "source": [
        "<!-- ``` -->"
      ]
    },
    {
      "cell_type": "raw",
      "id": "9e048a46-edeb-407a-9937-2c52d4866fa6",
      "metadata": {
        "raw_mimetype": "text/html"
      },
      "source": [
        "<!-- ```{python} -->"
      ]
    },
    {
      "cell_type": "raw",
      "id": "ebdcc729-7cb2-4a63-a00a-76ba6696e1c7",
      "metadata": {
        "raw_mimetype": "text/html"
      },
      "source": [
        "<!-- #Solamente comparar UEFA y CONMEBOL -->"
      ]
    },
    {
      "cell_type": "raw",
      "id": "0094ea4d-704e-4e42-af2f-dee20049b5d8",
      "metadata": {
        "raw_mimetype": "text/html"
      },
      "source": [
        "<!-- lista_prueba = [\"UEFA\",\"CONMEBOL\"] -->"
      ]
    },
    {
      "cell_type": "raw",
      "id": "b9862906-7a8a-40f3-9fa4-b37ffabe6ede",
      "metadata": {
        "raw_mimetype": "text/html"
      },
      "source": [
        "<!-- df_uefa_conm = df_fifa.query('confederation in @lista_prueba') -->"
      ]
    },
    {
      "cell_type": "raw",
      "id": "fc9d0445-7452-4e18-8482-d28f9b281536",
      "metadata": {
        "raw_mimetype": "text/html"
      },
      "source": [
        "<!-- df_rank_conf = df_uefa_conm.pivot_table( -->"
      ]
    },
    {
      "cell_type": "raw",
      "id": "874c5558-394f-457c-b0ef-12eb870347f4",
      "metadata": {
        "raw_mimetype": "text/html"
      },
      "source": [
        "<!--     index = 'year', -->"
      ]
    },
    {
      "cell_type": "raw",
      "id": "cac6eb1d-cdec-415b-aca8-f282fa922bf7",
      "metadata": {
        "raw_mimetype": "text/html"
      },
      "source": [
        "<!--     columns = 'confederation', -->"
      ]
    },
    {
      "cell_type": "raw",
      "id": "cb718ada-0cad-4b47-a4b4-16a8bff1ac01",
      "metadata": {
        "raw_mimetype": "text/html"
      },
      "source": [
        "<!--     values='rank', -->"
      ]
    },
    {
      "cell_type": "raw",
      "id": "65e78839-b4c3-47e4-b998-3963f26c43ce",
      "metadata": {
        "raw_mimetype": "text/html"
      },
      "source": [
        "<!--     aggfunc=\"mean\" -->"
      ]
    },
    {
      "cell_type": "raw",
      "id": "91f4323b-a9bb-404c-aa4a-5506f698db22",
      "metadata": {
        "raw_mimetype": "text/html"
      },
      "source": [
        "<!-- ) -->"
      ]
    },
    {
      "cell_type": "raw",
      "id": "c085ad1c-793c-437d-9f97-58c1c347349a",
      "metadata": {
        "raw_mimetype": "text/html"
      },
      "source": [
        "<!-- df_rank_conf.plot( -->"
      ]
    },
    {
      "cell_type": "raw",
      "id": "f285231b-62ee-45dc-a466-15e4591b2929",
      "metadata": {
        "raw_mimetype": "text/html"
      },
      "source": [
        "<!--     kind = \"line\", -->"
      ]
    },
    {
      "cell_type": "raw",
      "id": "e38a59dd-6320-4b96-acf3-c3e816733ce7",
      "metadata": {
        "raw_mimetype": "text/html"
      },
      "source": [
        "<!--     xticks=df_fifa['year'].unique(), -->"
      ]
    },
    {
      "cell_type": "raw",
      "id": "eb72db78-5480-4735-a7c1-7253901d2374",
      "metadata": {
        "raw_mimetype": "text/html"
      },
      "source": [
        "<!--     rot=90 -->"
      ]
    },
    {
      "cell_type": "raw",
      "id": "d3485ae1-d18e-4ba6-82eb-f1a8fbb24cb5",
      "metadata": {
        "raw_mimetype": "text/html"
      },
      "source": [
        "<!-- ) -->"
      ]
    },
    {
      "cell_type": "raw",
      "id": "8564065e-f734-4fe6-8174-d19b246d3b0e",
      "metadata": {
        "raw_mimetype": "text/html"
      },
      "source": [
        "<!-- ``` -->"
      ]
    },
    {
      "cell_type": "raw",
      "id": "78f2194d-ef4d-4ed5-bed4-d6abc0116c63",
      "metadata": {
        "raw_mimetype": "text/html"
      },
      "source": [
        "<!-- ```{python} -->"
      ]
    },
    {
      "cell_type": "raw",
      "id": "938147a1-39b8-44ad-a781-963e0ba9d288",
      "metadata": {
        "raw_mimetype": "text/html"
      },
      "source": [
        "<!-- #Solamente comparar UEFA y CONMEBOL pero ahora viendo puntos -->"
      ]
    },
    {
      "cell_type": "raw",
      "id": "96169290-3e25-4423-9c40-70220ad8478f",
      "metadata": {
        "raw_mimetype": "text/html"
      },
      "source": [
        "<!-- lista_prueba = [\"UEFA\",\"CONMEBOL\"] -->"
      ]
    },
    {
      "cell_type": "raw",
      "id": "0a00acd5-bd0b-43a5-95fe-ebebb5386206",
      "metadata": {
        "raw_mimetype": "text/html"
      },
      "source": [
        "<!-- df_uefa_conm = df_fifa.query('confederation in @lista_prueba') -->"
      ]
    },
    {
      "cell_type": "raw",
      "id": "9dff4eaa-b667-4ca3-912c-8fb672253a3c",
      "metadata": {
        "raw_mimetype": "text/html"
      },
      "source": [
        "<!-- df_rank_conf = df_uefa_conm.pivot_table( -->"
      ]
    },
    {
      "cell_type": "raw",
      "id": "fe54aa83-af2c-4449-b841-07d6b3eac2e9",
      "metadata": {
        "raw_mimetype": "text/html"
      },
      "source": [
        "<!--     index = 'year', -->"
      ]
    },
    {
      "cell_type": "raw",
      "id": "d71bbbdb-57bc-4fa1-85ac-ab65e102afc4",
      "metadata": {
        "raw_mimetype": "text/html"
      },
      "source": [
        "<!--     columns = 'confederation', -->"
      ]
    },
    {
      "cell_type": "raw",
      "id": "3552e7b2-4436-47f3-83f8-ba101b99683e",
      "metadata": {
        "raw_mimetype": "text/html"
      },
      "source": [
        "<!--     values='points', -->"
      ]
    },
    {
      "cell_type": "raw",
      "id": "a88d7f0b-68a7-4fd0-858a-84464b951ca4",
      "metadata": {
        "raw_mimetype": "text/html"
      },
      "source": [
        "<!--     aggfunc=\"mean\" -->"
      ]
    },
    {
      "cell_type": "raw",
      "id": "3de31bcf-c586-40e5-8b13-a64239b35657",
      "metadata": {
        "raw_mimetype": "text/html"
      },
      "source": [
        "<!-- ) -->"
      ]
    },
    {
      "cell_type": "raw",
      "id": "03600bf7-d390-4ca7-ba8e-acfa24837b47",
      "metadata": {
        "raw_mimetype": "text/html"
      },
      "source": [
        "<!-- df_rank_conf.plot( -->"
      ]
    },
    {
      "cell_type": "raw",
      "id": "b1374aa7-8ef6-41d5-96bb-f0333069816c",
      "metadata": {
        "raw_mimetype": "text/html"
      },
      "source": [
        "<!--     kind = \"line\", -->"
      ]
    },
    {
      "cell_type": "raw",
      "id": "b0d5ae18-e12b-4e12-86b8-7d792e686307",
      "metadata": {
        "raw_mimetype": "text/html"
      },
      "source": [
        "<!--     xticks=df_fifa['year'].unique(), -->"
      ]
    },
    {
      "cell_type": "raw",
      "id": "e70c35d2-97ff-48cc-adb2-67e73e63f843",
      "metadata": {
        "raw_mimetype": "text/html"
      },
      "source": [
        "<!--     rot=90 -->"
      ]
    },
    {
      "cell_type": "raw",
      "id": "d6da5244-1057-4d9c-beca-b5c0cb91e2a0",
      "metadata": {
        "raw_mimetype": "text/html"
      },
      "source": [
        "<!-- ) -->"
      ]
    },
    {
      "cell_type": "raw",
      "id": "aff32e87-0c14-4694-8207-a7387ac249ad",
      "metadata": {
        "raw_mimetype": "text/html"
      },
      "source": [
        "<!-- ``` -->"
      ]
    },
    {
      "cell_type": "raw",
      "id": "6aee8488-0d19-4f79-b0e3-bc7a64c54d89",
      "metadata": {
        "raw_mimetype": "text/html"
      },
      "source": [
        "<!-- ```{python} -->"
      ]
    },
    {
      "cell_type": "raw",
      "id": "433a2e50-36e3-4d67-9aa1-2a776782732e",
      "metadata": {
        "raw_mimetype": "text/html"
      },
      "source": [
        "<!-- ### Hacer el mismo analisis pero solamente con los mejores 5 de cada confederacion -->"
      ]
    },
    {
      "cell_type": "raw",
      "id": "73e01de2-2270-459f-9621-6e9534771d65",
      "metadata": {
        "raw_mimetype": "text/html"
      },
      "source": [
        "<!-- df_topuefa = df_uefa_conm.query('confederation == \"UEFA\"').groupby(\"country\")['rank'].median().sort_values(ascending=True).head(5) -->"
      ]
    },
    {
      "cell_type": "raw",
      "id": "2bcf7086-ac67-45e1-9e61-392ee226d3b6",
      "metadata": {
        "raw_mimetype": "text/html"
      },
      "source": [
        "<!-- print(df_topuefa.index) -->"
      ]
    },
    {
      "cell_type": "raw",
      "id": "9d352e0a-201e-468e-a1fc-6b09b726914b",
      "metadata": {
        "raw_mimetype": "text/html"
      },
      "source": [
        "<!-- df_topconm = df_uefa_conm.query('confederation == \"CONMEBOL\"').groupby(\"country\")['rank'].median().sort_values(ascending=True).head(5) -->"
      ]
    },
    {
      "cell_type": "raw",
      "id": "475c1fac-6344-4064-9103-48b8fb81837d",
      "metadata": {
        "raw_mimetype": "text/html"
      },
      "source": [
        "<!-- print(df_topconm.index) -->"
      ]
    },
    {
      "cell_type": "raw",
      "id": "c6c7dfcc-bcb9-497f-963f-e2a9a989448c",
      "metadata": {
        "raw_mimetype": "text/html"
      },
      "source": [
        "<!-- ``` -->"
      ]
    },
    {
      "cell_type": "raw",
      "id": "44a2172d-bc5b-4f0e-824c-d53406f49973",
      "metadata": {
        "raw_mimetype": "text/html"
      },
      "source": [
        "<!-- ```{python} -->"
      ]
    },
    {
      "cell_type": "raw",
      "id": "0b20a1a1-4ecc-4792-a2cf-cde2d82228a7",
      "metadata": {
        "raw_mimetype": "text/html"
      },
      "source": [
        "<!-- lista_uefa = list(df_topuefa.index) -->"
      ]
    },
    {
      "cell_type": "raw",
      "id": "b6abf305-302b-41a7-87b2-32fab137096e",
      "metadata": {
        "raw_mimetype": "text/html"
      },
      "source": [
        "<!-- lista_conm = list(df_topconm.index) -->"
      ]
    },
    {
      "cell_type": "raw",
      "id": "ac35f894-e9bc-43b7-aa45-37027a1248af",
      "metadata": {
        "raw_mimetype": "text/html"
      },
      "source": [
        "<!-- ``` -->"
      ]
    },
    {
      "cell_type": "raw",
      "id": "095eb55e-c00b-48e5-902b-f83d1456bbac",
      "metadata": {
        "raw_mimetype": "text/html"
      },
      "source": [
        "<!-- ```{python} -->"
      ]
    },
    {
      "cell_type": "raw",
      "id": "84dd68ed-14fa-489a-bbb8-093b1c71a51b",
      "metadata": {
        "raw_mimetype": "text/html"
      },
      "source": [
        "<!-- df_top = df_uefa_conm.query('country in @ lista_uefa or country in @lista_conm') -->"
      ]
    },
    {
      "cell_type": "raw",
      "id": "64818edf-098d-4d5f-8fc9-8a70b1319696",
      "metadata": {
        "raw_mimetype": "text/html"
      },
      "source": [
        "<!-- df_rank_top = df_top.pivot_table( -->"
      ]
    },
    {
      "cell_type": "raw",
      "id": "ea90bded-5d5e-4b48-9a0f-44d4eaea6bea",
      "metadata": {
        "raw_mimetype": "text/html"
      },
      "source": [
        "<!--     index = 'year', -->"
      ]
    },
    {
      "cell_type": "raw",
      "id": "69391bf8-5987-4bd4-9f69-846b763b989d",
      "metadata": {
        "raw_mimetype": "text/html"
      },
      "source": [
        "<!--     columns = 'confederation', -->"
      ]
    },
    {
      "cell_type": "raw",
      "id": "dee1ae24-93fd-4de9-bb73-4a345db9c4ee",
      "metadata": {
        "raw_mimetype": "text/html"
      },
      "source": [
        "<!--     values='rank', -->"
      ]
    },
    {
      "cell_type": "raw",
      "id": "76bf5330-0b23-4db1-894d-b88896b23828",
      "metadata": {
        "raw_mimetype": "text/html"
      },
      "source": [
        "<!--     aggfunc=\"mean\" -->"
      ]
    },
    {
      "cell_type": "raw",
      "id": "bdcec68f-0aaa-4f7f-bebe-930b98c29713",
      "metadata": {
        "raw_mimetype": "text/html"
      },
      "source": [
        "<!-- ) -->"
      ]
    },
    {
      "cell_type": "raw",
      "id": "d0f9b572-4ae7-4e62-abaa-19f88b256c48",
      "metadata": {
        "raw_mimetype": "text/html"
      },
      "source": [
        "<!-- df_rank_top.plot( -->"
      ]
    },
    {
      "cell_type": "raw",
      "id": "22582ffa-25ec-472c-9b48-3f93195da0b0",
      "metadata": {
        "raw_mimetype": "text/html"
      },
      "source": [
        "<!--     kind = \"line\", -->"
      ]
    },
    {
      "cell_type": "raw",
      "id": "f5197cc6-7f4e-4bbc-ab9a-1d91964010d6",
      "metadata": {
        "raw_mimetype": "text/html"
      },
      "source": [
        "<!--     xticks=df_fifa['year'].unique(), -->"
      ]
    },
    {
      "cell_type": "raw",
      "id": "5265144a-6bca-4ab6-ae81-3a02fa8bc6e0",
      "metadata": {
        "raw_mimetype": "text/html"
      },
      "source": [
        "<!--     rot=90 -->"
      ]
    },
    {
      "cell_type": "raw",
      "id": "404f69ab-aabd-4e5a-941e-333757538342",
      "metadata": {
        "raw_mimetype": "text/html"
      },
      "source": [
        "<!-- ) -->"
      ]
    },
    {
      "cell_type": "raw",
      "id": "9c29d0f3-bc34-4d7a-877e-9e83383702f6",
      "metadata": {
        "raw_mimetype": "text/html"
      },
      "source": [
        "<!-- ``` -->"
      ]
    }
  ],
  "metadata": {
    "kernelspec": {
      "display_name": "Python 3 (ipykernel)",
      "language": "python",
      "name": "python3",
      "path": "C:"
    }
  },
  "nbformat": 4,
  "nbformat_minor": 5
}
