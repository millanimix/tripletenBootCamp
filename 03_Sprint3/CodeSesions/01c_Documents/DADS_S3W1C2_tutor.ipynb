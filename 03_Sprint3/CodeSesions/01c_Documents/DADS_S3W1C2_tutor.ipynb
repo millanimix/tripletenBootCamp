{
  "cells": [
    {
      "cell_type": "markdown",
      "metadata": {},
      "source": [
        "# Sprint 3 - Week 1 - Class 2\n",
        "\n",
        "Lectura, Visualización y Preprocesamiento\n",
        "\n",
        "En este caso de estudio, vamos a analizar el comportamiento del ranking\n",
        "FIFA desde que inició su medición en el año 1993, a fin de presentar al\n",
        "público la situación y el rendimiento de las distintas selecciones\n",
        "nacionales afiliadas.\n",
        "\n",
        "En este contexto, nos interesa contestar entre otras las siguientes\n",
        "preguntas:\n",
        "\n",
        "-   ¿Cómo es el rendimiento histórico por confederación?\n",
        "-   ¿Cómo ha sido el rendimiento histórico de su país comparado con el\n",
        "    promedio de la confederación a la cual pertenece?\n",
        "-   ¿Cuáles han sido históricamente los mejores países?\n",
        "-   ¿Quienes han sido los top 5 países previo al inicio de cada mundial?\n",
        "    ¿Entre estos países han estado los campeones del mundo\n",
        "    correspondientes?\n",
        "-   Según esta puntuación, ¿las selecciones son cada vez más\n",
        "    competitivas o cada vez parece existir más diferencia a través del\n",
        "    tiempo?\n",
        "\n",
        "Con este propósito usted cuenta con un conjunto de datos en el archivo\n",
        "`fifa_rank.csv` cuya metadata se detalla a continuación:\n",
        "\n",
        "-   Fuente: FIFA Site 2018\n",
        "-   Dimensiones:\n",
        "    -   `Country`: Nombre del pais afiliado a la FIFA cuya selección de\n",
        "        fútbol es puntuada\n",
        "    -   `Confederation`: Confederación a la que pertenece de acuerdo a\n",
        "        la división de la FIFA\n",
        "    -   `Rank_Date`: Fecha de publicación del ranking FIFA entre marzo\n",
        "        de 1993 y junio de 2018 (previo al mundial de Rusia)\n",
        "    -   `Points_Old_Version`: Puntos obtenidos conforme el sistema\n",
        "        antiguo de la FIFA (previo al año 2011)\n",
        "    -   `Ponts_New_Version`: Puntos obtenidos conforme el sistema nuevo\n",
        "        de la FIFA (a partir del años 2011)\n",
        "    -   `rank`: Posición en el ranking oficial de la FIFA dados los\n",
        "        puntos calculados\n",
        "\n",
        "## CARGAR LIBRERIAS Y DATOS"
      ],
      "id": "73183a9b-18a2-4539-b11c-a68a71f3f248"
    },
    {
      "cell_type": "code",
      "execution_count": 1,
      "metadata": {},
      "outputs": [],
      "source": [
        "#Cargar librerias\n",
        "import pandas as pd\n",
        "import numpy as np"
      ],
      "id": "faa4c380"
    },
    {
      "cell_type": "markdown",
      "metadata": {},
      "source": [
        "### E1: Ajustar ruta relativa según contexto"
      ],
      "id": "63250c3b-a1a2-48ad-872f-98763fc60dbc"
    },
    {
      "cell_type": "code",
      "execution_count": 2,
      "metadata": {},
      "outputs": [],
      "source": [
        "#Cargar datos\n",
        "df_fifa = pd.read_csv(\"fifa_rank.csv\", sep = \",\")"
      ],
      "id": "df0b4128"
    },
    {
      "cell_type": "markdown",
      "metadata": {},
      "source": [
        "## DIAGNÓSTICO INICIAL"
      ],
      "id": "0d0eecae-6fe3-4f32-9112-c31d4d00ea62"
    },
    {
      "cell_type": "code",
      "execution_count": 3,
      "metadata": {},
      "outputs": [
        {
          "output_type": "stream",
          "name": "stdout",
          "text": [
            "<class 'pandas.core.frame.DataFrame'>\n",
            "RangeIndex: 57797 entries, 0 to 57796\n",
            "Data columns (total 6 columns):\n",
            " #   Column              Non-Null Count  Dtype  \n",
            "---  ------              --------------  -----  \n",
            " 0   Country             57797 non-null  object \n",
            " 1   Confederation       54815 non-null  object \n",
            " 2   Rank_Date           57797 non-null  object \n",
            " 3   Points_Old_Version  40382 non-null  float64\n",
            " 4   Points_New_Version  57797 non-null  object \n",
            " 5   rank                57797 non-null  int64  \n",
            "dtypes: float64(1), int64(1), object(4)\n",
            "memory usage: 2.6+ MB"
          ]
        }
      ],
      "source": [
        "#Visualizar información general de los datos\n",
        "df_fifa.info()"
      ],
      "id": "d0dc32a9"
    },
    {
      "cell_type": "raw",
      "metadata": {
        "raw_mimetype": "text/html"
      },
      "source": [
        "<!-- **CONCLUSIONES DE LA INFORMACION GENERAL DEL ARCHIVO:** -->"
      ],
      "id": "31318710-c135-44ad-8ea2-c2e783f5e0e6"
    },
    {
      "cell_type": "raw",
      "metadata": {
        "raw_mimetype": "text/html"
      },
      "source": [
        "<!-- - Las dimensiones del dataframe son 57,797 registros (filas) y 6 columnas (campos) -->"
      ],
      "id": "75551672-92d3-4b31-95cc-5027bcf0c36f"
    },
    {
      "cell_type": "raw",
      "metadata": {
        "raw_mimetype": "text/html"
      },
      "source": [
        "<!-- - Los Nombres de las columnas no están bien presentados, en concreto \"rank\" esta en minúsculas y el resto no. Se debería estandarizar -->"
      ],
      "id": "e5b90335-6a7d-49e5-aa66-cd6e7a43e475"
    },
    {
      "cell_type": "raw",
      "metadata": {
        "raw_mimetype": "text/html"
      },
      "source": [
        "<!-- - Las columnas Confederation, Points_Old_Version y Poins_New_Version tendrían valores perdidos -->"
      ],
      "id": "0f249c90-65da-4f84-add7-ee8b1ac4f5d6"
    },
    {
      "cell_type": "raw",
      "metadata": {
        "raw_mimetype": "text/html"
      },
      "source": [
        "<!-- - La columna Poins_New_Version es de un tipo object (string) que no corresponde, debería cambiarse a float  -->"
      ],
      "id": "aead2c65-c3ea-4519-856d-6471cc860a48"
    },
    {
      "cell_type": "raw",
      "metadata": {
        "raw_mimetype": "text/html"
      },
      "source": [
        "<!-- - La columna rank date es de un tipo object (string) que no corresponde, debería ser de tipo fecha -->"
      ],
      "id": "86c6d2a7-9228-47de-9410-e5fb1c9ad124"
    },
    {
      "cell_type": "code",
      "execution_count": 4,
      "metadata": {},
      "outputs": [
        {
          "output_type": "display_data",
          "metadata": {},
          "data": {
            "text/html": [
              "\n",
              "</div>"
            ]
          }
        }
      ],
      "source": [
        "#Visualizar cabecera de los datos\n",
        "df_fifa.head(n = 10)"
      ],
      "id": "78cb8e2d"
    },
    {
      "cell_type": "code",
      "execution_count": 5,
      "metadata": {},
      "outputs": [
        {
          "output_type": "display_data",
          "metadata": {},
          "data": {
            "text/html": [
              "\n",
              "</div>"
            ]
          }
        }
      ],
      "source": [
        "#Visualizar una muestra aleatoria de los datos\n",
        "df_fifa.sample(n = 10)"
      ],
      "id": "988ee5b0"
    },
    {
      "cell_type": "raw",
      "metadata": {
        "raw_mimetype": "text/html"
      },
      "source": [
        "<!-- **CONCLUSIONES DE LA VISUALIZACION** -->"
      ],
      "id": "6fb2b200-7d60-4408-a8e3-9a0c8ee1c32a"
    },
    {
      "cell_type": "raw",
      "metadata": {
        "raw_mimetype": "text/html"
      },
      "source": [
        "<!-- - Se podria contar con campos adicionales de años y meses a partir de la fecha considerando que los datos son mensuales -->"
      ],
      "id": "17049a41-81d2-4da4-bc67-2d0b811deb64"
    },
    {
      "cell_type": "raw",
      "metadata": {
        "raw_mimetype": "text/html"
      },
      "source": [
        "<!-- - Se podria unificar los puntos antiguos y nuevos en una sola columna unificada -->"
      ],
      "id": "46ce558b-2ad6-4e77-966d-8038ed6750b1"
    },
    {
      "cell_type": "raw",
      "metadata": {
        "raw_mimetype": "text/html"
      },
      "source": [
        "<!-- - Al existir demasiados datos se debería verificar la existencia de duplicados -->"
      ],
      "id": "104c81d3-d7ed-4e9f-8be8-364e012c8d67"
    },
    {
      "cell_type": "markdown",
      "metadata": {},
      "source": [
        "## PROCESAMIENTO\n",
        "\n",
        "### E2: Ajustar nombres de columnas\n",
        "\n",
        "-   Poner todos los nombres de columnas en minusculas"
      ],
      "id": "88b7da66-9572-46f7-b60c-66106f2ad04d"
    },
    {
      "cell_type": "code",
      "execution_count": 6,
      "metadata": {},
      "outputs": [],
      "source": [
        "col_originales = df_fifa.columns\n",
        "col_nuevas = [col.lower() for col in col_originales]\n",
        "df_fifa.columns = col_nuevas"
      ],
      "id": "e9f5a538"
    },
    {
      "cell_type": "code",
      "execution_count": 7,
      "metadata": {},
      "outputs": [
        {
          "output_type": "display_data",
          "metadata": {},
          "data": {
            "text/html": [
              "\n",
              "</div>"
            ]
          }
        }
      ],
      "source": [
        "df_fifa.head(10)"
      ],
      "id": "6735204e"
    },
    {
      "cell_type": "markdown",
      "metadata": {},
      "source": [
        "### E3: Visualizar datos en confederation\n",
        "\n",
        "-   Visualizar cuantos casos hay por confederation"
      ],
      "id": "7bd5be85-9265-4ea9-83d2-d0049a4a490a"
    },
    {
      "cell_type": "code",
      "execution_count": 8,
      "metadata": {},
      "outputs": [
        {
          "output_type": "display_data",
          "metadata": {},
          "data": {
            "text/plain": [
              "confederation\n",
              "AFC         12481\n",
              "CAF         14876\n",
              "CONCACAF     9664\n",
              "CONMEBOL     2860\n",
              "UEFA        14934\n",
              "NaN          2982\n",
              "Name: country, dtype: int64"
            ]
          }
        }
      ],
      "source": [
        "#Visualizar cuantos casos por confederation\n",
        "df_fifa.groupby('confederation', dropna=False)['country'].count()"
      ],
      "id": "edbd1330"
    },
    {
      "cell_type": "raw",
      "metadata": {
        "raw_mimetype": "text/html"
      },
      "source": [
        "<!-- **CONCLUSIONES** -->"
      ],
      "id": "d1038a4f-9d1d-496e-afb4-4fb2fe54b8e0"
    },
    {
      "cell_type": "raw",
      "metadata": {
        "raw_mimetype": "text/html"
      },
      "source": [
        "<!-- - Es necesario sustituir los datos perdidos en esta variable por \"OFC\" -->"
      ],
      "id": "2306ed16-d86c-4699-ae64-7014c1b5fb41"
    },
    {
      "cell_type": "markdown",
      "metadata": {},
      "source": [
        "### E4: Ajustar formato de columna rank_date\n",
        "\n",
        "-   Cambiar a formato fecha"
      ],
      "id": "28446c16-f573-4a99-8c3d-02d8dee67b5f"
    },
    {
      "cell_type": "code",
      "execution_count": 9,
      "metadata": {},
      "outputs": [
        {
          "output_type": "stream",
          "name": "stderr",
          "text": [
            "C:\\Users\\rodon\\AppData\\Local\\Temp\\ipykernel_59532\\3960985096.py:1: UserWarning:\n",
            "\n",
            "The argument 'infer_datetime_format' is deprecated and will be removed in a future version. A strict version of it is now the default, see https://pandas.pydata.org/pdeps/0004-consistent-to-datetime-parsing.html. You can safely remove this argument.\n"
          ]
        }
      ],
      "source": [
        "df_fifa['rank_date'] = pd.to_datetime(df_fifa['rank_date'], infer_datetime_format=True)"
      ],
      "id": "9b2bef6f"
    },
    {
      "cell_type": "code",
      "execution_count": 10,
      "metadata": {},
      "outputs": [
        {
          "output_type": "stream",
          "name": "stdout",
          "text": [
            "<class 'pandas.core.frame.DataFrame'>\n",
            "RangeIndex: 57797 entries, 0 to 57796\n",
            "Data columns (total 6 columns):\n",
            " #   Column              Non-Null Count  Dtype         \n",
            "---  ------              --------------  -----         \n",
            " 0   country             57797 non-null  object        \n",
            " 1   confederation       54815 non-null  object        \n",
            " 2   rank_date           57797 non-null  datetime64[ns]\n",
            " 3   points_old_version  40382 non-null  float64       \n",
            " 4   points_new_version  57797 non-null  object        \n",
            " 5   rank                57797 non-null  int64         \n",
            "dtypes: datetime64[ns](1), float64(1), int64(1), object(3)\n",
            "memory usage: 2.6+ MB"
          ]
        }
      ],
      "source": [
        "df_fifa.info()"
      ],
      "id": "43a97335"
    },
    {
      "cell_type": "markdown",
      "metadata": {},
      "source": [
        "### E5: Adicionar columnas de año y mes\n",
        "\n",
        "-   Crear campo `year`\n",
        "-   Crear campo `month`\n",
        "-   Cuantos casos hay por cada mes y año\n",
        "-   Hacer un primer grafico considerando que existen demasiados casos"
      ],
      "id": "590d6fe0-ddb6-439b-a82f-da1d2c34f13a"
    },
    {
      "cell_type": "code",
      "execution_count": 11,
      "metadata": {},
      "outputs": [],
      "source": [
        "#Campo year\n",
        "df_fifa['year'] = pd.DatetimeIndex(df_fifa['rank_date']).year\n",
        "\n",
        "#Campo month\n",
        "df_fifa['month'] = pd.DatetimeIndex(df_fifa['rank_date']).month"
      ],
      "id": "4afaf4af"
    },
    {
      "cell_type": "code",
      "execution_count": 12,
      "metadata": {},
      "outputs": [
        {
          "output_type": "display_data",
          "metadata": {},
          "data": {
            "text/html": [
              "\n",
              "</div>"
            ]
          }
        }
      ],
      "source": [
        "df_fifa.sample(10)"
      ],
      "id": "94fc9e23"
    },
    {
      "cell_type": "code",
      "execution_count": 13,
      "metadata": {},
      "outputs": [
        {
          "output_type": "display_data",
          "metadata": {},
          "data": {
            "text/plain": [
              "year  month\n",
              "1993  8        167\n",
              "      9        167\n",
              "      10       167\n",
              "      11       168\n",
              "      12       168\n",
              "              ... \n",
              "2018  2        211\n",
              "      3        211\n",
              "      4        211\n",
              "      5        211\n",
              "      6        211\n",
              "Name: country, Length: 285, dtype: int64"
            ]
          }
        }
      ],
      "source": [
        "#Visualizar cuantos casos hay por cada mes y año\n",
        "df_fifa.groupby(['year','month'])['country'].count()"
      ],
      "id": "047e9e65"
    },
    {
      "cell_type": "code",
      "execution_count": 14,
      "metadata": {},
      "outputs": [
        {
          "output_type": "display_data",
          "metadata": {},
          "data": {
            "image/png": "[encoded data removed]"
          }
        }
      ],
      "source": [
        "#Hacer un primer grafico considerando que existen demasiados casos\n",
        "df_grupos_meses = df_fifa.groupby(['year','month'])['country'].count()\n",
        "df_grupos_meses.plot(\n",
        "    kind=\"line\",\n",
        "    xlabel=\"Año, Mes\",\n",
        "    ylabel=\"# Paises\",\n",
        "    title=\"Cantidad de Paises Calificados\"\n",
        ")"
      ],
      "id": "9c76df1a"
    },
    {
      "cell_type": "raw",
      "metadata": {
        "raw_mimetype": "text/html"
      },
      "source": [
        "<!-- **CONCLUSIONES** -->"
      ],
      "id": "31cbcd83-f496-4169-9315-fc4ee46b6b69"
    },
    {
      "cell_type": "raw",
      "metadata": {
        "raw_mimetype": "text/html"
      },
      "source": [
        "<!-- - Va a ser necesario revisar los datos entre los años 2007 y 2011 pues parece que existen duplicados -->"
      ],
      "id": "8bcde048-9ea9-4b00-a2cf-60766ad89383"
    },
    {
      "cell_type": "markdown",
      "metadata": {},
      "source": [
        "### E6: Visualizar datos en Points_Old_Version\n",
        "\n",
        "-   Visualizar cuantos casos hay para cada valor posibles\n",
        "-   Visualizar cuantos NA hay por año - mes"
      ],
      "id": "a73ce6a9-f21f-4cf5-b7b4-39c722da791a"
    },
    {
      "cell_type": "code",
      "execution_count": 15,
      "metadata": {},
      "outputs": [
        {
          "output_type": "display_data",
          "metadata": {},
          "data": {
            "text/plain": [
              "points_old_version\n",
              "NaN       17415\n",
              "0.0        1044\n",
              "7.0         301\n",
              "3.0         295\n",
              "11.0        295\n",
              "          ...  \n",
              "1134.0        1\n",
              "1479.0        1\n",
              "999.0         1\n",
              "1616.0        1\n",
              "1396.0        1\n",
              "Name: count, Length: 1376, dtype: int64"
            ]
          }
        }
      ],
      "source": [
        "#Visualizar cuantos casos\n",
        "df_fifa['points_old_version'].value_counts(dropna=False)"
      ],
      "id": "1c66c85b"
    },
    {
      "cell_type": "code",
      "execution_count": 16,
      "metadata": {},
      "outputs": [
        {
          "output_type": "display_data",
          "metadata": {},
          "data": {
            "text/plain": [
              "year  month\n",
              "2011  8        206\n",
              "      9        207\n",
              "      10       207\n",
              "      11       208\n",
              "      12       209\n",
              "              ... \n",
              "2018  2        211\n",
              "      3        211\n",
              "      4        211\n",
              "      5        211\n",
              "      6        211\n",
              "Name: count, Length: 83, dtype: int64"
            ]
          }
        }
      ],
      "source": [
        "df_fifa[df_fifa['points_old_version'].isna()][['year','month']].value_counts().sort_index()"
      ],
      "id": "34cbf20b"
    },
    {
      "cell_type": "raw",
      "metadata": {
        "raw_mimetype": "text/html"
      },
      "source": [
        "<!-- **CONCLUSIONES** -->"
      ],
      "id": "01cf361f-d9e1-4b50-ac3b-0eb931e0c29f"
    },
    {
      "cell_type": "raw",
      "metadata": {
        "raw_mimetype": "text/html"
      },
      "source": [
        "<!-- - Los valores perdidos corresponden a los años posteriores a 2011 donde se reformó la clasificacion -->"
      ],
      "id": "82fc363c-1e89-4552-bce0-ecb8e193f38b"
    },
    {
      "cell_type": "markdown",
      "metadata": {},
      "source": [
        "### E7: Visualizar datos en Points_New_Version\n",
        "\n",
        "-   Visualizar cuantos casos hay para cada valor posibles\n",
        "-   Visualizar cuantos “no definidos” (ND) hay por año"
      ],
      "id": "65a0c2ea-d603-4ef2-8aca-833cb17f3f69"
    },
    {
      "cell_type": "code",
      "execution_count": 17,
      "metadata": {},
      "outputs": [
        {
          "output_type": "display_data",
          "metadata": {},
          "data": {
            "text/plain": [
              "points_new_version\n",
              "ND        40382\n",
              "0           333\n",
              "63.75        48\n",
              "38.25        39\n",
              "66           33\n",
              "          ...  \n",
              "553.79        1\n",
              "554.47        1\n",
              "555.66        1\n",
              "556.65        1\n",
              "34.76         1\n",
              "Name: count, Length: 11115, dtype: int64"
            ]
          }
        }
      ],
      "source": [
        "#Visualizar cuantos casos\n",
        "df_fifa['points_new_version'].value_counts(dropna=False)"
      ],
      "id": "9a075174"
    },
    {
      "cell_type": "code",
      "execution_count": 18,
      "metadata": {},
      "outputs": [
        {
          "output_type": "display_data",
          "metadata": {},
          "data": {
            "text/plain": [
              "year\n",
              "1993     837\n",
              "1994    1728\n",
              "1995    1792\n",
              "1996    1847\n",
              "1997    1916\n",
              "1998    1938\n",
              "1999    2416\n",
              "2000    2429\n",
              "2001    2437\n",
              "2002    2233\n",
              "2003    2450\n",
              "2004    2456\n",
              "2005    2461\n",
              "2006    2259\n",
              "2007    2489\n",
              "2008    2485\n",
              "2009    2484\n",
              "2010    2277\n",
              "2011    1448\n",
              "Name: count, dtype: int64"
            ]
          }
        }
      ],
      "source": [
        "df_fifa[df_fifa['points_new_version']== \"ND\"]['year'].value_counts().sort_index()"
      ],
      "id": "0ef76e8b"
    },
    {
      "cell_type": "raw",
      "metadata": {
        "raw_mimetype": "text/html"
      },
      "source": [
        "<!-- **Conclusiones**  -->"
      ],
      "id": "23373e4a-497b-41ee-a678-f850f17a6938"
    },
    {
      "cell_type": "raw",
      "metadata": {
        "raw_mimetype": "text/html"
      },
      "source": [
        "<!-- - Se debería cambiar el \"ND\" por un valor perdido para hacer que esta variable sea numérica -->"
      ],
      "id": "a2dfc5cf-a14d-488c-b9d4-b7fc430d1cd3"
    },
    {
      "cell_type": "raw",
      "metadata": {
        "raw_mimetype": "text/html"
      },
      "source": [
        "<!-- - Idealmente se debería unir los puntos viejos y nuevos en una sola variable pues representan lo mismo -->"
      ],
      "id": "0bc8a8a8-e0ff-466e-85b8-02dcb3afdc47"
    },
    {
      "cell_type": "raw",
      "metadata": {
        "raw_mimetype": "text/html"
      },
      "source": [
        "<!-- ## PROCESAMIENTO 2 -->"
      ],
      "id": "4f994a59-635d-49a6-91b0-8724a49ff9c1"
    },
    {
      "cell_type": "raw",
      "metadata": {
        "raw_mimetype": "text/html"
      },
      "source": [
        "<!-- ### Ajustar valores perdidos para variables que correspondan -->"
      ],
      "id": "8374b74c-8de3-4361-81ea-fc676b37da3f"
    },
    {
      "cell_type": "raw",
      "metadata": {
        "raw_mimetype": "text/html"
      },
      "source": [
        "<!-- ```{python} -->"
      ],
      "id": "f02d5e3c-aa59-4ef3-ad86-dfe1f1556cd6"
    },
    {
      "cell_type": "raw",
      "metadata": {
        "raw_mimetype": "text/html"
      },
      "source": [
        "<!-- #Variable confederation -->"
      ],
      "id": "763e7ef8-d488-451c-a29f-c8ec37529232"
    },
    {
      "cell_type": "raw",
      "metadata": {
        "raw_mimetype": "text/html"
      },
      "source": [
        "<!-- df_fifa['confederation'] = df_fifa['confederation'].fillna('OCF') -->"
      ],
      "id": "25f69fa7-1bfd-4886-8357-2a556a98a86a"
    },
    {
      "cell_type": "raw",
      "metadata": {
        "raw_mimetype": "text/html"
      },
      "source": [
        "<!-- ``` -->"
      ],
      "id": "1bbea3a5-8596-43eb-a021-dbf32db65e59"
    },
    {
      "cell_type": "raw",
      "metadata": {
        "raw_mimetype": "text/html"
      },
      "source": [
        "<!-- ```{python} -->"
      ],
      "id": "93185a74-4900-480c-a103-456fd06f23c1"
    },
    {
      "cell_type": "raw",
      "metadata": {
        "raw_mimetype": "text/html"
      },
      "source": [
        "<!-- df_fifa['confederation'].value_counts(dropna=False) -->"
      ],
      "id": "b4fbd22c-5286-41c7-9c3a-3b6b1c10e24d"
    },
    {
      "cell_type": "raw",
      "metadata": {
        "raw_mimetype": "text/html"
      },
      "source": [
        "<!-- ``` -->"
      ],
      "id": "ae070539-d540-4887-a781-da98263eeca6"
    },
    {
      "cell_type": "raw",
      "metadata": {
        "raw_mimetype": "text/html"
      },
      "source": [
        "<!-- ```{python} -->"
      ],
      "id": "82994cdb-1ee9-4eb4-b0f9-af762c309c4b"
    },
    {
      "cell_type": "raw",
      "metadata": {
        "raw_mimetype": "text/html"
      },
      "source": [
        "<!-- #Variable poins_new_version -->"
      ],
      "id": "f9444cfe-5acc-4303-8e12-8bdf4443b87e"
    },
    {
      "cell_type": "raw",
      "metadata": {
        "raw_mimetype": "text/html"
      },
      "source": [
        "<!-- df_fifa.loc[df_fifa['points_new_version'] == 'ND','points_new_version'] = np.nan -->"
      ],
      "id": "8c14f2ee-0974-4d17-836e-cc706a58e43b"
    },
    {
      "cell_type": "raw",
      "metadata": {
        "raw_mimetype": "text/html"
      },
      "source": [
        "<!-- ``` -->"
      ],
      "id": "f7ba3d1d-d7f3-4add-8b31-df949da66c18"
    },
    {
      "cell_type": "raw",
      "metadata": {
        "raw_mimetype": "text/html"
      },
      "source": [
        "<!-- ```{python} -->"
      ],
      "id": "43b559d0-46ad-4630-b4c5-04ff5f6337d3"
    },
    {
      "cell_type": "raw",
      "metadata": {
        "raw_mimetype": "text/html"
      },
      "source": [
        "<!-- df_fifa['points_new_version'] = df_fifa['points_new_version'].astype(float) -->"
      ],
      "id": "954362e9-d9e8-495d-9505-7578242b45be"
    },
    {
      "cell_type": "raw",
      "metadata": {
        "raw_mimetype": "text/html"
      },
      "source": [
        "<!-- ``` -->"
      ],
      "id": "c5ed7132-0db6-4c64-83a7-1c1422c0f9c9"
    },
    {
      "cell_type": "raw",
      "metadata": {
        "raw_mimetype": "text/html"
      },
      "source": [
        "<!-- ```{python} -->"
      ],
      "id": "b88f34f4-4c17-4fc0-999d-1017f85b73ac"
    },
    {
      "cell_type": "raw",
      "metadata": {
        "raw_mimetype": "text/html"
      },
      "source": [
        "<!-- df_fifa.info() -->"
      ],
      "id": "df4da518-dc19-4cfc-bdaa-eebb36c4a390"
    },
    {
      "cell_type": "raw",
      "metadata": {
        "raw_mimetype": "text/html"
      },
      "source": [
        "<!-- ``` -->"
      ],
      "id": "8eeb8988-c79f-4f1a-8bb6-337091ea9c81"
    },
    {
      "cell_type": "raw",
      "metadata": {
        "raw_mimetype": "text/html"
      },
      "source": [
        "<!-- ### Encontrar y dar tratamiento a duplicados -->"
      ],
      "id": "3d0e5d46-f880-42dd-9fd2-3cdb9328ad56"
    },
    {
      "cell_type": "raw",
      "metadata": {
        "raw_mimetype": "text/html"
      },
      "source": [
        "<!-- ```{python} -->"
      ],
      "id": "3a5fe1be-2800-4bfd-9994-c70ccd712c1f"
    },
    {
      "cell_type": "raw",
      "metadata": {
        "raw_mimetype": "text/html"
      },
      "source": [
        "<!-- #Identificar duplicados globales -->"
      ],
      "id": "367fee4b-4c67-4c77-b5b5-a3d23dc7fa71"
    },
    {
      "cell_type": "raw",
      "metadata": {
        "raw_mimetype": "text/html"
      },
      "source": [
        "<!-- df_fifa.duplicated().sum() -->"
      ],
      "id": "12120023-f644-485c-a787-986984768323"
    },
    {
      "cell_type": "raw",
      "metadata": {
        "raw_mimetype": "text/html"
      },
      "source": [
        "<!-- ``` -->"
      ],
      "id": "0c3432c2-51e6-4e92-b228-fa7950cc5319"
    },
    {
      "cell_type": "raw",
      "metadata": {
        "raw_mimetype": "text/html"
      },
      "source": [
        "<!-- ```{python} -->"
      ],
      "id": "be3bbc1d-da85-419b-a241-afa799c3f105"
    },
    {
      "cell_type": "raw",
      "metadata": {
        "raw_mimetype": "text/html"
      },
      "source": [
        "<!-- df_fifa[df_fifa.duplicated()] -->"
      ],
      "id": "982189c0-b6db-4cc2-ae61-17da3a286d54"
    },
    {
      "cell_type": "raw",
      "metadata": {
        "raw_mimetype": "text/html"
      },
      "source": [
        "<!-- ``` -->"
      ],
      "id": "0d2f099c-beee-4e00-bf01-dc24af90cfb3"
    },
    {
      "cell_type": "raw",
      "metadata": {
        "raw_mimetype": "text/html"
      },
      "source": [
        "<!-- ```{python} -->"
      ],
      "id": "be117654-cf2c-4fc6-a440-c8a858d0ca4c"
    },
    {
      "cell_type": "raw",
      "metadata": {
        "raw_mimetype": "text/html"
      },
      "source": [
        "<!-- #Eliminar duplicados globales -->"
      ],
      "id": "29a3ca95-f143-4b8f-873c-82ea87ec24dc"
    },
    {
      "cell_type": "raw",
      "metadata": {
        "raw_mimetype": "text/html"
      },
      "source": [
        "<!-- df_fifa = df_fifa.drop_duplicates().reset_index(drop=True) -->"
      ],
      "id": "66517110-632e-4704-b342-932851d17d77"
    },
    {
      "cell_type": "raw",
      "metadata": {
        "raw_mimetype": "text/html"
      },
      "source": [
        "<!-- ``` -->"
      ],
      "id": "a5314ff3-50bf-4274-abf0-fbb3e0786265"
    },
    {
      "cell_type": "raw",
      "metadata": {
        "raw_mimetype": "text/html"
      },
      "source": [
        "<!-- ```{python} -->"
      ],
      "id": "b272487c-804f-4114-b0b9-368d6a574ac1"
    },
    {
      "cell_type": "raw",
      "metadata": {
        "raw_mimetype": "text/html"
      },
      "source": [
        "<!-- df_fifa.info() -->"
      ],
      "id": "a66986aa-f8a9-481c-9f09-29bc5b45502c"
    },
    {
      "cell_type": "raw",
      "metadata": {
        "raw_mimetype": "text/html"
      },
      "source": [
        "<!-- ``` -->"
      ],
      "id": "314187d4-d1fd-46b6-a5ee-700c8df34875"
    },
    {
      "cell_type": "raw",
      "metadata": {
        "raw_mimetype": "text/html"
      },
      "source": [
        "<!-- ```{python} -->"
      ],
      "id": "4f6dfb24-e3ef-4777-a71d-a1269d98ed2e"
    },
    {
      "cell_type": "raw",
      "metadata": {
        "raw_mimetype": "text/html"
      },
      "source": [
        "<!-- #Estudiar duplicados implicitos por año y mes -->"
      ],
      "id": "828f50d4-d12c-4da0-950b-cceb1cebfd18"
    },
    {
      "cell_type": "raw",
      "metadata": {
        "raw_mimetype": "text/html"
      },
      "source": [
        "<!-- df_fifa.duplicated(subset=['year','month','country']).sum() -->"
      ],
      "id": "8acc742c-c280-46e9-8865-7c03a796a26e"
    },
    {
      "cell_type": "raw",
      "metadata": {
        "raw_mimetype": "text/html"
      },
      "source": [
        "<!-- ``` -->"
      ],
      "id": "9c5ff212-3f20-4ab3-b047-9f71c1fe5d07"
    },
    {
      "cell_type": "raw",
      "metadata": {
        "raw_mimetype": "text/html"
      },
      "source": [
        "<!-- ```{python} -->"
      ],
      "id": "4d2abcd6-6e11-4bd1-9f88-b707f9f0f6b6"
    },
    {
      "cell_type": "raw",
      "metadata": {
        "raw_mimetype": "text/html"
      },
      "source": [
        "<!-- df_fifa[df_fifa.duplicated(subset=['year','month','country'])].sample(10) -->"
      ],
      "id": "5c193898-c53b-4a31-b3d4-c2486d6aca3e"
    },
    {
      "cell_type": "raw",
      "metadata": {
        "raw_mimetype": "text/html"
      },
      "source": [
        "<!-- ``` -->"
      ],
      "id": "8926a7ea-a8f4-46fa-8790-20f2ee682748"
    },
    {
      "cell_type": "raw",
      "metadata": {
        "raw_mimetype": "text/html"
      },
      "source": [
        "<!-- ```{python} -->"
      ],
      "id": "496897f2-3d40-486b-a369-b3ee7ef2cfa7"
    },
    {
      "cell_type": "raw",
      "metadata": {
        "raw_mimetype": "text/html"
      },
      "source": [
        "<!-- #Eliminar duplicados implicitos -->"
      ],
      "id": "546056d3-170a-4bb4-bf73-d7618170538e"
    },
    {
      "cell_type": "raw",
      "metadata": {
        "raw_mimetype": "text/html"
      },
      "source": [
        "<!-- df_fifa = df_fifa.drop_duplicates(subset=['year','month','country']).reset_index(drop=True) -->"
      ],
      "id": "8c01f62e-c232-4254-97a3-ce23c2645b98"
    },
    {
      "cell_type": "raw",
      "metadata": {
        "raw_mimetype": "text/html"
      },
      "source": [
        "<!-- ``` -->"
      ],
      "id": "cd096769-6d4f-4614-afaa-0d19eaea6795"
    },
    {
      "cell_type": "raw",
      "metadata": {
        "raw_mimetype": "text/html"
      },
      "source": [
        "<!-- ```{python} -->"
      ],
      "id": "0af8b077-20d4-4f92-9e24-c591e47997c4"
    },
    {
      "cell_type": "raw",
      "metadata": {
        "raw_mimetype": "text/html"
      },
      "source": [
        "<!-- #Volver a graficar serie de tiempo -->"
      ],
      "id": "d66b5f6c-c572-449f-acab-1e462399876c"
    },
    {
      "cell_type": "raw",
      "metadata": {
        "raw_mimetype": "text/html"
      },
      "source": [
        "<!-- df_grupos_meses = df_fifa.groupby(['year','month'])['country'].count() -->"
      ],
      "id": "3a35684d-53e9-4803-b634-8540cef69c7a"
    },
    {
      "cell_type": "raw",
      "metadata": {
        "raw_mimetype": "text/html"
      },
      "source": [
        "<!-- df_grupos_meses.plot( -->"
      ],
      "id": "49d4f14b-ffab-4d27-abad-03690345c12b"
    },
    {
      "cell_type": "raw",
      "metadata": {
        "raw_mimetype": "text/html"
      },
      "source": [
        "<!--     kind=\"line\", -->"
      ],
      "id": "b333a534-b3c7-4b88-a057-67123bb3242e"
    },
    {
      "cell_type": "raw",
      "metadata": {
        "raw_mimetype": "text/html"
      },
      "source": [
        "<!--     xlabel=\"Año, Mes\", -->"
      ],
      "id": "6b9894cf-e07a-4507-a627-b3f0e9ec23e9"
    },
    {
      "cell_type": "raw",
      "metadata": {
        "raw_mimetype": "text/html"
      },
      "source": [
        "<!--     ylabel=\"# Paises\", -->"
      ],
      "id": "ff9a0659-bab9-49bd-9df1-1f95b718a9ab"
    },
    {
      "cell_type": "raw",
      "metadata": {
        "raw_mimetype": "text/html"
      },
      "source": [
        "<!--     title=\"Cantidad de Paises Calificados\" -->"
      ],
      "id": "76827269-03a6-495b-9d53-9a6ac819fa76"
    },
    {
      "cell_type": "raw",
      "metadata": {
        "raw_mimetype": "text/html"
      },
      "source": [
        "<!-- ) -->"
      ],
      "id": "13277601-5dc7-48ab-992b-0737eb3d813a"
    },
    {
      "cell_type": "raw",
      "metadata": {
        "raw_mimetype": "text/html"
      },
      "source": [
        "<!-- ``` -->"
      ],
      "id": "16ec9d73-e68b-407c-abe4-b9c683ac2fd3"
    },
    {
      "cell_type": "raw",
      "metadata": {
        "raw_mimetype": "text/html"
      },
      "source": [
        "<!-- ### Crear puntuacion unificada -->"
      ],
      "id": "4888ce26-585b-4a16-a51e-9ca73721b91a"
    },
    {
      "cell_type": "raw",
      "metadata": {
        "raw_mimetype": "text/html"
      },
      "source": [
        "<!-- ```{python} -->"
      ],
      "id": "66e3fce5-4c70-4dd0-a140-054d50846237"
    },
    {
      "cell_type": "raw",
      "metadata": {
        "raw_mimetype": "text/html"
      },
      "source": [
        "<!-- #Crear nueva variable points -->"
      ],
      "id": "d9e89e91-6e86-43af-b8c2-86cc23660852"
    },
    {
      "cell_type": "raw",
      "metadata": {
        "raw_mimetype": "text/html"
      },
      "source": [
        "<!-- df_fifa.loc[df_fifa['points_old_version'].isna(), 'points_3'] = df_fifa['points_new_version'] -->"
      ],
      "id": "5a01b82c-cba4-4fac-aeea-b56ca1b4bebc"
    },
    {
      "cell_type": "raw",
      "metadata": {
        "raw_mimetype": "text/html"
      },
      "source": [
        "<!-- df_fifa.loc[df_fifa['points_new_version'].isna(), 'points_3'] = df_fifa['points_old_version'] -->"
      ],
      "id": "fb1c7613-7ea5-457d-bb95-c9caa31ea6df"
    },
    {
      "cell_type": "raw",
      "metadata": {
        "raw_mimetype": "text/html"
      },
      "source": [
        "<!-- ``` -->"
      ],
      "id": "2aaed127-89c2-4ffc-8430-68a4bc157b8a"
    },
    {
      "cell_type": "raw",
      "metadata": {
        "raw_mimetype": "text/html"
      },
      "source": [
        "<!-- ```{python} -->"
      ],
      "id": "6b6a30a3-99ce-4674-92a9-ca76db48fa40"
    },
    {
      "cell_type": "raw",
      "metadata": {
        "raw_mimetype": "text/html"
      },
      "source": [
        "<!-- df_fifa.sample(10) -->"
      ],
      "id": "7dada271-d90e-42c7-81cf-483e0684719e"
    },
    {
      "cell_type": "raw",
      "metadata": {
        "raw_mimetype": "text/html"
      },
      "source": [
        "<!-- ``` -->"
      ],
      "id": "dcd0f639-daa6-4d47-b54d-dfe864ef1aaa"
    },
    {
      "cell_type": "raw",
      "metadata": {
        "raw_mimetype": "text/html"
      },
      "source": [
        "<!-- ```{python} -->"
      ],
      "id": "99ae1194-0986-4ba2-993b-9cdabcb85b27"
    },
    {
      "cell_type": "raw",
      "metadata": {
        "raw_mimetype": "text/html"
      },
      "source": [
        "<!-- #Quitar variables de puntuacion antigua -->"
      ],
      "id": "647216b1-8c38-4f27-a83a-9b7cd7f2fd94"
    },
    {
      "cell_type": "raw",
      "metadata": {
        "raw_mimetype": "text/html"
      },
      "source": [
        "<!-- df_fifa.drop(columns=['points_old_version','points_new_version'],inplace=True) -->"
      ],
      "id": "1e0c0acf-d42a-4278-ac5f-5b0518987585"
    },
    {
      "cell_type": "raw",
      "metadata": {
        "raw_mimetype": "text/html"
      },
      "source": [
        "<!-- ``` -->"
      ],
      "id": "bca35426-d267-4705-9247-9674cc0e44df"
    },
    {
      "cell_type": "raw",
      "metadata": {
        "raw_mimetype": "text/html"
      },
      "source": [
        "<!-- ```{python} -->"
      ],
      "id": "f0a33e6b-b262-4d30-87d3-9eeba844fe3e"
    },
    {
      "cell_type": "raw",
      "metadata": {
        "raw_mimetype": "text/html"
      },
      "source": [
        "<!-- df_fifa.sample(10) -->"
      ],
      "id": "3511f92f-1ad4-4394-b990-d479590bdf56"
    },
    {
      "cell_type": "raw",
      "metadata": {
        "raw_mimetype": "text/html"
      },
      "source": [
        "<!-- ``` -->"
      ],
      "id": "3a3c41bb-6405-4b61-9520-da1d31d81cb1"
    },
    {
      "cell_type": "raw",
      "metadata": {
        "raw_mimetype": "text/html"
      },
      "source": [
        "<!-- ```{python} -->"
      ],
      "id": "3d96599d-7133-46cb-a0c5-a27404a36d28"
    },
    {
      "cell_type": "raw",
      "metadata": {
        "raw_mimetype": "text/html"
      },
      "source": [
        "<!-- df_fifa.info() -->"
      ],
      "id": "552f9ab0-962d-4770-89c4-1f94ad2d82f3"
    },
    {
      "cell_type": "raw",
      "metadata": {
        "raw_mimetype": "text/html"
      },
      "source": [
        "<!-- ``` -->"
      ],
      "id": "8b1864b1-65fa-46f7-a806-0e96ec3680c3"
    },
    {
      "cell_type": "raw",
      "metadata": {
        "raw_mimetype": "text/html"
      },
      "source": [
        "<!-- ## EJECUTAR LOS PRIMEROS QUERIES (CONSULTAS) -->"
      ],
      "id": "00afcd3e-7e74-4de1-b2c8-9ff581efb64c"
    },
    {
      "cell_type": "raw",
      "metadata": {
        "raw_mimetype": "text/html"
      },
      "source": [
        "<!-- En este caso de estudio, vamos a analizar el comportamiento del ranking FIFA desde que inició su medición en el año 1993, a fin de presentar al público la situación y el rendimiento de las distintas selecciones nacionales afiliadas. -->"
      ],
      "id": "20bf531e-a1bf-4447-9204-dea91b6cd35e"
    },
    {
      "cell_type": "raw",
      "metadata": {
        "raw_mimetype": "text/html"
      },
      "source": [
        "<!-- En este contexto, nos interesa contestar entre otras las siguientes preguntas: -->"
      ],
      "id": "d0c35a37-244e-44d6-a66f-d0dafd999dfe"
    },
    {
      "cell_type": "raw",
      "metadata": {
        "raw_mimetype": "text/html"
      },
      "source": [
        "<!-- * ¿Cómo es el rendimiento histórico por confederación? -->"
      ],
      "id": "e87b987d-6284-45eb-9ab5-5f19374e7988"
    },
    {
      "cell_type": "raw",
      "metadata": {
        "raw_mimetype": "text/html"
      },
      "source": [
        "<!-- * ¿Cómo ha sido el rendimiento histórico de su país comparado con el promedio de la confederación a la cual pertenece? -->"
      ],
      "id": "74113eff-b51a-4185-a998-ed00ffb5380a"
    },
    {
      "cell_type": "raw",
      "metadata": {
        "raw_mimetype": "text/html"
      },
      "source": [
        "<!-- * ¿Cuáles han sido históricamente los mejores países? -->"
      ],
      "id": "87bc1843-a1ef-4807-8b03-ebcbf184267a"
    },
    {
      "cell_type": "raw",
      "metadata": {
        "raw_mimetype": "text/html"
      },
      "source": [
        "<!-- * ¿Quienes han sido los top 5 países previo al inicio de cada mundial? ¿Entre estos países han estado los campeones del mundo correspondientes? -->"
      ],
      "id": "efc59370-38d1-4a78-9d19-9a878b2e9d3c"
    },
    {
      "cell_type": "raw",
      "metadata": {
        "raw_mimetype": "text/html"
      },
      "source": [
        "<!-- * Según esta puntuación, ¿las selecciones son cada vez más competitivas o cada vez parece existir más diferencia a través del tiempo? -->"
      ],
      "id": "2aeda9c2-978f-4db5-ac27-864a0f7b3452"
    },
    {
      "cell_type": "raw",
      "metadata": {
        "raw_mimetype": "text/html"
      },
      "source": [
        "<!-- ```{python} -->"
      ],
      "id": "7faecaa5-a22d-4dcc-b6cb-f31bb8de5ad2"
    },
    {
      "cell_type": "raw",
      "metadata": {
        "raw_mimetype": "text/html"
      },
      "source": [
        "<!-- #Comportamiento de mi pais a nivel de ranking -->"
      ],
      "id": "296f2836-08ec-4a53-95f7-a18cf0003346"
    },
    {
      "cell_type": "raw",
      "metadata": {
        "raw_mimetype": "text/html"
      },
      "source": [
        "<!-- df_ecu = df_fifa.query('country == \"Ecuador\"') -->"
      ],
      "id": "874892f9-2301-4570-b018-854a185d1d0e"
    },
    {
      "cell_type": "raw",
      "metadata": {
        "raw_mimetype": "text/html"
      },
      "source": [
        "<!-- df_ecu_evol = df_ecu.groupby(\"year\")['rank'].mean() -->"
      ],
      "id": "0e8352fe-3c93-4083-9e7f-d4e233503baa"
    },
    {
      "cell_type": "raw",
      "metadata": {
        "raw_mimetype": "text/html"
      },
      "source": [
        "<!-- df_ecu_evol.plot( -->"
      ],
      "id": "94eb7011-fda6-4b1c-b1a2-0c8b0cf2b9f8"
    },
    {
      "cell_type": "raw",
      "metadata": {
        "raw_mimetype": "text/html"
      },
      "source": [
        "<!--     kind = \"bar\", -->"
      ],
      "id": "d7e30fdc-c5b4-4137-89cc-cf548fe38cf6"
    },
    {
      "cell_type": "raw",
      "metadata": {
        "raw_mimetype": "text/html"
      },
      "source": [
        "<!--     ylim=[1,80], -->"
      ],
      "id": "c2b84f99-ad2a-4835-aace-9bef77c7ae9d"
    },
    {
      "cell_type": "raw",
      "metadata": {
        "raw_mimetype": "text/html"
      },
      "source": [
        "<!--     xlabel=\"Año\", -->"
      ],
      "id": "8099c1cc-57dd-43d1-9ab8-7fe30fb01961"
    },
    {
      "cell_type": "raw",
      "metadata": {
        "raw_mimetype": "text/html"
      },
      "source": [
        "<!--     ylabel=\"Posicion en Ranking\", -->"
      ],
      "id": "cb332eb1-1b77-4ad4-a076-77dc8013ab11"
    },
    {
      "cell_type": "raw",
      "metadata": {
        "raw_mimetype": "text/html"
      },
      "source": [
        "<!--     title=\"Ranking FIFA Ecuador | Promedio Anual\", -->"
      ],
      "id": "5606eb04-f291-4f1a-936a-a0e27286f4f0"
    },
    {
      "cell_type": "raw",
      "metadata": {
        "raw_mimetype": "text/html"
      },
      "source": [
        "<!--     color=\"goldenrod\" -->"
      ],
      "id": "f5afac31-25c9-4823-83ee-95610ebaa187"
    },
    {
      "cell_type": "raw",
      "metadata": {
        "raw_mimetype": "text/html"
      },
      "source": [
        "<!-- ) -->"
      ],
      "id": "31442852-5f2e-4cd3-87c0-7505390bbccf"
    },
    {
      "cell_type": "raw",
      "metadata": {
        "raw_mimetype": "text/html"
      },
      "source": [
        "<!-- ``` -->"
      ],
      "id": "d96674ee-583e-41bd-b8ba-378bd01b3a0f"
    },
    {
      "cell_type": "raw",
      "metadata": {
        "raw_mimetype": "text/html"
      },
      "source": [
        "<!-- ```{python} -->"
      ],
      "id": "249892c4-7576-4584-9e58-d2baa0eb63e8"
    },
    {
      "cell_type": "raw",
      "metadata": {
        "raw_mimetype": "text/html"
      },
      "source": [
        "<!-- #Comportamiento de mi pais a nivel de puntos -->"
      ],
      "id": "22430eb5-f7ce-49ef-951e-f31cfd3c6af7"
    },
    {
      "cell_type": "raw",
      "metadata": {
        "raw_mimetype": "text/html"
      },
      "source": [
        "<!-- df_ecu_evol2 = df_ecu.groupby(\"year\")['points'].mean() -->"
      ],
      "id": "1a52fe4a-f4ae-4e7d-abcc-6c74734e1f4f"
    },
    {
      "cell_type": "raw",
      "metadata": {
        "raw_mimetype": "text/html"
      },
      "source": [
        "<!-- df_ecu_evol2.plot( -->"
      ],
      "id": "55e254c4-9a77-41da-bc25-18146c97b940"
    },
    {
      "cell_type": "raw",
      "metadata": {
        "raw_mimetype": "text/html"
      },
      "source": [
        "<!--     kind = \"bar\", -->"
      ],
      "id": "c19342eb-6ea8-47b8-b4c9-ea1b8caf6a8c"
    },
    {
      "cell_type": "raw",
      "metadata": {
        "raw_mimetype": "text/html"
      },
      "source": [
        "<!--     xlabel=\"Año\", -->"
      ],
      "id": "b86a6e74-0292-49fb-98e3-56380c3de8a4"
    },
    {
      "cell_type": "raw",
      "metadata": {
        "raw_mimetype": "text/html"
      },
      "source": [
        "<!--     ylabel=\"Puntos Promedio\", -->"
      ],
      "id": "00b440ac-3cbd-4d28-82fa-54664e101f76"
    },
    {
      "cell_type": "raw",
      "metadata": {
        "raw_mimetype": "text/html"
      },
      "source": [
        "<!--     title=\"Puntos FIFA Ecuador | Promedio Anual\", -->"
      ],
      "id": "5a3ef1e6-44aa-4931-b69d-034aadbd1a3b"
    },
    {
      "cell_type": "raw",
      "metadata": {
        "raw_mimetype": "text/html"
      },
      "source": [
        "<!--     color=\"goldenrod\" -->"
      ],
      "id": "91c407ce-0f9b-47df-8336-4dc82ddbf61c"
    },
    {
      "cell_type": "raw",
      "metadata": {
        "raw_mimetype": "text/html"
      },
      "source": [
        "<!-- ) -->"
      ],
      "id": "d4d318ec-bd53-42ec-ab31-ae935d835822"
    },
    {
      "cell_type": "raw",
      "metadata": {
        "raw_mimetype": "text/html"
      },
      "source": [
        "<!-- ``` -->"
      ],
      "id": "920d374e-a54c-41d1-b0aa-cc179b86eb06"
    },
    {
      "cell_type": "raw",
      "metadata": {
        "raw_mimetype": "text/html"
      },
      "source": [
        "<!-- **CONCLUSIONES** -->"
      ],
      "id": "7e5d44e4-36e8-4de7-99e3-e633ce86fe44"
    },
    {
      "cell_type": "raw",
      "metadata": {
        "raw_mimetype": "text/html"
      },
      "source": [
        "<!-- - Deberían excluirse los años previos a 1999 porque la puntuación parece ser diferente -->"
      ],
      "id": "2fd4bf72-711a-46a0-a222-22f16eff2a05"
    },
    {
      "cell_type": "raw",
      "metadata": {
        "raw_mimetype": "text/html"
      },
      "source": [
        "<!-- ```{python} -->"
      ],
      "id": "cad455cb-aa8d-4a5b-b6fe-a6e16b2ffde9"
    },
    {
      "cell_type": "raw",
      "metadata": {
        "raw_mimetype": "text/html"
      },
      "source": [
        "<!-- df_fifa = df_fifa.query('year >= 1999') -->"
      ],
      "id": "dfa6deaf-4f87-4905-a49f-ad9a9faf1da3"
    },
    {
      "cell_type": "raw",
      "metadata": {
        "raw_mimetype": "text/html"
      },
      "source": [
        "<!-- ``` -->"
      ],
      "id": "64f466bb-7d24-4ba3-ab23-92ae3432776d"
    },
    {
      "cell_type": "raw",
      "metadata": {
        "raw_mimetype": "text/html"
      },
      "source": [
        "<!-- ```{python} -->"
      ],
      "id": "f2966625-b092-4e31-8f63-b5240d125074"
    },
    {
      "cell_type": "raw",
      "metadata": {
        "raw_mimetype": "text/html"
      },
      "source": [
        "<!-- #Comportamiento de mi pais a nivel de puntos (de nuevo) -->"
      ],
      "id": "f466b4d5-8727-4e0b-9e9f-2e734ee76d97"
    },
    {
      "cell_type": "raw",
      "metadata": {
        "raw_mimetype": "text/html"
      },
      "source": [
        "<!-- df_ecu = df_fifa.query('country == \"Ecuador\"') -->"
      ],
      "id": "72dd2483-b7de-4454-9d08-903431804309"
    },
    {
      "cell_type": "raw",
      "metadata": {
        "raw_mimetype": "text/html"
      },
      "source": [
        "<!-- df_ecu_evol2 = df_ecu.groupby(\"year\")['points'].mean() -->"
      ],
      "id": "3c2f15d8-4a71-4314-b6da-b3f5102a754b"
    },
    {
      "cell_type": "raw",
      "metadata": {
        "raw_mimetype": "text/html"
      },
      "source": [
        "<!-- df_ecu_evol2.plot( -->"
      ],
      "id": "391d73d0-776f-4a70-b8ec-56412382d457"
    },
    {
      "cell_type": "raw",
      "metadata": {
        "raw_mimetype": "text/html"
      },
      "source": [
        "<!--     kind = \"bar\", -->"
      ],
      "id": "20319ee0-b8d7-414c-9757-2cbb55a8740c"
    },
    {
      "cell_type": "raw",
      "metadata": {
        "raw_mimetype": "text/html"
      },
      "source": [
        "<!--     xlabel=\"Año\", -->"
      ],
      "id": "a34a8dbc-86e3-4cb2-9f01-374d901ba70f"
    },
    {
      "cell_type": "raw",
      "metadata": {
        "raw_mimetype": "text/html"
      },
      "source": [
        "<!--     ylabel=\"Puntos Promedio\", -->"
      ],
      "id": "ef124ed3-bb15-4d82-b297-bcdfb9b61fb7"
    },
    {
      "cell_type": "raw",
      "metadata": {
        "raw_mimetype": "text/html"
      },
      "source": [
        "<!--     title=\"Puntos FIFA Ecuador | Promedio Anual\", -->"
      ],
      "id": "8d7b3280-0e93-45a0-8229-2596ffab17ba"
    },
    {
      "cell_type": "raw",
      "metadata": {
        "raw_mimetype": "text/html"
      },
      "source": [
        "<!--     color=\"goldenrod\" -->"
      ],
      "id": "3a49cb09-11f2-4ea2-9042-fdd44e1fca05"
    },
    {
      "cell_type": "raw",
      "metadata": {
        "raw_mimetype": "text/html"
      },
      "source": [
        "<!-- ) -->"
      ],
      "id": "e4eac90b-77e0-4a20-94c4-87320a00ab6c"
    },
    {
      "cell_type": "raw",
      "metadata": {
        "raw_mimetype": "text/html"
      },
      "source": [
        "<!-- ``` -->"
      ],
      "id": "5c7b0a8d-bce7-4d38-9b67-3db19486ba93"
    },
    {
      "cell_type": "raw",
      "metadata": {
        "raw_mimetype": "text/html"
      },
      "source": [
        "<!-- ```{python} -->"
      ],
      "id": "f293849b-2c94-4a72-807b-eef154ad8536"
    },
    {
      "cell_type": "raw",
      "metadata": {
        "raw_mimetype": "text/html"
      },
      "source": [
        "<!-- #Comportamiento histórico del ranking fifa por confederacion -->"
      ],
      "id": "7cfc0772-380a-466b-844d-b8a5c91a9a3f"
    },
    {
      "cell_type": "raw",
      "metadata": {
        "raw_mimetype": "text/html"
      },
      "source": [
        "<!-- df_rank_conf = df_fifa.groupby(['confederation','year'])['rank'].mean() -->"
      ],
      "id": "5d8fe6be-ec81-481a-9c5e-e13e8f3ba309"
    },
    {
      "cell_type": "raw",
      "metadata": {
        "raw_mimetype": "text/html"
      },
      "source": [
        "<!-- df_rank_conf -->"
      ],
      "id": "e42e3b59-d4c4-4427-ad66-b0ac07b62178"
    },
    {
      "cell_type": "raw",
      "metadata": {
        "raw_mimetype": "text/html"
      },
      "source": [
        "<!-- ``` -->"
      ],
      "id": "d7d151cc-73e7-4847-a9b6-b2f6d106e499"
    },
    {
      "cell_type": "raw",
      "metadata": {
        "raw_mimetype": "text/html"
      },
      "source": [
        "<!-- ```{python} -->"
      ],
      "id": "9c0967f3-26dd-4ef4-80ef-ea56f30490a2"
    },
    {
      "cell_type": "raw",
      "metadata": {
        "raw_mimetype": "text/html"
      },
      "source": [
        "<!-- #Uso de la funcion pivot_table -->"
      ],
      "id": "d75dcd75-22b7-4167-9d17-8fe1e9cae95f"
    },
    {
      "cell_type": "raw",
      "metadata": {
        "raw_mimetype": "text/html"
      },
      "source": [
        "<!-- df_rank_conf = df_fifa.pivot_table( -->"
      ],
      "id": "d0452855-c4c3-4919-8e38-434871f6e2d1"
    },
    {
      "cell_type": "raw",
      "metadata": {
        "raw_mimetype": "text/html"
      },
      "source": [
        "<!--     index = 'year', -->"
      ],
      "id": "e95961e7-fd69-4a0d-b88c-15087fba0a33"
    },
    {
      "cell_type": "raw",
      "metadata": {
        "raw_mimetype": "text/html"
      },
      "source": [
        "<!--     columns = 'confederation', -->"
      ],
      "id": "930f9dcf-7a5f-4b28-8a02-c3cb6d4955d8"
    },
    {
      "cell_type": "raw",
      "metadata": {
        "raw_mimetype": "text/html"
      },
      "source": [
        "<!--      values='rank', -->"
      ],
      "id": "ef6a167c-92f9-4c3b-86ae-27b05165e057"
    },
    {
      "cell_type": "raw",
      "metadata": {
        "raw_mimetype": "text/html"
      },
      "source": [
        "<!--      aggfunc=\"mean\" -->"
      ],
      "id": "6cfde270-a1f8-4720-8c09-91c5241e87fb"
    },
    {
      "cell_type": "raw",
      "metadata": {
        "raw_mimetype": "text/html"
      },
      "source": [
        "<!-- ) -->"
      ],
      "id": "87af3259-c0b1-4b10-81a0-95ceaea94aeb"
    },
    {
      "cell_type": "raw",
      "metadata": {
        "raw_mimetype": "text/html"
      },
      "source": [
        "<!-- df_rank_conf -->"
      ],
      "id": "c776785c-6f38-417a-b222-a8221af29e41"
    },
    {
      "cell_type": "raw",
      "metadata": {
        "raw_mimetype": "text/html"
      },
      "source": [
        "<!-- ``` -->"
      ],
      "id": "61029312-8932-41c4-8357-3d6906023765"
    },
    {
      "cell_type": "raw",
      "metadata": {
        "raw_mimetype": "text/html"
      },
      "source": [
        "<!-- ```{python} -->"
      ],
      "id": "397ef91a-70c5-4fba-b336-0c7250c23e80"
    },
    {
      "cell_type": "raw",
      "metadata": {
        "raw_mimetype": "text/html"
      },
      "source": [
        "<!-- df_rank_conf.plot( -->"
      ],
      "id": "b153c818-737d-47f1-a08e-3eda07c4c81d"
    },
    {
      "cell_type": "raw",
      "metadata": {
        "raw_mimetype": "text/html"
      },
      "source": [
        "<!--     kind = \"line\" -->"
      ],
      "id": "ec868601-5045-4943-83e4-012277c05396"
    },
    {
      "cell_type": "raw",
      "metadata": {
        "raw_mimetype": "text/html"
      },
      "source": [
        "<!-- ) -->"
      ],
      "id": "e09b9ac2-823c-4655-8b32-7e82942282ac"
    },
    {
      "cell_type": "raw",
      "metadata": {
        "raw_mimetype": "text/html"
      },
      "source": [
        "<!-- ``` -->"
      ],
      "id": "c7c4dfb4-5b39-48cc-ae46-4998dd272fdc"
    },
    {
      "cell_type": "raw",
      "metadata": {
        "raw_mimetype": "text/html"
      },
      "source": [
        "<!-- ```{python} -->"
      ],
      "id": "a56f94a0-2589-4c37-ac34-c3c9e1da4a39"
    },
    {
      "cell_type": "raw",
      "metadata": {
        "raw_mimetype": "text/html"
      },
      "source": [
        "<!-- #Solamente comparar UEFA y CONMEBOL -->"
      ],
      "id": "9da61986-3666-4cac-be96-7b0ce3e8af1e"
    },
    {
      "cell_type": "raw",
      "metadata": {
        "raw_mimetype": "text/html"
      },
      "source": [
        "<!-- lista_prueba = [\"UEFA\",\"CONMEBOL\"] -->"
      ],
      "id": "c188d557-ca22-4a66-8528-258cf085495f"
    },
    {
      "cell_type": "raw",
      "metadata": {
        "raw_mimetype": "text/html"
      },
      "source": [
        "<!-- df_uefa_conm = df_fifa.query('confederation in @lista_prueba') -->"
      ],
      "id": "6174b478-6c7e-489c-8bff-a827634eed75"
    },
    {
      "cell_type": "raw",
      "metadata": {
        "raw_mimetype": "text/html"
      },
      "source": [
        "<!-- df_rank_conf = df_uefa_conm.pivot_table( -->"
      ],
      "id": "b05170e6-f56f-491e-9f2f-750ac1f0fba8"
    },
    {
      "cell_type": "raw",
      "metadata": {
        "raw_mimetype": "text/html"
      },
      "source": [
        "<!--     index = 'year', -->"
      ],
      "id": "a3b02d55-ff51-4aef-9874-54e290cc2973"
    },
    {
      "cell_type": "raw",
      "metadata": {
        "raw_mimetype": "text/html"
      },
      "source": [
        "<!--     columns = 'confederation', -->"
      ],
      "id": "4245a8a2-e842-4103-a665-c4e122a663ab"
    },
    {
      "cell_type": "raw",
      "metadata": {
        "raw_mimetype": "text/html"
      },
      "source": [
        "<!--     values='rank', -->"
      ],
      "id": "da23fd8b-b929-4c4b-84c2-6370c3d02ab8"
    },
    {
      "cell_type": "raw",
      "metadata": {
        "raw_mimetype": "text/html"
      },
      "source": [
        "<!--     aggfunc=\"mean\" -->"
      ],
      "id": "6ea84df7-713f-427e-908c-e8fb1ed512ca"
    },
    {
      "cell_type": "raw",
      "metadata": {
        "raw_mimetype": "text/html"
      },
      "source": [
        "<!-- ) -->"
      ],
      "id": "e5fdb20d-aaa8-4527-bb2e-c4f31b914ee3"
    },
    {
      "cell_type": "raw",
      "metadata": {
        "raw_mimetype": "text/html"
      },
      "source": [
        "<!-- df_rank_conf.plot( -->"
      ],
      "id": "4691b1a0-2d98-49b1-a585-2d0fb6e443a1"
    },
    {
      "cell_type": "raw",
      "metadata": {
        "raw_mimetype": "text/html"
      },
      "source": [
        "<!--     kind = \"line\", -->"
      ],
      "id": "917dcc38-38d1-40c1-bcb5-4cd4d9cd6949"
    },
    {
      "cell_type": "raw",
      "metadata": {
        "raw_mimetype": "text/html"
      },
      "source": [
        "<!--     xticks=df_fifa['year'].unique(), -->"
      ],
      "id": "d6a9c962-489e-490e-8906-08b4bb7ec798"
    },
    {
      "cell_type": "raw",
      "metadata": {
        "raw_mimetype": "text/html"
      },
      "source": [
        "<!--     rot=90 -->"
      ],
      "id": "6e56ba94-81b7-414a-bd26-ed17289b45c3"
    },
    {
      "cell_type": "raw",
      "metadata": {
        "raw_mimetype": "text/html"
      },
      "source": [
        "<!-- ) -->"
      ],
      "id": "713313cb-8dac-4688-9c32-4b6df6bb5674"
    },
    {
      "cell_type": "raw",
      "metadata": {
        "raw_mimetype": "text/html"
      },
      "source": [
        "<!-- ``` -->"
      ],
      "id": "f3aba0bd-c5eb-4694-b574-870bf675fce4"
    },
    {
      "cell_type": "raw",
      "metadata": {
        "raw_mimetype": "text/html"
      },
      "source": [
        "<!-- ```{python} -->"
      ],
      "id": "d3fdc94b-e281-4a97-87b2-215303b625c9"
    },
    {
      "cell_type": "raw",
      "metadata": {
        "raw_mimetype": "text/html"
      },
      "source": [
        "<!-- #Solamente comparar UEFA y CONMEBOL pero ahora viendo puntos -->"
      ],
      "id": "820964e5-0299-4449-a377-b8074056dca2"
    },
    {
      "cell_type": "raw",
      "metadata": {
        "raw_mimetype": "text/html"
      },
      "source": [
        "<!-- lista_prueba = [\"UEFA\",\"CONMEBOL\"] -->"
      ],
      "id": "1f0a6d20-bea3-40b5-a4c6-f72be4da98d6"
    },
    {
      "cell_type": "raw",
      "metadata": {
        "raw_mimetype": "text/html"
      },
      "source": [
        "<!-- df_uefa_conm = df_fifa.query('confederation in @lista_prueba') -->"
      ],
      "id": "193d85e5-8e32-42f0-8e54-ed3631c3c7c0"
    },
    {
      "cell_type": "raw",
      "metadata": {
        "raw_mimetype": "text/html"
      },
      "source": [
        "<!-- df_rank_conf = df_uefa_conm.pivot_table( -->"
      ],
      "id": "417473f3-5769-40a1-9cbf-196a2703ca7d"
    },
    {
      "cell_type": "raw",
      "metadata": {
        "raw_mimetype": "text/html"
      },
      "source": [
        "<!--     index = 'year', -->"
      ],
      "id": "98920cef-4185-4cc4-9bc2-765a16ee8cac"
    },
    {
      "cell_type": "raw",
      "metadata": {
        "raw_mimetype": "text/html"
      },
      "source": [
        "<!--     columns = 'confederation', -->"
      ],
      "id": "dd33ecec-1484-4e82-9ed1-c6ad86d0e41d"
    },
    {
      "cell_type": "raw",
      "metadata": {
        "raw_mimetype": "text/html"
      },
      "source": [
        "<!--     values='points', -->"
      ],
      "id": "4a3df214-ec7f-4a71-b10a-48040a1c3a55"
    },
    {
      "cell_type": "raw",
      "metadata": {
        "raw_mimetype": "text/html"
      },
      "source": [
        "<!--     aggfunc=\"mean\" -->"
      ],
      "id": "0698c802-3222-4120-a69b-366450f404ba"
    },
    {
      "cell_type": "raw",
      "metadata": {
        "raw_mimetype": "text/html"
      },
      "source": [
        "<!-- ) -->"
      ],
      "id": "24b5deed-cf84-4bb5-a6a5-9ad1c0033c6a"
    },
    {
      "cell_type": "raw",
      "metadata": {
        "raw_mimetype": "text/html"
      },
      "source": [
        "<!-- df_rank_conf.plot( -->"
      ],
      "id": "1ccbeba2-89bd-4841-ae95-494fdb7e22d3"
    },
    {
      "cell_type": "raw",
      "metadata": {
        "raw_mimetype": "text/html"
      },
      "source": [
        "<!--     kind = \"line\", -->"
      ],
      "id": "07868a5c-5b8b-4e46-b5c0-98f24119d391"
    },
    {
      "cell_type": "raw",
      "metadata": {
        "raw_mimetype": "text/html"
      },
      "source": [
        "<!--     xticks=df_fifa['year'].unique(), -->"
      ],
      "id": "4cdd8dd0-137a-451d-afa3-fe254c40b108"
    },
    {
      "cell_type": "raw",
      "metadata": {
        "raw_mimetype": "text/html"
      },
      "source": [
        "<!--     rot=90 -->"
      ],
      "id": "581ec4c9-117b-449f-9f08-a9a3cf59c36c"
    },
    {
      "cell_type": "raw",
      "metadata": {
        "raw_mimetype": "text/html"
      },
      "source": [
        "<!-- ) -->"
      ],
      "id": "4da9875a-c95a-4106-9b27-533299c182f6"
    },
    {
      "cell_type": "raw",
      "metadata": {
        "raw_mimetype": "text/html"
      },
      "source": [
        "<!-- ``` -->"
      ],
      "id": "da755286-ab26-4aa5-8c19-ed73cb3db6f9"
    },
    {
      "cell_type": "raw",
      "metadata": {
        "raw_mimetype": "text/html"
      },
      "source": [
        "<!-- ```{python} -->"
      ],
      "id": "c4ac7ddf-cf76-4c28-a10d-8e429b10f799"
    },
    {
      "cell_type": "raw",
      "metadata": {
        "raw_mimetype": "text/html"
      },
      "source": [
        "<!-- ### Hacer el mismo analisis pero solamente con los mejores 5 de cada confederacion -->"
      ],
      "id": "8949edba-871b-4a32-ac32-f149e563127a"
    },
    {
      "cell_type": "raw",
      "metadata": {
        "raw_mimetype": "text/html"
      },
      "source": [
        "<!-- df_topuefa = df_uefa_conm.query('confederation == \"UEFA\"').groupby(\"country\")['rank'].median().sort_values(ascending=True).head(5) -->"
      ],
      "id": "e6bd8696-fb74-4952-b723-a50fabf75dc8"
    },
    {
      "cell_type": "raw",
      "metadata": {
        "raw_mimetype": "text/html"
      },
      "source": [
        "<!-- print(df_topuefa.index) -->"
      ],
      "id": "b12e51e8-41df-4678-b48b-506c95152353"
    },
    {
      "cell_type": "raw",
      "metadata": {
        "raw_mimetype": "text/html"
      },
      "source": [
        "<!-- df_topconm = df_uefa_conm.query('confederation == \"CONMEBOL\"').groupby(\"country\")['rank'].median().sort_values(ascending=True).head(5) -->"
      ],
      "id": "75946183-02b1-4edb-bc0b-1a21b79f6f1b"
    },
    {
      "cell_type": "raw",
      "metadata": {
        "raw_mimetype": "text/html"
      },
      "source": [
        "<!-- print(df_topconm.index) -->"
      ],
      "id": "682c2220-b2b1-437f-a2ba-020324eb9462"
    },
    {
      "cell_type": "raw",
      "metadata": {
        "raw_mimetype": "text/html"
      },
      "source": [
        "<!-- ``` -->"
      ],
      "id": "1bb73fee-fdf8-40b8-b835-ba46d3e57af9"
    },
    {
      "cell_type": "raw",
      "metadata": {
        "raw_mimetype": "text/html"
      },
      "source": [
        "<!-- ```{python} -->"
      ],
      "id": "6b250ad6-8093-4617-ae0c-7ae2ccde566e"
    },
    {
      "cell_type": "raw",
      "metadata": {
        "raw_mimetype": "text/html"
      },
      "source": [
        "<!-- lista_uefa = list(df_topuefa.index) -->"
      ],
      "id": "48e28029-2ad5-46b0-9188-aa6c9d208ba0"
    },
    {
      "cell_type": "raw",
      "metadata": {
        "raw_mimetype": "text/html"
      },
      "source": [
        "<!-- lista_conm = list(df_topconm.index) -->"
      ],
      "id": "14a63c90-68fc-4662-8b6a-e47f3cf6ba4f"
    },
    {
      "cell_type": "raw",
      "metadata": {
        "raw_mimetype": "text/html"
      },
      "source": [
        "<!-- ``` -->"
      ],
      "id": "6c4a3c66-2916-4148-906c-f880cc3e60d2"
    },
    {
      "cell_type": "raw",
      "metadata": {
        "raw_mimetype": "text/html"
      },
      "source": [
        "<!-- ```{python} -->"
      ],
      "id": "32d75adf-88b1-4f8d-9068-ed623a8d19a6"
    },
    {
      "cell_type": "raw",
      "metadata": {
        "raw_mimetype": "text/html"
      },
      "source": [
        "<!-- df_top = df_uefa_conm.query('country in @ lista_uefa or country in @lista_conm') -->"
      ],
      "id": "836bda2d-a6c7-4525-a5a4-579c08e3c327"
    },
    {
      "cell_type": "raw",
      "metadata": {
        "raw_mimetype": "text/html"
      },
      "source": [
        "<!-- df_rank_top = df_top.pivot_table( -->"
      ],
      "id": "e027dbc5-3208-42a8-aaa2-87380ca318ab"
    },
    {
      "cell_type": "raw",
      "metadata": {
        "raw_mimetype": "text/html"
      },
      "source": [
        "<!--     index = 'year', -->"
      ],
      "id": "cf91663b-c611-4e4d-8a72-3ec5dab694ed"
    },
    {
      "cell_type": "raw",
      "metadata": {
        "raw_mimetype": "text/html"
      },
      "source": [
        "<!--     columns = 'confederation', -->"
      ],
      "id": "fab65619-c7e4-422e-8a04-9aae44a02407"
    },
    {
      "cell_type": "raw",
      "metadata": {
        "raw_mimetype": "text/html"
      },
      "source": [
        "<!--     values='rank', -->"
      ],
      "id": "2f8a50f2-cd04-4764-889e-10ed60268dec"
    },
    {
      "cell_type": "raw",
      "metadata": {
        "raw_mimetype": "text/html"
      },
      "source": [
        "<!--     aggfunc=\"mean\" -->"
      ],
      "id": "3e66ca0a-302f-4e8d-b604-6fee6bd99bea"
    },
    {
      "cell_type": "raw",
      "metadata": {
        "raw_mimetype": "text/html"
      },
      "source": [
        "<!-- ) -->"
      ],
      "id": "09db0ee9-8ed4-4728-8db6-cc3d0428ca12"
    },
    {
      "cell_type": "raw",
      "metadata": {
        "raw_mimetype": "text/html"
      },
      "source": [
        "<!-- df_rank_top.plot( -->"
      ],
      "id": "9558d6f9-aa63-436d-a357-33d64749a39e"
    },
    {
      "cell_type": "raw",
      "metadata": {
        "raw_mimetype": "text/html"
      },
      "source": [
        "<!--     kind = \"line\", -->"
      ],
      "id": "ac41686c-d55e-4b05-b313-d2ac641afbba"
    },
    {
      "cell_type": "raw",
      "metadata": {
        "raw_mimetype": "text/html"
      },
      "source": [
        "<!--     xticks=df_fifa['year'].unique(), -->"
      ],
      "id": "82242e83-32b9-4c07-afe8-df4c287b3ebd"
    },
    {
      "cell_type": "raw",
      "metadata": {
        "raw_mimetype": "text/html"
      },
      "source": [
        "<!--     rot=90 -->"
      ],
      "id": "0cd2297f-19fb-421c-9a2f-9d5a43ebad90"
    },
    {
      "cell_type": "raw",
      "metadata": {
        "raw_mimetype": "text/html"
      },
      "source": [
        "<!-- ) -->"
      ],
      "id": "61279515-eb18-4329-9647-49d7bd260ad8"
    },
    {
      "cell_type": "raw",
      "metadata": {
        "raw_mimetype": "text/html"
      },
      "source": [
        "<!-- ``` -->"
      ],
      "id": "7b5833bd-23ec-49a2-a31b-832405e8f2ba"
    }
  ],
  "nbformat": 4,
  "nbformat_minor": 5,
  "metadata": {
    "kernelspec": {
      "name": "python3",
      "display_name": "Python 3 (ipykernel)",
      "language": "python",
      "path": "C:"
    },
    "language_info": {
      "name": "python",
      "codemirror_mode": {
        "name": "ipython",
        "version": "3"
      },
      "file_extension": ".py",
      "mimetype": "text/x-python",
      "nbconvert_exporter": "python",
      "pygments_lexer": "ipython3",
      "version": "3.10.6"
    }
  }
}