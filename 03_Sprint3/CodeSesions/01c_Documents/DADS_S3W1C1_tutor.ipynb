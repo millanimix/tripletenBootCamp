{
  "cells": [
    {
      "cell_type": "markdown",
      "metadata": {},
      "source": [
        "# Sprint 3 - Week 1 - Class 1\n",
        "\n",
        "Lectura, Visualización y Preprocesamiento\n",
        "\n",
        "# Ejercicio 1: Lectura y Visualización de Datos\n",
        "\n",
        "## E1.1: ¿Cómo se leen archivos en formato CSV y Excel?\n",
        "\n",
        "Podemos usar las bibliotecas `pandas` para leer archivos CSV y Excel.\n",
        "Lee ambos datasets,\n",
        "\n",
        "-   `music.csv`\n",
        "-   `music.xlsx`"
      ],
      "id": "74370d96-6818-4d5c-b25e-b58361da9490"
    },
    {
      "cell_type": "code",
      "execution_count": 1,
      "metadata": {},
      "outputs": [],
      "source": [
        "#"
      ],
      "id": "ad003a52"
    },
    {
      "cell_type": "code",
      "execution_count": 2,
      "metadata": {},
      "outputs": [
        {
          "output_type": "stream",
          "name": "stdout",
          "text": [
            "Datos leídos del archivo CSV:\n",
            "    user_id  total play        Artist    genre                   track\n",
            "0  BF6EA5AF   92.851388    Marina Rei      pop                  Musica\n",
            "1  FB1E568E  282.981000  Stive Morgan  ambient             Love Planet\n",
            "2  FB1E568E  282.981000  Stive Morgan  ambient             Love Planet\n",
            "3  EF15C7BA    8.966000           NaN    dance     Loving Every Minute\n",
            "4  82F52E69  193.776327        Rixton      pop  Me And My Broken Heart\n",
            "\n",
            "Datos leídos del archivo Excel:\n",
            "    user_id    total play        Artist    genre                   track\n",
            "0  BF6EA5AF  9.285139e+15    Marina Rei      pop                  Musica\n",
            "1  FB1E568E  2.829810e+05  Stive Morgan  ambient             Love Planet\n",
            "2  FB1E568E  2.829810e+05  Stive Morgan  ambient             Love Planet\n",
            "3  EF15C7BA  8.966000e+15           NaN    dance     Loving Every Minute\n",
            "4  82F52E69  1.937763e+16        Rixton      pop  Me And My Broken Heart"
          ]
        }
      ],
      "source": [
        "# Importamos pandas\n",
        "import pandas as pd\n",
        "\n",
        "# Lectura de archivo CSV\n",
        "csv_data = pd.read_csv(\"music.csv\")\n",
        "print(\"Datos leídos del archivo CSV:\")\n",
        "print(csv_data.head())\n",
        "\n",
        "# Lectura de archivo Excel\n",
        "excel_data = pd.read_excel(\"music.xlsx\")\n",
        "print(\"\\nDatos leídos del archivo Excel:\")\n",
        "print(excel_data.head())"
      ],
      "id": "6071e3e0"
    },
    {
      "cell_type": "markdown",
      "metadata": {},
      "source": [
        "## E1.2 ¿Cómo podemos visualizar información general del dataset?\n",
        "\n",
        "Imprimir:\n",
        "\n",
        "-   Información del dataset\n",
        "-   Primeras 5 filas\n",
        "-   Últimas 5 filas\n",
        "-   Estadísticas descriptivas"
      ],
      "id": "bbef61c1-525e-45b1-944b-547ea093ec07"
    },
    {
      "cell_type": "code",
      "execution_count": 3,
      "metadata": {},
      "outputs": [],
      "source": [
        "#"
      ],
      "id": "bf2d807f"
    },
    {
      "cell_type": "code",
      "execution_count": 4,
      "metadata": {},
      "outputs": [
        {
          "output_type": "stream",
          "name": "stdout",
          "text": [
            "Información general del archivo CSV:\n",
            "<class 'pandas.core.frame.DataFrame'>\n",
            "RangeIndex: 67963 entries, 0 to 67962\n",
            "Data columns (total 5 columns):\n",
            " #   Column      Non-Null Count  Dtype  \n",
            "---  ------      --------------  -----  \n",
            " 0   user_id     67963 non-null  object \n",
            " 1   total play  67963 non-null  float64\n",
            " 2   Artist      60156 non-null  object \n",
            " 3   genre       65223 non-null  object \n",
            " 4   track       65368 non-null  object \n",
            "dtypes: float64(1), object(4)\n",
            "memory usage: 2.6+ MB\n",
            "\n",
            "Primeras 5 filas:\n",
            "    user_id  total play        Artist    genre                   track\n",
            "0  BF6EA5AF   92.851388    Marina Rei      pop                  Musica\n",
            "1  FB1E568E  282.981000  Stive Morgan  ambient             Love Planet\n",
            "2  FB1E568E  282.981000  Stive Morgan  ambient             Love Planet\n",
            "3  EF15C7BA    8.966000           NaN    dance     Loving Every Minute\n",
            "4  82F52E69  193.776327        Rixton      pop  Me And My Broken Heart\n",
            "\n",
            "Últimas 5 filas:\n",
            "        user_id  total play        Artist  genre          track\n",
            "67958  2E27DF51  220.551837  Nadine Coyle    pop  Girls On Fire\n",
            "67959  4F29D4D5   26.127000  Digital Hero  dance      The Model\n",
            "67960  26B7058C  292.455000       Red God  metal      Действуй!\n",
            "67961  DB0038A8   11.529112  Less Chapell    pop           Home\n",
            "67962  FE8684F6    0.100000           NaN    NaN            NaN\n",
            "\n",
            "Estadísticas descriptivas:\n",
            "         total play\n",
            "count  67963.000000\n",
            "mean      98.894739\n",
            "std      144.383028\n",
            "min        0.000000\n",
            "25%        2.028000\n",
            "50%       20.236129\n",
            "75%      194.115917\n",
            "max     8638.736000"
          ]
        }
      ],
      "source": [
        "# Información del dataset\n",
        "print(\"Información general del archivo CSV:\")\n",
        "csv_data.info()\n",
        "\n",
        "# Primeras 5 filas\n",
        "print(\"\\nPrimeras 5 filas:\")\n",
        "print(csv_data.head())\n",
        "\n",
        "# Últimas 5 filas\n",
        "print(\"\\nÚltimas 5 filas:\")\n",
        "print(csv_data.tail())\n",
        "\n",
        "# Estadísticas descriptivas\n",
        "print(\"\\nEstadísticas descriptivas:\")\n",
        "print(csv_data.describe())"
      ],
      "id": "982ef9f0"
    },
    {
      "cell_type": "markdown",
      "metadata": {},
      "source": [
        "# Ejercicio 2: Preprocesamiento y Análisis Inicial\n",
        "\n",
        "## E2.1: ¿Cómo tratamos valores duplicados, ausentes, y columnas irrelevantes?\n",
        "\n",
        "Utiliza pandas para\n",
        "\n",
        "-   Eliminar duplicados\n",
        "-   Manejar valores ausentes\n",
        "-   Quitar columnas innecesarias. Asume que necesitamos hacer un\n",
        "    análisis anonimizado"
      ],
      "id": "2cb411ea-7ef8-4c78-b4f5-2f9cc10daa0d"
    },
    {
      "cell_type": "code",
      "execution_count": 5,
      "metadata": {},
      "outputs": [],
      "source": [
        "#"
      ],
      "id": "67cdbe39"
    },
    {
      "cell_type": "code",
      "execution_count": 6,
      "metadata": {},
      "outputs": [
        {
          "output_type": "stream",
          "name": "stdout",
          "text": [
            "Datos después de eliminar duplicados:\n",
            "    user_id  total play                                  Artist    genre  \\\n",
            "0  BF6EA5AF   92.851388                              Marina Rei      pop   \n",
            "1  FB1E568E  282.981000                            Stive Morgan  ambient   \n",
            "3  EF15C7BA    8.966000                                     NaN    dance   \n",
            "4  82F52E69  193.776327                                  Rixton      pop   \n",
            "5  4166D680    3.007000  Henry Hall & His Gleneagles Hotel Band     jazz   \n",
            "\n",
            "                    track  \n",
            "0                  Musica  \n",
            "1             Love Planet  \n",
            "3     Loving Every Minute  \n",
            "4  Me And My Broken Heart  \n",
            "5                    Home  \n",
            "\n",
            "Datos después de tratar valores ausentes:\n",
            "    user_id  total play                                  Artist    genre  \\\n",
            "0  BF6EA5AF   92.851388                              Marina Rei      pop   \n",
            "1  FB1E568E  282.981000                            Stive Morgan  ambient   \n",
            "3  EF15C7BA    8.966000                             Desconocido    dance   \n",
            "4  82F52E69  193.776327                                  Rixton      pop   \n",
            "5  4166D680    3.007000  Henry Hall & His Gleneagles Hotel Band     jazz   \n",
            "\n",
            "                    track  \n",
            "0                  Musica  \n",
            "1             Love Planet  \n",
            "3     Loving Every Minute  \n",
            "4  Me And My Broken Heart  \n",
            "5                    Home  "
          ]
        }
      ],
      "source": [
        "# Eliminar valores duplicados\n",
        "csv_data_sin_duplicados = csv_data.drop_duplicates()\n",
        "print(\"Datos después de eliminar duplicados:\")\n",
        "print(csv_data_sin_duplicados.head())\n",
        "\n",
        "# Manejar valores ausentes (rellenar con un valor o eliminar)\n",
        "# En este caso, vamos a rellenar los valores ausentes en la columna 'Artist' con 'Desconocido'\n",
        "csv_data_sin_duplicados.loc[:,'Artist'] = csv_data_sin_duplicados.loc[:,'Artist'].fillna('Desconocido')\n",
        "print(\"\\nDatos después de tratar valores ausentes:\")\n",
        "print(csv_data_sin_duplicados.head())\n",
        "\n",
        "# Eliminar una columna innecesaria, si es necesario \n",
        "csv_data_sin_duplicados = csv_data_sin_duplicados.drop(columns=['user_id'])\n",
        "\n",
        "# Algunas alternativas podrian dar warnings por formatos deprecados (ya no soportados) u otros problemas\n",
        "# csv_data_sin_duplicados.drop(columns=['user_id'], inplace=True)"
      ],
      "id": "39188bba"
    },
    {
      "cell_type": "markdown",
      "metadata": {},
      "source": [
        "## E2.2: ¿Cómo agrupamos y ordenamos los datos?\n",
        "\n",
        "Podemos agrupar los datos por columna(s) y calcular métricas como la\n",
        "suma, media, etc. También podemos ordenarlos.\n",
        "\n",
        "-   Agrupar por género y sumar las reproducciones totales\n",
        "-   Ordenar los datos por el total de reproducciones"
      ],
      "id": "aa1f5b56-4f84-4ce6-83d9-9b656155a785"
    },
    {
      "cell_type": "code",
      "execution_count": 7,
      "metadata": {},
      "outputs": [],
      "source": [
        "#"
      ],
      "id": "a981197c"
    },
    {
      "cell_type": "code",
      "execution_count": 8,
      "metadata": {},
      "outputs": [
        {
          "output_type": "stream",
          "name": "stdout",
          "text": [
            "\n",
            "Suma de reproducciones por género:\n",
            "genre\n",
            "acapella        355.000000\n",
            "acid            484.922000\n",
            "acoustic        240.348163\n",
            "action          511.903586\n",
            "adult          2301.923250\n",
            "                  ...     \n",
            "worldmusic       20.000000\n",
            "wort            117.139871\n",
            "yoga            307.177143\n",
            "şiir              2.043000\n",
            "электроника       1.009000\n",
            "Name: total play, Length: 304, dtype: float64\n",
            "\n",
            "Datos ordenados por el total de reproducciones:\n",
            "        total play                    Artist    genre             track\n",
            "9090   8638.736000               Desconocido      NaN               NaN\n",
            "23641  4707.422018  Mishary Rashid Al-Afassy    world            Alaraf\n",
            "18832  4124.081625           Michelle Aurora  ambient       Meditazione\n",
            "43301  3608.999167              Musica reiki  ambient      Musica Reiki\n",
            "36768  3604.000000           Alex Witchcraft      new  Mountain Streams"
          ]
        },
        {
          "output_type": "display_data",
          "metadata": {},
          "data": {
            "text/plain": [
              "genre\n",
              "pop           732781.959335\n",
              "dance         731109.085616\n",
              "electronic    680348.608059\n",
              "rock          631516.067458\n",
              "classical     297962.463658\n",
              "                  ...      \n",
              "polka              0.100000\n",
              "hymn               0.000000\n",
              "oceania            0.000000\n",
              "cuba               0.000000\n",
              "musique            0.000000\n",
              "Name: total play, Length: 304, dtype: float64"
            ]
          }
        }
      ],
      "source": [
        "# Agrupar por género y sumar las reproducciones totales\n",
        "agrupacion_genero = csv_data_sin_duplicados.groupby('genre')['total play'].sum()\n",
        "print(\"\\nSuma de reproducciones por género:\")\n",
        "print(agrupacion_genero)\n",
        "\n",
        "# Ordenar los datos por el total de reproducciones\n",
        "ordenado_por_reproducciones = csv_data_sin_duplicados.sort_values(by='total play', ascending=False)\n",
        "print(\"\\nDatos ordenados por el total de reproducciones:\")\n",
        "print(ordenado_por_reproducciones.head())\n",
        "\n",
        "# Ordenar descendientemente la tabla agrupada por género según la cantidad de reproducciones de cada grupo\n",
        "agrupacion_genero.sort_values(ascending=False)\n",
        "\n",
        "# Error comun: Usar by para especificar columna, cuando no existen las columnas\n",
        "# agrupacion_genero.sort_values(by='total play', ascending=False)\n"
      ],
      "id": "4eb95a67"
    },
    {
      "cell_type": "markdown",
      "metadata": {},
      "source": [
        "------------------------------------------------------------------------\n",
        "\n",
        "## Notas:\n",
        "\n",
        "-   Asegúrate de tener instaladas las bibliotecas necesarias para leer\n",
        "    archivos usando el comando: `pip install pandas` en la termina.\n",
        "-   Cambia las rutas de los archivos si no están en el mismo directorio."
      ],
      "id": "b1e8b23e-fdd6-449e-a6b2-e06f4cdf6c2d"
    }
  ],
  "nbformat": 4,
  "nbformat_minor": 5,
  "metadata": {
    "kernelspec": {
      "name": "python3",
      "display_name": "Python 3 (ipykernel)",
      "language": "python",
      "path": "C:"
    },
    "language_info": {
      "name": "python",
      "codemirror_mode": {
        "name": "ipython",
        "version": "3"
      },
      "file_extension": ".py",
      "mimetype": "text/x-python",
      "nbconvert_exporter": "python",
      "pygments_lexer": "ipython3",
      "version": "3.10.6"
    }
  }
}