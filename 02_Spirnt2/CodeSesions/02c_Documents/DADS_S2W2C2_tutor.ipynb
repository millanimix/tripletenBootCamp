{
  "cells": [
    {
      "cell_type": "markdown",
      "metadata": {},
      "source": [
        "# Sprint 2 - Week 2 - Class 2\n",
        "\n",
        "Diccionarios y funciones\n",
        "\n",
        "# Objetivo\n",
        "\n",
        "Comprender el uso de diccionarios y funciones mediante su aplicación a\n",
        "un caso práctico, para ejecutar scripts complejos.\n",
        "\n",
        "# Diccionarios\n",
        "\n",
        "## Ejemplo 1.1\n",
        "\n",
        "La empresa Aleph ha revisado la información que digitalizó y le menciona\n",
        "que si bien los datos de clientes son correctos, quisiera que se trabaje\n",
        "con una estructura de datos tipo diccionario para garantizar la\n",
        "inmutabilidad de los registros históricos.\n",
        "\n",
        "Visto esto, cree un diccionario que contenga la información de nombre y\n",
        "edad según lo descrito en la siguiente lista. Utilice el nombre como\n",
        "clave para su diccionario al que llamara `cli_edad_dicc`."
      ],
      "id": "f7bf759f-794c-4f61-8802-02577bda8989"
    },
    {
      "cell_type": "code",
      "execution_count": 1,
      "metadata": {},
      "outputs": [],
      "source": [
        "cli_registro = [\n",
        "     ['Juan Araujo', 'M', 46],\n",
        "     ['Pedro Paez', 'M', 46],\n",
        "     ['Nicole Srolis', 'F', 45],\n",
        "     ['Cayetana Araujo', 'F', 30],\n",
        "     ['Diego Araujo', 'M', 72],\n",
        "     ['Pilar Paez', 'F', 70]\n",
        "]"
      ],
      "id": "cda1dddd"
    },
    {
      "cell_type": "code",
      "execution_count": 2,
      "metadata": {},
      "outputs": [
        {
          "output_type": "stream",
          "name": "stdout",
          "text": [
            "{'Juan Araujo': ['M'], 'Pedro Paez': ['M'], 'Nicole Srolis': ['F'], 'Cayetana Araujo': ['F'], 'Diego Araujo': ['M'], 'Pilar Paez': ['F']}"
          ]
        }
      ],
      "source": [
        "cli_edad_dicc = {}\n",
        "for registro in cli_registro:\n",
        "    cli_edad_dicc[registro[0]] = [registro[1]]\n",
        "\n",
        "print(cli_edad_dicc)"
      ],
      "id": "ce66252a"
    },
    {
      "cell_type": "markdown",
      "metadata": {},
      "source": [
        "## Ejemplo 1.2\n",
        "\n",
        "Para no perder la información ya levantada cree otro diccionario\n",
        "`cli_info_dicc` que contenga la información del sexo y la edad de cada\n",
        "cliente."
      ],
      "id": "0d177de7-c8e7-4662-be3c-35706d6b207d"
    },
    {
      "cell_type": "code",
      "execution_count": 3,
      "metadata": {},
      "outputs": [],
      "source": [
        "# "
      ],
      "id": "914742d7"
    },
    {
      "cell_type": "code",
      "execution_count": 4,
      "metadata": {},
      "outputs": [
        {
          "output_type": "stream",
          "name": "stdout",
          "text": [
            "{'Juan Araujo': ['M', 46], 'Pedro Paez': ['M', 46], 'Nicole Srolis': ['F', 45], 'Cayetana Araujo': ['F', 30], 'Diego Araujo': ['M', 72], 'Pilar Paez': ['F', 70]}"
          ]
        }
      ],
      "source": [
        "cli_info_dicc = {}\n",
        "for registro in cli_registro:\n",
        "    cli_info_dicc[registro[0]] = [registro[1], registro[2]]\n",
        "\n",
        "print(cli_info_dicc)"
      ],
      "id": "40e54758"
    },
    {
      "cell_type": "markdown",
      "metadata": {},
      "source": [
        "Realice una consulta para conocer la información demográfica de Pilar\n",
        "Paez."
      ],
      "id": "43766112-df9f-4d57-9f4a-59d6f82a48aa"
    },
    {
      "cell_type": "code",
      "execution_count": 5,
      "metadata": {},
      "outputs": [],
      "source": [
        "# "
      ],
      "id": "b53a157c"
    },
    {
      "cell_type": "code",
      "execution_count": 6,
      "metadata": {},
      "outputs": [
        {
          "output_type": "display_data",
          "metadata": {},
          "data": {
            "text/plain": [
              "['F', 70]"
            ]
          }
        }
      ],
      "source": [
        "#Forma 1\n",
        "cli_info_dicc['Pilar Paez']"
      ],
      "id": "814acda9"
    },
    {
      "cell_type": "code",
      "execution_count": 7,
      "metadata": {},
      "outputs": [
        {
          "output_type": "display_data",
          "metadata": {},
          "data": {
            "text/plain": [
              "['F', 70]"
            ]
          }
        }
      ],
      "source": [
        "#Forma 2\n",
        "cli_info_dicc.get('Pilar Paez')"
      ],
      "id": "ac17af3d"
    },
    {
      "cell_type": "markdown",
      "metadata": {},
      "source": [
        "## Ejemplo 1.3\n",
        "\n",
        "El director de ventas de la empresa le indica que olvidó pasarle\n",
        "información de un cliente adicional con la siguiente información:\n",
        "\n",
        "-   Nombre: Sofia\n",
        "-   Apellido: Pozo\n",
        "-   Edad: 29\n",
        "\n",
        "Ingrese este nuevo cliente en el diccionario."
      ],
      "id": "c5f0c874-7685-4dfa-9c66-d7796ed495ca"
    },
    {
      "cell_type": "code",
      "execution_count": 8,
      "metadata": {},
      "outputs": [],
      "source": [
        "# "
      ],
      "id": "dd219f1b"
    },
    {
      "cell_type": "code",
      "execution_count": 9,
      "metadata": {},
      "outputs": [
        {
          "output_type": "stream",
          "name": "stdout",
          "text": [
            "{'Juan Araujo': ['M', 46], 'Pedro Paez': ['M', 46], 'Nicole Srolis': ['F', 45], 'Cayetana Araujo': ['F', 30], 'Diego Araujo': ['M', 72], 'Pilar Paez': ['F', 70], 'Sofia Pozo': ['F', 29]}"
          ]
        }
      ],
      "source": [
        "cli_info_dicc['Sofia Pozo'] = ['F',29]\n",
        "\n",
        "print(cli_info_dicc)"
      ],
      "id": "75727694"
    },
    {
      "cell_type": "markdown",
      "metadata": {},
      "source": [
        "## Ejemplo 1.4\n",
        "\n",
        "Por otra parte, el director le menciona que el cliente Juan Araujo\n",
        "prefiere ser tratado con su segundo nombre “Sebastian”, por lo que le\n",
        "pide hacer este ajuste en el diccionario"
      ],
      "id": "79da1771-1c0a-4c21-9339-71bf43f9bbbe"
    },
    {
      "cell_type": "code",
      "execution_count": 10,
      "metadata": {},
      "outputs": [],
      "source": [
        "# "
      ],
      "id": "2a19dca6"
    },
    {
      "cell_type": "code",
      "execution_count": 11,
      "metadata": {},
      "outputs": [
        {
          "output_type": "stream",
          "name": "stdout",
          "text": [
            "{'Pedro Paez': ['M', 46], 'Nicole Srolis': ['F', 45], 'Cayetana Araujo': ['F', 30], 'Diego Araujo': ['M', 72], 'Pilar Paez': ['F', 70], 'Sofia Pozo': ['F', 29]}\n",
            "{'Pedro Paez': ['M', 46], 'Nicole Srolis': ['F', 45], 'Cayetana Araujo': ['F', 30], 'Diego Araujo': ['M', 72], 'Pilar Paez': ['F', 70], 'Sofia Pozo': ['F', 29], 'Sebastian Araujo': ['M', 46]}"
          ]
        }
      ],
      "source": [
        "cli_info_dicc_2 = cli_info_dicc.copy()\n",
        "\n",
        "# Forma 1\n",
        "del cli_info_dicc['Juan Araujo']\n",
        "\n",
        "print(cli_info_dicc)\n",
        "\n",
        "cli_info_dicc['Sebastian Araujo'] = ['M',46]\n",
        "\n",
        "print(cli_info_dicc)"
      ],
      "id": "955f9cd0"
    },
    {
      "cell_type": "code",
      "execution_count": 12,
      "metadata": {},
      "outputs": [
        {
          "output_type": "stream",
          "name": "stdout",
          "text": [
            "{'Pedro Paez': ['M', 46], 'Nicole Srolis': ['F', 45], 'Cayetana Araujo': ['F', 30], 'Diego Araujo': ['M', 72], 'Pilar Paez': ['F', 70], 'Sofia Pozo': ['F', 29], 'Sebastian Araujo': ['M', 46]}"
          ]
        }
      ],
      "source": [
        "# Forma 2\n",
        "cli_info_dicc_2.pop('Juan Araujo') # No funciona si ya se ejecutó la celda anterior\n",
        "\n",
        "cli_info_dicc_2['Sebastian Araujo'] = ['M',46]\n",
        "\n",
        "print(cli_info_dicc_2)"
      ],
      "id": "9b11659e"
    },
    {
      "cell_type": "markdown",
      "metadata": {},
      "source": [
        "# Funciones\n",
        "\n",
        "## Ejemplo 2.1\n",
        "\n",
        "El director de ventas cree que es conveniente saber el año de nacimiento\n",
        "de cada uno de los clientes, puesto que de esa forma se podrá tener un\n",
        "mejor control del grupo etareo de clientes en el futuro.\n",
        "\n",
        "Cree una función que devuelva el año de nacimiento de cada cliente. No\n",
        "importa en qué año estemos, establezca el año actual como un parámetro\n",
        "adicional `y_actual` de su función."
      ],
      "id": "b4f0a543-5778-4d0d-937f-d7f569bfca8b"
    },
    {
      "cell_type": "code",
      "execution_count": 13,
      "metadata": {},
      "outputs": [],
      "source": [
        "#"
      ],
      "id": "175a7347"
    },
    {
      "cell_type": "code",
      "execution_count": 14,
      "metadata": {},
      "outputs": [],
      "source": [
        "def year_birth (edad, y_actual = 2024):\n",
        "  y_nacim = y_actual - edad\n",
        "  y_nacim = int(y_nacim)\n",
        "  return y_nacim"
      ],
      "id": "f49a3125"
    },
    {
      "cell_type": "markdown",
      "metadata": {},
      "source": [
        "Mediante un bucle for aplique a cada edad de cada cliente la función\n",
        "construida y adicione la edad por el año de nacimiento."
      ],
      "id": "3c734406-9bf1-48da-9edd-87e8ce4596f0"
    },
    {
      "cell_type": "code",
      "execution_count": 15,
      "metadata": {},
      "outputs": [],
      "source": [
        "#"
      ],
      "id": "6ddc8df2"
    },
    {
      "cell_type": "code",
      "execution_count": 16,
      "metadata": {},
      "outputs": [
        {
          "output_type": "display_data",
          "metadata": {},
          "data": {
            "text/plain": [
              "{'Pedro Paez': ['M', 46, 1978],\n",
              " 'Nicole Srolis': ['F', 45, 1979],\n",
              " 'Cayetana Araujo': ['F', 30, 1994],\n",
              " 'Diego Araujo': ['M', 72, 1952],\n",
              " 'Pilar Paez': ['F', 70, 1954],\n",
              " 'Sofia Pozo': ['F', 29, 1995],\n",
              " 'Sebastian Araujo': ['M', 46, 1978]}"
            ]
          }
        }
      ],
      "source": [
        "for val in cli_info_dicc.values():\n",
        "  y_nac = year_birth(val[1])\n",
        "  val.append(y_nac)\n",
        "\n",
        "cli_info_dicc"
      ],
      "id": "b380aa0f"
    },
    {
      "cell_type": "markdown",
      "metadata": {},
      "source": [
        "## Ejemplo 2.2\n",
        "\n",
        "Haz una función que tome un diccionario como el anterior y entregue una\n",
        "lista de listas de esta forma `[Sexo,Edad_Promedio]` (cada sublista debe\n",
        "tener un sexo y el promedio de edades para ese sexo)."
      ],
      "id": "49af99db-bb46-4a63-baa8-51b86ae18057"
    },
    {
      "cell_type": "code",
      "execution_count": 17,
      "metadata": {},
      "outputs": [],
      "source": [
        "#"
      ],
      "id": "e75c9764"
    },
    {
      "cell_type": "code",
      "execution_count": 18,
      "metadata": {},
      "outputs": [
        {
          "output_type": "display_data",
          "metadata": {},
          "data": {
            "text/plain": [
              "[['F', 43], ['M', 54]]"
            ]
          }
        }
      ],
      "source": [
        "def prom_edad(diccionario):\n",
        "\n",
        "    mujeres = []\n",
        "    hombres = []\n",
        "\n",
        "    for val in diccionario.values():\n",
        "        if val[0] == \"F\":\n",
        "            mujeres.append(val[1])\n",
        "        else:\n",
        "            hombres.append(val[1])\n",
        "\n",
        "    mujeres_prom = sum(mujeres)/len(mujeres)\n",
        "    hombres_prom = sum(hombres)/len(hombres)\n",
        "\n",
        "    lista_final = [[\"F\", int(mujeres_prom)], [\"M\", int(hombres_prom)]]\n",
        "\n",
        "    return lista_final\n",
        "  \n",
        "prom_edad(cli_info_dicc)"
      ],
      "id": "d3c29ac0"
    }
  ],
  "nbformat": 4,
  "nbformat_minor": 5,
  "metadata": {
    "kernelspec": {
      "name": "python3",
      "display_name": "Python 3 (ipykernel)",
      "language": "python",
      "path": "C:"
    },
    "language_info": {
      "name": "python",
      "codemirror_mode": {
        "name": "ipython",
        "version": "3"
      },
      "file_extension": ".py",
      "mimetype": "text/x-python",
      "nbconvert_exporter": "python",
      "pygments_lexer": "ipython3",
      "version": "3.10.6"
    }
  }
}