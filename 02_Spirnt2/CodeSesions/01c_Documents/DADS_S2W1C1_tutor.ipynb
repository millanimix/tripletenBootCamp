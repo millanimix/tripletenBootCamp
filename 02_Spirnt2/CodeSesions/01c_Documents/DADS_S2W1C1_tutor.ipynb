{
  "cells": [
    {
      "cell_type": "markdown",
      "metadata": {},
      "source": [
        "# Sprint 2 - Week 1 - Class 1\n",
        "\n",
        "Bucles y condicionales\n",
        "\n",
        "# Temas a tratar\n",
        "\n",
        "-   Bucles\n",
        "    -   Bucles for\n",
        "    -   Bucles while\n",
        "-   Condicionales\n",
        "    -   Operadores lógicos\n",
        "    -   Sentencias if, else y elif\n",
        "    -   Filtrado de tablas\n",
        "\n",
        "# Objetivo\n",
        "\n",
        "Comprender el uso de bucles y condicionales mediante su aplicación a un\n",
        "caso práctico, para optimizar el procesamiento de datos.\n",
        "\n",
        "# Contexto\n",
        "\n",
        "La empresa Aleph, se encuentra en proceso de digitalización de su\n",
        "información, que ha sido manejada de forma desordenada en cuadernos\n",
        "físicos.\n",
        "\n",
        "Tu trabajo es crear un registro de clientes.\n",
        "\n",
        "# Ejercicios\n",
        "\n",
        "## Ejercicio 1 - Bucles for\n",
        "\n",
        "### E1.1\n",
        "\n",
        "La empresa cuenta con 6 clientes: Juan, Pedro, Nicole, Cayetana, Diego y\n",
        "Pilar. Crea una lista que contenga todos los clientes y otra donde esté\n",
        "especificado su sexo con “M” o “F” según corresponda. Pon como nombres\n",
        "de estas listas `cli_nombre` y `cli_sexo`."
      ],
      "id": "4739b37d-2ec8-4b1c-9994-08fccdee6cd1"
    },
    {
      "cell_type": "code",
      "execution_count": 1,
      "metadata": {},
      "outputs": [],
      "source": [
        "cli_nombre = [\"Juan\", \"Pedro\", \"Nicole\", \"Cayetana\", \"Diego\", \"Pilar\"]\n",
        "cli_sexo = [\"M\", \"M\", \"F\", \"F\", \"M\", \"F\"]"
      ],
      "id": "0f5d672c"
    },
    {
      "cell_type": "markdown",
      "metadata": {},
      "source": [
        "### E1.2\n",
        "\n",
        "Usando un for, imprime el nombre y sexo de cada cliente en lineas\n",
        "diferentes."
      ],
      "id": "6c7dfb5c-d96e-490a-a813-7da834473823"
    },
    {
      "cell_type": "code",
      "execution_count": 2,
      "metadata": {},
      "outputs": [
        {
          "output_type": "stream",
          "name": "stdout",
          "text": [
            "Juan M\n",
            "Pedro M\n",
            "Nicole F\n",
            "Cayetana F\n",
            "Diego M\n",
            "Pilar F"
          ]
        }
      ],
      "source": [
        "#Forma 1\n",
        "for i in range(len(cli_nombre)):\n",
        "    print(cli_nombre[i], cli_sexo[i])"
      ],
      "id": "3f208aaf"
    },
    {
      "cell_type": "code",
      "execution_count": 3,
      "metadata": {},
      "outputs": [
        {
          "output_type": "stream",
          "name": "stdout",
          "text": [
            "Juan M\n",
            "Pedro M\n",
            "Nicole F\n",
            "Cayetana F\n",
            "Diego M\n",
            "Pilar F"
          ]
        }
      ],
      "source": [
        "#Forma 2\n",
        "for nombre, sexo in zip(cli_nombre, cli_sexo):\n",
        "    print(nombre, sexo)"
      ],
      "id": "f93a6b80"
    },
    {
      "cell_type": "markdown",
      "metadata": {},
      "source": [
        "## Ejercicio 2 - Bucles for anidados\n",
        "\n",
        "### E2.1\n",
        "\n",
        "Crea una lista anidada llamada `cli_registro` que contenga la\n",
        "información del nombre, sexo y edad de los 6 clientes.\n",
        "\n",
        "Para conocer la edad de los clientes considera: - Diego tiene 72 años -\n",
        "Diego es dos años mayor que Pilar - Cayetana tiene 40 años menos que\n",
        "Pilar - Nicole es 15 años mayor que Cayetana - Juan tiene la misma edad\n",
        "que Pedro - Pedro tiene 1 año más que Nicole"
      ],
      "id": "a57407f7-c183-4cd1-8e12-16eb6c69afbb"
    },
    {
      "cell_type": "code",
      "execution_count": 4,
      "metadata": {},
      "outputs": [],
      "source": [
        "edad_diego = 72\n",
        "edad_pilar = edad_diego - 2\n",
        "edad_cayetana = edad_pilar - 40\n",
        "edad_nicole = edad_cayetana + 15\n",
        "edad_pedro = edad_nicole + 1\n",
        "edad_juan = edad_pedro\n",
        "\n",
        "cli_registro = [\n",
        "    ['Juan', 'M', edad_juan],\n",
        "    ['Pedro', 'M', edad_pedro],\n",
        "    ['Nicole', 'F', edad_nicole],\n",
        "    ['Cayetana', 'F', edad_cayetana],\n",
        "    ['Diego', 'M', edad_diego],\n",
        "    ['Pilar', 'F', edad_pilar]\n",
        "]"
      ],
      "id": "7cd6bbce"
    },
    {
      "cell_type": "markdown",
      "metadata": {},
      "source": [
        "Usando `cli_registro` y un usando un bucle `for`, imprime la información\n",
        "de cada linea en este formato:\n",
        "\n",
        "*El nombre del cliente es **, su sexo es*** , y tiene \\_\\_\\_ años"
      ],
      "id": "9ef421d8-f86a-41e3-8828-c217fec2e6dc"
    },
    {
      "cell_type": "code",
      "execution_count": 5,
      "metadata": {},
      "outputs": [
        {
          "output_type": "stream",
          "name": "stdout",
          "text": [
            "El nombre del cliente es Juan, su sexo es M, y tiene 46 años\n",
            "El nombre del cliente es Pedro, su sexo es M, y tiene 46 años\n",
            "El nombre del cliente es Nicole, su sexo es F, y tiene 45 años\n",
            "El nombre del cliente es Cayetana, su sexo es F, y tiene 30 años\n",
            "El nombre del cliente es Diego, su sexo es M, y tiene 72 años\n",
            "El nombre del cliente es Pilar, su sexo es F, y tiene 70 años"
          ]
        }
      ],
      "source": [
        "for row in cli_registro:\n",
        "    print(f\"El nombre del cliente es {row[0]}, su sexo es {row[1]}, y tiene {row[2]} años\")"
      ],
      "id": "9116c3e8"
    },
    {
      "cell_type": "markdown",
      "metadata": {},
      "source": [
        "### E2.2\n",
        "\n",
        "Imprime el nombre con la edad de cada cliente entre parentesis (solo la\n",
        "edad entre paréntesis)."
      ],
      "id": "8687ac90-66d2-4e6a-914b-f23e64b6ee3f"
    },
    {
      "cell_type": "code",
      "execution_count": 6,
      "metadata": {},
      "outputs": [
        {
          "output_type": "stream",
          "name": "stdout",
          "text": [
            "Juan (46)\n",
            "Pedro (46)\n",
            "Nicole (45)\n",
            "Cayetana (30)\n",
            "Diego (72)\n",
            "Pilar (70)"
          ]
        }
      ],
      "source": [
        "for row in cli_registro:\n",
        "    print(f\"{row[0]} ({row[2]})\")"
      ],
      "id": "3fb29696"
    },
    {
      "cell_type": "markdown",
      "metadata": {},
      "source": [
        "## Ejercicio 3 - Bucles while\n",
        "\n",
        "### E3.1\n",
        "\n",
        "La empresa quiere crear una lista que contenga a cada cliente 12 veces\n",
        "para, posteriormente, agregar la información de ventas mensuales para el\n",
        "año que culminó.\n",
        "\n",
        "Usando un bucle while crea la lista deseada con el nombre\n",
        "`cli_repeticion`, e imprimela para ver si funcionó lo que se hizo."
      ],
      "id": "6689f3cd-883f-41e8-9a84-28b29b0216fd"
    },
    {
      "cell_type": "code",
      "execution_count": 7,
      "metadata": {},
      "outputs": [
        {
          "output_type": "stream",
          "name": "stdout",
          "text": [
            "[['Juan', 'M', 46], ['Pedro', 'M', 46], ['Nicole', 'F', 45], ['Cayetana', 'F', 30], ['Diego', 'M', 72], ['Pilar', 'F', 70], ['Juan', 'M', 46], ['Pedro', 'M', 46], ['Nicole', 'F', 45], ['Cayetana', 'F', 30], ['Diego', 'M', 72], ['Pilar', 'F', 70], ['Juan', 'M', 46], ['Pedro', 'M', 46], ['Nicole', 'F', 45], ['Cayetana', 'F', 30], ['Diego', 'M', 72], ['Pilar', 'F', 70], ['Juan', 'M', 46], ['Pedro', 'M', 46], ['Nicole', 'F', 45], ['Cayetana', 'F', 30], ['Diego', 'M', 72], ['Pilar', 'F', 70], ['Juan', 'M', 46], ['Pedro', 'M', 46], ['Nicole', 'F', 45], ['Cayetana', 'F', 30], ['Diego', 'M', 72], ['Pilar', 'F', 70], ['Juan', 'M', 46], ['Pedro', 'M', 46], ['Nicole', 'F', 45], ['Cayetana', 'F', 30], ['Diego', 'M', 72], ['Pilar', 'F', 70], ['Juan', 'M', 46], ['Pedro', 'M', 46], ['Nicole', 'F', 45], ['Cayetana', 'F', 30], ['Diego', 'M', 72], ['Pilar', 'F', 70], ['Juan', 'M', 46], ['Pedro', 'M', 46], ['Nicole', 'F', 45], ['Cayetana', 'F', 30], ['Diego', 'M', 72], ['Pilar', 'F', 70], ['Juan', 'M', 46], ['Pedro', 'M', 46], ['Nicole', 'F', 45], ['Cayetana', 'F', 30], ['Diego', 'M', 72], ['Pilar', 'F', 70], ['Juan', 'M', 46], ['Pedro', 'M', 46], ['Nicole', 'F', 45], ['Cayetana', 'F', 30], ['Diego', 'M', 72], ['Pilar', 'F', 70], ['Juan', 'M', 46], ['Pedro', 'M', 46], ['Nicole', 'F', 45], ['Cayetana', 'F', 30], ['Diego', 'M', 72], ['Pilar', 'F', 70], ['Juan', 'M', 46], ['Pedro', 'M', 46], ['Nicole', 'F', 45], ['Cayetana', 'F', 30], ['Diego', 'M', 72], ['Pilar', 'F', 70]]"
          ]
        }
      ],
      "source": [
        "repeticiones_por_cliente = 12\n",
        "indice_de_repeticion = 1\n",
        "cli_repeticion = cli_registro.copy()\n",
        "\n",
        "while indice_de_repeticion < repeticiones_por_cliente:\n",
        "    cli_repeticion += cli_registro\n",
        "    indice_de_repeticion += 1\n",
        "\n",
        "print(cli_repeticion)"
      ],
      "id": "e3b143da"
    },
    {
      "cell_type": "markdown",
      "metadata": {},
      "source": [
        "Por qué usamos `copy`? Qué pasa si no usamos copy? Inténtalo. Investiga\n",
        "qué hace copy y entiende qué son y cómo se ocupan los punteros a la\n",
        "memoria.\n",
        "\n",
        "### E3.2\n",
        "\n",
        "Hay una forma mucho más simple de creer esta lista anidada. Cuál es,\n",
        "hazlo en 1 línea"
      ],
      "id": "cf28f0be-a015-4d93-a462-ac728b532399"
    },
    {
      "cell_type": "code",
      "execution_count": 8,
      "metadata": {},
      "outputs": [
        {
          "output_type": "display_data",
          "metadata": {},
          "data": {
            "text/plain": [
              "[['Juan', 'M', 46],\n",
              " ['Pedro', 'M', 46],\n",
              " ['Nicole', 'F', 45],\n",
              " ['Cayetana', 'F', 30],\n",
              " ['Diego', 'M', 72],\n",
              " ['Pilar', 'F', 70],\n",
              " ['Juan', 'M', 46],\n",
              " ['Pedro', 'M', 46],\n",
              " ['Nicole', 'F', 45],\n",
              " ['Cayetana', 'F', 30],\n",
              " ['Diego', 'M', 72],\n",
              " ['Pilar', 'F', 70],\n",
              " ['Juan', 'M', 46],\n",
              " ['Pedro', 'M', 46],\n",
              " ['Nicole', 'F', 45],\n",
              " ['Cayetana', 'F', 30],\n",
              " ['Diego', 'M', 72],\n",
              " ['Pilar', 'F', 70],\n",
              " ['Juan', 'M', 46],\n",
              " ['Pedro', 'M', 46],\n",
              " ['Nicole', 'F', 45],\n",
              " ['Cayetana', 'F', 30],\n",
              " ['Diego', 'M', 72],\n",
              " ['Pilar', 'F', 70],\n",
              " ['Juan', 'M', 46],\n",
              " ['Pedro', 'M', 46],\n",
              " ['Nicole', 'F', 45],\n",
              " ['Cayetana', 'F', 30],\n",
              " ['Diego', 'M', 72],\n",
              " ['Pilar', 'F', 70],\n",
              " ['Juan', 'M', 46],\n",
              " ['Pedro', 'M', 46],\n",
              " ['Nicole', 'F', 45],\n",
              " ['Cayetana', 'F', 30],\n",
              " ['Diego', 'M', 72],\n",
              " ['Pilar', 'F', 70],\n",
              " ['Juan', 'M', 46],\n",
              " ['Pedro', 'M', 46],\n",
              " ['Nicole', 'F', 45],\n",
              " ['Cayetana', 'F', 30],\n",
              " ['Diego', 'M', 72],\n",
              " ['Pilar', 'F', 70],\n",
              " ['Juan', 'M', 46],\n",
              " ['Pedro', 'M', 46],\n",
              " ['Nicole', 'F', 45],\n",
              " ['Cayetana', 'F', 30],\n",
              " ['Diego', 'M', 72],\n",
              " ['Pilar', 'F', 70],\n",
              " ['Juan', 'M', 46],\n",
              " ['Pedro', 'M', 46],\n",
              " ['Nicole', 'F', 45],\n",
              " ['Cayetana', 'F', 30],\n",
              " ['Diego', 'M', 72],\n",
              " ['Pilar', 'F', 70],\n",
              " ['Juan', 'M', 46],\n",
              " ['Pedro', 'M', 46],\n",
              " ['Nicole', 'F', 45],\n",
              " ['Cayetana', 'F', 30],\n",
              " ['Diego', 'M', 72],\n",
              " ['Pilar', 'F', 70],\n",
              " ['Juan', 'M', 46],\n",
              " ['Pedro', 'M', 46],\n",
              " ['Nicole', 'F', 45],\n",
              " ['Cayetana', 'F', 30],\n",
              " ['Diego', 'M', 72],\n",
              " ['Pilar', 'F', 70],\n",
              " ['Juan', 'M', 46],\n",
              " ['Pedro', 'M', 46],\n",
              " ['Nicole', 'F', 45],\n",
              " ['Cayetana', 'F', 30],\n",
              " ['Diego', 'M', 72],\n",
              " ['Pilar', 'F', 70]]"
            ]
          }
        }
      ],
      "source": [
        "cli_registro*12"
      ],
      "id": "3eba7de5"
    },
    {
      "cell_type": "markdown",
      "metadata": {},
      "source": [
        "## Ejercicio 4 - Sentencias condicionales\n",
        "\n",
        "### E4.1\n",
        "\n",
        "Usando bucles y sentencias condicionales verifica que en la lista\n",
        "`cli_repeticion`, el cliente “Cayetana” este repetida las 12 veces\n",
        "deseadas"
      ],
      "id": "da309992-829c-491e-9eed-cf0bd686a934"
    },
    {
      "cell_type": "code",
      "execution_count": 9,
      "metadata": {},
      "outputs": [
        {
          "output_type": "stream",
          "name": "stdout",
          "text": [
            "Cayetana se repite 12 veces"
          ]
        }
      ],
      "source": [
        "contador = 0\n",
        "\n",
        "for cliente in cli_repeticion:\n",
        "    if cliente[0] == \"Cayetana\":\n",
        "        contador += 1\n",
        "\n",
        "print(\"Cayetana se repite\", contador, \"veces\")"
      ],
      "id": "e6f26730"
    },
    {
      "cell_type": "markdown",
      "metadata": {},
      "source": [
        "### E4.2\n",
        "\n",
        "Vuelva a la lista anidada `cli_registro` y usando bucles y sentencias\n",
        "condicionales imprime únicamente las líneas que contengan a clientes que\n",
        "sean mujeres."
      ],
      "id": "78aa4f06-d668-4776-ae28-dd7ecea1d937"
    },
    {
      "cell_type": "code",
      "execution_count": 10,
      "metadata": {},
      "outputs": [
        {
          "output_type": "stream",
          "name": "stdout",
          "text": [
            "[['Juan', 'M', 46], ['Pedro', 'M', 46], ['Nicole', 'F', 45], ['Cayetana', 'F', 30], ['Diego', 'M', 72], ['Pilar', 'F', 70]]"
          ]
        }
      ],
      "source": [
        "print(cli_registro)"
      ],
      "id": "0d51f7f7"
    },
    {
      "cell_type": "code",
      "execution_count": 11,
      "metadata": {},
      "outputs": [
        {
          "output_type": "stream",
          "name": "stdout",
          "text": [
            "['Nicole', 'F', 45]\n",
            "['Cayetana', 'F', 30]\n",
            "['Pilar', 'F', 70]"
          ]
        }
      ],
      "source": [
        "for row in cli_registro:\n",
        "    if row[1] == 'F':\n",
        "        print(row)"
      ],
      "id": "6148a895"
    },
    {
      "cell_type": "markdown",
      "metadata": {},
      "source": [
        "### E4.3\n",
        "\n",
        "Ahora modifica el código anterior para que si el cliente es hombre\n",
        "imprima su edad únicamente."
      ],
      "id": "667950f8-a10f-4542-a1c2-283922d37ab7"
    },
    {
      "cell_type": "code",
      "execution_count": 12,
      "metadata": {},
      "outputs": [
        {
          "output_type": "stream",
          "name": "stdout",
          "text": [
            "46\n",
            "46\n",
            "['Nicole', 'F', 45]\n",
            "['Cayetana', 'F', 30]\n",
            "72\n",
            "['Pilar', 'F', 70]"
          ]
        }
      ],
      "source": [
        "for row in cli_registro:\n",
        "    if row[1] == 'F':\n",
        "        print(row)\n",
        "    else:\n",
        "        print(row[2])"
      ],
      "id": "600df48b"
    },
    {
      "cell_type": "markdown",
      "metadata": {},
      "source": [
        "### E4.4\n",
        "\n",
        "A partir del código ya escrito, imprime un resumen que indique cuántos\n",
        "hombres y cuantas mujeres hay en la lista de clientes, y en cada caso\n",
        "indica cual es la edad promedio (redondeado sin decimales)."
      ],
      "id": "5a1cb334-0540-432f-91ce-5293394aa934"
    },
    {
      "cell_type": "code",
      "execution_count": 13,
      "metadata": {},
      "outputs": [
        {
          "output_type": "stream",
          "name": "stdout",
          "text": [
            "\n",
            "Cantidad de hombres: 3 \n",
            "Edad promedio: 54\n",
            "\n",
            "\n",
            "Cantidad de mujeres: 3 \n",
            "Edad promedio: 48\n"
          ]
        }
      ],
      "source": [
        "hombres = []\n",
        "mujeres = []\n",
        "for row in cli_registro:\n",
        "    if row[1] == 'F':\n",
        "        mujeres.append(row[2])\n",
        "    else:\n",
        "        hombres.append(row[2])\n",
        "\n",
        "print(f\"\"\"\n",
        "Cantidad de hombres: {len(hombres)} \n",
        "Edad promedio: {int(sum(hombres)/len(hombres))}\n",
        "\"\"\")\n",
        "print(f\"\"\"\n",
        "Cantidad de mujeres: {len(mujeres)} \n",
        "Edad promedio: {int(sum(mujeres)/len(mujeres))}\n",
        "\"\"\")"
      ],
      "id": "3abba25f"
    },
    {
      "cell_type": "markdown",
      "metadata": {},
      "source": [
        "### E4.5\n",
        "\n",
        "La empresa considera que su mercado relevante son las mujeres mayores a\n",
        "55 y los hombres menores a 50.\n",
        "\n",
        "A partir de este criterio, imprime la información de todos los clientes\n",
        "que son parte del mercado relevante. En caso que no sean parte del\n",
        "mercado, imprime un mensaje que indique “Cliente \\_\\_\\_ no es parte del\n",
        "mercado relevante”."
      ],
      "id": "6bd9de6c-d695-44b7-bfd7-d35baa58dc30"
    },
    {
      "cell_type": "code",
      "execution_count": 14,
      "metadata": {},
      "outputs": [
        {
          "output_type": "stream",
          "name": "stdout",
          "text": [
            "['Juan', 'M', 46]\n",
            "['Pedro', 'M', 46]\n",
            "Cliente Nicole no es parte de mercado relevante\n",
            "Cliente Cayetana no es parte de mercado relevante\n",
            "Cliente Diego no es parte de mercado relevante\n",
            "['Pilar', 'F', 70]"
          ]
        }
      ],
      "source": [
        "for row in cli_registro:\n",
        "    if row[1] == 'F' and row[2] > 55:\n",
        "        print(row)\n",
        "    elif row[1] == 'M' and row[2] < 50:\n",
        "        print(row)\n",
        "    else:\n",
        "        print(f'Cliente {row[0]} no es parte de mercado relevante')"
      ],
      "id": "2f6926b5"
    },
    {
      "cell_type": "markdown",
      "metadata": {},
      "source": [
        "### E4.6\n",
        "\n",
        "Ha llegado nueva información donde se especifica que los nombres\n",
        "completos de los clientes son:\n",
        "\n",
        "-   Juan Araujo\n",
        "-   Pedro Paez\n",
        "-   Nicole Srolis\n",
        "-   Cayetana Araujo\n",
        "-   Diego Araujo\n",
        "-   Pilar Paez\n",
        "\n",
        "Mediante bucles y condicionales has la modificación correspondiente en\n",
        "`cli_registro`."
      ],
      "id": "669da8f3-8833-432b-8b87-d33de3248275"
    },
    {
      "cell_type": "code",
      "execution_count": 15,
      "metadata": {},
      "outputs": [
        {
          "output_type": "stream",
          "name": "stdout",
          "text": [
            "['Juan Araujo', 'M', 46]\n",
            "['Pedro Paez', 'M', 46]\n",
            "['Nicole Srolis', 'F', 45]\n",
            "['Cayetana Araujo', 'F', 30]\n",
            "['Diego Araujo', 'M', 72]\n",
            "['Pilar Paez', 'F', 70]"
          ]
        }
      ],
      "source": [
        "# Nombres completos de los clientes\n",
        "nombres_completos = [\n",
        "    \"Juan Araujo\", \"Pedro Paez\", \"Nicole Srolis\",\n",
        "    \"Cayetana Araujo\", \"Diego Araujo\", \"Pilar Paez\"\n",
        "]\n",
        "\n",
        "cli_registro_actualizado = cli_registro.copy()\n",
        "\n",
        "for indice_registro in range(len(cli_registro_actualizado)):\n",
        "  cli_registro_actualizado[indice_registro][0] = nombres_completos[indice_registro]\n",
        "\n",
        "for registro in cli_registro_actualizado:\n",
        "    print(registro)"
      ],
      "id": "a71cc9d4"
    }
  ],
  "nbformat": 4,
  "nbformat_minor": 5,
  "metadata": {
    "kernelspec": {
      "name": "python3",
      "display_name": "Python 3 (ipykernel)",
      "language": "python",
      "path": "C:"
    }
  }
}